{
 "cells": [
  {
   "cell_type": "markdown",
   "metadata": {},
   "source": [
    "# Сравнение распределений в R"
   ]
  },
  {
   "cell_type": "markdown",
   "metadata": {},
   "source": [
    "## 0\\. Подготовительные работы"
   ]
  },
  {
   "cell_type": "code",
   "execution_count": 1,
   "metadata": {
    "collapsed": false
   },
   "outputs": [],
   "source": [
    "setwd(\"~/Documents/_notebooks\")"
   ]
  },
  {
   "cell_type": "code",
   "execution_count": 21,
   "metadata": {
    "collapsed": false
   },
   "outputs": [],
   "source": [
    "data <- read.csv(\"data_compare_distr.csv\")"
   ]
  },
  {
   "cell_type": "code",
   "execution_count": 22,
   "metadata": {
    "collapsed": false
   },
   "outputs": [],
   "source": [
    "library(jsonlite)\n",
    "library(dplyr)\n",
    "library(ggplot2)"
   ]
  },
  {
   "cell_type": "code",
   "execution_count": 4,
   "metadata": {
    "collapsed": false
   },
   "outputs": [
    {
     "data": {
      "text/html": [
       "<ol class=list-inline>\n",
       "\t<li>131146</li>\n",
       "\t<li>36</li>\n",
       "</ol>\n"
      ],
      "text/latex": [
       "\\begin{enumerate*}\n",
       "\\item 131146\n",
       "\\item 36\n",
       "\\end{enumerate*}\n"
      ],
      "text/markdown": [
       "1. 131146\n",
       "2. 36\n",
       "\n",
       "\n"
      ],
      "text/plain": [
       "[1] 131146     36"
      ]
     },
     "execution_count": 4,
     "metadata": {},
     "output_type": "execute_result"
    }
   ],
   "source": [
    "dim(data)"
   ]
  },
  {
   "cell_type": "code",
   "execution_count": 23,
   "metadata": {
    "collapsed": false
   },
   "outputs": [
    {
     "name": "stdout",
     "output_type": "stream",
     "text": [
      "'data.frame':\t131146 obs. of  36 variables:\n",
      " $ site             : int  5 5 5 5 5 5 5 5 5 5 ...\n",
      " $ is.bot           : int  1 1 1 1 1 1 1 1 1 1 ...\n",
      " $ time             : Factor w/ 78775 levels \"2016-04-26 00:00:48\",..: 20354 20349 20352 20384 20385 20369 20373 20375 20414 20404 ...\n",
      " $ total            : int  1077 1077 1077 1077 1077 1077 1077 1077 1077 1077 ...\n",
      " $ max.score        : num  12.2 12.2 12.2 12.2 12.2 ...\n",
      " $ score            : num  12.2 12.2 12.2 12.2 12.2 ...\n",
      " $ types            : Factor w/ 3 levels \"bn\",\"cu\",\"vb\": 1 1 1 1 1 1 1 1 1 1 ...\n",
      " $ site.stat        : int  0 0 0 0 0 0 0 0 0 0 ...\n",
      " $ campaign         : int  503 503 503 503 503 500 493 503 502 376 ...\n",
      " $ format           : Factor w/ 11 levels \"bn1\",\"bn2\",\"bn20\",..: 7 7 7 7 2 9 9 7 9 7 ...\n",
      " $ master           : int  5 5 5 5 5 5 5 5 5 5 ...\n",
      " $ uid              : int  NA NA NA NA NA NA NA NA NA NA ...\n",
      " $ os               : Factor w/ 37 levels \"Android\",\"AndroidPhone\",..: 11 10 11 10 8 11 10 11 6 16 ...\n",
      " $ browser          : Factor w/ 22 levels \"360se\",\"amigo\",..: 4 4 22 4 5 12 12 22 5 12 ...\n",
      " $ browser.version  : Factor w/ 1081 levels \"\",\"0\",\"0.2\",\"0.2.149.29\",..: NA NA NA NA NA NA NA NA NA NA ...\n",
      " $ browser.lang     : Factor w/ 6 levels \"[{\",\"[{\\\"type\\\":\\\"m\\\"\",..: 5 5 5 5 5 5 5 5 5 5 ...\n",
      " $ country          : Factor w/ 89 levels \"A1\",\"AE\",\"AL\",..: 70 70 70 70 70 70 70 70 70 15 ...\n",
      " $ city             : Factor w/ 1170 levels \"S<iauliai\",\"abakan\",..: NA NA NA NA NA NA NA NA NA NA ...\n",
      " $ ipaddr           : int  27459 10446 8700 10832 13002 8326 34916 24986 36446 17681 ...\n",
      " $ amuid.format.site: Factor w/ 2 levels \"new\",\"old\": NA NA NA NA NA NA NA NA NA NA ...\n",
      " $ amuid.format     : Factor w/ 2 levels \"new\",\"old\": NA NA NA NA NA NA NA NA NA NA ...\n",
      " $ rekl             : int  14 14 14 14 14 109 108 14 14 15 ...\n",
      " $ scheme           : int  87 87 87 87 87 30000 7286 87 87 8404 ...\n",
      " $ banner           : int  915 915 915 915 913 900 844 915 907 453 ...\n",
      " $ banner.type      : Factor w/ 5 levels \"code\",\"flash\",..: 1 1 1 1 1 4 4 1 1 4 ...\n",
      " $ stavka           : int  13 13 13 13 13 2000 1400 13 13 2500 ...\n",
      " $ pay.for          : int  0 0 0 0 0 1 1 0 0 2 ...\n",
      " $ rekl.money       : num  0.013 0.013 0.013 0.013 0.013 0 0 0.013 0.013 0 ...\n",
      " $ master.money     : num  0.00546 0.00546 0.00546 0.00546 0.00546 ...\n",
      " $ adsystem         : int  2 2 2 2 2 2 2 2 2 2 ...\n",
      " $ flash            : int  0 0 0 0 0 0 0 0 0 0 ...\n",
      " $ agent            : Factor w/ 10164 levels \"Mozilla/4.0\",..: 5821 3802 5571 7222 2677 9983 9827 5960 1621 9162 ...\n",
      " $ adblock          : int  NA NA NA NA NA NA NA NA NA NA ...\n",
      " $ cpm              : num  13 13 13 13 13 1.42 1.1 13 13 1.79 ...\n",
      " $ action           : Factor w/ 1 level \"view\": NA NA NA NA NA NA NA NA NA NA ...\n",
      " $ k                : int  NA NA NA NA NA NA NA NA NA NA ...\n"
     ]
    }
   ],
   "source": [
    "str(data)"
   ]
  },
  {
   "cell_type": "code",
   "execution_count": 6,
   "metadata": {
    "collapsed": false
   },
   "outputs": [],
   "source": [
    "data <- data[sort(colnames(data))]"
   ]
  },
  {
   "cell_type": "markdown",
   "metadata": {},
   "source": [
    "Посмотрим на классы переменных:"
   ]
  },
  {
   "cell_type": "code",
   "execution_count": 24,
   "metadata": {
    "collapsed": false,
    "scrolled": false
   },
   "outputs": [
    {
     "name": "stdout",
     "output_type": "stream",
     "text": [
      " [1] \"integer\" \"integer\" \"factor\"  \"integer\" \"numeric\" \"numeric\" \"factor\" \n",
      " [8] \"integer\" \"integer\" \"factor\"  \"integer\" \"integer\" \"factor\"  \"factor\" \n",
      "[15] \"factor\"  \"factor\"  \"factor\"  \"factor\"  \"integer\" \"factor\"  \"factor\" \n",
      "[22] \"integer\" \"integer\" \"integer\" \"factor\"  \"integer\" \"integer\" \"numeric\"\n",
      "[29] \"numeric\" \"integer\" \"integer\" \"factor\"  \"integer\" \"numeric\" \"factor\" \n",
      "[36] \"integer\"\n"
     ]
    },
    {
     "data": {
      "text/plain": [
       "\n",
       " factor integer numeric \n",
       "     14      17       5 "
      ]
     },
     "execution_count": 24,
     "metadata": {},
     "output_type": "execute_result"
    }
   ],
   "source": [
    "classes <- lapply(data, class)\n",
    "print(as.character(classes))\n",
    "table(as.character(classes))"
   ]
  },
  {
   "cell_type": "markdown",
   "metadata": {},
   "source": [
    "Посмотрим, какие переменные — `integer`:"
   ]
  },
  {
   "cell_type": "code",
   "execution_count": 8,
   "metadata": {
    "collapsed": false
   },
   "outputs": [
    {
     "data": {
      "text/html": [
       "<ol class=list-inline>\n",
       "\t<li>'adblock'</li>\n",
       "\t<li>'adsystem'</li>\n",
       "\t<li>'banner'</li>\n",
       "\t<li>'campaign'</li>\n",
       "\t<li>'flash'</li>\n",
       "\t<li>'ipaddr'</li>\n",
       "\t<li>'is.bot'</li>\n",
       "\t<li>'k'</li>\n",
       "\t<li>'master'</li>\n",
       "\t<li>'pay.for'</li>\n",
       "\t<li>'rekl'</li>\n",
       "\t<li>'scheme'</li>\n",
       "\t<li>'site'</li>\n",
       "\t<li>'site.stat'</li>\n",
       "\t<li>'stavka'</li>\n",
       "\t<li>'total'</li>\n",
       "\t<li>'uid'</li>\n",
       "</ol>\n"
      ],
      "text/latex": [
       "\\begin{enumerate*}\n",
       "\\item 'adblock'\n",
       "\\item 'adsystem'\n",
       "\\item 'banner'\n",
       "\\item 'campaign'\n",
       "\\item 'flash'\n",
       "\\item 'ipaddr'\n",
       "\\item 'is.bot'\n",
       "\\item 'k'\n",
       "\\item 'master'\n",
       "\\item 'pay.for'\n",
       "\\item 'rekl'\n",
       "\\item 'scheme'\n",
       "\\item 'site'\n",
       "\\item 'site.stat'\n",
       "\\item 'stavka'\n",
       "\\item 'total'\n",
       "\\item 'uid'\n",
       "\\end{enumerate*}\n"
      ],
      "text/markdown": [
       "1. 'adblock'\n",
       "2. 'adsystem'\n",
       "3. 'banner'\n",
       "4. 'campaign'\n",
       "5. 'flash'\n",
       "6. 'ipaddr'\n",
       "7. 'is.bot'\n",
       "8. 'k'\n",
       "9. 'master'\n",
       "10. 'pay.for'\n",
       "11. 'rekl'\n",
       "12. 'scheme'\n",
       "13. 'site'\n",
       "14. 'site.stat'\n",
       "15. 'stavka'\n",
       "16. 'total'\n",
       "17. 'uid'\n",
       "\n",
       "\n"
      ],
      "text/plain": [
       " [1] \"adblock\"   \"adsystem\"  \"banner\"    \"campaign\"  \"flash\"     \"ipaddr\"   \n",
       " [7] \"is.bot\"    \"k\"         \"master\"    \"pay.for\"   \"rekl\"      \"scheme\"   \n",
       "[13] \"site\"      \"site.stat\" \"stavka\"    \"total\"     \"uid\"      "
      ]
     },
     "execution_count": 8,
     "metadata": {},
     "output_type": "execute_result"
    }
   ],
   "source": [
    "(classes.int <- colnames(data.frame(subset(classes, classes == \"integer\"))))"
   ]
  },
  {
   "cell_type": "markdown",
   "metadata": {},
   "source": [
    "Очевидно, что некоторые из них совсем не `integer`, а `factor`. Исправим это и сохраним названия переменных разных классов в соответствующие векторы:"
   ]
  },
  {
   "cell_type": "code",
   "execution_count": 9,
   "metadata": {
    "collapsed": false
   },
   "outputs": [
    {
     "name": "stdout",
     "output_type": "stream",
     "text": [
      "[1] \"Number of unique values in integer variables:\"\n"
     ]
    },
    {
     "data": {
      "text/html": [
       "<dl>\n",
       "\t<dt>$adblock</dt>\n",
       "\t\t<dd>2</dd>\n",
       "\t<dt>$adsystem</dt>\n",
       "\t\t<dd>4</dd>\n",
       "\t<dt>$banner</dt>\n",
       "\t\t<dd>1080</dd>\n",
       "\t<dt>$campaign</dt>\n",
       "\t\t<dd>550</dd>\n",
       "\t<dt>$flash</dt>\n",
       "\t\t<dd>3</dd>\n",
       "\t<dt>$ipaddr</dt>\n",
       "\t\t<dd>38263</dd>\n",
       "\t<dt>$is.bot</dt>\n",
       "\t\t<dd>2</dd>\n",
       "\t<dt>$k</dt>\n",
       "\t\t<dd>3301</dd>\n",
       "\t<dt>$master</dt>\n",
       "\t\t<dd>5</dd>\n",
       "\t<dt>$pay.for</dt>\n",
       "\t\t<dd>4</dd>\n",
       "\t<dt>$rekl</dt>\n",
       "\t\t<dd>114</dd>\n",
       "\t<dt>$scheme</dt>\n",
       "\t\t<dd>20</dd>\n",
       "\t<dt>$site</dt>\n",
       "\t\t<dd>5</dd>\n",
       "\t<dt>$site.stat</dt>\n",
       "\t\t<dd>9</dd>\n",
       "\t<dt>$stavka</dt>\n",
       "\t\t<dd>155</dd>\n",
       "\t<dt>$total</dt>\n",
       "\t\t<dd>16</dd>\n",
       "\t<dt>$uid</dt>\n",
       "\t\t<dd>7201</dd>\n",
       "</dl>\n"
      ],
      "text/latex": [
       "\\begin{description}\n",
       "\\item[\\$adblock] 2\n",
       "\\item[\\$adsystem] 4\n",
       "\\item[\\$banner] 1080\n",
       "\\item[\\$campaign] 550\n",
       "\\item[\\$flash] 3\n",
       "\\item[\\$ipaddr] 38263\n",
       "\\item[\\$is.bot] 2\n",
       "\\item[\\$k] 3301\n",
       "\\item[\\$master] 5\n",
       "\\item[\\$pay.for] 4\n",
       "\\item[\\$rekl] 114\n",
       "\\item[\\$scheme] 20\n",
       "\\item[\\$site] 5\n",
       "\\item[\\$site.stat] 9\n",
       "\\item[\\$stavka] 155\n",
       "\\item[\\$total] 16\n",
       "\\item[\\$uid] 7201\n",
       "\\end{description}\n"
      ],
      "text/markdown": [
       "$adblock\n",
       ":   2\n",
       "$adsystem\n",
       ":   4\n",
       "$banner\n",
       ":   1080\n",
       "$campaign\n",
       ":   550\n",
       "$flash\n",
       ":   3\n",
       "$ipaddr\n",
       ":   38263\n",
       "$is.bot\n",
       ":   2\n",
       "$k\n",
       ":   3301\n",
       "$master\n",
       ":   5\n",
       "$pay.for\n",
       ":   4\n",
       "$rekl\n",
       ":   114\n",
       "$scheme\n",
       ":   20\n",
       "$site\n",
       ":   5\n",
       "$site.stat\n",
       ":   9\n",
       "$stavka\n",
       ":   155\n",
       "$total\n",
       ":   16\n",
       "$uid\n",
       ":   7201\n",
       "\n",
       "\n"
      ],
      "text/plain": [
       "$adblock\n",
       "[1] 2\n",
       "\n",
       "$adsystem\n",
       "[1] 4\n",
       "\n",
       "$banner\n",
       "[1] 1080\n",
       "\n",
       "$campaign\n",
       "[1] 550\n",
       "\n",
       "$flash\n",
       "[1] 3\n",
       "\n",
       "$ipaddr\n",
       "[1] 38263\n",
       "\n",
       "$is.bot\n",
       "[1] 2\n",
       "\n",
       "$k\n",
       "[1] 3301\n",
       "\n",
       "$master\n",
       "[1] 5\n",
       "\n",
       "$pay.for\n",
       "[1] 4\n",
       "\n",
       "$rekl\n",
       "[1] 114\n",
       "\n",
       "$scheme\n",
       "[1] 20\n",
       "\n",
       "$site\n",
       "[1] 5\n",
       "\n",
       "$site.stat\n",
       "[1] 9\n",
       "\n",
       "$stavka\n",
       "[1] 155\n",
       "\n",
       "$total\n",
       "[1] 16\n",
       "\n",
       "$uid\n",
       "[1] 7201\n"
      ]
     },
     "execution_count": 9,
     "metadata": {},
     "output_type": "execute_result"
    }
   ],
   "source": [
    "print(\"Number of unique values in integer variables:\")\n",
    "lapply(data[classes.int], unique) %>%  lapply(length)"
   ]
  },
  {
   "cell_type": "code",
   "execution_count": 19,
   "metadata": {
    "collapsed": false
   },
   "outputs": [],
   "source": [
    "# classes[c(\"adsystem\", \"agent\", \"banner\", \"campaign\", \"flash\",\n",
    "#           \"format\", \"rekl\", \"scheme\", \"site.stat\", \"stat.format\", \"pay.for\")] <- \"factor\"\n",
    "\n",
    "# classes.int <- colnames(data.frame(subset(data, classes == \"integer\")))\n",
    "# classes.num <- colnames(data.frame(subset(data, classes == \"numeric\")))\n",
    "# classes.fact <- colnames(data.frame(subset(data, classes == \"factor\")))"
   ]
  },
  {
   "cell_type": "markdown",
   "metadata": {},
   "source": [
    "Факторам — факторово! Поменяем классы переменных там, где это нужно сделать, не забывая про `time`."
   ]
  },
  {
   "cell_type": "code",
   "execution_count": 36,
   "metadata": {
    "collapsed": false
   },
   "outputs": [],
   "source": [
    "data$site <- as.factor(data$site)\n",
    "data$site.stat <- as.factor(data$site.stat)\n",
    "data$master <- as.factor(data$master)\n",
    "data$adsystem <- as.factor(data$adsystem)\n",
    "data$flash <- as.factor(data$flash)\n",
    "data$campaign <- as.factor(data$campaign)\n",
    "data$rekl <- as.factor(data$rekl)\n",
    "data$is.bot <- as.factor(data$is.bot)\n",
    "data$pay.for <- as.factor(data$pay.for)\n",
    "data$adblock <- as.factor(data$adblock)\n",
    "data$banner <- as.factor(data$banner)\n",
    "data$scheme <- as.factor(data$scheme)\n",
    "data$k <- as.factor(data$k)"
   ]
  },
  {
   "cell_type": "code",
   "execution_count": 26,
   "metadata": {
    "collapsed": true
   },
   "outputs": [],
   "source": [
    "data$time <- strptime(data$time, format = \"%Y-%m-%d %H:%M:%S\")\n",
    "\n",
    "# final check:"
   ]
  },
  {
   "cell_type": "code",
   "execution_count": 37,
   "metadata": {
    "collapsed": false
   },
   "outputs": [
    {
     "data": {
      "text/html": [
       "<table>\n",
       "<thead><tr><th></th><th scope=col>site</th><th scope=col>is.bot</th><th scope=col>time</th><th scope=col>total</th><th scope=col>max.score</th><th scope=col>score</th><th scope=col>types</th><th scope=col>site.stat</th><th scope=col>campaign</th><th scope=col>format</th><th scope=col>ellip.h</th><th scope=col>pay.for</th><th scope=col>rekl.money</th><th scope=col>master.money</th><th scope=col>adsystem</th><th scope=col>flash</th><th scope=col>agent</th><th scope=col>adblock</th><th scope=col>cpm</th><th scope=col>action</th><th scope=col>k</th></tr></thead>\n",
       "<tbody>\n",
       "\t<tr><th scope=row>1</th><td>factor</td><td>factor</td><td>POSIXlt</td><td>integer</td><td>numeric</td><td>numeric</td><td>factor</td><td>factor</td><td>factor</td><td>factor</td><td>⋯</td><td>factor</td><td>numeric</td><td>numeric</td><td>factor</td><td>factor</td><td>factor</td><td>factor</td><td>numeric</td><td>factor</td><td>factor</td></tr>\n",
       "\t<tr><th scope=row>2</th><td>factor</td><td>factor</td><td>POSIXt</td><td>integer</td><td>numeric</td><td>numeric</td><td>factor</td><td>factor</td><td>factor</td><td>factor</td><td>⋯</td><td>factor</td><td>numeric</td><td>numeric</td><td>factor</td><td>factor</td><td>factor</td><td>factor</td><td>numeric</td><td>factor</td><td>factor</td></tr>\n",
       "</tbody>\n",
       "</table>\n"
      ],
      "text/latex": [
       "\\begin{tabular}{r|llllllllllllllllllllllllllllllllllll}\n",
       "  & site & is.bot & time & total & max.score & score & types & site.stat & campaign & format & ellip.h & pay.for & rekl.money & master.money & adsystem & flash & agent & adblock & cpm & action & k\\\\\n",
       "\\hline\n",
       "\t1 & factor & factor & POSIXlt & integer & numeric & numeric & factor & factor & factor & factor & ⋯ & factor & numeric & numeric & factor & factor & factor & factor & numeric & factor & factor\\\\\n",
       "\t2 & factor & factor & POSIXt & integer & numeric & numeric & factor & factor & factor & factor & ⋯ & factor & numeric & numeric & factor & factor & factor & factor & numeric & factor & factor\\\\\n",
       "\\end{tabular}\n"
      ],
      "text/plain": [
       "    site is.bot    time   total max.score   score  types site.stat campaign\n",
       "1 factor factor POSIXlt integer   numeric numeric factor    factor   factor\n",
       "2 factor factor  POSIXt integer   numeric numeric factor    factor   factor\n",
       "  format master     uid     os browser browser.version browser.lang country\n",
       "1 factor factor integer factor  factor          factor       factor  factor\n",
       "2 factor factor integer factor  factor          factor       factor  factor\n",
       "    city  ipaddr amuid.format.site amuid.format   rekl scheme banner\n",
       "1 factor integer            factor       factor factor factor factor\n",
       "2 factor integer            factor       factor factor factor factor\n",
       "  banner.type  stavka pay.for rekl.money master.money adsystem  flash  agent\n",
       "1      factor integer  factor    numeric      numeric   factor factor factor\n",
       "2      factor integer  factor    numeric      numeric   factor factor factor\n",
       "  adblock     cpm action      k\n",
       "1  factor numeric factor factor\n",
       "2  factor numeric factor factor"
      ]
     },
     "execution_count": 37,
     "metadata": {},
     "output_type": "execute_result"
    }
   ],
   "source": [
    "(data.frame(lapply(data, class), row.names = NULL))"
   ]
  },
  {
   "cell_type": "markdown",
   "metadata": {
    "collapsed": true
   },
   "source": [
    "## 1\\. Exploratory Analysis"
   ]
  },
  {
   "cell_type": "code",
   "execution_count": 38,
   "metadata": {
    "collapsed": false,
    "scrolled": true
   },
   "outputs": [
    {
     "data": {
      "text/html": [
       "<table>\n",
       "<thead><tr><th></th><th scope=col>site</th><th scope=col>is.bot</th><th scope=col>time</th><th scope=col>total</th><th scope=col>max.score</th><th scope=col>score</th><th scope=col>types</th><th scope=col>site.stat</th><th scope=col>campaign</th><th scope=col>format</th><th scope=col>ellip.h</th><th scope=col>pay.for</th><th scope=col>rekl.money</th><th scope=col>master.money</th><th scope=col>adsystem</th><th scope=col>flash</th><th scope=col>agent</th><th scope=col>adblock</th><th scope=col>cpm</th><th scope=col>action</th><th scope=col>k</th></tr></thead>\n",
       "<tbody>\n",
       "\t<tr><th scope=row>1</th><td>5</td><td>1</td><td>2016-05-19 18:00:22</td><td>1077</td><td>12.16155</td><td>12.16155</td><td>bn</td><td>0</td><td>503</td><td>bn5</td><td>⋯</td><td>0</td><td>0.013</td><td>0.0054587</td><td>2</td><td>0</td><td>Mozilla/5.0 (Windows NT 6.2; WOW64) AppleWebKit/537.17 (KHTML, like Gecko) Chrome/24.0.1312.2 Safari/537.17</td><td>NA</td><td>13</td><td>NA</td><td>NA</td></tr>\n",
       "\t<tr><th scope=row>2</th><td>5</td><td>1</td><td>2016-05-19 18:00:14</td><td>1077</td><td>12.16155</td><td>12.16155</td><td>bn</td><td>0</td><td>503</td><td>bn5</td><td>⋯</td><td>0</td><td>0.013</td><td>0.0054587</td><td>2</td><td>0</td><td>Mozilla/5.0 (Windows NT 6.1) AppleWebKit/537.21 (KHTML, like Gecko) Chrome/25.0.1351.0 Safari/537.21</td><td>NA</td><td>13</td><td>NA</td><td>NA</td></tr>\n",
       "\t<tr><th scope=row>3</th><td>5</td><td>1</td><td>2016-05-19 18:00:19</td><td>1077</td><td>12.16155</td><td>12.16155</td><td>bn</td><td>0</td><td>503</td><td>bn5</td><td>⋯</td><td>0</td><td>0.013</td><td>0.0054587</td><td>2</td><td>0</td><td>Mozilla/5.0 (Windows NT 6.2) AppleWebKit/536.5 (KHTML, like Gecko) YaBrowser/1.0.1084.5406 Chrome/19.0.1084.5406 Safari/536.5</td><td>NA</td><td>13</td><td>NA</td><td>NA</td></tr>\n",
       "</tbody>\n",
       "</table>\n"
      ],
      "text/latex": [
       "\\begin{tabular}{r|llllllllllllllllllllllllllllllllllll}\n",
       "  & site & is.bot & time & total & max.score & score & types & site.stat & campaign & format & ellip.h & pay.for & rekl.money & master.money & adsystem & flash & agent & adblock & cpm & action & k\\\\\n",
       "\\hline\n",
       "\t1 & 5 & 1 & 2016-05-19 18:00:22 & 1077 & 12.16155 & 12.16155 & bn & 0 & 503 & bn5 & ⋯ & 0 & 0.013 & 0.0054587 & 2 & 0 & Mozilla/5.0 (Windows NT 6.2; WOW64) AppleWebKit/537.17 (KHTML, like Gecko) Chrome/24.0.1312.2 Safari/537.17 & NA & 13 & NA & NA\\\\\n",
       "\t2 & 5 & 1 & 2016-05-19 18:00:14 & 1077 & 12.16155 & 12.16155 & bn & 0 & 503 & bn5 & ⋯ & 0 & 0.013 & 0.0054587 & 2 & 0 & Mozilla/5.0 (Windows NT 6.1) AppleWebKit/537.21 (KHTML, like Gecko) Chrome/25.0.1351.0 Safari/537.21 & NA & 13 & NA & NA\\\\\n",
       "\t3 & 5 & 1 & 2016-05-19 18:00:19 & 1077 & 12.16155 & 12.16155 & bn & 0 & 503 & bn5 & ⋯ & 0 & 0.013 & 0.0054587 & 2 & 0 & Mozilla/5.0 (Windows NT 6.2) AppleWebKit/536.5 (KHTML, like Gecko) YaBrowser/1.0.1084.5406 Chrome/19.0.1084.5406 Safari/536.5 & NA & 13 & NA & NA\\\\\n",
       "\\end{tabular}\n"
      ],
      "text/plain": [
       "  site is.bot                time total max.score    score types site.stat\n",
       "1    5      1 2016-05-19 18:00:22  1077  12.16155 12.16155    bn         0\n",
       "2    5      1 2016-05-19 18:00:14  1077  12.16155 12.16155    bn         0\n",
       "3    5      1 2016-05-19 18:00:19  1077  12.16155 12.16155    bn         0\n",
       "  campaign format master uid   os browser browser.version browser.lang country\n",
       "1      503    bn5      5  NA Win8  chrome            <NA>           ru      RU\n",
       "2      503    bn5      5  NA Win7  chrome            <NA>           ru      RU\n",
       "3      503    bn5      5  NA Win8  yandex            <NA>           ru      RU\n",
       "  city ipaddr amuid.format.site amuid.format rekl scheme banner banner.type\n",
       "1 <NA>  27459              <NA>         <NA>   14     87    915        code\n",
       "2 <NA>  10446              <NA>         <NA>   14     87    915        code\n",
       "3 <NA>   8700              <NA>         <NA>   14     87    915        code\n",
       "  stavka pay.for rekl.money master.money adsystem flash\n",
       "1     13       0      0.013    0.0054587        2     0\n",
       "2     13       0      0.013    0.0054587        2     0\n",
       "3     13       0      0.013    0.0054587        2     0\n",
       "                                                                                                                          agent\n",
       "1                   Mozilla/5.0 (Windows NT 6.2; WOW64) AppleWebKit/537.17 (KHTML, like Gecko) Chrome/24.0.1312.2 Safari/537.17\n",
       "2                          Mozilla/5.0 (Windows NT 6.1) AppleWebKit/537.21 (KHTML, like Gecko) Chrome/25.0.1351.0 Safari/537.21\n",
       "3 Mozilla/5.0 (Windows NT 6.2) AppleWebKit/536.5 (KHTML, like Gecko) YaBrowser/1.0.1084.5406 Chrome/19.0.1084.5406 Safari/536.5\n",
       "  adblock cpm action    k\n",
       "1    <NA>  13   <NA> <NA>\n",
       "2    <NA>  13   <NA> <NA>\n",
       "3    <NA>  13   <NA> <NA>"
      ]
     },
     "execution_count": 38,
     "metadata": {},
     "output_type": "execute_result"
    },
    {
     "data": {
      "text/html": [
       "<table>\n",
       "<thead><tr><th></th><th scope=col>site</th><th scope=col>is.bot</th><th scope=col>time</th><th scope=col>total</th><th scope=col>max.score</th><th scope=col>score</th><th scope=col>types</th><th scope=col>site.stat</th><th scope=col>campaign</th><th scope=col>format</th><th scope=col>ellip.h</th><th scope=col>pay.for</th><th scope=col>rekl.money</th><th scope=col>master.money</th><th scope=col>adsystem</th><th scope=col>flash</th><th scope=col>agent</th><th scope=col>adblock</th><th scope=col>cpm</th><th scope=col>action</th><th scope=col>k</th></tr></thead>\n",
       "<tbody>\n",
       "\t<tr><th scope=row>131144</th><td>3</td><td>1</td><td>2016-05-24 08:29:14</td><td>15642</td><td>8.79801</td><td>8.741188</td><td>bn</td><td>0</td><td>496</td><td>bn1</td><td>⋯</td><td>1</td><td>0</td><td>0</td><td>2</td><td>0</td><td>Mozilla/5.0 (Windows; U; Windows NT 6.0; en-US) AppleWebKit/528.10 (KHTML, like Gecko) Chrome/2.0.157.0 Safari/528.10</td><td>NA</td><td>2.23</td><td>NA</td><td>NA</td></tr>\n",
       "\t<tr><th scope=row>131145</th><td>3</td><td>1</td><td>2016-05-24 08:29:33</td><td>15642</td><td>8.79801</td><td>8.741188</td><td>bn</td><td>0</td><td>493</td><td>bn3</td><td>⋯</td><td>1</td><td>0</td><td>0</td><td>2</td><td>0</td><td>Mozilla/5.0 (Windows NT 6.2; rv:5.0) Gecko/20100101 Firefox/5.0</td><td>NA</td><td>3.95</td><td>NA</td><td>NA</td></tr>\n",
       "\t<tr><th scope=row>131146</th><td>3</td><td>1</td><td>2016-05-24 08:30:10</td><td>15642</td><td>8.79801</td><td>8.741188</td><td>bn</td><td>0</td><td>NA</td><td>bn2</td><td>⋯</td><td>0</td><td>0.015</td><td>NA</td><td>3</td><td>NA</td><td>Mozilla/5.0 (Windows NT 6.2; rv:9.0.1) Gecko/20100101 Firefox/9.0.1 BLNGBAR</td><td>NA</td><td>NA</td><td>NA</td><td>NA</td></tr>\n",
       "</tbody>\n",
       "</table>\n"
      ],
      "text/latex": [
       "\\begin{tabular}{r|llllllllllllllllllllllllllllllllllll}\n",
       "  & site & is.bot & time & total & max.score & score & types & site.stat & campaign & format & ellip.h & pay.for & rekl.money & master.money & adsystem & flash & agent & adblock & cpm & action & k\\\\\n",
       "\\hline\n",
       "\t131144 & 3 & 1 & 2016-05-24 08:29:14 & 15642 & 8.79801 & 8.741188 & bn & 0 & 496 & bn1 & ⋯ & 1 & 0 & 0 & 2 & 0 & Mozilla/5.0 (Windows; U; Windows NT 6.0; en-US) AppleWebKit/528.10 (KHTML, like Gecko) Chrome/2.0.157.0 Safari/528.10 & NA & 2.23 & NA & NA\\\\\n",
       "\t131145 & 3 & 1 & 2016-05-24 08:29:33 & 15642 & 8.79801 & 8.741188 & bn & 0 & 493 & bn3 & ⋯ & 1 & 0 & 0 & 2 & 0 & Mozilla/5.0 (Windows NT 6.2; rv:5.0) Gecko/20100101 Firefox/5.0 & NA & 3.95 & NA & NA\\\\\n",
       "\t131146 & 3 & 1 & 2016-05-24 08:30:10 & 15642 & 8.79801 & 8.741188 & bn & 0 & NA & bn2 & ⋯ & 0 & 0.015 & NA & 3 & NA & Mozilla/5.0 (Windows NT 6.2; rv:9.0.1) Gecko/20100101 Firefox/9.0.1 BLNGBAR & NA & NA & NA & NA\\\\\n",
       "\\end{tabular}\n"
      ],
      "text/plain": [
       "       site is.bot                time total max.score    score types site.stat\n",
       "131144    3      1 2016-05-24 08:29:14 15642   8.79801 8.741188    bn         0\n",
       "131145    3      1 2016-05-24 08:29:33 15642   8.79801 8.741188    bn         0\n",
       "131146    3      1 2016-05-24 08:30:10 15642   8.79801 8.741188    bn         0\n",
       "       campaign format master uid       os browser browser.version browser.lang\n",
       "131144      496    bn1      3  NA WinVista  chrome            <NA>           ru\n",
       "131145      493    bn3      3  NA     Win8 firefox            <NA>           ru\n",
       "131146     <NA>    bn2      3  NA  Windows firefox           9.0.1         <NA>\n",
       "       country   city ipaddr amuid.format.site amuid.format rekl scheme banner\n",
       "131144      RU   <NA>  23409              <NA>         <NA>  108   7286    869\n",
       "131145      RU   <NA>   7966              <NA>         <NA>  108   7286    862\n",
       "131146      RU ryazan  16782              <NA>         <NA>   51   <NA>   <NA>\n",
       "       banner.type stavka pay.for rekl.money master.money adsystem flash\n",
       "131144         img   1400       1      0.000            0        2     0\n",
       "131145         img   1400       1      0.000            0        2     0\n",
       "131146         rtb     NA       0      0.015           NA        3  <NA>\n",
       "                                                                                                                       agent\n",
       "131144 Mozilla/5.0 (Windows; U; Windows NT 6.0; en-US) AppleWebKit/528.10 (KHTML, like Gecko) Chrome/2.0.157.0 Safari/528.10\n",
       "131145                                                       Mozilla/5.0 (Windows NT 6.2; rv:5.0) Gecko/20100101 Firefox/5.0\n",
       "131146                                           Mozilla/5.0 (Windows NT 6.2; rv:9.0.1) Gecko/20100101 Firefox/9.0.1 BLNGBAR\n",
       "       adblock  cpm action    k\n",
       "131144    <NA> 2.23   <NA> <NA>\n",
       "131145    <NA> 3.95   <NA> <NA>\n",
       "131146    <NA>   NA   <NA> <NA>"
      ]
     },
     "execution_count": 38,
     "metadata": {},
     "output_type": "execute_result"
    }
   ],
   "source": [
    "head(data, n = 3)\n",
    "tail(data, n = 3)"
   ]
  },
  {
   "cell_type": "code",
   "execution_count": 39,
   "metadata": {
    "collapsed": false,
    "scrolled": false
   },
   "outputs": [
    {
     "name": "stdout",
     "output_type": "stream",
     "text": [
      "'data.frame':\t131146 obs. of  36 variables:\n",
      " $ site             : Factor w/ 5 levels \"1\",\"2\",\"3\",\"4\",..: 5 5 5 5 5 5 5 5 5 5 ...\n",
      " $ is.bot           : Factor w/ 2 levels \"0\",\"1\": 2 2 2 2 2 2 2 2 2 2 ...\n",
      " $ time             : POSIXlt, format: \"2016-05-19 18:00:22\" \"2016-05-19 18:00:14\" ...\n",
      " $ total            : int  1077 1077 1077 1077 1077 1077 1077 1077 1077 1077 ...\n",
      " $ max.score        : num  12.2 12.2 12.2 12.2 12.2 ...\n",
      " $ score            : num  12.2 12.2 12.2 12.2 12.2 ...\n",
      " $ types            : Factor w/ 3 levels \"bn\",\"cu\",\"vb\": 1 1 1 1 1 1 1 1 1 1 ...\n",
      " $ site.stat        : Factor w/ 9 levels \"0\",\"11\",\"47\",..: 1 1 1 1 1 1 1 1 1 1 ...\n",
      " $ campaign         : Factor w/ 549 levels \"1\",\"2\",\"3\",\"4\",..: 503 503 503 503 503 500 493 503 502 376 ...\n",
      " $ format           : Factor w/ 11 levels \"bn1\",\"bn2\",\"bn20\",..: 7 7 7 7 2 9 9 7 9 7 ...\n",
      " $ master           : Factor w/ 5 levels \"1\",\"2\",\"3\",\"4\",..: 5 5 5 5 5 5 5 5 5 5 ...\n",
      " $ uid              : int  NA NA NA NA NA NA NA NA NA NA ...\n",
      " $ os               : Factor w/ 37 levels \"Android\",\"AndroidPhone\",..: 11 10 11 10 8 11 10 11 6 16 ...\n",
      " $ browser          : Factor w/ 22 levels \"360se\",\"amigo\",..: 4 4 22 4 5 12 12 22 5 12 ...\n",
      " $ browser.version  : Factor w/ 1081 levels \"\",\"0\",\"0.2\",\"0.2.149.29\",..: NA NA NA NA NA NA NA NA NA NA ...\n",
      " $ browser.lang     : Factor w/ 6 levels \"[{\",\"[{\\\"type\\\":\\\"m\\\"\",..: 5 5 5 5 5 5 5 5 5 5 ...\n",
      " $ country          : Factor w/ 89 levels \"A1\",\"AE\",\"AL\",..: 70 70 70 70 70 70 70 70 70 15 ...\n",
      " $ city             : Factor w/ 1170 levels \"S<iauliai\",\"abakan\",..: NA NA NA NA NA NA NA NA NA NA ...\n",
      " $ ipaddr           : int  27459 10446 8700 10832 13002 8326 34916 24986 36446 17681 ...\n",
      " $ amuid.format.site: Factor w/ 2 levels \"new\",\"old\": NA NA NA NA NA NA NA NA NA NA ...\n",
      " $ amuid.format     : Factor w/ 2 levels \"new\",\"old\": NA NA NA NA NA NA NA NA NA NA ...\n",
      " $ rekl             : Factor w/ 113 levels \"1\",\"2\",\"3\",\"4\",..: 14 14 14 14 14 109 108 14 14 15 ...\n",
      " $ scheme           : Factor w/ 19 levels \"87\",\"89\",\"226\",..: 1 1 1 1 1 16 5 1 1 6 ...\n",
      " $ banner           : Factor w/ 1079 levels \"1\",\"2\",\"3\",\"4\",..: 915 915 915 915 913 900 844 915 907 453 ...\n",
      " $ banner.type      : Factor w/ 5 levels \"code\",\"flash\",..: 1 1 1 1 1 4 4 1 1 4 ...\n",
      " $ stavka           : int  13 13 13 13 13 2000 1400 13 13 2500 ...\n",
      " $ pay.for          : Factor w/ 3 levels \"0\",\"1\",\"2\": 1 1 1 1 1 2 2 1 1 3 ...\n",
      " $ rekl.money       : num  0.013 0.013 0.013 0.013 0.013 0 0 0.013 0.013 0 ...\n",
      " $ master.money     : num  0.00546 0.00546 0.00546 0.00546 0.00546 ...\n",
      " $ adsystem         : Factor w/ 3 levels \"1\",\"2\",\"3\": 2 2 2 2 2 2 2 2 2 2 ...\n",
      " $ flash            : Factor w/ 2 levels \"0\",\"1\": 1 1 1 1 1 1 1 1 1 1 ...\n",
      " $ agent            : Factor w/ 10164 levels \"Mozilla/4.0\",..: 5821 3802 5571 7222 2677 9983 9827 5960 1621 9162 ...\n",
      " $ adblock          : Factor w/ 1 level \"0\": NA NA NA NA NA NA NA NA NA NA ...\n",
      " $ cpm              : num  13 13 13 13 13 1.42 1.1 13 13 1.79 ...\n",
      " $ action           : Factor w/ 1 level \"view\": NA NA NA NA NA NA NA NA NA NA ...\n",
      " $ k                : Factor w/ 3300 levels \"1\",\"2\",\"3\",\"4\",..: NA NA NA NA NA NA NA NA NA NA ...\n"
     ]
    }
   ],
   "source": [
    "str(data)"
   ]
  },
  {
   "cell_type": "code",
   "execution_count": 41,
   "metadata": {
    "collapsed": false,
    "scrolled": true
   },
   "outputs": [
    {
     "ename": "ERROR",
     "evalue": "Error in vapply(seq_along(mapped), function(i) {: values must be length 1,\n but FUN(X[[3]]) result is length 0\n",
     "output_type": "error",
     "traceback": [
      "Error in vapply(seq_along(mapped), function(i) {: values must be length 1,\n but FUN(X[[3]]) result is length 0\n"
     ]
    },
    {
     "data": {
      "text/plain": [
       "$site\n",
       "    1     2     3     4     5 \n",
       "11023 47789 50000 20000  2334 \n",
       "\n",
       "$is.bot\n",
       "     0      1 \n",
       " 11023 120123 \n",
       "\n",
       "$time\n",
       "                 Min.               1st Qu.                Median \n",
       "\"2016-04-26 00:00:48\" \"2016-05-20 02:09:30\" \"2016-05-21 14:38:16\" \n",
       "                 Mean               3rd Qu.                  Max. \n",
       "\"2016-05-16 08:37:15\" \"2016-05-23 05:11:10\" \"2016-05-24 14:38:32\" \n",
       "\n",
       "$total\n",
       "   Min. 1st Qu.  Median    Mean 3rd Qu.    Max. \n",
       "   1077   15310   15640   22200   34760   47680 \n",
       "\n",
       "$max.score\n",
       "   Min. 1st Qu.  Median    Mean 3rd Qu.    Max. \n",
       "  8.065   8.428   9.179   9.033   9.266  12.160 \n",
       "\n",
       "$score\n",
       "   Min. 1st Qu.  Median    Mean 3rd Qu.    Max. \n",
       "  8.059   8.413   9.159   8.997   9.252  12.160 \n",
       "\n",
       "$types\n",
       "    bn     cu     vb \n",
       "121665   9452     29 \n",
       "\n",
       "$site.stat\n",
       "     0     11     47     50     55     56    100  60000  73000 \n",
       "130468      3    198     10      1    110      3    348      5 \n",
       "\n",
       "$campaign\n",
       "    512     237     239     493     502     503     115      83     240     238 \n",
       "  12451    8746    8307    6258    5157    5048    4162    4157    3602    3432 \n",
       "    520     130     112     548     120     381     389     373     183      22 \n",
       "   3329    2906    2464    2360    1781    1685    1671    1642    1411    1373 \n",
       "     17     496     327     369     114      16     338     178     195     125 \n",
       "   1279    1263    1224    1130    1128     850     814     799     793     764 \n",
       "    131     440     405     116     466     497     479     376     145     282 \n",
       "    764     739     727     716     692     685     630     615     597     589 \n",
       "    504     420     196     387     370     314     448     449     141     423 \n",
       "    587     583     520     477     465     441     435     431     418     418 \n",
       "    547     422     445     321     176     500     342     345     246     421 \n",
       "    408     385     377     359     335     325     293     268     257     252 \n",
       "    533     492     107     117     299     245     236     108      19     435 \n",
       "    251     237     234     234     234     228     218     211     207     207 \n",
       "     99      58     147     279     377       7     244     274     243     247 \n",
       "    206     202     202     202     199     189     186     171     162     162 \n",
       "    152      70     181     424     511     464     280     380     161     298 \n",
       "    158     156     154     146     142     141     135     135     134     134 \n",
       "    481     233     425     468     248     444     242     426 (Other)    NA's \n",
       "    134     131     126     126     125     123     122     118    7520   10270 \n",
       "\n",
       "$format\n",
       "  bn1   bn2  bn20  bn22   bn3   bn4   bn5   bn6   bn7   cu1  vb50 \n",
       "59020 20181   122  3886 24454 12285   909    92   716  9452    29 \n",
       "\n",
       "$master\n",
       "    1     2     3     4     5 \n",
       "11023 47789 50000 20000  2334 \n",
       "\n",
       "$uid\n",
       "   Min. 1st Qu.  Median    Mean 3rd Qu.    Max.    NA's \n",
       "      1    1494    2291    3052    4794    7200  119979 \n",
       "\n",
       "$os\n",
       "      Android  AndroidPhone AndroidTablet         Linux        Mac OS \n",
       "          603           571           258            55          2024 \n",
       "        MacOS   Playstation         Win10       Win2000          Win7 \n",
       "        12293             5           826            13         49479 \n",
       "         Win8         Win98         WinCE         WinNT WinServer2003 \n",
       "        25192            26             3           250           137 \n",
       "     WinVista         WinXP       Windows       android  androidphone \n",
       "        18043          2900          8130           262           154 \n",
       "androidtablet           iOS          iPad        iPhone         linux \n",
       "           61            89           789          2007            26 \n",
       "        macos      smart-tv     undefined         win10          win7 \n",
       "           96             2            77           855          4208 \n",
       "         win8         win98         winnt      winphone winserver2003 \n",
       "          915             1             1           115             1 \n",
       "     winvista         winxp \n",
       "           74           605 \n",
       "\n",
       "$browser\n",
       "           360se            amigo          android           chrome \n",
       "              40              379              348            41806 \n",
       "         firefox               ie             ipad           iphone \n",
       "           35059             1368              572             1697 \n",
       "          mailru          maxthon             msie            opera \n",
       "              68              218             9793            19910 \n",
       "      opera_mini       opera_mobi         operanew       qq browser \n",
       "               1               12             6277                7 \n",
       "          safari           sougou tencent traveler        ucbrowser \n",
       "            7385               11                2               91 \n",
       "            uran           yandex             NA's \n",
       "              36             5893              173 \n",
       "\n",
       "$browser.version\n",
       "            0            49            47           1.9           8.0 \n",
       "         3205          2410          2057           893           797 \n",
       "           36            45          46.0            50            11 \n",
       "          712           625           612           381           337 \n",
       "         47.5            27          10.0         12.17            13 \n",
       "          315           261           259           240           232 \n",
       "           10          25.0         12.15            21            30 \n",
       "          208           178           174           167           164 \n",
       "           46            18            12            40 40.0.2214.115 \n",
       "          162           154           151           148           147 \n",
       "           25            28             9            38            19 \n",
       "          137           137           131           128           127 \n",
       "           22            34            35         3.6.8         12.02 \n",
       "          125           125           123           120           119 \n",
       "       3.6.10            20         11.64            48         12.16 \n",
       "          116           115           114           112           111 \n",
       "           23         12.12         12.14            43             8 \n",
       "          111           110           106           105           105 \n",
       "           24            16          24.0           9.0            26 \n",
       "          103           102            97            97            94 \n",
       "           17         12.11          21.0            44         12.01 \n",
       "           93            92            90            90            89 \n",
       "       3.6.28            41         3.6.6         12.00            42 \n",
       "           88            84            81            79            79 \n",
       "           39            14            32            33            37 \n",
       "           77            74            74            73            72 \n",
       "          4.0 25.0.1364.172        3.0.19            15           5.0 \n",
       "           72            70            70            69            69 \n",
       "27.0.1453.110         5.0.5         10.63           1.8         3.6.3 \n",
       "           66            65            63            57            57 \n",
       "        11.62        3.6.12            31          20.0           3.6 \n",
       "           55            55            55            52            51 \n",
       "        5.0.2          22.0             4         10.62          23.0 \n",
       "           51            50            50            49            49 \n",
       "            6        3.6.13 40.0.2214.111             2          11.0 \n",
       "           49            48            47            46            45 \n",
       "        11.60           6.0            29         4.0.4         11.61 \n",
       "           45            45            44            44            42 \n",
       "        5.0.4           3.0          17.0       (Other)          NA's \n",
       "           42            38            37          5495        104810 \n",
       "\n",
       "$browser.lang\n",
       "          [{ [{\"type\":\"m\"           en           es           ru           uk \n",
       "         811        12876           61            1       103194           14 \n",
       "        NA's \n",
       "       14189 \n",
       "\n",
       "$country\n",
       "   A1    AE    AL    AM    AR    AT    AU    AZ    BA    BD    BE    BG    BN \n",
       "    7     2    10   555     7     6     8   427     3     5    28   173     4 \n",
       "   BR    BY    CA    CH    CL    CN    CU    CY    CZ    DE    DK    DO    DZ \n",
       "   59  3029    31     7    11    46     1    23   203   328     1     9     2 \n",
       "   EC    EE    EG    ES    EU    FI    FR    GB    GE    GR    GT    HK    HR \n",
       "    9   373     1   105    11    21    87   132   256    51     3    17     7 \n",
       "   HU    ID    IE    IL    IN    IQ    IR    IS    IT    JM    JP    KG    KR \n",
       "   28     8   161   449    31     8    23     9   119     3    21   411    51 \n",
       "   KZ    LT    LU    LV    MD    MN    MX    NL    NO    NZ    OM    PH    PL \n",
       " 1523   237    10   373  1438     8     5    44     2     2     4     3    92 \n",
       "   PT    PY    RO    RS    RU    SA    SE    SG    SI    SK    TH    TJ    TM \n",
       "   33    13    28    33 96569    19    16     7    12    10    45    56     4 \n",
       "   TN    TR    TW    UA    US    UY    UZ    VE    VN    XX    ZA \n",
       "    2    27    23 18699  3873    11   261    20    87   173     4 \n",
       "\n",
       "$city\n",
       "                 moscow        saint_petersburg               krasnodar \n",
       "                   2753                     974                     719 \n",
       "          yekaterinburg             novosibirsk                    perm \n",
       "                    459                     454                     414 \n",
       "            chelyabinsk                boardman                voronezh \n",
       "                    346                     345                     345 \n",
       "                 samara        nizhniy_novgorod               undefined \n",
       "                    321                     319                     296 \n",
       "                   omsk                   kursk                 irkutsk \n",
       "                    287                     273                     269 \n",
       "          rostov_on-don                     ufa                 saratov \n",
       "                    261                     257                     229 \n",
       "                   tula               volgograd                  tyumen \n",
       "                    228                     220                     192 \n",
       "                izhevsk             krasnoyarsk                  ryazan \n",
       "                    179                     167                     160 \n",
       "               orenburg                   sochi                   penza \n",
       "                    151                     150                     139 \n",
       "              ulyanovsk            novokuznetsk                  surgut \n",
       "                    136                     135                     134 \n",
       "               belgorod                smolensk                 barnaul \n",
       "                    133                     129                     126 \n",
       "                kazan'9               stavropol             vladivostok \n",
       "                    125                     125                     121 \n",
       "                   kiev                   kuban             kaliningrad \n",
       "                    119                     118                     117 \n",
       "             khabarovsk                    tver               yaroslavl \n",
       "                    117                     117                     117 \n",
       "                saransk                 lipetsk                   kazan \n",
       "                    114                     113                     111 \n",
       "               kemerovo                  kaluga                  kurgan \n",
       "                    109                     108                     102 \n",
       "             cheboksary         veliky_novgorod             yoshkar_ola \n",
       "                    101                      95                      93 \n",
       "             wilmington                 ashburn                 ivanovo \n",
       "                     90                      89                      88 \n",
       "               tolyatti                vladimir                 vologda \n",
       "                     88                      86                      85 \n",
       "                  tomsk                 bryansk                kostroma \n",
       "                     84                      83                      78 \n",
       "           petrozavodsk            novorossiysk               astrakhan \n",
       "                     77                      76                      74 \n",
       "           magnitogorsk             cherepovets                murmansk \n",
       "                     73                      71                      67 \n",
       "                  kirov             makhachkala             arkhangelsk \n",
       "                     66                      65                      64 \n",
       "                donetsk                   ore:l             vladikavkaz \n",
       "                     60                      60                      60 \n",
       "               taganrog                  almaty                   pskov \n",
       "                     57                      56                      55 \n",
       "              volzhskiy                   minsk                 angarsk \n",
       "                     55                      53                      52 \n",
       "                 tambov           nizhniy_tagil              sevastopol \n",
       "                     52                      50                      49 \n",
       "                 chelny                   chita               togliatti \n",
       "                     48                      48                      47 \n",
       "               bibayevo                 armavir         blagoveshchensk \n",
       "                     46                      45                      45 \n",
       "                  biysk                 nalchik                 podolsk \n",
       "                     44                      44                      44 \n",
       "               ulan_ude            severodvinsk                  bratsk \n",
       "                     44                      42                      39 \n",
       "kazana><u+0080><u+0099>             nizhnekamsk          nizhnevartovsk \n",
       "                     39                      38                      37 \n",
       "       velikiy_novgorod                san_jose                 (Other) \n",
       "                     36                      35                    5582 \n",
       "                   NA's \n",
       "                 109058 \n",
       "\n",
       "$ipaddr\n",
       "   Min. 1st Qu.  Median    Mean 3rd Qu.    Max. \n",
       "      1    9691   19420   19090   28490   38260 \n",
       "\n",
       "$amuid.format.site\n",
       "   new    old   NA's \n",
       " 16588     85 114473 \n",
       "\n",
       "$amuid.format\n",
       "   new    old   NA's \n",
       " 14989   1684 114473 \n",
       "\n",
       "$rekl\n",
       "     41     108      14      61      51      23      71      48      38      13 \n",
       "  24087   23277   11903    9771    6072    5030    3670    3329    2545    2206 \n",
       "     28      20      32      96      89      68      33      76      72      39 \n",
       "   2129    1829    1787    1618    1596    1522    1391    1250     931     830 \n",
       "     37      60      83      91       4      27      31      15      25      45 \n",
       "    785     777     743     727     692     692     645     615     603     598 \n",
       "     56      16      52      69     109      84      87      93      40      97 \n",
       "    501     445     432     408     367     359     317     297     283     275 \n",
       "     49       6      85      30      47      74     106      70      24      79 \n",
       "    273     238     238     207     207     172     172     165     155     154 \n",
       "    101      43      63       3     110      62     103     111      53      57 \n",
       "    150     134     123     122     108     104     101     101      99      91 \n",
       "     44      35       9      36      26      94       2      86       7     105 \n",
       "     85      80      75      71      68      67      65      56      54      54 \n",
       "     21      78      64     113      81      46      19     100      67      90 \n",
       "     46      44      41      41      40      39      31      30      24      22 \n",
       "    104      58      59      92      98      55      66      11      99       1 \n",
       "     19      16      14      14      13      12      12      11      11       9 \n",
       "     73      10      42      65      17     102      12      18 (Other)    NA's \n",
       "      9       8       7       6       5       5       4       4      34    9452 \n",
       "\n",
       "$scheme\n",
       "   87    89   226  3752  7286  8404  8481 11270 14658 15720 22000 22091 22144 \n",
       "14713  2687  1522    16 54325 11000  1346     8   930   441    69     4  6660 \n",
       "22222 22344 30000 34446 37531 38499  NA's \n",
       "   54   443 14091    29    44  3042 19722 \n",
       "\n",
       "$banner\n",
       "    938     937     172     171     862     177     175     178     110     180 \n",
       "   7763    4688    4468    4258    4070    2918    2881    2707    2703    2646 \n",
       "    903     910     103     961    1061     181     864     468     182     478 \n",
       "   2609    2564    2366    2093    2051    1920    1693    1685    1682    1671 \n",
       "    449     904     911     109       2     116    1068     318    1067     962 \n",
       "   1642    1612    1550    1459    1279    1260    1226    1204    1161    1091 \n",
       "   1070     111     183       1     117     906     913     869     118    1066 \n",
       "   1045     910     871     850     839     838     835     807     805     792 \n",
       "    533     759     196     219     940     653     939     135     176     582 \n",
       "    727     659     652     588     582     578     577     568     551     539 \n",
       "   1065     872    1069     120     283     430    1059     670     454     677 \n",
       "    483     474     454     443     434     401     398     377     333     328 \n",
       "    121     432    1060     917     334     603     437     816     679     453 \n",
       "    321     320     309     307     304     302     297     294     291     282 \n",
       "    693     350     101     694     863     370     335     868     919     102 \n",
       "    243     239     234     234     233     232     231     224     216     211 \n",
       "    274     433     636     899     338     330     865     814     815     845 \n",
       "    207     207     205     196     191     179     178     169     167     158 \n",
       "     55     246     842     290     584     955     678     598 (Other)    NA's \n",
       "    157     150     145     144     143     142     140     137   11427   19722 \n",
       "\n",
       "$banner.type\n",
       " code flash  html   img   rtb  NA's \n",
       "10654    43 20338 61678  1479 36954 \n",
       "\n",
       "$stavka\n",
       "   Min. 1st Qu.  Median    Mean 3rd Qu.    Max.    NA's \n",
       "      0      15      60   15930    1400  600000   19722 \n",
       "\n",
       "$pay.for\n",
       "    0     1     2  NA's \n",
       "66467 33041 22186  9452 \n",
       "\n",
       "$rekl.money\n",
       "   Min. 1st Qu.  Median    Mean 3rd Qu.    Max.    NA's \n",
       "  0.000   0.000   0.006   0.010   0.015   0.192    9452 \n",
       "\n",
       "$master.money\n",
       "   Min. 1st Qu.  Median    Mean 3rd Qu.    Max.    NA's \n",
       "  0.000   0.000   0.000   0.004   0.007   0.067   19722 \n",
       "\n",
       "$adsystem\n",
       "     1      2      3   NA's \n",
       "  3306 104203  10270  13367 \n",
       "\n",
       "$flash\n",
       "     0      1   NA's \n",
       "107132    377  23637 \n",
       "\n",
       "$agent\n",
       "                                                                                    Mozilla/5.0 (Windows NT 6.3; WOW64; rv:46.0) Gecko/20100101 Firefox/46.0 \n",
       "                                                                                                                                                        2678 \n",
       "                                                               Mozilla/5.0 (Windows NT 6.3; WOW64; Trident/7.0; rv:11.0; i-Macros-Web-Automation) like Gecko \n",
       "                                                                                                                                                         328 \n",
       "                                                                                           Mozilla/5.0 (Windows NT 5.1; rv:25.0) Gecko/20130713 Firefox/25.0 \n",
       "                                                                                                                                                         251 \n",
       "                                                                                    Mozilla/5.0 (Windows NT 6.1; WOW64; rv:31.0) Gecko/20100101 Firefox/31.0 \n",
       "                                                                                                                                                          83 \n",
       "                                            Mozilla/5.0 (Windows; U; Windows NT 6.1; en-US; rv:1.9.2.18) Gecko/20110614 MRA 5.5 (build 02842) Firefox/3.6.18 \n",
       "                                                                                                                                                          71 \n",
       "   Mozilla/5.0 (Windows; U; Windows NT 6.0; ru; rv:1.9.2.8) Gecko/20100722 MRA 5.5 (build 02743) AskTbCFTP2V5/3.8.0.12304 Firefox/3.6.8 (.NET CLR 3.5.30729) \n",
       "                                                                                                                                                          68 \n",
       "                                              Mozilla/5.0 (Windows NT 10.0; WOW64) AppleWebKit/537.36 (KHTML, like Gecko) Chrome/50.0.2661.102 Safari/537.36 \n",
       "                                                                                                                                                          66 \n",
       "                                                                                            Opera/9.80 (Windows NT 6.0; U; de) Presto/2.10.229 Version/11.62 \n",
       "                                                                                                                                                          66 \n",
       "                                               Mozilla/5.0 (Windows NT 6.1; WOW64) AppleWebKit/537.36 (KHTML, like Gecko) Chrome/50.0.2661.102 Safari/537.36 \n",
       "                                                                                                                                                          65 \n",
       "                        Mozilla/5.0 (Windows NT 6.0) AppleWebKit/537.36 (KHTML, like Gecko) Chrome/40.0.2214.115 Safari/537.36 OPR/27.0.1689.76 (Edition Yx) \n",
       "                                                                                                                                                          64 \n",
       "                                     Mozilla/5.0 (Macintosh; Intel Mac OS X 10_6_8) AppleWebKit/537.17 (KHTML, like Gecko) Chrome/24.0.1312.45 Safari/537.17 \n",
       "                                                                                                                                                          63 \n",
       "                                                                      Opera/9.80 (Windows NT 6.0; U; MRA 5.9 (build 4826); ru) Presto/2.10.289 Version/12.02 \n",
       "                                                                                                                                                          63 \n",
       "                                                        Mozilla/5.0 (Windows NT 6.2) AppleWebKit/537.19 (KHTML, like Gecko) Chrome/25.0.1323.1 Safari/537.19 \n",
       "                                                                                                                                                          61 \n",
       "                                                     Mozilla/5.0 (Windows; U; Windows NT 6.0; nl; rv:1.9.2) Gecko/20100115 Firefox/3.6 ( .NET CLR D5BF33A91) \n",
       "                                                                                                                                                          61 \n",
       "                                                                             Opera/9.80 (Windows NT 6.0; U; Edition Yx 01; ru) Presto/2.10.289 Version/12.00 \n",
       "                                                                                                                                                          60 \n",
       "                                                        Mozilla/5.0 (Windows NT 6.1) AppleWebKit/537.28 (KHTML, like Gecko) Chrome/26.0.1395.1 Safari/537.28 \n",
       "                                                                                                                                                          59 \n",
       "                                    Mozilla/5.0 (Macintosh; Intel Mac OS X 10_6_7) AppleWebKit/537.36 (KHTML, like Gecko) Chrome/27.0.1453.110 Safari/537.36 \n",
       "                                                                                                                                                          58 \n",
       "                                                Mozilla/5.0 (Windows NT 6.3; WOW64) AppleWebKit/537.36 (KHTML, like Gecko) Chrome/42.0.2311.11 Safari/537.36 \n",
       "                                                                                                                                                          58 \n",
       "                        Mozilla/5.0 (Windows; U; Windows NT 6.2; en-US) AppleWebKit/534.13 (KHTML, like Gecko) Iron/9.0.600.0 Chrome/9.0.600.0 Safari/534.13 \n",
       "                                                                                                                                                          58 \n",
       "                                                              Opera/9.80 (Windows NT 6.1; WOW64; U; MRA 5.10 (build 5265); en) Presto/2.10.229 Version/11.62 \n",
       "                                                                                                                                                          58 \n",
       "                                                                     Mozilla/5.0 (Windows NT 6.1; WOW64; rv:32.0) Gecko/20100101 Firefox/32.0 SeaMonkey/2.29 \n",
       "                                                                                                                                                          57 \n",
       "                             Mozilla/5.0 (Macintosh; U; Intel Mac OS X 10_5_8; ru-ru) AppleWebKit/533.18.1 (KHTML, like Gecko) Version/5.0.2 Safari/533.18.5 \n",
       "                                                                                                                                                          56 \n",
       "                                                          Mozilla/5.0 (Windows; U; Windows NT 6.1; uk; rv:1.9.2) Gecko/20100115 Firefox/3.6 sputnik 2.2.0.34 \n",
       "                                                                                                                                                          56 \n",
       "                                     Mozilla/5.0 (Macintosh; Intel Mac OS X 10_6_8) AppleWebKit/536.11 (KHTML, like Gecko) Chrome/20.0.1132.43 Safari/536.11 \n",
       "                                                                                                                                                          55 \n",
       "                                    Mozilla/5.0 (Windows NT 6.0; WOW64) AppleWebKit/537.22 (KHTML, like Gecko) Chrome/25.0.1364.172 Safari/537.22 Java/1.7.0 \n",
       "                                                                                                                                                          54 \n",
       "                                                                             Mozilla/5.0 (compatible; MSIE 10.0; Windows NT 6.2; WOW64; Trident/6.0; ASU2JS) \n",
       "                                                                                                                                                          54 \n",
       "                                     Mozilla/5.0 (Macintosh; Intel Mac OS X 10_8_2) AppleWebKit/537.11 (KHTML, like Gecko) Chrome/23.0.1271.52 Safari/537.11 \n",
       "                                                                                                                                                          53 \n",
       "        Mozilla/5.0 (Windows NT 6.1; WOW64) AppleWebKit/537.36 (KHTML, like Gecko) Chrome/40.0.2214.115 Safari/537.36 OPR/27.0.1689.76 (Edition Campaign 48) \n",
       "                                                                                                                                                          53 \n",
       "                           Mozilla/5.0 (Windows; U; Windows NT 6.2; en-GB; rv:1.9.2.18) Gecko/20110614 MRA 5.7 (build 03796) Firefox/3.6.18 sputnik 2.4.0.32 \n",
       "                                                                                                                                                          53 \n",
       "                                      Mozilla/5.0 (Macintosh; Intel Mac OS X 10_7_3) AppleWebKit/534.55.3 (KHTML, like Gecko) Version/5.1.3 Safari/534.53.10 \n",
       "                                                                                                                                                          52 \n",
       "                                             Mozilla/5.0 (Macintosh; Intel Mac OS X 10_7_4) AppleWebKit/536.19 (KHTML, like Gecko) Version/6.0 Safari/536.19 \n",
       "                                                                                                                                                          52 \n",
       "                                                Mozilla/5.0 (Windows NT 6.1; WOW64) AppleWebKit/537.36 (KHTML, like Gecko) Chrome/32.0.1700.76 Safari/537.36 \n",
       "                                                                                                                                                          52 \n",
       "                                                                                Mozilla/5.0 (Windows NT 6.3; WOW64; Trident/7.0; MDDSJS; rv:11.0) like Gecko \n",
       "                                                                                                                                                          52 \n",
       "                                                                                           Mozilla/5.0 (Windows NT 6.3; rv:34.0) Gecko/20100101 Firefox/34.0 \n",
       "                                                                                                                                                          52 \n",
       "                   Mozilla/5.0 (Windows; U; Windows NT 6.2; en-US) AppleWebKit/534.3 (KHTML, like Gecko) Iron/6.0.475.1 Chrome/6.0.475.1 Safari/54783712.534 \n",
       "                                                                                                                                                          52 \n",
       "                                                                                   Opera/9.80 (Macintosh; Intel Mac OS X; U; ru) Presto/2.5.24 Version/10.52 \n",
       "                                                                                                                                                          52 \n",
       "                                                      Mozilla/5.0 (Windows NT 10.0) AppleWebKit/537.36 (KHTML, like Gecko) Chrome/42.0.2311.11 Safari/537.36 \n",
       "                                                                                                                                                          51 \n",
       "                                    Mozilla/5.0 (Windows NT 6.1) AppleWebKit/535.19 (KHTML, like Gecko) Chrome/18.0.1025.152 Safari/535.19 CoolNovo/2.0.3.55 \n",
       "                                                                                                                                                          51 \n",
       "                                                                                           Mozilla/5.0 (Windows NT 6.1; rv:21.0) Gecko/20130208 Firefox/21.0 \n",
       "                                                                                                                                                          51 \n",
       "                                                       Mozilla/5.0 (Windows NT 6.2) AppleWebKit/537.11 (KHTML, like Gecko) Chrome/23.0.1271.52 Safari/537.11 \n",
       "                                                                                                                                                          51 \n",
       "                                                                     Opera/9.80 (Windows NT 6.1; U; MRA 5.7 (build 03686); ru) Presto/2.10.229 Version/11.60 \n",
       "                                                                                                                                                          51 \n",
       "                            Mozilla/5.0 (Windows NT 6.1; WOW64) AppleWebKit/537.36 (KHTML, like Gecko) Maxthon/4.4.3.3000 Chrome/30.0.1599.101 Safari/537.36 \n",
       "                                                                                                                                                          50 \n",
       "                               Mozilla/5.0 (Windows NT 6.3; WOW64) AppleWebKit/537.36 (KHTML, like Gecko) Chrome/37.0.2062.94 Safari/537.36 OPR/24.0.1558.53 \n",
       "                                                                                                                                                          50 \n",
       "                                                    Mozilla/5.0 (Windows; U; Windows NT 6.0; ru; rv:1.9.1.19) Gecko/20110420 Firefox/3.5.19 sputnik 2.5.2.66 \n",
       "                                                                                                                                                          50 \n",
       "                              Mozilla/5.0 (Windows; U; Windows NT 6.1; ru; rv:1.9.1.10) Gecko/20100504 MRA 5.4 (build 02620) Firefox/3.5.10 sputnik 2.3.0.86 \n",
       "                                                                                                                                                          50 \n",
       "                                                                       Opera/9.80 (Windows NT 6.2; U; MRA 5.7 (build 03797); ru) Presto/2.5.22 Version/10.50 \n",
       "                                                                                                                                                          50 \n",
       "             Mozilla/5.0 (Macintosh; Intel Mac OS X 10_7_4) AppleWebKit/536.5 (KHTML, like Gecko) YaBrowser/1.0.1084.5402 Chrome/19.0.1084.5402 Safari/536.5 \n",
       "                                                                                                                                                          49 \n",
       "                                                  Mozilla/5.0 (Windows NT 6.1; WOW64) AppleWebKit/534.52.7 (KHTML, like Gecko) Version/4.0.5 Safari/531.22.7 \n",
       "                                                                                                                                                          49 \n",
       "                                                                                  Mozilla/5.0 (Windows NT 6.1; WOW64; rv:2.0.1) Gecko/20100101 Firefox/4.0.1 \n",
       "                                                                                                                                                          49 \n",
       "                                          Mozilla/5.0 (Windows NT 6.1; Win64; x64) AppleWebKit/537.36 (KHTML, like Gecko) Chrome/38.0.2125.101 Safari/537.36 \n",
       "                                                                                                                                                          49 \n",
       "                                                                             Mozilla/5.0 (Macintosh; Intel Mac OS X 10.5; rv:9.0) Gecko/20100101 Firefox/9.0 \n",
       "                                                                                                                                                          48 \n",
       "                                     Mozilla/5.0 (Macintosh; U; Intel Mac OS X 10_6; nb-no) AppleWebKit/531.9 (KHTML, like Gecko) Version/4.0.3 Safari/531.9 \n",
       "                                                                                                                                                          48 \n",
       "                                                 Mozilla/5.0 (Windows NT 6.1; WOW64) AppleWebKit/537.32 (KHTML, like Gecko) Chrome/27.0.1423.0 Safari/537.32 \n",
       "                                                                                                                                                          48 \n",
       "                                                                                Mozilla/5.0 (Windows NT 6.1; WOW64; Trident/7.0; MDDCJS; rv:11.0) like Gecko \n",
       "                                                                                                                                                          48 \n",
       "                                                Mozilla/5.0 (Windows NT 6.3; WOW64) AppleWebKit/537.36 (KHTML, like Gecko) Chrome/40.0.2214.93 Safari/537.36 \n",
       "                                                                                                                                                          48 \n",
       "                                           Mozilla/5.0 (Windows; U; Windows NT 6.0; en-US; rv:1.8.1.11pre) Gecko/20071206 Firefox/2.0.0.11 Navigator/9.0.0.5 \n",
       "                                                                                                                                                          48 \n",
       "                                                    Mozilla/5.0 (Windows; U; Windows NT 6.1; ru; rv:1.9.2.13) Gecko/20101203 Firefox/3.6.13 sputnik 2.5.3.52 \n",
       "                                                                                                                                                          48 \n",
       "                                                                                 Opera/9.80 (Windows NT 6.1; Edition Freesoft) Presto/2.12.388 Version/12.17 \n",
       "                                                                                                                                                          48 \n",
       "                                                                      Opera/9.80 (Windows NT 6.1; WOW64; MRA 6.0 (build 6001)) Presto/2.12.388 Version/12.15 \n",
       "                                                                                                                                                          48 \n",
       "                                                                      Opera/9.80 (Windows NT 6.1; WOW64; MRA 6.2 (build 7194)) Presto/2.12.388 Version/12.17 \n",
       "                                                                                                                                                          48 \n",
       "                                                                      Opera/9.80 (Windows NT 6.2; WOW64; MRA 6.3 (build 8050)) Presto/2.12.388 Version/12.12 \n",
       "                                                                                                                                                          48 \n",
       "                                     Mozilla/5.0 (Macintosh; Intel Mac OS X 10_7_4) AppleWebKit/537.11 (KHTML, like Gecko) Chrome/23.0.1271.91 Safari/537.11 \n",
       "                                                                                                                                                          47 \n",
       "                       Mozilla/5.0 (Windows NT 10.0) AppleWebKit/537.36 (KHTML, like Gecko) Chrome/40.0.2214.115 Safari/537.36 OPR/27.0.1689.76 (Edition Yx) \n",
       "                                                                                                                                                          47 \n",
       "                                                        Mozilla/5.0 (Windows NT 6.0) AppleWebKit/535.11 (KHTML, like Gecko) Chrome/17.0.963.46 Safari/535.11 \n",
       "                                                                                                                                                          47 \n",
       "                                                                          Mozilla/5.0 (Windows NT 6.0; rv:16.0) Gecko/20121011 Firefox/16.0 SeaMonkey/2.13.1 \n",
       "                                                                                                                                                          47 \n",
       "                                                         Mozilla/5.0 (Windows NT 6.1) AppleWebKit/535.1 (KHTML, like Gecko) Chrome/13.0.782.218 Safari/535.1 \n",
       "                                                                                                                                                          47 \n",
       "               Mozilla/5.0 (Windows NT 6.1) AppleWebKit/537.36 (KHTML, like Gecko) Chrome/40.0.2214.115 Safari/537.36 OPR/27.0.1689.76 (Edition Campaign 47) \n",
       "                                                                                                                                                          47 \n",
       "                                                         Mozilla/5.0 (Windows NT 6.2) AppleWebKit/534.30 (KHTML, like Gecko) Chrome/12.0.742.5 Safari/534.30 \n",
       "                                                                                                                                                          47 \n",
       "                                                                                    Mozilla/5.0 (Windows NT 6.2; WOW64; rv:10.0) Gecko/20100101 Firefox/10.0 \n",
       "                                                                                                                                                          47 \n",
       "        Mozilla/5.0 (Windows NT 6.3; WOW64) AppleWebKit/537.36 (KHTML, like Gecko) Chrome/40.0.2214.111 Safari/537.36 OPR/27.0.1689.69 (Edition Campaign 51) \n",
       "                                                                                                                                                          47 \n",
       "                                          Opera/9.80 (Windows NT 6.0; U; MRA 5.7 (build 03686); MRSPUTNIK OW 2, 3, 0, 288; ru) Presto/2.10.229 Version/11.64 \n",
       "                                                                                                                                                          47 \n",
       "                                                                             Opera/9.80 (Windows NT 6.1; MRA 6.0 (build 5970)) Presto/2.12.388 Version/12.12 \n",
       "                                                                                                                                                          47 \n",
       "                                                                             Opera/9.80 (Windows NT 6.1; MRA 8.0 (build 5997)) Presto/2.12.388 Version/12.17 \n",
       "                                                                                                                                                          47 \n",
       "                                                                                  Opera/9.80 (Windows NT 6.1; U; YB/3.5.1; ru) Presto/2.10.229 Version/11.64 \n",
       "                                                                                                                                                          47 \n",
       "                                     Mozilla/5.0 (Macintosh; Intel Mac OS X 10_7_3) AppleWebKit/536.11 (KHTML, like Gecko) Chrome/20.0.1132.21 Safari/536.11 \n",
       "                                                                                                                                                          46 \n",
       "                                       Mozilla/5.0 (Macintosh; Intel Mac OS X 10_7_4) AppleWebKit/534.56.5 (KHTML, like Gecko) Version/5.1.6 Safari/534.56.5 \n",
       "                                                                                                                                                          46 \n",
       "                                        Mozilla/5.0 (Macintosh; U; Intel Mac OS X 10.5; en; rv:1.9.0.19) Gecko/2010051911 Camino/2.0.3 (like Firefox/3.0.19) \n",
       "                                                                                                                                                          46 \n",
       "                                                 Mozilla/5.0 (Windows NT 6.2; WOW64) AppleWebKit/534.54.16 (KHTML, like Gecko) Version/5.0.5 Safari/533.21.1 \n",
       "                                                                                                                                                          46 \n",
       "                                                                                    Mozilla/5.0 (Windows NT 6.2; WOW64; rv:31.0) Gecko/20100101 Firefox/31.0 \n",
       "                                                                                                                                                          46 \n",
       "                  Mozilla/5.0 (Windows; U; Windows NT 6.0; en-US; rv:1.9.2.11) Gecko/20101012 AskTbSB/3.8.0.12304 Firefox/3.6.11 GTB7.1 (.NET CLR 3.5.30729) \n",
       "                                                                                                                                                          46 \n",
       "                              Mozilla/5.0 (Windows; U; Windows NT 6.1; ru; rv:1.9.2.10) Gecko/20100914 MRA 5.6 (build 03399) Firefox/3.6.10 sputnik 2.3.0.88 \n",
       "                                                                                                                                                          46 \n",
       "                                                                Opera/9.80 (Windows NT 6.1; WOW64; U; Edition Campaign 14; ru) Presto/2.10.289 Version/12.00 \n",
       "                                                                                                                                                          46 \n",
       "                                                               Opera/9.80 (Windows NT 6.1; WOW64; U; MRA 6.3 (build 8050); ru) Presto/2.10.289 Version/12.00 \n",
       "                                                                                                                                                          46 \n",
       "                                                                           Mozilla/5.0 (Macintosh; Intel Mac OS X 10.9; rv:35.0) Gecko/20100101 Firefox/35.0 \n",
       "                                                                                                                                                          45 \n",
       "                                                       Mozilla/5.0 (Windows NT 6.0) AppleWebKit/537.36 (KHTML, like Gecko) Chrome/39.0.2171.95 Safari/537.36 \n",
       "                                                                                                                                                          45 \n",
       "                                                  Mozilla/5.0 (Windows NT 6.1; WOW64) AppleWebKit/535.1 (KHTML, like Gecko) Chrome/14.0.835.186 Safari/535.1 \n",
       "                                                                                                                                                          45 \n",
       "                                                                                   Mozilla/5.0 (Windows NT 6.1; rv:2.0b8pre) Gecko/20101013 Firefox/4.0b8pre \n",
       "                                                                                                                                                          45 \n",
       "                    Mozilla/5.0 (Windows NT 6.2; WOW64) AppleWebKit/537.36 (KHTML, like Gecko) Chrome/37.0.2062.124 YaBrowser/14.10.2062.12521 Safari/537.36 \n",
       "                                                                                                                                                          45 \n",
       "Mozilla/5.0 (Windows; U; Windows NT 6.1; en-US; Valve Steam GameOverlay/1366403468; ) AppleWebKit/535.15 (KHTML, like Gecko) Chrome/18.0.989.0 Safari/535.11 \n",
       "                                                                                                                                                          45 \n",
       "                                                                            Opera/9.80 (Windows NT 6.0; MRA 5.7 (build 03649)) Presto/2.12.388 Version/12.15 \n",
       "                                                                                                                                                          45 \n",
       "                                                                      Opera/9.80 (Windows NT 6.2; U; MRA 5.10 (build 5288); ru) Presto/2.9.168 Version/11.50 \n",
       "                                                                                                                                                          45 \n",
       "                                      Mozilla/5.0 (Windows NT 6.0) AppleWebKit/536.11 (KHTML, like Gecko) Chrome/20.0.1150.1  Iron/20.0.1150.1 Safari/536.11 \n",
       "                                                                                                                                                          44 \n",
       "                               Mozilla/5.0 (Windows NT 6.1) AppleWebKit/536.5 (KHTML, like Gecko) YaBrowser/1.0.1084.5402 Chrome/19.0.1084.5402 Safari/536.5 \n",
       "                                                                                                                                                          44 \n",
       "                                                          Mozilla/5.0 (Windows NT 6.1) AppleWebKit/537.1 (KHTML, like Gecko) Chrome/22.0.1193.0 Safari/537.1 \n",
       "                                                                                                                                                          44 \n",
       "                        Mozilla/5.0 (Windows NT 6.1) AppleWebKit/537.36 (KHTML, like Gecko) Chrome/36.0.1985.125 Safari/537.36 OPR/23.0.1522.60 (Edition Yx) \n",
       "                                                                                                                                                          44 \n",
       "                                 Mozilla/5.0 (Windows NT 6.1) AppleWebKit/537.36 (KHTML, like Gecko) Chrome/38.0.2125.122 UBrowser/4.0.3647.11 Safari/537.36 \n",
       "                                                                                                                                                          44 \n",
       "                                                                                 Mozilla/5.0 (Windows NT 6.1; WOW64; Trident/7.0; MRIE9; rv:11.0) like Gecko \n",
       "                                                                                                                                                          44 \n",
       "                                                          Mozilla/5.0 (Windows NT 6.2) AppleWebKit/537.1 (KHTML, like Gecko) Chrome/21.0.1180.0 Safari/537.1 \n",
       "                                                                                                                                                          44 \n",
       "                                                                                                                                                     (Other) \n",
       "                                                                                                                                                      109660 \n",
       "                                                                                                                                                        NA's \n",
       "                                                                                                                                                       13370 \n",
       "\n",
       "$adblock\n",
       "     0   NA's \n",
       "  2847 128299 \n",
       "\n",
       "$cpm\n",
       "   Min. 1st Qu.  Median    Mean 3rd Qu.    Max.    NA's \n",
       "   0.00    2.47   10.44   11.54   15.00  852.30   23637 \n",
       "\n",
       "$action\n",
       "  view   NA's \n",
       "  3306 127840 \n",
       "\n",
       "$k\n",
       "    529    1036    1513    2135    2732    3012       1       2       3       4 \n",
       "      2       2       2       2       2       2       1       1       1       1 \n",
       "      5       6       7       8       9      10      11      12      13      14 \n",
       "      1       1       1       1       1       1       1       1       1       1 \n",
       "     15      16      17      18      19      20      21      22      23      24 \n",
       "      1       1       1       1       1       1       1       1       1       1 \n",
       "     25      26      27      28      29      30      31      32      33      34 \n",
       "      1       1       1       1       1       1       1       1       1       1 \n",
       "     35      36      37      38      39      40      41      42      43      44 \n",
       "      1       1       1       1       1       1       1       1       1       1 \n",
       "     45      46      47      48      49      50      51      52      53      54 \n",
       "      1       1       1       1       1       1       1       1       1       1 \n",
       "     55      56      57      58      59      60      61      62      63      64 \n",
       "      1       1       1       1       1       1       1       1       1       1 \n",
       "     65      66      67      68      69      70      71      72      73      74 \n",
       "      1       1       1       1       1       1       1       1       1       1 \n",
       "     75      76      77      78      79      80      81      82      83      84 \n",
       "      1       1       1       1       1       1       1       1       1       1 \n",
       "     85      86      87      88      89      90      91      92 (Other)    NA's \n",
       "      1       1       1       1       1       1       1       1    3202  127840 \n"
      ]
     },
     "execution_count": 41,
     "metadata": {},
     "output_type": "execute_result"
    }
   ],
   "source": [
    "lapply(data, summary)"
   ]
  },
  {
   "cell_type": "markdown",
   "metadata": {
    "collapsed": true
   },
   "source": [
    "-------"
   ]
  },
  {
   "cell_type": "markdown",
   "metadata": {},
   "source": [
    "## Independent Chi-Square test"
   ]
  },
  {
   "cell_type": "markdown",
   "metadata": {},
   "source": [
    "Критерий $chi^2$ Пирсона – это непараметрический метод, который позволяет оценить значимость различий между \n",
    "* фактическим (выявленным в результате исследования) количеством исходов или качественных характеристик выборки, попадающих в каждую категорию, \n",
    "* и теоретическим количеством, которое можно ожидать в изучаемых группах при справедливости нулевой гипотезы. \n",
    "\n",
    "Выражаясь проще, метод позволяет оценить **статистическую значимость различий двух или нескольких относительных показателей** (частот, долей)."
   ]
  },
  {
   "cell_type": "markdown",
   "metadata": {},
   "source": [
    "Посмотрим, каков Хи-квадрат в действии, на переменных `flash` и `browser`. Сперва сделаем простейшую визуализацию — табличку. Получив представление о том, как объекты распределены по браузерам и наличию Flash, вызовем функцию `chisq.test`:"
   ]
  },
  {
   "cell_type": "code",
   "execution_count": 52,
   "metadata": {
    "collapsed": false,
    "scrolled": true
   },
   "outputs": [
    {
     "data": {
      "text/plain": [
       "     browser\n",
       "flash 360se amigo android chrome firefox    ie  ipad iphone mailru maxthon\n",
       "    0     0    11       0  34401   30607     0   128    140      9      45\n",
       "    1     0     0       0    170      35     0     0      0      0       0\n",
       "     browser\n",
       "flash  msie opera opera_mini opera_mobi operanew qq browser safari sougou\n",
       "    0  9166 18319          0          0     5294          0   6344      0\n",
       "    1    22    27          0          0       79          0      0      0\n",
       "     browser\n",
       "flash tencent traveler ucbrowser  uran yandex\n",
       "    0                0        79     9   2529\n",
       "    1                0         0     0     44"
      ]
     },
     "execution_count": 52,
     "metadata": {},
     "output_type": "execute_result"
    }
   ],
   "source": [
    "with(data, table(flash, browser))"
   ]
  },
  {
   "cell_type": "code",
   "execution_count": 54,
   "metadata": {
    "collapsed": false
   },
   "outputs": [
    {
     "name": "stderr",
     "output_type": "stream",
     "text": [
      "Warning message:\n",
      "In chisq.test(flash, browser): Chi-squared approximation may be incorrect"
     ]
    },
    {
     "data": {
      "text/plain": [
       "\n",
       "\tPearson's Chi-squared test\n",
       "\n",
       "data:  flash and browser\n",
       "X-squared = 446.13, df = 13, p-value < 2.2e-16\n"
      ]
     },
     "execution_count": 54,
     "metadata": {},
     "output_type": "execute_result"
    }
   ],
   "source": [
    "with(data, chisq.test(flash, browser))"
   ]
  },
  {
   "cell_type": "markdown",
   "metadata": {},
   "source": [
    "> `p-value < 2.2e-16`\n",
    "\n",
    "говорит о том, что связь между браузером и наличием Flash статистически значима — иными словами, существуют (статистически значимые!) различия между указанными переменными."
   ]
  },
  {
   "cell_type": "code",
   "execution_count": 56,
   "metadata": {
    "collapsed": false
   },
   "outputs": [
    {
     "data": {
      "text/plain": [
       "      browser\n",
       "is.bot 360se amigo android chrome firefox    ie  ipad iphone mailru maxthon\n",
       "     0     0   361     348   3022     650     0   444   1557     43       0\n",
       "     1    40    18       0  38784   34409  1368   128    140     25     218\n",
       "      browser\n",
       "is.bot  msie opera opera_mini opera_mobi operanew qq browser safari sougou\n",
       "     0   486    14          1         12      756          0     43      0\n",
       "     1  9307 19896          0          0     5521          7   7342     11\n",
       "      browser\n",
       "is.bot tencent traveler ucbrowser  uran yandex\n",
       "     0                0        12    23   3251\n",
       "     1                2        79    13   2642"
      ]
     },
     "execution_count": 56,
     "metadata": {},
     "output_type": "execute_result"
    },
    {
     "name": "stderr",
     "output_type": "stream",
     "text": [
      "Warning message:\n",
      "In chisq.test(is.bot, browser): Chi-squared approximation may be incorrect"
     ]
    },
    {
     "data": {
      "text/plain": [
       "\n",
       "\tPearson's Chi-squared test\n",
       "\n",
       "data:  is.bot and browser\n",
       "X-squared = 48434, df = 21, p-value < 2.2e-16\n"
      ]
     },
     "execution_count": 56,
     "metadata": {},
     "output_type": "execute_result"
    }
   ],
   "source": [
    "with(data, table(is.bot, browser))\n",
    "with(data, chisq.test(is.bot, browser))"
   ]
  },
  {
   "cell_type": "code",
   "execution_count": 57,
   "metadata": {
    "collapsed": false
   },
   "outputs": [
    {
     "data": {
      "text/plain": [
       "      format\n",
       "is.bot   bn1   bn2  bn20  bn22   bn3   bn4   bn5   bn6   bn7   cu1  vb50\n",
       "     0     0     0     0  3886     0     0     0     0     0  7137     0\n",
       "     1 59020 20181   122     0 24454 12285   909    92   716  2315    29"
      ]
     },
     "execution_count": 57,
     "metadata": {},
     "output_type": "execute_result"
    },
    {
     "name": "stderr",
     "output_type": "stream",
     "text": [
      "Warning message:\n",
      "In chisq.test(is.bot, format): Chi-squared approximation may be incorrect"
     ]
    },
    {
     "data": {
      "text/plain": [
       "\n",
       "\tPearson's Chi-squared test\n",
       "\n",
       "data:  is.bot and format\n",
       "X-squared = 108440, df = 10, p-value < 2.2e-16\n"
      ]
     },
     "execution_count": 57,
     "metadata": {},
     "output_type": "execute_result"
    }
   ],
   "source": [
    "with(data, table(is.bot, format))\n",
    "with(data, chisq.test(is.bot, format))"
   ]
  },
  {
   "cell_type": "code",
   "execution_count": 58,
   "metadata": {
    "collapsed": false
   },
   "outputs": [
    {
     "data": {
      "text/plain": [
       "      country\n",
       "is.bot    A1    AE    AL    AM    AR    AT    AU    AZ    BA    BD    BE    BG\n",
       "     0     0     0     0     4     1     0     0     1     0     0     0     0\n",
       "     1     7     2    10   551     6     6     8   426     3     5    28   173\n",
       "      country\n",
       "is.bot    BN    BR    BY    CA    CH    CL    CN    CU    CY    CZ    DE    DK\n",
       "     0     0     0    10     1     0     0     0     1     3    27    32     0\n",
       "     1     4    59  3019    30     7    11    46     0    20   176   296     1\n",
       "      country\n",
       "is.bot    DO    DZ    EC    EE    EG    ES    EU    FI    FR    GB    GE    GR\n",
       "     0     0     1     0     2     0     0     7     0     5     0     0     0\n",
       "     1     9     1     9   371     1   105     4    21    82   132   256    51\n",
       "      country\n",
       "is.bot    GT    HK    HR    HU    ID    IE    IL    IN    IQ    IR    IS    IT\n",
       "     0     0     0     0     1     0     0     0     0     0     0     0     1\n",
       "     1     3    17     7    27     8   161   449    31     8    23     9   118\n",
       "      country\n",
       "is.bot    JM    JP    KG    KR    KZ    LT    LU    LV    MD    MN    MX    NL\n",
       "     0     0     0    10     0    11     0     0     0    37     6     0     3\n",
       "     1     3    21   401    51  1512   237    10   373  1401     2     5    41\n",
       "      country\n",
       "is.bot    NO    NZ    OM    PH    PL    PT    PY    RO    RS    RU    SA    SE\n",
       "     0     2     0     0     0     0     0     0     7     1 10669     0     0\n",
       "     1     0     2     4     3    92    33    13    21    32 85900    19    16\n",
       "      country\n",
       "is.bot    SG    SI    SK    TH    TJ    TM    TN    TR    TW    UA    US    UY\n",
       "     0     0     0     5     0     0     0     0     0     0   172     2     0\n",
       "     1     7    12     5    45    56     4     2    27    23 18527  3871    11\n",
       "      country\n",
       "is.bot    UZ    VE    VN    XX    ZA\n",
       "     0     1     0     0     0     0\n",
       "     1   260    20    87   173     4"
      ]
     },
     "execution_count": 58,
     "metadata": {},
     "output_type": "execute_result"
    },
    {
     "name": "stderr",
     "output_type": "stream",
     "text": [
      "Warning message:\n",
      "In chisq.test(is.bot, country): Chi-squared approximation may be incorrect"
     ]
    },
    {
     "data": {
      "text/plain": [
       "\n",
       "\tPearson's Chi-squared test\n",
       "\n",
       "data:  is.bot and country\n",
       "X-squared = 3633.2, df = 88, p-value < 2.2e-16\n"
      ]
     },
     "execution_count": 58,
     "metadata": {},
     "output_type": "execute_result"
    }
   ],
   "source": [
    "with(data, table(is.bot, country))\n",
    "with(data, chisq.test(is.bot, country))"
   ]
  },
  {
   "cell_type": "code",
   "execution_count": 59,
   "metadata": {
    "collapsed": false
   },
   "outputs": [
    {
     "data": {
      "text/plain": [
       "      browser.lang\n",
       "is.bot    [{ [{\"type\":\"m\"    en    es    ru    uk\n",
       "     0     0            0    43     1  7077    14\n",
       "     1   811        12876    18     0 96117     0"
      ]
     },
     "execution_count": 59,
     "metadata": {},
     "output_type": "execute_result"
    },
    {
     "name": "stderr",
     "output_type": "stream",
     "text": [
      "Warning message:\n",
      "In chisq.test(is.bot, browser.lang): Chi-squared approximation may be incorrect"
     ]
    },
    {
     "data": {
      "text/plain": [
       "\n",
       "\tPearson's Chi-squared test\n",
       "\n",
       "data:  is.bot and browser.lang\n",
       "X-squared = 1665, df = 5, p-value < 2.2e-16\n"
      ]
     },
     "execution_count": 59,
     "metadata": {},
     "output_type": "execute_result"
    }
   ],
   "source": [
    "with(data, table(is.bot, browser.lang))\n",
    "with(data, chisq.test(is.bot, browser.lang))"
   ]
  },
  {
   "cell_type": "code",
   "execution_count": null,
   "metadata": {
    "collapsed": true
   },
   "outputs": [],
   "source": [
    "\n"
   ]
  }
 ],
 "metadata": {
  "kernelspec": {
   "display_name": "R",
   "language": "R",
   "name": "ir"
  },
  "language_info": {
   "codemirror_mode": "r",
   "file_extension": ".r",
   "mimetype": "text/x-r-source",
   "name": "R",
   "pygments_lexer": "r",
   "version": "3.2.4"
  }
 },
 "nbformat": 4,
 "nbformat_minor": 0
}
