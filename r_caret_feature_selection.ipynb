{
 "cells": [
  {
   "cell_type": "markdown",
   "metadata": {},
   "source": [
    "# Feature selection in R\n",
    "\n",
    "Variable and feature selection have become the focus of much research in areas of application for which datasets with tens or hundreds of thousands of variables are available. These areas include text processing of internet documents, gene expression array analysis, and combinatorial chemistry.\n",
    "\n",
    "When you have dataset with thousands to millions of low level features, your main goal is to select the most relevant model to build better, faster, and easier to understand learning machines.\n",
    "\n",
    "In this notebook we will use the `caret` R package. The `caret` package (short for Classification And REgression Training) is a set of functions that attempt to streamline the process for creating predictive models. The package contains tools for feature selection, data pre-processing, splitting, estimating the output, choosing the best model... And while there are many other implementations of different models, `caret` is one of the best.\n",
    "\n",
    "The `caret` package is so popular because it provides uniform interface for setting the parameters, model training and prediction Read the [detailed documentation](http://topepo.github.io/caret/index.html) for more information. \n",
    "\n",
    "As for now, let's begin selecting features with R.\n",
    "\n",
    "-------------------\n",
    "\n",
    "Load the `caret` package and `mlbench`. This `mblench` package contains a collection of real-world and artificial machine learning benchmark problems. E.g.: datasets  from the UCI repository; functions for creating artificial datasets."
   ]
  },
  {
   "cell_type": "code",
   "execution_count": 152,
   "metadata": {
    "collapsed": true
   },
   "outputs": [],
   "source": [
    "library(caret)\n",
    "library(mlbench)"
   ]
  },
  {
   "cell_type": "markdown",
   "metadata": {},
   "source": [
    "We will work with the `Soybean` dataset. It is a data frame with 683 observations on 36 variables. There are 35 categorical attributes, all numerical and a nominal denoting the class."
   ]
  },
  {
   "cell_type": "code",
   "execution_count": 153,
   "metadata": {
    "collapsed": false
   },
   "outputs": [
    {
     "data": {
      "text/html": [
       "<table>\n",
       "<thead><tr><th></th><th scope=col>date</th><th scope=col>plant.stand</th><th scope=col>precip</th><th scope=col>temp</th><th scope=col>hail</th><th scope=col>crop.hist</th><th scope=col>area.dam</th><th scope=col>sever</th><th scope=col>seed.tmt</th><th scope=col>germ</th><th scope=col>ellip.h</th><th scope=col>int.discolor</th><th scope=col>sclerotia</th><th scope=col>fruit.pods</th><th scope=col>fruit.spots</th><th scope=col>seed</th><th scope=col>mold.growth</th><th scope=col>seed.discolor</th><th scope=col>seed.size</th><th scope=col>shriveling</th><th scope=col>roots</th></tr></thead>\n",
       "<tbody>\n",
       "\t<tr><th scope=row>1</th><td>6</td><td>0</td><td>2</td><td>1</td><td>0</td><td>1</td><td>1</td><td>1</td><td>0</td><td>0</td><td><e2><8b><af></td><td>0</td><td>0</td><td>0</td><td>4</td><td>0</td><td>0</td><td>0</td><td>0</td><td>0</td><td>0</td></tr>\n",
       "\t<tr><th scope=row>2</th><td>4</td><td>0</td><td>2</td><td>1</td><td>0</td><td>2</td><td>0</td><td>2</td><td>1</td><td>1</td><td><e2><8b><af></td><td>0</td><td>0</td><td>0</td><td>4</td><td>0</td><td>0</td><td>0</td><td>0</td><td>0</td><td>0</td></tr>\n",
       "\t<tr><th scope=row>3</th><td>3</td><td>0</td><td>2</td><td>1</td><td>0</td><td>1</td><td>0</td><td>2</td><td>1</td><td>2</td><td><e2><8b><af></td><td>0</td><td>0</td><td>0</td><td>4</td><td>0</td><td>0</td><td>0</td><td>0</td><td>0</td><td>0</td></tr>\n",
       "\t<tr><th scope=row>4</th><td>3</td><td>0</td><td>2</td><td>1</td><td>0</td><td>1</td><td>0</td><td>2</td><td>0</td><td>1</td><td><e2><8b><af></td><td>0</td><td>0</td><td>0</td><td>4</td><td>0</td><td>0</td><td>0</td><td>0</td><td>0</td><td>0</td></tr>\n",
       "\t<tr><th scope=row>5</th><td>6</td><td>0</td><td>2</td><td>1</td><td>0</td><td>2</td><td>0</td><td>1</td><td>0</td><td>2</td><td><e2><8b><af></td><td>0</td><td>0</td><td>0</td><td>4</td><td>0</td><td>0</td><td>0</td><td>0</td><td>0</td><td>0</td></tr>\n",
       "\t<tr><th scope=row>6</th><td>5</td><td>0</td><td>2</td><td>1</td><td>0</td><td>3</td><td>0</td><td>1</td><td>0</td><td>1</td><td><e2><8b><af></td><td>0</td><td>0</td><td>0</td><td>4</td><td>0</td><td>0</td><td>0</td><td>0</td><td>0</td><td>0</td></tr>\n",
       "</tbody>\n",
       "</table>\n"
      ],
      "text/latex": [
       "\\begin{tabular}{r|lllllllllllllllllllllllllllllllllll}\n",
       "  & date & plant.stand & precip & temp & hail & crop.hist & area.dam & sever & seed.tmt & germ & ellip.h & int.discolor & sclerotia & fruit.pods & fruit.spots & seed & mold.growth & seed.discolor & seed.size & shriveling & roots\\\\\n",
       "\\hline\n",
       "\t1 & 6 & 0 & 2 & 1 & 0 & 1 & 1 & 1 & 0 & 0 & <e2><8b><af> & 0 & 0 & 0 & 4 & 0 & 0 & 0 & 0 & 0 & 0\\\\\n",
       "\t2 & 4 & 0 & 2 & 1 & 0 & 2 & 0 & 2 & 1 & 1 & <e2><8b><af> & 0 & 0 & 0 & 4 & 0 & 0 & 0 & 0 & 0 & 0\\\\\n",
       "\t3 & 3 & 0 & 2 & 1 & 0 & 1 & 0 & 2 & 1 & 2 & <e2><8b><af> & 0 & 0 & 0 & 4 & 0 & 0 & 0 & 0 & 0 & 0\\\\\n",
       "\t4 & 3 & 0 & 2 & 1 & 0 & 1 & 0 & 2 & 0 & 1 & <e2><8b><af> & 0 & 0 & 0 & 4 & 0 & 0 & 0 & 0 & 0 & 0\\\\\n",
       "\t5 & 6 & 0 & 2 & 1 & 0 & 2 & 0 & 1 & 0 & 2 & <e2><8b><af> & 0 & 0 & 0 & 4 & 0 & 0 & 0 & 0 & 0 & 0\\\\\n",
       "\t6 & 5 & 0 & 2 & 1 & 0 & 3 & 0 & 1 & 0 & 1 & <e2><8b><af> & 0 & 0 & 0 & 4 & 0 & 0 & 0 & 0 & 0 & 0\\\\\n",
       "\\end{tabular}\n"
      ],
      "text/plain": [
       "  date plant.stand precip temp hail crop.hist area.dam sever seed.tmt germ\n",
       "1    6           0      2    1    0         1        1     1        0    0\n",
       "2    4           0      2    1    0         2        0     2        1    1\n",
       "3    3           0      2    1    0         1        0     2        1    2\n",
       "4    3           0      2    1    0         1        0     2        0    1\n",
       "5    6           0      2    1    0         2        0     1        0    2\n",
       "6    5           0      2    1    0         3        0     1        0    1\n",
       "  plant.growth leaves leaf.halo leaf.marg leaf.size leaf.shread leaf.malf\n",
       "1            1      1         0         2         2           0         0\n",
       "2            1      1         0         2         2           0         0\n",
       "3            1      1         0         2         2           0         0\n",
       "4            1      1         0         2         2           0         0\n",
       "5            1      1         0         2         2           0         0\n",
       "6            1      1         0         2         2           0         0\n",
       "  leaf.mild stem lodging stem.cankers canker.lesion fruiting.bodies ext.decay\n",
       "1         0    1       1            3             1               1         1\n",
       "2         0    1       0            3             1               1         1\n",
       "3         0    1       0            3             0               1         1\n",
       "4         0    1       0            3             0               1         1\n",
       "5         0    1       0            3             1               1         1\n",
       "6         0    1       0            3             0               1         1\n",
       "  mycelium int.discolor sclerotia fruit.pods fruit.spots seed mold.growth\n",
       "1        0            0         0          0           4    0           0\n",
       "2        0            0         0          0           4    0           0\n",
       "3        0            0         0          0           4    0           0\n",
       "4        0            0         0          0           4    0           0\n",
       "5        0            0         0          0           4    0           0\n",
       "6        0            0         0          0           4    0           0\n",
       "  seed.discolor seed.size shriveling roots\n",
       "1             0         0          0     0\n",
       "2             0         0          0     0\n",
       "3             0         0          0     0\n",
       "4             0         0          0     0\n",
       "5             0         0          0     0\n",
       "6             0         0          0     0"
      ]
     },
     "execution_count": 153,
     "metadata": {},
     "output_type": "execute_result"
    },
    {
     "data": {
      "text/html": [
       "<ol class=list-inline>\n",
       "\t<li>diaporthe-stem-canker</li>\n",
       "\t<li>charcoal-rot</li>\n",
       "\t<li>rhizoctonia-root-rot</li>\n",
       "\t<li>phytophthora-rot</li>\n",
       "\t<li>brown-stem-rot</li>\n",
       "\t<li>powdery-mildew</li>\n",
       "\t<li>downy-mildew</li>\n",
       "\t<li>brown-spot</li>\n",
       "\t<li>bacterial-blight</li>\n",
       "\t<li>bacterial-pustule</li>\n",
       "\t<li>purple-seed-stain</li>\n",
       "\t<li>anthracnose</li>\n",
       "\t<li>phyllosticta-leaf-spot</li>\n",
       "\t<li>alternarialeaf-spot</li>\n",
       "\t<li>frog-eye-leaf-spot</li>\n",
       "\t<li>diaporthe-pod-&-stem-blight</li>\n",
       "\t<li>cyst-nematode</li>\n",
       "\t<li>2-4-d-injury</li>\n",
       "\t<li>herbicide-injury</li>\n",
       "</ol>\n"
      ],
      "text/latex": [
       "\\begin{enumerate*}\n",
       "\\item diaporthe-stem-canker\n",
       "\\item charcoal-rot\n",
       "\\item rhizoctonia-root-rot\n",
       "\\item phytophthora-rot\n",
       "\\item brown-stem-rot\n",
       "\\item powdery-mildew\n",
       "\\item downy-mildew\n",
       "\\item brown-spot\n",
       "\\item bacterial-blight\n",
       "\\item bacterial-pustule\n",
       "\\item purple-seed-stain\n",
       "\\item anthracnose\n",
       "\\item phyllosticta-leaf-spot\n",
       "\\item alternarialeaf-spot\n",
       "\\item frog-eye-leaf-spot\n",
       "\\item diaporthe-pod-&-stem-blight\n",
       "\\item cyst-nematode\n",
       "\\item 2-4-d-injury\n",
       "\\item herbicide-injury\n",
       "\\end{enumerate*}\n"
      ],
      "text/markdown": [
       "1. diaporthe-stem-canker\n",
       "2. charcoal-rot\n",
       "3. rhizoctonia-root-rot\n",
       "4. phytophthora-rot\n",
       "5. brown-stem-rot\n",
       "6. powdery-mildew\n",
       "7. downy-mildew\n",
       "8. brown-spot\n",
       "9. bacterial-blight\n",
       "10. bacterial-pustule\n",
       "11. purple-seed-stain\n",
       "12. anthracnose\n",
       "13. phyllosticta-leaf-spot\n",
       "14. alternarialeaf-spot\n",
       "15. frog-eye-leaf-spot\n",
       "16. diaporthe-pod-&-stem-blight\n",
       "17. cyst-nematode\n",
       "18. 2-4-d-injury\n",
       "19. herbicide-injury\n",
       "\n",
       "\n"
      ],
      "text/plain": [
       " [1] diaporthe-stem-canker       charcoal-rot               \n",
       " [3] rhizoctonia-root-rot        phytophthora-rot           \n",
       " [5] brown-stem-rot              powdery-mildew             \n",
       " [7] downy-mildew                brown-spot                 \n",
       " [9] bacterial-blight            bacterial-pustule          \n",
       "[11] purple-seed-stain           anthracnose                \n",
       "[13] phyllosticta-leaf-spot      alternarialeaf-spot        \n",
       "[15] frog-eye-leaf-spot          diaporthe-pod-&-stem-blight\n",
       "[17] cyst-nematode               2-4-d-injury               \n",
       "[19] herbicide-injury           \n",
       "19 Levels: 2-4-d-injury alternarialeaf-spot anthracnose ... rhizoctonia-root-rot"
      ]
     },
     "execution_count": 153,
     "metadata": {},
     "output_type": "execute_result"
    },
    {
     "data": {
      "text/html": [
       "'Class'"
      ],
      "text/latex": [
       "'Class'"
      ],
      "text/markdown": [
       "'Class'"
      ],
      "text/plain": [
       "[1] \"Class\""
      ]
     },
     "execution_count": 153,
     "metadata": {},
     "output_type": "execute_result"
    }
   ],
   "source": [
    "data(Soybean)\n",
    "\n",
    "# Let's look at the variables...\n",
    "head(Soybean[,-1])\n",
    "# head(summary(Soybean[, -1]))\n",
    "\n",
    "# ...and at the target.\n",
    "unique(Soybean[, 1])\n",
    "colnames(Soybean)[1]"
   ]
  },
  {
   "cell_type": "markdown",
   "metadata": {},
   "source": [
    "We'll also work with `PimaIndiansDiabetes` – a data frame with 768 observations on 9 variables. Note: The data set `PimaIndiansDiabetes2` contains a corrected version of the original data set."
   ]
  },
  {
   "cell_type": "code",
   "execution_count": 154,
   "metadata": {
    "collapsed": false
   },
   "outputs": [
    {
     "data": {
      "text/html": [
       "<table>\n",
       "<thead><tr><th></th><th scope=col>pregnant</th><th scope=col>glucose</th><th scope=col>pressure</th><th scope=col>triceps</th><th scope=col>insulin</th><th scope=col>mass</th><th scope=col>pedigree</th><th scope=col>age</th><th scope=col>diabetes</th></tr></thead>\n",
       "<tbody>\n",
       "\t<tr><th scope=row>1</th><td>6</td><td>148</td><td>72</td><td>35</td><td>0</td><td>33.6</td><td>0.627</td><td>50</td><td>pos</td></tr>\n",
       "\t<tr><th scope=row>2</th><td>1</td><td>85</td><td>66</td><td>29</td><td>0</td><td>26.6</td><td>0.351</td><td>31</td><td>neg</td></tr>\n",
       "\t<tr><th scope=row>3</th><td>8</td><td>183</td><td>64</td><td>0</td><td>0</td><td>23.3</td><td>0.672</td><td>32</td><td>pos</td></tr>\n",
       "\t<tr><th scope=row>4</th><td>1</td><td>89</td><td>66</td><td>23</td><td>94</td><td>28.1</td><td>0.167</td><td>21</td><td>neg</td></tr>\n",
       "\t<tr><th scope=row>5</th><td>0</td><td>137</td><td>40</td><td>35</td><td>168</td><td>43.1</td><td>2.288</td><td>33</td><td>pos</td></tr>\n",
       "\t<tr><th scope=row>6</th><td>5</td><td>116</td><td>74</td><td>0</td><td>0</td><td>25.6</td><td>0.201</td><td>30</td><td>neg</td></tr>\n",
       "</tbody>\n",
       "</table>\n"
      ],
      "text/latex": [
       "\\begin{tabular}{r|lllllllll}\n",
       "  & pregnant & glucose & pressure & triceps & insulin & mass & pedigree & age & diabetes\\\\\n",
       "\\hline\n",
       "\t1 & 6 & 148 & 72 & 35 & 0 & 33.6 & 0.627 & 50 & pos\\\\\n",
       "\t2 & 1 & 85 & 66 & 29 & 0 & 26.6 & 0.351 & 31 & neg\\\\\n",
       "\t3 & 8 & 183 & 64 & 0 & 0 & 23.3 & 0.672 & 32 & pos\\\\\n",
       "\t4 & 1 & 89 & 66 & 23 & 94 & 28.1 & 0.167 & 21 & neg\\\\\n",
       "\t5 & 0 & 137 & 40 & 35 & 168 & 43.1 & 2.288 & 33 & pos\\\\\n",
       "\t6 & 5 & 116 & 74 & 0 & 0 & 25.6 & 0.201 & 30 & neg\\\\\n",
       "\\end{tabular}\n"
      ],
      "text/plain": [
       "  pregnant glucose pressure triceps insulin mass pedigree age diabetes\n",
       "1        6     148       72      35       0 33.6    0.627  50      pos\n",
       "2        1      85       66      29       0 26.6    0.351  31      neg\n",
       "3        8     183       64       0       0 23.3    0.672  32      pos\n",
       "4        1      89       66      23      94 28.1    0.167  21      neg\n",
       "5        0     137       40      35     168 43.1    2.288  33      pos\n",
       "6        5     116       74       0       0 25.6    0.201  30      neg"
      ]
     },
     "execution_count": 154,
     "metadata": {},
     "output_type": "execute_result"
    },
    {
     "data": {
      "text/html": [
       "<ol class=list-inline>\n",
       "\t<li>768</li>\n",
       "\t<li>9</li>\n",
       "</ol>\n"
      ],
      "text/latex": [
       "\\begin{enumerate*}\n",
       "\\item 768\n",
       "\\item 9\n",
       "\\end{enumerate*}\n"
      ],
      "text/markdown": [
       "1. 768\n",
       "2. 9\n",
       "\n",
       "\n"
      ],
      "text/plain": [
       "[1] 768   9"
      ]
     },
     "execution_count": 154,
     "metadata": {},
     "output_type": "execute_result"
    },
    {
     "data": {
      "text/plain": [
       "    pregnant         glucose         pressure         triceps     \n",
       " Min.   : 0.000   Min.   :  0.0   Min.   :  0.00   Min.   : 0.00  \n",
       " 1st Qu.: 1.000   1st Qu.: 99.0   1st Qu.: 62.00   1st Qu.: 0.00  \n",
       " Median : 3.000   Median :117.0   Median : 72.00   Median :23.00  \n",
       " Mean   : 3.845   Mean   :120.9   Mean   : 69.11   Mean   :20.54  \n",
       " 3rd Qu.: 6.000   3rd Qu.:140.2   3rd Qu.: 80.00   3rd Qu.:32.00  \n",
       " Max.   :17.000   Max.   :199.0   Max.   :122.00   Max.   :99.00  \n",
       "    insulin           mass          pedigree           age        diabetes \n",
       " Min.   :  0.0   Min.   : 0.00   Min.   :0.0780   Min.   :21.00   neg:500  \n",
       " 1st Qu.:  0.0   1st Qu.:27.30   1st Qu.:0.2437   1st Qu.:24.00   pos:268  \n",
       " Median : 30.5   Median :32.00   Median :0.3725   Median :29.00            \n",
       " Mean   : 79.8   Mean   :31.99   Mean   :0.4719   Mean   :33.24            \n",
       " 3rd Qu.:127.2   3rd Qu.:36.60   3rd Qu.:0.6262   3rd Qu.:41.00            \n",
       " Max.   :846.0   Max.   :67.10   Max.   :2.4200   Max.   :81.00            "
      ]
     },
     "execution_count": 154,
     "metadata": {},
     "output_type": "execute_result"
    }
   ],
   "source": [
    "data(PimaIndiansDiabetes)\n",
    "head(PimaIndiansDiabetes)\n",
    "dim(PimaIndiansDiabetes)\n",
    "summary(PimaIndiansDiabetes)"
   ]
  },
  {
   "cell_type": "code",
   "execution_count": 155,
   "metadata": {
    "collapsed": false
   },
   "outputs": [
    {
     "data": {
      "text/plain": [
       "    pregnant         glucose         pressure         triceps     \n",
       " Min.   : 0.000   Min.   : 44.0   Min.   : 24.00   Min.   : 7.00  \n",
       " 1st Qu.: 1.000   1st Qu.: 99.0   1st Qu.: 64.00   1st Qu.:22.00  \n",
       " Median : 3.000   Median :117.0   Median : 72.00   Median :29.00  \n",
       " Mean   : 3.845   Mean   :121.7   Mean   : 72.41   Mean   :29.15  \n",
       " 3rd Qu.: 6.000   3rd Qu.:141.0   3rd Qu.: 80.00   3rd Qu.:36.00  \n",
       " Max.   :17.000   Max.   :199.0   Max.   :122.00   Max.   :99.00  \n",
       "                  NA's   :5       NA's   :35       NA's   :227    \n",
       "    insulin            mass          pedigree           age        diabetes \n",
       " Min.   : 14.00   Min.   :18.20   Min.   :0.0780   Min.   :21.00   neg:500  \n",
       " 1st Qu.: 76.25   1st Qu.:27.50   1st Qu.:0.2437   1st Qu.:24.00   pos:268  \n",
       " Median :125.00   Median :32.30   Median :0.3725   Median :29.00            \n",
       " Mean   :155.55   Mean   :32.46   Mean   :0.4719   Mean   :33.24            \n",
       " 3rd Qu.:190.00   3rd Qu.:36.60   3rd Qu.:0.6262   3rd Qu.:41.00            \n",
       " Max.   :846.00   Max.   :67.10   Max.   :2.4200   Max.   :81.00            \n",
       " NA's   :374      NA's   :11                                                "
      ]
     },
     "execution_count": 155,
     "metadata": {},
     "output_type": "execute_result"
    }
   ],
   "source": [
    "data(PimaIndiansDiabetes2)\n",
    "summary(PimaIndiansDiabetes2)"
   ]
  },
  {
   "cell_type": "markdown",
   "metadata": {},
   "source": [
    "## Determine highly correlated variables"
   ]
  },
  {
   "cell_type": "markdown",
   "metadata": {
    "collapsed": false
   },
   "source": [
    "Oh, by the way, if you know how Lasso regression works, you already know at least one feature selection algorithm. Just in case – a quick reminder: if there are strongly correlated variables in your dataset, results of regression can be unexpected, false, even bizarre. In particularly, these correlated variables will get huge weights. Lasso (L1) regression sets one in a pair of such weights equal to 0."
   ]
  },
  {
   "cell_type": "markdown",
   "metadata": {},
   "source": [
    "To remove duplicates or highly correlled attributes we will use `findCorrelation` method from the `caret` dataset. This function returns a list of "
   ]
  },
  {
   "cell_type": "code",
   "execution_count": 156,
   "metadata": {
    "collapsed": false,
    "scrolled": false
   },
   "outputs": [
    {
     "data": {
      "text/html": [
       "<table>\n",
       "<thead><tr><th></th><th scope=col>pregnant</th><th scope=col>glucose</th><th scope=col>pressure</th><th scope=col>triceps</th><th scope=col>insulin</th><th scope=col>mass</th><th scope=col>pedigree</th><th scope=col>age</th></tr></thead>\n",
       "<tbody>\n",
       "\t<tr><th scope=row>pregnant</th><td> 1.00000000</td><td> 0.12945867</td><td> 0.14128198</td><td>-0.08167177</td><td>-0.07353461</td><td> 0.01768309</td><td>-0.03352267</td><td> 0.54434123</td></tr>\n",
       "\t<tr><th scope=row>glucose</th><td>0.12945867</td><td>1.00000000</td><td>0.15258959</td><td>0.05732789</td><td>0.33135711</td><td>0.22107107</td><td>0.13733730</td><td>0.26351432</td></tr>\n",
       "\t<tr><th scope=row>pressure</th><td>0.14128198</td><td>0.15258959</td><td>1.00000000</td><td>0.20737054</td><td>0.08893338</td><td>0.28180529</td><td>0.04126495</td><td>0.23952795</td></tr>\n",
       "\t<tr><th scope=row>triceps</th><td>-0.08167177</td><td> 0.05732789</td><td> 0.20737054</td><td> 1.00000000</td><td> 0.43678257</td><td> 0.39257320</td><td> 0.18392757</td><td>-0.11397026</td></tr>\n",
       "\t<tr><th scope=row>insulin</th><td>-0.07353461</td><td> 0.33135711</td><td> 0.08893338</td><td> 0.43678257</td><td> 1.00000000</td><td> 0.19785906</td><td> 0.18507093</td><td>-0.04216295</td></tr>\n",
       "\t<tr><th scope=row>mass</th><td>0.01768309</td><td>0.22107107</td><td>0.28180529</td><td>0.39257320</td><td>0.19785906</td><td>1.00000000</td><td>0.14064695</td><td>0.03624187</td></tr>\n",
       "\t<tr><th scope=row>pedigree</th><td>-0.03352267</td><td> 0.13733730</td><td> 0.04126495</td><td> 0.18392757</td><td> 0.18507093</td><td> 0.14064695</td><td> 1.00000000</td><td> 0.03356131</td></tr>\n",
       "\t<tr><th scope=row>age</th><td> 0.54434123</td><td> 0.26351432</td><td> 0.23952795</td><td>-0.11397026</td><td>-0.04216295</td><td> 0.03624187</td><td> 0.03356131</td><td> 1.00000000</td></tr>\n",
       "</tbody>\n",
       "</table>\n"
      ],
      "text/latex": [
       "\\begin{tabular}{r|llllllll}\n",
       "  & pregnant & glucose & pressure & triceps & insulin & mass & pedigree & age\\\\\n",
       "\\hline\n",
       "\tpregnant &  1.00000000 &  0.12945867 &  0.14128198 & -0.08167177 & -0.07353461 &  0.01768309 & -0.03352267 &  0.54434123\\\\\n",
       "\tglucose & 0.12945867 & 1.00000000 & 0.15258959 & 0.05732789 & 0.33135711 & 0.22107107 & 0.13733730 & 0.26351432\\\\\n",
       "\tpressure & 0.14128198 & 0.15258959 & 1.00000000 & 0.20737054 & 0.08893338 & 0.28180529 & 0.04126495 & 0.23952795\\\\\n",
       "\ttriceps & -0.08167177 &  0.05732789 &  0.20737054 &  1.00000000 &  0.43678257 &  0.39257320 &  0.18392757 & -0.11397026\\\\\n",
       "\tinsulin & -0.07353461 &  0.33135711 &  0.08893338 &  0.43678257 &  1.00000000 &  0.19785906 &  0.18507093 & -0.04216295\\\\\n",
       "\tmass & 0.01768309 & 0.22107107 & 0.28180529 & 0.39257320 & 0.19785906 & 1.00000000 & 0.14064695 & 0.03624187\\\\\n",
       "\tpedigree & -0.03352267 &  0.13733730 &  0.04126495 &  0.18392757 &  0.18507093 &  0.14064695 &  1.00000000 &  0.03356131\\\\\n",
       "\tage &  0.54434123 &  0.26351432 &  0.23952795 & -0.11397026 & -0.04216295 &  0.03624187 &  0.03356131 &  1.00000000\\\\\n",
       "\\end{tabular}\n"
      ],
      "text/markdown": [
       "1. 1\n",
       "2. 0.129458671499272\n",
       "3. 0.14128197740714\n",
       "4. -0.0816717744490072\n",
       "5. -0.0735346143516281\n",
       "6. 0.0176830907278306\n",
       "7. -0.0335226729626131\n",
       "8. 0.544341228402339\n",
       "9. 0.129458671499272\n",
       "10. 1\n",
       "11. 0.152589586568665\n",
       "12. 0.057327890738177\n",
       "13. 0.331357109920209\n",
       "14. 0.221071069458983\n",
       "15. 0.137337299828371\n",
       "16. 0.263514319824333\n",
       "17. 0.14128197740714\n",
       "18. 0.152589586568665\n",
       "19. 1\n",
       "20. 0.207370538403071\n",
       "21. 0.088933378373193\n",
       "22. 0.281805288849911\n",
       "23. 0.0412649479300986\n",
       "24. 0.239527946421364\n",
       "25. -0.0816717744490072\n",
       "26. 0.057327890738177\n",
       "27. 0.207370538403071\n",
       "28. 1\n",
       "29. 0.436782570120013\n",
       "30. 0.392573204159038\n",
       "31. 0.183927572954163\n",
       "32. -0.113970262367742\n",
       "33. -0.0735346143516281\n",
       "34. 0.331357109920209\n",
       "35. 0.088933378373193\n",
       "36. 0.436782570120013\n",
       "37. 1\n",
       "38. 0.197859056493101\n",
       "39. 0.185070929168099\n",
       "40. -0.0421629547353769\n",
       "41. 0.0176830907278306\n",
       "42. 0.221071069458983\n",
       "43. 0.281805288849911\n",
       "44. 0.392573204159038\n",
       "45. 0.197859056493101\n",
       "46. 1\n",
       "47. 0.140646952545105\n",
       "48. 0.0362418700922941\n",
       "49. -0.0335226729626131\n",
       "50. 0.137337299828371\n",
       "51. 0.0412649479300986\n",
       "52. 0.183927572954163\n",
       "53. 0.185070929168099\n",
       "54. 0.140646952545105\n",
       "55. 1\n",
       "56. 0.0335613124348055\n",
       "57. 0.544341228402339\n",
       "58. 0.263514319824333\n",
       "59. 0.239527946421364\n",
       "60. -0.113970262367742\n",
       "61. -0.0421629547353769\n",
       "62. 0.0362418700922941\n",
       "63. 0.0335613124348055\n",
       "64. 1\n",
       "\n",
       "\n"
      ],
      "text/plain": [
       "            pregnant    glucose   pressure     triceps     insulin       mass\n",
       "pregnant  1.00000000 0.12945867 0.14128198 -0.08167177 -0.07353461 0.01768309\n",
       "glucose   0.12945867 1.00000000 0.15258959  0.05732789  0.33135711 0.22107107\n",
       "pressure  0.14128198 0.15258959 1.00000000  0.20737054  0.08893338 0.28180529\n",
       "triceps  -0.08167177 0.05732789 0.20737054  1.00000000  0.43678257 0.39257320\n",
       "insulin  -0.07353461 0.33135711 0.08893338  0.43678257  1.00000000 0.19785906\n",
       "mass      0.01768309 0.22107107 0.28180529  0.39257320  0.19785906 1.00000000\n",
       "pedigree -0.03352267 0.13733730 0.04126495  0.18392757  0.18507093 0.14064695\n",
       "age       0.54434123 0.26351432 0.23952795 -0.11397026 -0.04216295 0.03624187\n",
       "            pedigree         age\n",
       "pregnant -0.03352267  0.54434123\n",
       "glucose   0.13733730  0.26351432\n",
       "pressure  0.04126495  0.23952795\n",
       "triceps   0.18392757 -0.11397026\n",
       "insulin   0.18507093 -0.04216295\n",
       "mass      0.14064695  0.03624187\n",
       "pedigree  1.00000000  0.03356131\n",
       "age       0.03356131  1.00000000"
      ]
     },
     "execution_count": 156,
     "metadata": {},
     "output_type": "execute_result"
    },
    {
     "name": "stdout",
     "output_type": "stream",
     "text": [
      "Compare row 4  and column  5 with corr  0.437 \n",
      "  Means:  0.211 vs 0.169 so flagging column 4 \n",
      "Compare row 8  and column  1 with corr  0.544 \n",
      "  Means:  0.193 vs 0.159 so flagging column 8 \n",
      "All correlations <= 0.35 \n"
     ]
    },
    {
     "data": {
      "text/html": [
       "<ol class=list-inline>\n",
       "\t<li>4</li>\n",
       "\t<li>8</li>\n",
       "</ol>\n"
      ],
      "text/latex": [
       "\\begin{enumerate*}\n",
       "\\item 4\n",
       "\\item 8\n",
       "\\end{enumerate*}\n"
      ],
      "text/markdown": [
       "1. 4\n",
       "2. 8\n",
       "\n",
       "\n"
      ],
      "text/plain": [
       "[1] 4 8"
      ]
     },
     "execution_count": 156,
     "metadata": {},
     "output_type": "execute_result"
    },
    {
     "data": {
      "text/html": [
       "<ol class=list-inline>\n",
       "\t<li>'triceps'</li>\n",
       "\t<li>'age'</li>\n",
       "</ol>\n"
      ],
      "text/latex": [
       "\\begin{enumerate*}\n",
       "\\item 'triceps'\n",
       "\\item 'age'\n",
       "\\end{enumerate*}\n"
      ],
      "text/markdown": [
       "1. 'triceps'\n",
       "2. 'age'\n",
       "\n",
       "\n"
      ],
      "text/plain": [
       "[1] \"triceps\" \"age\"    "
      ]
     },
     "execution_count": 156,
     "metadata": {},
     "output_type": "execute_result"
    }
   ],
   "source": [
    "cor.matrix <- cor(PimaIndiansDiabetes[, 1:8])\n",
    "cor.matrix\n",
    "\n",
    "# FindCorrelation returns a list.\n",
    "count.corr <- findCorrelation(cor.matrix, cutoff = 0.35, verbose = T)\n",
    "count.corr\n",
    "colnames(cor.matrix[, count.corr])"
   ]
  },
  {
   "cell_type": "markdown",
   "metadata": {},
   "source": [
    "## Variable Importance\n",
    "\n",
    "The `train` function is one of the most important and basic functions here. It is responsible for building and evaluating the model. This is how `train` works:\n",
    "\n",
    "![](https://dl.dropboxusercontent.com/u/9420368/scr/how-train-works.png)"
   ]
  },
  {
   "cell_type": "markdown",
   "metadata": {
    "collapsed": true
   },
   "source": [
    "Every step of this process is customizable, and there is also the `trainControl` function which generates resampling parameters. So, we begin with calling `trainControl`, and then we pass its result to `train`'s `trControl` parameter. That's it. Basically, machine learning with `caret` is just two functions: `trainControl` and `train`. Now, let's learn the syntax with the following example."
   ]
  },
  {
   "cell_type": "markdown",
   "metadata": {},
   "source": [
    "Using the `PimaIndiansDiabetes` dataset, train the Learning vector quantization (LVQ) model. LQV is a prototype-based supervised classification algorithm.\n",
    "\n",
    "Define the parameter set:\n",
    "\n",
    "* `diabetes` – target (y)\n",
    "* other columns – data (X)\n",
    "* `method = \"lqv\"`. \n",
    "\n",
    "Finally, specify the type of resampling. Below you can see how we create 10-fold cross-validator, set to 3 repetitions (`method = \"repeatedcv\"`, `number = 10`, `repeats = 3`), and train the model:"
   ]
  },
  {
   "cell_type": "code",
   "execution_count": 157,
   "metadata": {
    "collapsed": false
   },
   "outputs": [
    {
     "data": {
      "text/plain": [
       "Learning Vector Quantization \n",
       "\n",
       "768 samples\n",
       "  8 predictor\n",
       "  2 classes: 'neg', 'pos' \n",
       "\n",
       "Pre-processing: scaled (8) \n",
       "Resampling: Cross-Validated (10 fold, repeated 3 times) \n",
       "Summary of sample sizes: 692, 691, 691, 691, 691, 691, ... \n",
       "Resampling results across tuning parameters:\n",
       "\n",
       "  size  k   Accuracy   Kappa    \n",
       "  4      1  0.6913876  0.2336931\n",
       "  4      6  0.7091593  0.2714533\n",
       "  4     11  0.7000513  0.2363840\n",
       "  6      1  0.7226020  0.3489634\n",
       "  6      6  0.7299784  0.3688041\n",
       "  6     11  0.7231317  0.3428369\n",
       "  8      1  0.7317327  0.3796428\n",
       "  8      6  0.7320916  0.3634657\n",
       "  8     11  0.7304113  0.3706127\n",
       "\n",
       "Accuracy was used to select the optimal model using  the largest value.\n",
       "The final values used for the model were size = 8 and k = 6. "
      ]
     },
     "execution_count": 157,
     "metadata": {},
     "output_type": "execute_result"
    }
   ],
   "source": [
    "# create cross-validator\n",
    "cv.clf <- trainControl(method = \"repeatedcv\", number = 10, repeats = 3)\n",
    "\n",
    "# crate model\n",
    "lvq.fit <- train(diabetes ~ ., data = PimaIndiansDiabetes, method = \"lvq\",\n",
    "               preProcess = \"scale\", trControl = cv.clf)\n",
    "\n",
    "lvq.fit"
   ]
  },
  {
   "cell_type": "code",
   "execution_count": 158,
   "metadata": {
    "collapsed": false
   },
   "outputs": [
    {
     "data": {
      "text/plain": [
       "ROC curve variable importance\n",
       "\n",
       "         Importance\n",
       "glucose      0.7881\n",
       "mass         0.6876\n",
       "age          0.6869\n",
       "pregnant     0.6195\n",
       "pedigree     0.6062\n",
       "pressure     0.5865\n",
       "triceps      0.5536\n",
       "insulin      0.4621"
      ]
     },
     "execution_count": 158,
     "metadata": {},
     "output_type": "execute_result"
    },
    {
     "data": {
      "image/png": "[encoded data removed]",
      "image/svg+xml": [
       "<?xml version=\"1.0\" encoding=\"UTF-8\"?>\n",
       "<svg xmlns=\"http://www.w3.org/2000/svg\" xmlns:xlink=\"http://www.w3.org/1999/xlink\" width=\"504pt\" height=\"504pt\" viewBox=\"0 0 504 504\" version=\"1.1\">\n",
       "<defs>\n",
       "<g>\n",
       "<symbol overflow=\"visible\" id=\"glyph0-0\">\n",
       "<path style=\"stroke:none;\" d=\"\"/>\n",
       "</symbol>\n",
       "<symbol overflow=\"visible\" id=\"glyph0-1\">\n",
       "<path style=\"stroke:none;\" d=\"M 0.980469 -7.171875 L 1.960938 -7.171875 L 1.960938 0 L 0.980469 0 Z M 0.980469 -7.171875 \"/>\n",
       "</symbol>\n",
       "<symbol overflow=\"visible\" id=\"glyph0-2\">\n",
       "<path style=\"stroke:none;\" d=\"M 0.644531 -5.230469 L 1.515625 -5.230469 L 1.515625 -4.488281 C 1.722656 -4.746094 1.910156 -4.929688 2.078125 -5.046875 C 2.367188 -5.246094 2.699219 -5.347656 3.066406 -5.347656 C 3.484375 -5.347656 3.820312 -5.242188 4.070312 -5.039062 C 4.214844 -4.921875 4.34375 -4.75 4.460938 -4.523438 C 4.65625 -4.800781 4.886719 -5.007812 5.152344 -5.144531 C 5.414062 -5.28125 5.710938 -5.347656 6.039062 -5.347656 C 6.742188 -5.347656 7.222656 -5.09375 7.476562 -4.585938 C 7.613281 -4.3125 7.679688 -3.945312 7.679688 -3.480469 L 7.679688 0 L 6.765625 0 L 6.765625 -3.632812 C 6.765625 -3.980469 6.679688 -4.21875 6.507812 -4.351562 C 6.332031 -4.480469 6.121094 -4.546875 5.867188 -4.546875 C 5.523438 -4.546875 5.226562 -4.429688 4.976562 -4.199219 C 4.726562 -3.96875 4.605469 -3.582031 4.605469 -3.042969 L 4.605469 0 L 3.710938 0 L 3.710938 -3.414062 C 3.710938 -3.769531 3.667969 -4.027344 3.585938 -4.1875 C 3.453125 -4.433594 3.203125 -4.554688 2.835938 -4.554688 C 2.503906 -4.554688 2.203125 -4.425781 1.929688 -4.171875 C 1.660156 -3.914062 1.523438 -3.445312 1.523438 -2.773438 L 1.523438 0 L 0.644531 0 Z M 0.644531 -5.230469 \"/>\n",
       "</symbol>\n",
       "<symbol overflow=\"visible\" id=\"glyph0-3\">\n",
       "<path style=\"stroke:none;\" d=\"M 3.875 -1.105469 C 4.148438 -1.449219 4.28125 -1.960938 4.28125 -2.648438 C 4.28125 -3.0625 4.222656 -3.421875 4.101562 -3.71875 C 3.875 -4.296875 3.457031 -4.585938 2.851562 -4.585938 C 2.242188 -4.585938 1.828125 -4.28125 1.601562 -3.671875 C 1.480469 -3.347656 1.421875 -2.933594 1.421875 -2.429688 C 1.421875 -2.027344 1.480469 -1.683594 1.601562 -1.402344 C 1.828125 -0.859375 2.246094 -0.589844 2.851562 -0.589844 C 3.261719 -0.589844 3.601562 -0.761719 3.875 -1.105469 Z M 0.578125 -5.203125 L 1.429688 -5.203125 L 1.429688 -4.511719 C 1.605469 -4.75 1.796875 -4.933594 2.007812 -5.0625 C 2.304688 -5.257812 2.652344 -5.355469 3.050781 -5.355469 C 3.644531 -5.355469 4.148438 -5.128906 4.5625 -4.675781 C 4.976562 -4.222656 5.179688 -3.574219 5.179688 -2.730469 C 5.179688 -1.589844 4.882812 -0.777344 4.289062 -0.289062 C 3.910156 0.0195312 3.46875 0.175781 2.96875 0.175781 C 2.574219 0.175781 2.246094 0.0898438 1.976562 -0.0820312 C 1.820312 -0.179688 1.648438 -0.347656 1.453125 -0.585938 L 1.453125 2.085938 L 0.578125 2.085938 Z M 0.578125 -5.203125 \"/>\n",
       "</symbol>\n",
       "<symbol overflow=\"visible\" id=\"glyph0-4\">\n",
       "<path style=\"stroke:none;\" d=\"M 3.917969 -1.226562 C 4.132812 -1.667969 4.242188 -2.160156 4.242188 -2.699219 C 4.242188 -3.1875 4.164062 -3.585938 4.007812 -3.890625 C 3.761719 -4.375 3.335938 -4.613281 2.730469 -4.613281 C 2.191406 -4.613281 1.800781 -4.410156 1.558594 -4 C 1.3125 -3.589844 1.191406 -3.09375 1.191406 -2.515625 C 1.191406 -1.957031 1.3125 -1.492188 1.558594 -1.125 C 1.800781 -0.753906 2.1875 -0.566406 2.71875 -0.566406 C 3.300781 -0.566406 3.703125 -0.785156 3.917969 -1.226562 Z M 4.460938 -4.707031 C 4.929688 -4.257812 5.160156 -3.597656 5.160156 -2.726562 C 5.160156 -1.882812 4.957031 -1.183594 4.546875 -0.632812 C 4.136719 -0.0859375 3.5 0.191406 2.636719 0.191406 C 1.917969 0.191406 1.347656 -0.0546875 0.921875 -0.539062 C 0.5 -1.027344 0.289062 -1.679688 0.289062 -2.5 C 0.289062 -3.378906 0.511719 -4.078125 0.957031 -4.601562 C 1.402344 -5.121094 2 -5.382812 2.753906 -5.382812 C 3.429688 -5.382812 3.996094 -5.15625 4.460938 -4.707031 Z M 4.460938 -4.707031 \"/>\n",
       "</symbol>\n",
       "<symbol overflow=\"visible\" id=\"glyph0-5\">\n",
       "<path style=\"stroke:none;\" d=\"M 0.667969 -5.230469 L 1.503906 -5.230469 L 1.503906 -4.328125 C 1.570312 -4.503906 1.738281 -4.714844 2.007812 -4.96875 C 2.273438 -5.21875 2.582031 -5.347656 2.929688 -5.347656 C 2.945312 -5.347656 2.972656 -5.34375 3.011719 -5.34375 C 3.050781 -5.339844 3.117188 -5.332031 3.210938 -5.320312 L 3.210938 -4.394531 C 3.160156 -4.40625 3.113281 -4.410156 3.070312 -4.414062 C 3.023438 -4.417969 2.976562 -4.417969 2.925781 -4.417969 C 2.484375 -4.417969 2.140625 -4.277344 1.90625 -3.992188 C 1.667969 -3.707031 1.546875 -3.378906 1.546875 -3.007812 L 1.546875 0 L 0.667969 0 Z M 0.667969 -5.230469 \"/>\n",
       "</symbol>\n",
       "<symbol overflow=\"visible\" id=\"glyph0-6\">\n",
       "<path style=\"stroke:none;\" d=\"M 0.820312 -6.6875 L 1.710938 -6.6875 L 1.710938 -5.230469 L 2.542969 -5.230469 L 2.542969 -4.511719 L 1.710938 -4.511719 L 1.710938 -1.097656 C 1.710938 -0.914062 1.769531 -0.792969 1.894531 -0.734375 C 1.960938 -0.695312 2.078125 -0.679688 2.234375 -0.679688 C 2.277344 -0.679688 2.324219 -0.679688 2.375 -0.679688 C 2.421875 -0.683594 2.480469 -0.6875 2.542969 -0.695312 L 2.542969 0 C 2.441406 0.03125 2.339844 0.0507812 2.230469 0.0625 C 2.121094 0.078125 2 0.0820312 1.875 0.0820312 C 1.464844 0.0820312 1.1875 -0.0234375 1.039062 -0.230469 C 0.894531 -0.441406 0.820312 -0.714844 0.820312 -1.050781 L 0.820312 -4.511719 L 0.113281 -4.511719 L 0.113281 -5.230469 L 0.820312 -5.230469 Z M 0.820312 -6.6875 \"/>\n",
       "</symbol>\n",
       "<symbol overflow=\"visible\" id=\"glyph0-7\">\n",
       "<path style=\"stroke:none;\" d=\"M 1.597656 -0.789062 C 1.78125 -0.644531 2 -0.570312 2.257812 -0.570312 C 2.566406 -0.570312 2.863281 -0.644531 3.15625 -0.785156 C 3.644531 -1.023438 3.886719 -1.414062 3.886719 -1.953125 L 3.886719 -2.660156 C 3.78125 -2.59375 3.640625 -2.535156 3.472656 -2.492188 C 3.304688 -2.445312 3.136719 -2.414062 2.972656 -2.390625 L 2.441406 -2.324219 C 2.121094 -2.28125 1.882812 -2.214844 1.722656 -2.125 C 1.453125 -1.972656 1.320312 -1.726562 1.320312 -1.390625 C 1.320312 -1.136719 1.410156 -0.9375 1.597656 -0.789062 Z M 3.445312 -3.167969 C 3.648438 -3.195312 3.785156 -3.28125 3.851562 -3.421875 C 3.890625 -3.5 3.910156 -3.613281 3.910156 -3.757812 C 3.910156 -4.058594 3.804688 -4.277344 3.589844 -4.410156 C 3.378906 -4.546875 3.074219 -4.613281 2.675781 -4.613281 C 2.21875 -4.613281 1.890625 -4.492188 1.699219 -4.242188 C 1.59375 -4.105469 1.523438 -3.902344 1.488281 -3.632812 L 0.667969 -3.632812 C 0.683594 -4.277344 0.894531 -4.726562 1.296875 -4.976562 C 1.699219 -5.230469 2.164062 -5.355469 2.695312 -5.355469 C 3.3125 -5.355469 3.808594 -5.238281 4.195312 -5.003906 C 4.574219 -4.769531 4.765625 -4.40625 4.765625 -3.910156 L 4.765625 -0.898438 C 4.765625 -0.808594 4.785156 -0.734375 4.820312 -0.679688 C 4.859375 -0.625 4.9375 -0.59375 5.058594 -0.59375 C 5.097656 -0.59375 5.140625 -0.597656 5.191406 -0.601562 C 5.238281 -0.609375 5.292969 -0.617188 5.347656 -0.625 L 5.347656 0.0234375 C 5.210938 0.0625 5.105469 0.0859375 5.035156 0.0976562 C 4.960938 0.109375 4.863281 0.113281 4.742188 0.113281 C 4.4375 0.113281 4.21875 0.00390625 4.082031 -0.210938 C 4.011719 -0.324219 3.960938 -0.484375 3.929688 -0.695312 C 3.75 -0.460938 3.496094 -0.253906 3.160156 -0.0820312 C 2.824219 0.0898438 2.453125 0.175781 2.050781 0.175781 C 1.566406 0.175781 1.167969 0.0273438 0.863281 -0.265625 C 0.554688 -0.5625 0.398438 -0.929688 0.398438 -1.371094 C 0.398438 -1.855469 0.550781 -2.234375 0.855469 -2.5 C 1.15625 -2.765625 1.554688 -2.929688 2.046875 -2.992188 Z M 3.445312 -3.167969 \"/>\n",
       "</symbol>\n",
       "<symbol overflow=\"visible\" id=\"glyph0-8\">\n",
       "<path style=\"stroke:none;\" d=\"M 0.644531 -5.230469 L 1.480469 -5.230469 L 1.480469 -4.488281 C 1.726562 -4.792969 1.988281 -5.011719 2.265625 -5.148438 C 2.542969 -5.28125 2.851562 -5.347656 3.1875 -5.347656 C 3.929688 -5.347656 4.433594 -5.085938 4.691406 -4.570312 C 4.835938 -4.289062 4.90625 -3.882812 4.90625 -3.355469 L 4.90625 0 L 4.015625 0 L 4.015625 -3.296875 C 4.015625 -3.617188 3.964844 -3.871094 3.871094 -4.066406 C 3.714844 -4.390625 3.433594 -4.554688 3.023438 -4.554688 C 2.8125 -4.554688 2.644531 -4.535156 2.507812 -4.492188 C 2.269531 -4.421875 2.058594 -4.277344 1.875 -4.0625 C 1.726562 -3.890625 1.632812 -3.710938 1.589844 -3.527344 C 1.546875 -3.34375 1.523438 -3.082031 1.523438 -2.738281 L 1.523438 0 L 0.644531 0 Z M 0.644531 -5.230469 \"/>\n",
       "</symbol>\n",
       "<symbol overflow=\"visible\" id=\"glyph0-9\">\n",
       "<path style=\"stroke:none;\" d=\"M 4.097656 -4.953125 C 4.46875 -4.664062 4.691406 -4.171875 4.765625 -3.472656 L 3.910156 -3.472656 C 3.859375 -3.792969 3.742188 -4.0625 3.554688 -4.273438 C 3.367188 -4.488281 3.070312 -4.59375 2.660156 -4.59375 C 2.101562 -4.59375 1.699219 -4.320312 1.460938 -3.773438 C 1.304688 -3.417969 1.226562 -2.980469 1.226562 -2.460938 C 1.226562 -1.9375 1.335938 -1.496094 1.558594 -1.136719 C 1.78125 -0.78125 2.128906 -0.601562 2.601562 -0.601562 C 2.96875 -0.601562 3.257812 -0.710938 3.46875 -0.933594 C 3.683594 -1.15625 3.828125 -1.464844 3.910156 -1.851562 L 4.765625 -1.851562 C 4.667969 -1.15625 4.421875 -0.648438 4.03125 -0.328125 C 3.640625 -0.0078125 3.144531 0.152344 2.535156 0.152344 C 1.851562 0.152344 1.304688 -0.0976562 0.898438 -0.597656 C 0.492188 -1.097656 0.289062 -1.722656 0.289062 -2.46875 C 0.289062 -3.386719 0.511719 -4.101562 0.957031 -4.613281 C 1.402344 -5.125 1.972656 -5.382812 2.660156 -5.382812 C 3.25 -5.382812 3.730469 -5.238281 4.097656 -4.953125 Z M 4.097656 -4.953125 \"/>\n",
       "</symbol>\n",
       "<symbol overflow=\"visible\" id=\"glyph0-10\">\n",
       "<path style=\"stroke:none;\" d=\"M 3.902344 -5.085938 C 4.25 -4.910156 4.515625 -4.6875 4.695312 -4.410156 C 4.871094 -4.144531 4.992188 -3.835938 5.046875 -3.484375 C 5.101562 -3.246094 5.125 -2.859375 5.125 -2.335938 L 1.292969 -2.335938 C 1.308594 -1.804688 1.4375 -1.378906 1.671875 -1.058594 C 1.90625 -0.738281 2.265625 -0.578125 2.757812 -0.578125 C 3.21875 -0.578125 3.585938 -0.726562 3.859375 -1.03125 C 4.015625 -1.207031 4.125 -1.410156 4.1875 -1.640625 L 5.054688 -1.640625 C 5.03125 -1.449219 4.957031 -1.234375 4.828125 -1 C 4.699219 -0.761719 4.554688 -0.570312 4.394531 -0.421875 C 4.128906 -0.160156 3.796875 0.015625 3.402344 0.109375 C 3.191406 0.160156 2.953125 0.1875 2.6875 0.1875 C 2.035156 0.1875 1.484375 -0.0507812 1.03125 -0.523438 C 0.578125 -1 0.351562 -1.660156 0.351562 -2.515625 C 0.351562 -3.355469 0.578125 -4.035156 1.035156 -4.5625 C 1.492188 -5.085938 2.085938 -5.347656 2.820312 -5.347656 C 3.191406 -5.347656 3.554688 -5.257812 3.902344 -5.085938 Z M 4.222656 -3.03125 C 4.1875 -3.414062 4.105469 -3.71875 3.976562 -3.945312 C 3.734375 -4.367188 3.332031 -4.578125 2.769531 -4.578125 C 2.367188 -4.578125 2.027344 -4.433594 1.753906 -4.144531 C 1.480469 -3.851562 1.335938 -3.480469 1.320312 -3.03125 Z M 4.222656 -3.03125 \"/>\n",
       "</symbol>\n",
       "<symbol overflow=\"visible\" id=\"glyph0-11\">\n",
       "<path style=\"stroke:none;\" d=\"M 0.644531 -5.203125 L 1.539062 -5.203125 L 1.539062 0 L 0.644531 0 Z M 0.644531 -7.171875 L 1.539062 -7.171875 L 1.539062 -6.175781 L 0.644531 -6.175781 Z M 0.644531 -7.171875 \"/>\n",
       "</symbol>\n",
       "<symbol overflow=\"visible\" id=\"glyph0-12\">\n",
       "<path style=\"stroke:none;\" d=\"M 1.167969 -1.640625 C 1.195312 -1.347656 1.265625 -1.125 1.386719 -0.96875 C 1.609375 -0.683594 1.992188 -0.542969 2.539062 -0.542969 C 2.863281 -0.542969 3.152344 -0.613281 3.398438 -0.753906 C 3.644531 -0.894531 3.769531 -1.113281 3.769531 -1.410156 C 3.769531 -1.636719 3.671875 -1.804688 3.472656 -1.921875 C 3.34375 -1.996094 3.09375 -2.078125 2.71875 -2.171875 L 2.023438 -2.347656 C 1.578125 -2.460938 1.246094 -2.582031 1.035156 -2.71875 C 0.65625 -2.957031 0.46875 -3.285156 0.46875 -3.707031 C 0.46875 -4.203125 0.648438 -4.601562 1.003906 -4.90625 C 1.359375 -5.210938 1.839844 -5.367188 2.441406 -5.367188 C 3.230469 -5.367188 3.796875 -5.136719 4.144531 -4.671875 C 4.363281 -4.378906 4.46875 -4.0625 4.460938 -3.726562 L 3.632812 -3.726562 C 3.617188 -3.925781 3.546875 -4.105469 3.421875 -4.265625 C 3.21875 -4.5 2.871094 -4.613281 2.375 -4.613281 C 2.042969 -4.613281 1.789062 -4.550781 1.617188 -4.421875 C 1.445312 -4.296875 1.363281 -4.128906 1.363281 -3.921875 C 1.363281 -3.695312 1.476562 -3.511719 1.699219 -3.375 C 1.828125 -3.292969 2.023438 -3.222656 2.273438 -3.160156 L 2.855469 -3.015625 C 3.488281 -2.863281 3.910156 -2.714844 4.125 -2.574219 C 4.46875 -2.347656 4.640625 -1.996094 4.640625 -1.515625 C 4.640625 -1.046875 4.460938 -0.644531 4.109375 -0.308594 C 3.757812 0.03125 3.21875 0.199219 2.496094 0.199219 C 1.71875 0.199219 1.167969 0.0234375 0.84375 -0.328125 C 0.519531 -0.683594 0.34375 -1.121094 0.320312 -1.640625 Z M 1.167969 -1.640625 \"/>\n",
       "</symbol>\n",
       "<symbol overflow=\"visible\" id=\"glyph0-13\">\n",
       "<path style=\"stroke:none;\" d=\"M 1.523438 -5.230469 L 1.523438 -1.757812 C 1.523438 -1.492188 1.566406 -1.273438 1.648438 -1.101562 C 1.804688 -0.789062 2.097656 -0.632812 2.523438 -0.632812 C 3.136719 -0.632812 3.554688 -0.90625 3.773438 -1.453125 C 3.894531 -1.746094 3.953125 -2.148438 3.953125 -2.660156 L 3.953125 -5.230469 L 4.835938 -5.230469 L 4.835938 0 L 4.003906 0 L 4.015625 -0.773438 C 3.898438 -0.574219 3.757812 -0.40625 3.589844 -0.269531 C 3.253906 0.00390625 2.847656 0.140625 2.367188 0.140625 C 1.621094 0.140625 1.113281 -0.109375 0.84375 -0.605469 C 0.699219 -0.871094 0.625 -1.230469 0.625 -1.675781 L 0.625 -5.230469 Z M 1.523438 -5.230469 \"/>\n",
       "</symbol>\n",
       "<symbol overflow=\"visible\" id=\"glyph0-14\">\n",
       "<path style=\"stroke:none;\" d=\"M 0.667969 -7.171875 L 1.546875 -7.171875 L 1.546875 0 L 0.667969 0 Z M 0.667969 -7.171875 \"/>\n",
       "</symbol>\n",
       "<symbol overflow=\"visible\" id=\"glyph0-15\">\n",
       "<path style=\"stroke:none;\" d=\"M 1.558594 -1.148438 C 1.796875 -0.769531 2.175781 -0.582031 2.699219 -0.582031 C 3.105469 -0.582031 3.441406 -0.757812 3.703125 -1.105469 C 3.964844 -1.457031 4.097656 -1.957031 4.097656 -2.613281 C 4.097656 -3.273438 3.960938 -3.761719 3.691406 -4.078125 C 3.421875 -4.398438 3.085938 -4.554688 2.691406 -4.554688 C 2.25 -4.554688 1.890625 -4.386719 1.613281 -4.046875 C 1.339844 -3.710938 1.203125 -3.210938 1.203125 -2.554688 C 1.203125 -1.992188 1.320312 -1.523438 1.558594 -1.148438 Z M 3.53125 -5.070312 C 3.6875 -4.972656 3.863281 -4.800781 4.0625 -4.554688 L 4.0625 -7.195312 L 4.90625 -7.195312 L 4.90625 0 L 4.117188 0 L 4.117188 -0.726562 C 3.910156 -0.40625 3.667969 -0.171875 3.390625 -0.03125 C 3.109375 0.113281 2.789062 0.1875 2.425781 0.1875 C 1.84375 0.1875 1.339844 -0.0585938 0.914062 -0.550781 C 0.488281 -1.039062 0.273438 -1.691406 0.273438 -2.503906 C 0.273438 -3.265625 0.46875 -3.925781 0.855469 -4.484375 C 1.246094 -5.042969 1.800781 -5.320312 2.523438 -5.320312 C 2.925781 -5.320312 3.261719 -5.238281 3.53125 -5.070312 Z M 3.53125 -5.070312 \"/>\n",
       "</symbol>\n",
       "<symbol overflow=\"visible\" id=\"glyph0-16\">\n",
       "<path style=\"stroke:none;\" d=\"M 3.5625 -5.019531 C 3.730469 -4.90625 3.898438 -4.738281 4.070312 -4.523438 L 4.070312 -5.179688 L 4.882812 -5.179688 L 4.882812 -0.425781 C 4.882812 0.238281 4.785156 0.761719 4.589844 1.148438 C 4.226562 1.859375 3.535156 2.210938 2.523438 2.210938 C 1.960938 2.210938 1.488281 2.085938 1.101562 1.832031 C 0.71875 1.582031 0.503906 1.1875 0.460938 0.648438 L 1.351562 0.648438 C 1.394531 0.882812 1.480469 1.0625 1.605469 1.191406 C 1.804688 1.386719 2.117188 1.484375 2.542969 1.484375 C 3.21875 1.484375 3.660156 1.246094 3.867188 0.773438 C 3.992188 0.492188 4.046875 -0.0078125 4.039062 -0.726562 C 3.863281 -0.460938 3.652344 -0.261719 3.402344 -0.132812 C 3.15625 0 2.828125 0.0625 2.421875 0.0625 C 1.855469 0.0625 1.359375 -0.136719 0.933594 -0.539062 C 0.507812 -0.941406 0.296875 -1.605469 0.296875 -2.535156 C 0.296875 -3.410156 0.511719 -4.09375 0.941406 -4.585938 C 1.367188 -5.078125 1.882812 -5.320312 2.492188 -5.320312 C 2.902344 -5.320312 3.257812 -5.222656 3.5625 -5.019531 Z M 3.671875 -4.078125 C 3.40625 -4.390625 3.066406 -4.546875 2.652344 -4.546875 C 2.03125 -4.546875 1.609375 -4.257812 1.382812 -3.675781 C 1.261719 -3.367188 1.203125 -2.960938 1.203125 -2.460938 C 1.203125 -1.871094 1.320312 -1.421875 1.558594 -1.117188 C 1.796875 -0.808594 2.121094 -0.65625 2.523438 -0.65625 C 3.15625 -0.65625 3.601562 -0.9375 3.859375 -1.507812 C 4 -1.832031 4.070312 -2.207031 4.070312 -2.636719 C 4.070312 -3.285156 3.9375 -3.765625 3.671875 -4.078125 Z M 3.671875 -4.078125 \"/>\n",
       "</symbol>\n",
       "<symbol overflow=\"visible\" id=\"glyph0-17\">\n",
       "<path style=\"stroke:none;\" d=\"M 4.667969 -5.875 C 4.980469 -5.296875 5.136719 -4.507812 5.136719 -3.507812 C 5.136719 -2.554688 4.996094 -1.769531 4.710938 -1.148438 C 4.300781 -0.257812 3.632812 0.191406 2.699219 0.191406 C 1.859375 0.191406 1.234375 -0.175781 0.824219 -0.902344 C 0.484375 -1.511719 0.3125 -2.328125 0.3125 -3.355469 C 0.3125 -4.148438 0.414062 -4.832031 0.621094 -5.398438 C 1.003906 -6.460938 1.699219 -6.992188 2.703125 -6.992188 C 3.609375 -6.992188 4.265625 -6.621094 4.667969 -5.875 Z M 3.785156 -1.214844 C 4.054688 -1.617188 4.1875 -2.371094 4.1875 -3.472656 C 4.1875 -4.265625 4.09375 -4.917969 3.898438 -5.433594 C 3.703125 -5.945312 3.320312 -6.203125 2.757812 -6.203125 C 2.242188 -6.203125 1.863281 -5.957031 1.625 -5.472656 C 1.382812 -4.984375 1.265625 -4.265625 1.265625 -3.320312 C 1.265625 -2.609375 1.339844 -2.035156 1.492188 -1.601562 C 1.726562 -0.941406 2.128906 -0.609375 2.695312 -0.609375 C 3.152344 -0.609375 3.515625 -0.8125 3.785156 -1.214844 Z M 3.785156 -1.214844 \"/>\n",
       "</symbol>\n",
       "<symbol overflow=\"visible\" id=\"glyph0-18\">\n",
       "<path style=\"stroke:none;\" d=\"M 0.855469 -1.0625 L 1.875 -1.0625 L 1.875 0 L 0.855469 0 Z M 0.855469 -1.0625 \"/>\n",
       "</symbol>\n",
       "<symbol overflow=\"visible\" id=\"glyph0-19\">\n",
       "<path style=\"stroke:none;\" d=\"M 1.234375 -1.78125 C 1.292969 -1.28125 1.527344 -0.933594 1.933594 -0.742188 C 2.140625 -0.644531 2.382812 -0.59375 2.65625 -0.59375 C 3.175781 -0.59375 3.5625 -0.761719 3.8125 -1.09375 C 4.0625 -1.425781 4.1875 -1.792969 4.1875 -2.195312 C 4.1875 -2.683594 4.039062 -3.0625 3.742188 -3.328125 C 3.445312 -3.597656 3.085938 -3.730469 2.671875 -3.730469 C 2.367188 -3.730469 2.109375 -3.671875 1.890625 -3.554688 C 1.675781 -3.4375 1.492188 -3.273438 1.335938 -3.066406 L 0.578125 -3.109375 L 1.109375 -6.875 L 4.742188 -6.875 L 4.742188 -6.023438 L 1.765625 -6.023438 L 1.46875 -4.082031 C 1.632812 -4.207031 1.789062 -4.296875 1.933594 -4.359375 C 2.195312 -4.46875 2.496094 -4.523438 2.835938 -4.523438 C 3.476562 -4.523438 4.023438 -4.316406 4.46875 -3.902344 C 4.914062 -3.488281 5.136719 -2.964844 5.136719 -2.328125 C 5.136719 -1.667969 4.933594 -1.085938 4.523438 -0.582031 C 4.117188 -0.078125 3.464844 0.175781 2.570312 0.175781 C 2 0.175781 1.496094 0.015625 1.058594 -0.304688 C 0.621094 -0.625 0.375 -1.117188 0.320312 -1.78125 Z M 1.234375 -1.78125 \"/>\n",
       "</symbol>\n",
       "<symbol overflow=\"visible\" id=\"glyph0-20\">\n",
       "<path style=\"stroke:none;\" d=\"M 4.558594 -6.414062 C 4.867188 -6.007812 5.019531 -5.589844 5.019531 -5.160156 L 4.148438 -5.160156 C 4.097656 -5.4375 4.015625 -5.65625 3.902344 -5.8125 C 3.691406 -6.105469 3.367188 -6.25 2.9375 -6.25 C 2.445312 -6.25 2.058594 -6.023438 1.765625 -5.570312 C 1.476562 -5.117188 1.316406 -4.464844 1.285156 -3.617188 C 1.484375 -3.914062 1.738281 -4.136719 2.046875 -4.28125 C 2.328125 -4.414062 2.636719 -4.476562 2.984375 -4.476562 C 3.570312 -4.476562 4.082031 -4.289062 4.515625 -3.914062 C 4.953125 -3.539062 5.171875 -2.984375 5.171875 -2.242188 C 5.171875 -1.605469 4.964844 -1.042969 4.550781 -0.554688 C 4.136719 -0.0625 3.546875 0.179688 2.78125 0.179688 C 2.128906 0.179688 1.5625 -0.0664062 1.089844 -0.5625 C 0.613281 -1.058594 0.375 -1.894531 0.375 -3.070312 C 0.375 -3.941406 0.480469 -4.679688 0.695312 -5.28125 C 1.101562 -6.441406 1.84375 -7.023438 2.925781 -7.023438 C 3.707031 -7.023438 4.25 -6.820312 4.558594 -6.414062 Z M 3.898438 -1.066406 C 4.128906 -1.378906 4.242188 -1.746094 4.242188 -2.167969 C 4.242188 -2.527344 4.140625 -2.867188 3.9375 -3.191406 C 3.730469 -3.515625 3.359375 -3.675781 2.816406 -3.675781 C 2.4375 -3.675781 2.109375 -3.550781 1.824219 -3.300781 C 1.539062 -3.050781 1.398438 -2.671875 1.398438 -2.167969 C 1.398438 -1.726562 1.527344 -1.351562 1.785156 -1.050781 C 2.042969 -0.75 2.402344 -0.601562 2.859375 -0.601562 C 3.324219 -0.601562 3.667969 -0.757812 3.898438 -1.066406 Z M 3.898438 -1.066406 \"/>\n",
       "</symbol>\n",
       "<symbol overflow=\"visible\" id=\"glyph0-21\">\n",
       "<path style=\"stroke:none;\" d=\"M 5.230469 -6.875 L 5.230469 -6.109375 C 5.003906 -5.890625 4.707031 -5.511719 4.332031 -4.96875 C 3.960938 -4.429688 3.632812 -3.847656 3.34375 -3.222656 C 3.0625 -2.613281 2.847656 -2.058594 2.699219 -1.558594 C 2.605469 -1.234375 2.484375 -0.714844 2.335938 0 L 1.363281 0 C 1.585938 -1.335938 2.070312 -2.664062 2.828125 -3.984375 C 3.273438 -4.757812 3.742188 -5.429688 4.234375 -5.992188 L 0.367188 -5.992188 L 0.367188 -6.875 Z M 5.230469 -6.875 \"/>\n",
       "</symbol>\n",
       "<symbol overflow=\"visible\" id=\"glyph0-22\">\n",
       "<path style=\"stroke:none;\" d=\"M 3.628906 -4.386719 C 3.847656 -4.601562 3.953125 -4.863281 3.953125 -5.160156 C 3.953125 -5.421875 3.851562 -5.660156 3.640625 -5.878906 C 3.433594 -6.097656 3.117188 -6.207031 2.691406 -6.207031 C 2.265625 -6.207031 1.960938 -6.097656 1.773438 -5.878906 C 1.585938 -5.660156 1.488281 -5.40625 1.488281 -5.113281 C 1.488281 -4.785156 1.609375 -4.527344 1.855469 -4.339844 C 2.101562 -4.15625 2.386719 -4.0625 2.71875 -4.0625 C 3.105469 -4.0625 3.410156 -4.171875 3.628906 -4.386719 Z M 3.785156 -0.929688 C 4.054688 -1.148438 4.1875 -1.476562 4.1875 -1.914062 C 4.1875 -2.367188 4.050781 -2.710938 3.773438 -2.945312 C 3.496094 -3.179688 3.144531 -3.296875 2.710938 -3.296875 C 2.289062 -3.296875 1.949219 -3.175781 1.683594 -2.9375 C 1.417969 -2.699219 1.285156 -2.367188 1.285156 -1.945312 C 1.285156 -1.578125 1.40625 -1.265625 1.648438 -1 C 1.890625 -0.734375 2.265625 -0.601562 2.773438 -0.601562 C 3.179688 -0.601562 3.519531 -0.710938 3.785156 -0.929688 Z M 0.953125 -4.09375 C 0.695312 -4.351562 0.566406 -4.691406 0.566406 -5.109375 C 0.566406 -5.628906 0.753906 -6.074219 1.132812 -6.449219 C 1.511719 -6.824219 2.046875 -7.011719 2.738281 -7.011719 C 3.410156 -7.011719 3.9375 -6.835938 4.316406 -6.480469 C 4.695312 -6.128906 4.886719 -5.714844 4.886719 -5.242188 C 4.886719 -4.808594 4.777344 -4.453125 4.554688 -4.183594 C 4.429688 -4.03125 4.238281 -3.882812 3.980469 -3.734375 C 4.269531 -3.601562 4.496094 -3.449219 4.664062 -3.277344 C 4.972656 -2.953125 5.125 -2.527344 5.125 -2.007812 C 5.125 -1.390625 4.921875 -0.871094 4.507812 -0.441406 C 4.09375 -0.015625 3.507812 0.199219 2.753906 0.199219 C 2.074219 0.199219 1.5 0.015625 1.027344 -0.355469 C 0.558594 -0.722656 0.320312 -1.257812 0.320312 -1.960938 C 0.320312 -2.375 0.421875 -2.734375 0.625 -3.035156 C 0.828125 -3.335938 1.125 -3.566406 1.523438 -3.726562 C 1.28125 -3.828125 1.089844 -3.953125 0.953125 -4.09375 Z M 0.953125 -4.09375 \"/>\n",
       "</symbol>\n",
       "</g>\n",
       "<clipPath id=\"clip1\">\n",
       "  <path d=\"M 62.816406 65 L 456 65 L 456 67 L 62.816406 67 Z M 62.816406 65 \"/>\n",
       "</clipPath>\n",
       "<clipPath id=\"clip2\">\n",
       "  <path d=\"M 62.816406 116 L 343 116 L 343 118 L 62.816406 118 Z M 62.816406 116 \"/>\n",
       "</clipPath>\n",
       "<clipPath id=\"clip3\">\n",
       "  <path d=\"M 62.816406 167 L 342 167 L 342 169 L 62.816406 169 Z M 62.816406 167 \"/>\n",
       "</clipPath>\n",
       "<clipPath id=\"clip4\">\n",
       "  <path d=\"M 62.816406 218 L 266 218 L 266 220 L 62.816406 220 Z M 62.816406 218 \"/>\n",
       "</clipPath>\n",
       "<clipPath id=\"clip5\">\n",
       "  <path d=\"M 62.816406 270 L 251 270 L 251 271 L 62.816406 271 Z M 62.816406 270 \"/>\n",
       "</clipPath>\n",
       "<clipPath id=\"clip6\">\n",
       "  <path d=\"M 62.816406 321 L 229 321 L 229 322 L 62.816406 322 Z M 62.816406 321 \"/>\n",
       "</clipPath>\n",
       "<clipPath id=\"clip7\">\n",
       "  <path d=\"M 62.816406 372 L 192 372 L 192 374 L 62.816406 374 Z M 62.816406 372 \"/>\n",
       "</clipPath>\n",
       "<clipPath id=\"clip8\">\n",
       "  <path d=\"M 62.816406 423 L 89 423 L 89 425 L 62.816406 425 Z M 62.816406 423 \"/>\n",
       "</clipPath>\n",
       "</defs>\n",
       "<g id=\"surface47\">\n",
       "<rect x=\"0\" y=\"0\" width=\"504\" height=\"504\" style=\"fill:rgb(100%,100%,100%);fill-opacity:1;stroke:none;\"/>\n",
       "<g style=\"fill:rgb(0%,0%,0%);fill-opacity:1;\">\n",
       "  <use xlink:href=\"#glyph0-1\" x=\"246.726562\" y=\"492\"/>\n",
       "  <use xlink:href=\"#glyph0-2\" x=\"249.504883\" y=\"492\"/>\n",
       "  <use xlink:href=\"#glyph0-3\" x=\"257.834961\" y=\"492\"/>\n",
       "  <use xlink:href=\"#glyph0-4\" x=\"263.396484\" y=\"492\"/>\n",
       "  <use xlink:href=\"#glyph0-5\" x=\"268.958008\" y=\"492\"/>\n",
       "  <use xlink:href=\"#glyph0-6\" x=\"272.288086\" y=\"492\"/>\n",
       "  <use xlink:href=\"#glyph0-7\" x=\"275.066406\" y=\"492\"/>\n",
       "  <use xlink:href=\"#glyph0-8\" x=\"280.62793\" y=\"492\"/>\n",
       "  <use xlink:href=\"#glyph0-9\" x=\"286.189453\" y=\"492\"/>\n",
       "  <use xlink:href=\"#glyph0-10\" x=\"291.189453\" y=\"492\"/>\n",
       "</g>\n",
       "<path style=\"fill:none;stroke-width:0.75;stroke-linecap:round;stroke-linejoin:round;stroke:rgb(0%,0%,0%);stroke-opacity:1;stroke-miterlimit:10;\" d=\"M 131.042969 35.007812 L 131.042969 29.339844 \"/>\n",
       "<path style=\"fill:none;stroke-width:0.75;stroke-linecap:round;stroke-linejoin:round;stroke:rgb(0%,0%,0%);stroke-opacity:1;stroke-miterlimit:10;\" d=\"M 243.480469 35.007812 L 243.480469 29.339844 \"/>\n",
       "<path style=\"fill:none;stroke-width:0.75;stroke-linecap:round;stroke-linejoin:round;stroke:rgb(0%,0%,0%);stroke-opacity:1;stroke-miterlimit:10;\" d=\"M 355.914062 35.007812 L 355.914062 29.339844 \"/>\n",
       "<path style=\"fill:none;stroke-width:0.75;stroke-linecap:round;stroke-linejoin:round;stroke:rgb(0%,0%,0%);stroke-opacity:1;stroke-miterlimit:10;\" d=\"M 468.351562 35.007812 L 468.351562 29.339844 \"/>\n",
       "<g style=\"fill:rgb(0%,0%,0%);fill-opacity:1;\">\n",
       "  <use xlink:href=\"#glyph0-11\" x=\"28.796875\" y=\"427.527344\"/>\n",
       "  <use xlink:href=\"#glyph0-8\" x=\"31.018555\" y=\"427.527344\"/>\n",
       "  <use xlink:href=\"#glyph0-12\" x=\"36.580078\" y=\"427.527344\"/>\n",
       "  <use xlink:href=\"#glyph0-13\" x=\"41.580078\" y=\"427.527344\"/>\n",
       "  <use xlink:href=\"#glyph0-14\" x=\"47.141602\" y=\"427.527344\"/>\n",
       "  <use xlink:href=\"#glyph0-11\" x=\"49.363281\" y=\"427.527344\"/>\n",
       "  <use xlink:href=\"#glyph0-8\" x=\"51.584961\" y=\"427.527344\"/>\n",
       "</g>\n",
       "<g style=\"fill:rgb(0%,0%,0%);fill-opacity:1;\">\n",
       "  <use xlink:href=\"#glyph0-6\" x=\"27.695312\" y=\"376.351562\"/>\n",
       "  <use xlink:href=\"#glyph0-5\" x=\"30.473633\" y=\"376.351562\"/>\n",
       "  <use xlink:href=\"#glyph0-11\" x=\"33.803711\" y=\"376.351562\"/>\n",
       "  <use xlink:href=\"#glyph0-9\" x=\"36.025391\" y=\"376.351562\"/>\n",
       "  <use xlink:href=\"#glyph0-10\" x=\"41.025391\" y=\"376.351562\"/>\n",
       "  <use xlink:href=\"#glyph0-3\" x=\"46.586914\" y=\"376.351562\"/>\n",
       "  <use xlink:href=\"#glyph0-12\" x=\"52.148438\" y=\"376.351562\"/>\n",
       "</g>\n",
       "<g style=\"fill:rgb(0%,0%,0%);fill-opacity:1;\">\n",
       "  <use xlink:href=\"#glyph0-3\" x=\"18.242188\" y=\"325.175781\"/>\n",
       "  <use xlink:href=\"#glyph0-5\" x=\"23.803711\" y=\"325.175781\"/>\n",
       "  <use xlink:href=\"#glyph0-10\" x=\"27.133789\" y=\"325.175781\"/>\n",
       "  <use xlink:href=\"#glyph0-12\" x=\"32.695312\" y=\"325.175781\"/>\n",
       "  <use xlink:href=\"#glyph0-12\" x=\"37.695312\" y=\"325.175781\"/>\n",
       "  <use xlink:href=\"#glyph0-13\" x=\"42.695312\" y=\"325.175781\"/>\n",
       "  <use xlink:href=\"#glyph0-5\" x=\"48.256836\" y=\"325.175781\"/>\n",
       "  <use xlink:href=\"#glyph0-10\" x=\"51.586914\" y=\"325.175781\"/>\n",
       "</g>\n",
       "<g style=\"fill:rgb(0%,0%,0%);fill-opacity:1;\">\n",
       "  <use xlink:href=\"#glyph0-3\" x=\"18.226562\" y=\"274\"/>\n",
       "  <use xlink:href=\"#glyph0-10\" x=\"23.788086\" y=\"274\"/>\n",
       "  <use xlink:href=\"#glyph0-15\" x=\"29.349609\" y=\"274\"/>\n",
       "  <use xlink:href=\"#glyph0-11\" x=\"34.911133\" y=\"274\"/>\n",
       "  <use xlink:href=\"#glyph0-16\" x=\"37.132812\" y=\"274\"/>\n",
       "  <use xlink:href=\"#glyph0-5\" x=\"42.694336\" y=\"274\"/>\n",
       "  <use xlink:href=\"#glyph0-10\" x=\"46.024414\" y=\"274\"/>\n",
       "  <use xlink:href=\"#glyph0-10\" x=\"51.585938\" y=\"274\"/>\n",
       "</g>\n",
       "<g style=\"fill:rgb(0%,0%,0%);fill-opacity:1;\">\n",
       "  <use xlink:href=\"#glyph0-3\" x=\"17.671875\" y=\"222.824219\"/>\n",
       "  <use xlink:href=\"#glyph0-5\" x=\"23.233398\" y=\"222.824219\"/>\n",
       "  <use xlink:href=\"#glyph0-10\" x=\"26.563477\" y=\"222.824219\"/>\n",
       "  <use xlink:href=\"#glyph0-16\" x=\"32.125\" y=\"222.824219\"/>\n",
       "  <use xlink:href=\"#glyph0-8\" x=\"37.686523\" y=\"222.824219\"/>\n",
       "  <use xlink:href=\"#glyph0-7\" x=\"43.248047\" y=\"222.824219\"/>\n",
       "  <use xlink:href=\"#glyph0-8\" x=\"48.80957\" y=\"222.824219\"/>\n",
       "  <use xlink:href=\"#glyph0-6\" x=\"54.371094\" y=\"222.824219\"/>\n",
       "</g>\n",
       "<g style=\"fill:rgb(0%,0%,0%);fill-opacity:1;\">\n",
       "  <use xlink:href=\"#glyph0-7\" x=\"40.464844\" y=\"171.652344\"/>\n",
       "  <use xlink:href=\"#glyph0-16\" x=\"46.026367\" y=\"171.652344\"/>\n",
       "  <use xlink:href=\"#glyph0-10\" x=\"51.587891\" y=\"171.652344\"/>\n",
       "</g>\n",
       "<g style=\"fill:rgb(0%,0%,0%);fill-opacity:1;\">\n",
       "  <use xlink:href=\"#glyph0-2\" x=\"33.257812\" y=\"120.476562\"/>\n",
       "  <use xlink:href=\"#glyph0-7\" x=\"41.587891\" y=\"120.476562\"/>\n",
       "  <use xlink:href=\"#glyph0-12\" x=\"47.149414\" y=\"120.476562\"/>\n",
       "  <use xlink:href=\"#glyph0-12\" x=\"52.149414\" y=\"120.476562\"/>\n",
       "</g>\n",
       "<g style=\"fill:rgb(0%,0%,0%);fill-opacity:1;\">\n",
       "  <use xlink:href=\"#glyph0-16\" x=\"22.679688\" y=\"69.300781\"/>\n",
       "  <use xlink:href=\"#glyph0-14\" x=\"28.241211\" y=\"69.300781\"/>\n",
       "  <use xlink:href=\"#glyph0-13\" x=\"30.462891\" y=\"69.300781\"/>\n",
       "  <use xlink:href=\"#glyph0-9\" x=\"36.024414\" y=\"69.300781\"/>\n",
       "  <use xlink:href=\"#glyph0-4\" x=\"41.024414\" y=\"69.300781\"/>\n",
       "  <use xlink:href=\"#glyph0-12\" x=\"46.585938\" y=\"69.300781\"/>\n",
       "  <use xlink:href=\"#glyph0-10\" x=\"51.585938\" y=\"69.300781\"/>\n",
       "</g>\n",
       "<path style=\"fill:none;stroke-width:0.75;stroke-linecap:round;stroke-linejoin:round;stroke:rgb(0%,0%,0%);stroke-opacity:1;stroke-miterlimit:10;\" d=\"M 131.042969 454.644531 L 131.042969 460.316406 \"/>\n",
       "<path style=\"fill:none;stroke-width:0.75;stroke-linecap:round;stroke-linejoin:round;stroke:rgb(0%,0%,0%);stroke-opacity:1;stroke-miterlimit:10;\" d=\"M 243.480469 454.644531 L 243.480469 460.316406 \"/>\n",
       "<path style=\"fill:none;stroke-width:0.75;stroke-linecap:round;stroke-linejoin:round;stroke:rgb(0%,0%,0%);stroke-opacity:1;stroke-miterlimit:10;\" d=\"M 355.914062 454.644531 L 355.914062 460.316406 \"/>\n",
       "<path style=\"fill:none;stroke-width:0.75;stroke-linecap:round;stroke-linejoin:round;stroke:rgb(0%,0%,0%);stroke-opacity:1;stroke-miterlimit:10;\" d=\"M 468.351562 454.644531 L 468.351562 460.316406 \"/>\n",
       "<g style=\"fill:rgb(0%,0%,0%);fill-opacity:1;\">\n",
       "  <use xlink:href=\"#glyph0-17\" x=\"124.09375\" y=\"473.15625\"/>\n",
       "  <use xlink:href=\"#glyph0-18\" x=\"129.655273\" y=\"473.15625\"/>\n",
       "  <use xlink:href=\"#glyph0-19\" x=\"132.433594\" y=\"473.15625\"/>\n",
       "</g>\n",
       "<g style=\"fill:rgb(0%,0%,0%);fill-opacity:1;\">\n",
       "  <use xlink:href=\"#glyph0-17\" x=\"236.53125\" y=\"473.15625\"/>\n",
       "  <use xlink:href=\"#glyph0-18\" x=\"242.092773\" y=\"473.15625\"/>\n",
       "  <use xlink:href=\"#glyph0-20\" x=\"244.871094\" y=\"473.15625\"/>\n",
       "</g>\n",
       "<g style=\"fill:rgb(0%,0%,0%);fill-opacity:1;\">\n",
       "  <use xlink:href=\"#glyph0-17\" x=\"348.964844\" y=\"473.15625\"/>\n",
       "  <use xlink:href=\"#glyph0-18\" x=\"354.526367\" y=\"473.15625\"/>\n",
       "  <use xlink:href=\"#glyph0-21\" x=\"357.304688\" y=\"473.15625\"/>\n",
       "</g>\n",
       "<g style=\"fill:rgb(0%,0%,0%);fill-opacity:1;\">\n",
       "  <use xlink:href=\"#glyph0-17\" x=\"461.402344\" y=\"473.15625\"/>\n",
       "  <use xlink:href=\"#glyph0-18\" x=\"466.963867\" y=\"473.15625\"/>\n",
       "  <use xlink:href=\"#glyph0-22\" x=\"469.742188\" y=\"473.15625\"/>\n",
       "</g>\n",
       "<g clip-path=\"url(#clip1)\" clip-rule=\"nonzero\">\n",
       "<path style=\"fill:none;stroke-width:0.75;stroke-linecap:round;stroke-linejoin:round;stroke:rgb(0%,0%,0%);stroke-opacity:1;stroke-miterlimit:10;\" d=\"M 455.003906 65.714844 L 0 65.714844 \"/>\n",
       "</g>\n",
       "<g clip-path=\"url(#clip2)\" clip-rule=\"nonzero\">\n",
       "<path style=\"fill:none;stroke-width:0.75;stroke-linecap:round;stroke-linejoin:round;stroke:rgb(0%,0%,0%);stroke-opacity:1;stroke-miterlimit:10;\" d=\"M 341.933594 116.886719 L 0 116.886719 \"/>\n",
       "</g>\n",
       "<g clip-path=\"url(#clip3)\" clip-rule=\"nonzero\">\n",
       "<path style=\"fill:none;stroke-width:0.75;stroke-linecap:round;stroke-linejoin:round;stroke:rgb(0%,0%,0%);stroke-opacity:1;stroke-miterlimit:10;\" d=\"M 341.230469 168.0625 L 0 168.0625 \"/>\n",
       "</g>\n",
       "<g clip-path=\"url(#clip4)\" clip-rule=\"nonzero\">\n",
       "<path style=\"fill:none;stroke-width:0.75;stroke-linecap:round;stroke-linejoin:round;stroke:rgb(0%,0%,0%);stroke-opacity:1;stroke-miterlimit:10;\" d=\"M 265.421875 219.238281 L 0 219.238281 \"/>\n",
       "</g>\n",
       "<g clip-path=\"url(#clip5)\" clip-rule=\"nonzero\">\n",
       "<path style=\"fill:none;stroke-width:0.75;stroke-linecap:round;stroke-linejoin:round;stroke:rgb(0%,0%,0%);stroke-opacity:1;stroke-miterlimit:10;\" d=\"M 250.453125 270.414062 L 0 270.414062 \"/>\n",
       "</g>\n",
       "<g clip-path=\"url(#clip6)\" clip-rule=\"nonzero\">\n",
       "<path style=\"fill:none;stroke-width:0.75;stroke-linecap:round;stroke-linejoin:round;stroke:rgb(0%,0%,0%);stroke-opacity:1;stroke-miterlimit:10;\" d=\"M 228.253906 321.589844 L 0 321.589844 \"/>\n",
       "</g>\n",
       "<g clip-path=\"url(#clip7)\" clip-rule=\"nonzero\">\n",
       "<path style=\"fill:none;stroke-width:0.75;stroke-linecap:round;stroke-linejoin:round;stroke:rgb(0%,0%,0%);stroke-opacity:1;stroke-miterlimit:10;\" d=\"M 191.339844 372.765625 L 0 372.765625 \"/>\n",
       "</g>\n",
       "<g clip-path=\"url(#clip8)\" clip-rule=\"nonzero\">\n",
       "<path style=\"fill:none;stroke-width:0.75;stroke-linecap:round;stroke-linejoin:round;stroke:rgb(0%,0%,0%);stroke-opacity:1;stroke-miterlimit:10;\" d=\"M 88.472656 423.941406 L 0 423.941406 \"/>\n",
       "</g>\n",
       "<path style=\" stroke:none;fill-rule:nonzero;fill:rgb(0%,50.196078%,100%);fill-opacity:1;\" d=\"M 457.402344 65.714844 C 457.402344 68.914062 452.605469 68.914062 452.605469 65.714844 C 452.605469 62.511719 457.402344 62.511719 457.402344 65.714844 \"/>\n",
       "<path style=\" stroke:none;fill-rule:nonzero;fill:rgb(0%,50.196078%,100%);fill-opacity:1;\" d=\"M 344.335938 116.886719 C 344.335938 120.089844 339.535156 120.089844 339.535156 116.886719 C 339.535156 113.6875 344.335938 113.6875 344.335938 116.886719 \"/>\n",
       "<path style=\" stroke:none;fill-rule:nonzero;fill:rgb(0%,50.196078%,100%);fill-opacity:1;\" d=\"M 343.628906 168.0625 C 343.628906 171.265625 338.832031 171.265625 338.832031 168.0625 C 338.832031 164.863281 343.628906 164.863281 343.628906 168.0625 \"/>\n",
       "<path style=\" stroke:none;fill-rule:nonzero;fill:rgb(0%,50.196078%,100%);fill-opacity:1;\" d=\"M 267.820312 219.238281 C 267.820312 222.4375 263.019531 222.4375 263.019531 219.238281 C 263.019531 216.039062 267.820312 216.039062 267.820312 219.238281 \"/>\n",
       "<path style=\" stroke:none;fill-rule:nonzero;fill:rgb(0%,50.196078%,100%);fill-opacity:1;\" d=\"M 252.851562 270.414062 C 252.851562 273.613281 248.050781 273.613281 248.050781 270.414062 C 248.050781 267.214844 252.851562 267.214844 252.851562 270.414062 \"/>\n",
       "<path style=\" stroke:none;fill-rule:nonzero;fill:rgb(0%,50.196078%,100%);fill-opacity:1;\" d=\"M 230.652344 321.589844 C 230.652344 324.789062 225.855469 324.789062 225.855469 321.589844 C 225.855469 318.390625 230.652344 318.390625 230.652344 321.589844 \"/>\n",
       "<path style=\" stroke:none;fill-rule:nonzero;fill:rgb(0%,50.196078%,100%);fill-opacity:1;\" d=\"M 193.738281 372.765625 C 193.738281 375.964844 188.9375 375.964844 188.9375 372.765625 C 188.9375 369.566406 193.738281 369.566406 193.738281 372.765625 \"/>\n",
       "<path style=\" stroke:none;fill-rule:nonzero;fill:rgb(0%,50.196078%,100%);fill-opacity:1;\" d=\"M 90.875 423.941406 C 90.875 427.140625 86.074219 427.140625 86.074219 423.941406 C 86.074219 420.742188 90.875 420.742188 90.875 423.941406 \"/>\n",
       "<path style=\"fill:none;stroke-width:0.75;stroke-linecap:round;stroke-linejoin:round;stroke:rgb(0%,0%,0%);stroke-opacity:1;stroke-miterlimit:10;\" d=\"M 62.816406 454.644531 L 480.660156 454.644531 L 480.660156 35.007812 L 62.816406 35.007812 Z M 62.816406 454.644531 \"/>\n",
       "</g>\n",
       "</svg>\n"
      ],
      "text/plain": [
       "plot without title"
      ]
     },
     "metadata": {
      "image/svg+xml": {
       "isolated": true
      }
     },
     "output_type": "display_data"
    }
   ],
   "source": [
    "imps <- varImp(lvq.fit, scale = F)\n",
    "imps\n",
    "\n",
    "plot(imps)"
   ]
  },
  {
   "cell_type": "markdown",
   "metadata": {},
   "source": [
    "## Recursive Feature Elimination"
   ]
  },
  {
   "cell_type": "markdown",
   "metadata": {},
   "source": [
    "Here's our Recursive Feature Elimination (RFE) algorithm:"
   ]
  },
  {
   "cell_type": "markdown",
   "metadata": {},
   "source": [
    "![](http://topepo.github.io/caret/Algo2.png)"
   ]
  },
  {
   "cell_type": "markdown",
   "metadata": {},
   "source": [
    "It's slightly different from the basic version of RFE because, as you can see, our RFE **incorporates resampling**. \n",
    "\n",
    "Since feature selection is part of the model building process, resampling methods (e.g. cross-validation, the bootstrap) should factor in the variability caused by feature selection when calculating performance. To get performance estimates that incorporate the variation due to feature selection, it is suggested that the steps in the basic algorithm be **encapsulated inside an outer layer of resampling**. Here we will run **cross-validation** (again) with 25 folds.\n",
    "\n",
    "RFE with resampling is more computationally burdensome, but it can be easily parallelized (if your machine has multiple processors)."
   ]
  },
  {
   "cell_type": "markdown",
   "metadata": {},
   "source": [
    "In `caret`, our resampling-based algorithm is presented by function `rfe`. \n",
    "\n",
    "> `rfeIter` is the basic algorithm while `rfe` wraps these operations inside of resampling. To avoid selection bias, it is better to use the function `rfe` than `rfeIter`.\n",
    "\n",
    "`rfeControl` generates a control object that can be used to specify the details of the feature selection algorithms used in this package:\n",
    "\n",
    "* `functions = rfFuncs` – a list of functions for model fitting, prediction and variable importance (random forests),\n",
    "* `method = \"cv\"` – the external resampling method (cross-validation),\n",
    "* `number` – either the number of folds or number of resampling iterations (25 folds).\n",
    "\n",
    "Let's create the control object `rfe.ctrl`:"
   ]
  },
  {
   "cell_type": "code",
   "execution_count": 159,
   "metadata": {
    "collapsed": true
   },
   "outputs": [],
   "source": [
    "rfe.ctrl <- rfeControl(functions = rfFuncs, method = \"cv\", number = 25, verbose = FALSE)"
   ]
  },
  {
   "cell_type": "markdown",
   "metadata": {},
   "source": [
    "And next, we'll run the RFE algorithm!\n",
    "\n",
    "`rfe` takes `X` (predictor variables),"
   ]
  },
  {
   "cell_type": "code",
   "execution_count": 160,
   "metadata": {
    "collapsed": false
   },
   "outputs": [
    {
     "data": {
      "text/plain": [
       "\n",
       "Recursive feature selection\n",
       "\n",
       "Outer resampling method: Cross-Validated (25 fold) \n",
       "\n",
       "Resampling performance over subset size:\n",
       "\n",
       " Variables Accuracy  Kappa AccuracySD KappaSD Selected\n",
       "         1   0.7003 0.2987    0.05925  0.1451         \n",
       "         2   0.7317 0.3911    0.06105  0.1397         \n",
       "         3   0.7449 0.4291    0.07462  0.1576         \n",
       "         4   0.7503 0.4379    0.08368  0.1830         \n",
       "         5   0.7593 0.4523    0.07119  0.1638         \n",
       "         6   0.7644 0.4708    0.07518  0.1554         \n",
       "         7   0.7617 0.4618    0.06664  0.1449         \n",
       "         8   0.7708 0.4804    0.05974  0.1317        *\n",
       "\n",
       "The top 5 variables (out of 8):\n",
       "   glucose, mass, age, pregnant, insulin\n"
      ]
     },
     "execution_count": 160,
     "metadata": {},
     "output_type": "execute_result"
    }
   ],
   "source": [
    "result <- rfe(PimaIndiansDiabetes[, 1:8], PimaIndiansDiabetes[, 9], \n",
    "              sizes = c(1:8), rfeControl = rfe.ctrl)\n",
    "\n",
    "# Show the result!\n",
    "result"
   ]
  },
  {
   "cell_type": "markdown",
   "metadata": {},
   "source": [
    "`predictors()` – this function gets **names of the selected variables** (selected by the final model, I mean).\n",
    "\n",
    "**The final model** itself is `rfe`'s object `fit` and can be used for making predictions. In our case, it is a random forest classifier:\n",
    "> `Type of random forest: classification`\n",
    "\n",
    "And, finally, how good is our model? To answer this question, let's plot the results of cross-validation. The best subset size and resampling performance for this size are saved into `optsize` and `resample` objects respectively.\n",
    "\n",
    "There's a convenient way to visualize performance `plot()` – a function that easily plots resampling accuracy over subset size. "
   ]
  },
  {
   "cell_type": "code",
   "execution_count": 161,
   "metadata": {
    "collapsed": false
   },
   "outputs": [
    {
     "data": {
      "text/html": [
       "<ol class=list-inline>\n",
       "\t<li>'glucose'</li>\n",
       "\t<li>'mass'</li>\n",
       "\t<li>'age'</li>\n",
       "\t<li>'pregnant'</li>\n",
       "\t<li>'insulin'</li>\n",
       "\t<li>'pedigree'</li>\n",
       "\t<li>'triceps'</li>\n",
       "\t<li>'pressure'</li>\n",
       "</ol>\n"
      ],
      "text/latex": [
       "\\begin{enumerate*}\n",
       "\\item 'glucose'\n",
       "\\item 'mass'\n",
       "\\item 'age'\n",
       "\\item 'pregnant'\n",
       "\\item 'insulin'\n",
       "\\item 'pedigree'\n",
       "\\item 'triceps'\n",
       "\\item 'pressure'\n",
       "\\end{enumerate*}\n"
      ],
      "text/markdown": [
       "1. 'glucose'\n",
       "2. 'mass'\n",
       "3. 'age'\n",
       "4. 'pregnant'\n",
       "5. 'insulin'\n",
       "6. 'pedigree'\n",
       "7. 'triceps'\n",
       "8. 'pressure'\n",
       "\n",
       "\n"
      ],
      "text/plain": [
       "[1] \"glucose\"  \"mass\"     \"age\"      \"pregnant\" \"insulin\"  \"pedigree\" \"triceps\" \n",
       "[8] \"pressure\""
      ]
     },
     "execution_count": 161,
     "metadata": {},
     "output_type": "execute_result"
    }
   ],
   "source": [
    "predictors(result)"
   ]
  },
  {
   "cell_type": "code",
   "execution_count": 162,
   "metadata": {
    "collapsed": false,
    "scrolled": true
   },
   "outputs": [
    {
     "data": {
      "text/plain": [
       "\n",
       "Call:\n",
       " randomForest(x = x, y = y, importance = first) \n",
       "               Type of random forest: classification\n",
       "                     Number of trees: 500\n",
       "No. of variables tried at each split: 2\n",
       "\n",
       "        OOB estimate of  error rate: 23.44%\n",
       "Confusion matrix:\n",
       "    neg pos class.error\n",
       "neg 425  75    0.150000\n",
       "pos 105 163    0.391791"
      ]
     },
     "execution_count": 162,
     "metadata": {},
     "output_type": "execute_result"
    }
   ],
   "source": [
    "# The final model\n",
    "result$fit"
   ]
  },
  {
   "cell_type": "code",
   "execution_count": 163,
   "metadata": {
    "collapsed": false
   },
   "outputs": [
    {
     "data": {
      "text/html": [
       "8"
      ],
      "text/latex": [
       "8"
      ],
      "text/markdown": [
       "8"
      ],
      "text/plain": [
       "[1] 8"
      ]
     },
     "execution_count": 163,
     "metadata": {},
     "output_type": "execute_result"
    }
   ],
   "source": [
    "# Get selected subset size\n",
    "result$optsize"
   ]
  },
  {
   "cell_type": "code",
   "execution_count": 164,
   "metadata": {
    "collapsed": false
   },
   "outputs": [
    {
     "data": {
      "text/html": [
       "<table>\n",
       "<thead><tr><th></th><th scope=col>Variables</th><th scope=col>Accuracy</th><th scope=col>Kappa</th><th scope=col>.cell1</th><th scope=col>.cell2</th><th scope=col>.cell3</th><th scope=col>.cell4</th><th scope=col>Resample</th></tr></thead>\n",
       "<tbody>\n",
       "\t<tr><th scope=row>8</th><td>8</td><td>0.6451613</td><td>0.1743341</td><td>16</td><td>4</td><td>7</td><td>4</td><td>Fold01</td></tr>\n",
       "\t<tr><th scope=row>16</th><td>8</td><td>0.8387097</td><td>0.6246973</td><td>19</td><td>1</td><td>4</td><td>7</td><td>Fold02</td></tr>\n",
       "\t<tr><th scope=row>24</th><td>8</td><td>0.8064516</td><td>0.6092437</td><td>15</td><td>5</td><td>1</td><td>10</td><td>Fold03</td></tr>\n",
       "\t<tr><th scope=row>32</th><td>8</td><td>0.7333333</td><td>0.4</td><td>16</td><td>4</td><td>4</td><td>6</td><td>Fold04</td></tr>\n",
       "\t<tr><th scope=row>40</th><td>8</td><td>0.7741935</td><td>0.4745763</td><td>18</td><td>2</td><td>5</td><td>6</td><td>Fold05</td></tr>\n",
       "\t<tr><th scope=row>48</th><td>8</td><td>0.8387097</td><td>0.6246973</td><td>19</td><td>1</td><td>4</td><td>7</td><td>Fold06</td></tr>\n",
       "</tbody>\n",
       "</table>\n"
      ],
      "text/latex": [
       "\\begin{tabular}{r|llllllll}\n",
       "  & Variables & Accuracy & Kappa & .cell1 & .cell2 & .cell3 & .cell4 & Resample\\\\\n",
       "\\hline\n",
       "\t8 & 8 & 0.6451613 & 0.1743341 & 16 & 4 & 7 & 4 & Fold01\\\\\n",
       "\t16 & 8 & 0.8387097 & 0.6246973 & 19 & 1 & 4 & 7 & Fold02\\\\\n",
       "\t24 & 8 & 0.8064516 & 0.6092437 & 15 & 5 & 1 & 10 & Fold03\\\\\n",
       "\t32 & 8 & 0.7333333 & 0.4 & 16 & 4 & 4 & 6 & Fold04\\\\\n",
       "\t40 & 8 & 0.7741935 & 0.4745763 & 18 & 2 & 5 & 6 & Fold05\\\\\n",
       "\t48 & 8 & 0.8387097 & 0.6246973 & 19 & 1 & 4 & 7 & Fold06\\\\\n",
       "\\end{tabular}\n"
      ],
      "text/plain": [
       "   Variables  Accuracy     Kappa .cell1 .cell2 .cell3 .cell4 Resample\n",
       "8          8 0.6451613 0.1743341     16      4      7      4   Fold01\n",
       "16         8 0.8387097 0.6246973     19      1      4      7   Fold02\n",
       "24         8 0.8064516 0.6092437     15      5      1     10   Fold03\n",
       "32         8 0.7333333 0.4000000     16      4      4      6   Fold04\n",
       "40         8 0.7741935 0.4745763     18      2      5      6   Fold05\n",
       "48         8 0.8387097 0.6246973     19      1      4      7   Fold06"
      ]
     },
     "execution_count": 164,
     "metadata": {},
     "output_type": "execute_result"
    }
   ],
   "source": [
    "# First 6 rows of resampling results\n",
    "head(result$resample)"
   ]
  },
  {
   "cell_type": "code",
   "execution_count": 165,
   "metadata": {
    "collapsed": false
   },
   "outputs": [
    {
     "data": {
      "image/png": "[encoded data removed]",
      "image/svg+xml": [
       "<?xml version=\"1.0\" encoding=\"UTF-8\"?>\n",
       "<svg xmlns=\"http://www.w3.org/2000/svg\" xmlns:xlink=\"http://www.w3.org/1999/xlink\" width=\"504pt\" height=\"504pt\" viewBox=\"0 0 504 504\" version=\"1.1\">\n",
       "<defs>\n",
       "<g>\n",
       "<symbol overflow=\"visible\" id=\"glyph0-0\">\n",
       "<path style=\"stroke:none;\" d=\"\"/>\n",
       "</symbol>\n",
       "<symbol overflow=\"visible\" id=\"glyph0-1\">\n",
       "<path style=\"stroke:none;\" d=\"M 4.097656 -3.886719 C 4.554688 -3.886719 4.914062 -3.976562 5.179688 -4.160156 C 5.445312 -4.34375 5.578125 -4.671875 5.578125 -5.148438 C 5.578125 -5.65625 5.390625 -6.007812 5.019531 -6.191406 C 4.820312 -6.289062 4.554688 -6.335938 4.222656 -6.335938 L 1.851562 -6.335938 L 1.851562 -3.886719 Z M 0.878906 -7.171875 L 4.199219 -7.171875 C 4.746094 -7.171875 5.195312 -7.09375 5.550781 -6.933594 C 6.226562 -6.628906 6.5625 -6.0625 6.5625 -5.238281 C 6.5625 -4.808594 6.472656 -4.457031 6.296875 -4.183594 C 6.117188 -3.910156 5.871094 -3.691406 5.550781 -3.523438 C 5.832031 -3.410156 6.042969 -3.261719 6.183594 -3.078125 C 6.324219 -2.890625 6.40625 -2.589844 6.421875 -2.171875 L 6.453125 -1.210938 C 6.464844 -0.9375 6.488281 -0.734375 6.523438 -0.601562 C 6.582031 -0.375 6.6875 -0.226562 6.835938 -0.160156 L 6.835938 0 L 5.644531 0 C 5.613281 -0.0625 5.585938 -0.140625 5.566406 -0.238281 C 5.546875 -0.335938 5.53125 -0.527344 5.515625 -0.804688 L 5.460938 -2 C 5.4375 -2.46875 5.261719 -2.785156 4.9375 -2.945312 C 4.75 -3.03125 4.460938 -3.078125 4.0625 -3.078125 L 1.851562 -3.078125 L 1.851562 0 L 0.878906 0 Z M 0.878906 -7.171875 \"/>\n",
       "</symbol>\n",
       "<symbol overflow=\"visible\" id=\"glyph0-2\">\n",
       "<path style=\"stroke:none;\" d=\"M 3.902344 -5.085938 C 4.25 -4.910156 4.515625 -4.6875 4.695312 -4.410156 C 4.871094 -4.144531 4.992188 -3.835938 5.046875 -3.484375 C 5.101562 -3.246094 5.125 -2.859375 5.125 -2.335938 L 1.292969 -2.335938 C 1.308594 -1.804688 1.4375 -1.378906 1.671875 -1.058594 C 1.90625 -0.738281 2.265625 -0.578125 2.757812 -0.578125 C 3.21875 -0.578125 3.585938 -0.726562 3.859375 -1.03125 C 4.015625 -1.207031 4.125 -1.410156 4.1875 -1.640625 L 5.054688 -1.640625 C 5.03125 -1.449219 4.957031 -1.234375 4.828125 -1 C 4.699219 -0.761719 4.554688 -0.570312 4.394531 -0.421875 C 4.128906 -0.160156 3.796875 0.015625 3.402344 0.109375 C 3.191406 0.160156 2.953125 0.1875 2.6875 0.1875 C 2.035156 0.1875 1.484375 -0.0507812 1.03125 -0.523438 C 0.578125 -1 0.351562 -1.660156 0.351562 -2.515625 C 0.351562 -3.355469 0.578125 -4.035156 1.035156 -4.5625 C 1.492188 -5.085938 2.085938 -5.347656 2.820312 -5.347656 C 3.191406 -5.347656 3.554688 -5.257812 3.902344 -5.085938 Z M 4.222656 -3.03125 C 4.1875 -3.414062 4.105469 -3.71875 3.976562 -3.945312 C 3.734375 -4.367188 3.332031 -4.578125 2.769531 -4.578125 C 2.367188 -4.578125 2.027344 -4.433594 1.753906 -4.144531 C 1.480469 -3.851562 1.335938 -3.480469 1.320312 -3.03125 Z M 4.222656 -3.03125 \"/>\n",
       "</symbol>\n",
       "<symbol overflow=\"visible\" id=\"glyph0-3\">\n",
       "<path style=\"stroke:none;\" d=\"M 1.167969 -1.640625 C 1.195312 -1.347656 1.265625 -1.125 1.386719 -0.96875 C 1.609375 -0.683594 1.992188 -0.542969 2.539062 -0.542969 C 2.863281 -0.542969 3.152344 -0.613281 3.398438 -0.753906 C 3.644531 -0.894531 3.769531 -1.113281 3.769531 -1.410156 C 3.769531 -1.636719 3.671875 -1.804688 3.472656 -1.921875 C 3.34375 -1.996094 3.09375 -2.078125 2.71875 -2.171875 L 2.023438 -2.347656 C 1.578125 -2.460938 1.246094 -2.582031 1.035156 -2.71875 C 0.65625 -2.957031 0.46875 -3.285156 0.46875 -3.707031 C 0.46875 -4.203125 0.648438 -4.601562 1.003906 -4.90625 C 1.359375 -5.210938 1.839844 -5.367188 2.441406 -5.367188 C 3.230469 -5.367188 3.796875 -5.136719 4.144531 -4.671875 C 4.363281 -4.378906 4.46875 -4.0625 4.460938 -3.726562 L 3.632812 -3.726562 C 3.617188 -3.925781 3.546875 -4.105469 3.421875 -4.265625 C 3.21875 -4.5 2.871094 -4.613281 2.375 -4.613281 C 2.042969 -4.613281 1.789062 -4.550781 1.617188 -4.421875 C 1.445312 -4.296875 1.363281 -4.128906 1.363281 -3.921875 C 1.363281 -3.695312 1.476562 -3.511719 1.699219 -3.375 C 1.828125 -3.292969 2.023438 -3.222656 2.273438 -3.160156 L 2.855469 -3.015625 C 3.488281 -2.863281 3.910156 -2.714844 4.125 -2.574219 C 4.46875 -2.347656 4.640625 -1.996094 4.640625 -1.515625 C 4.640625 -1.046875 4.460938 -0.644531 4.109375 -0.308594 C 3.757812 0.03125 3.21875 0.199219 2.496094 0.199219 C 1.71875 0.199219 1.167969 0.0234375 0.84375 -0.328125 C 0.519531 -0.683594 0.34375 -1.121094 0.320312 -1.640625 Z M 1.167969 -1.640625 \"/>\n",
       "</symbol>\n",
       "<symbol overflow=\"visible\" id=\"glyph0-4\">\n",
       "<path style=\"stroke:none;\" d=\"M 1.597656 -0.789062 C 1.78125 -0.644531 2 -0.570312 2.257812 -0.570312 C 2.566406 -0.570312 2.863281 -0.644531 3.15625 -0.785156 C 3.644531 -1.023438 3.886719 -1.414062 3.886719 -1.953125 L 3.886719 -2.660156 C 3.78125 -2.59375 3.640625 -2.535156 3.472656 -2.492188 C 3.304688 -2.445312 3.136719 -2.414062 2.972656 -2.390625 L 2.441406 -2.324219 C 2.121094 -2.28125 1.882812 -2.214844 1.722656 -2.125 C 1.453125 -1.972656 1.320312 -1.726562 1.320312 -1.390625 C 1.320312 -1.136719 1.410156 -0.9375 1.597656 -0.789062 Z M 3.445312 -3.167969 C 3.648438 -3.195312 3.785156 -3.28125 3.851562 -3.421875 C 3.890625 -3.5 3.910156 -3.613281 3.910156 -3.757812 C 3.910156 -4.058594 3.804688 -4.277344 3.589844 -4.410156 C 3.378906 -4.546875 3.074219 -4.613281 2.675781 -4.613281 C 2.21875 -4.613281 1.890625 -4.492188 1.699219 -4.242188 C 1.59375 -4.105469 1.523438 -3.902344 1.488281 -3.632812 L 0.667969 -3.632812 C 0.683594 -4.277344 0.894531 -4.726562 1.296875 -4.976562 C 1.699219 -5.230469 2.164062 -5.355469 2.695312 -5.355469 C 3.3125 -5.355469 3.808594 -5.238281 4.195312 -5.003906 C 4.574219 -4.769531 4.765625 -4.40625 4.765625 -3.910156 L 4.765625 -0.898438 C 4.765625 -0.808594 4.785156 -0.734375 4.820312 -0.679688 C 4.859375 -0.625 4.9375 -0.59375 5.058594 -0.59375 C 5.097656 -0.59375 5.140625 -0.597656 5.191406 -0.601562 C 5.238281 -0.609375 5.292969 -0.617188 5.347656 -0.625 L 5.347656 0.0234375 C 5.210938 0.0625 5.105469 0.0859375 5.035156 0.0976562 C 4.960938 0.109375 4.863281 0.113281 4.742188 0.113281 C 4.4375 0.113281 4.21875 0.00390625 4.082031 -0.210938 C 4.011719 -0.324219 3.960938 -0.484375 3.929688 -0.695312 C 3.75 -0.460938 3.496094 -0.253906 3.160156 -0.0820312 C 2.824219 0.0898438 2.453125 0.175781 2.050781 0.175781 C 1.566406 0.175781 1.167969 0.0273438 0.863281 -0.265625 C 0.554688 -0.5625 0.398438 -0.929688 0.398438 -1.371094 C 0.398438 -1.855469 0.550781 -2.234375 0.855469 -2.5 C 1.15625 -2.765625 1.554688 -2.929688 2.046875 -2.992188 Z M 3.445312 -3.167969 \"/>\n",
       "</symbol>\n",
       "<symbol overflow=\"visible\" id=\"glyph0-5\">\n",
       "<path style=\"stroke:none;\" d=\"M 0.644531 -5.230469 L 1.515625 -5.230469 L 1.515625 -4.488281 C 1.722656 -4.746094 1.910156 -4.929688 2.078125 -5.046875 C 2.367188 -5.246094 2.699219 -5.347656 3.066406 -5.347656 C 3.484375 -5.347656 3.820312 -5.242188 4.070312 -5.039062 C 4.214844 -4.921875 4.34375 -4.75 4.460938 -4.523438 C 4.65625 -4.800781 4.886719 -5.007812 5.152344 -5.144531 C 5.414062 -5.28125 5.710938 -5.347656 6.039062 -5.347656 C 6.742188 -5.347656 7.222656 -5.09375 7.476562 -4.585938 C 7.613281 -4.3125 7.679688 -3.945312 7.679688 -3.480469 L 7.679688 0 L 6.765625 0 L 6.765625 -3.632812 C 6.765625 -3.980469 6.679688 -4.21875 6.507812 -4.351562 C 6.332031 -4.480469 6.121094 -4.546875 5.867188 -4.546875 C 5.523438 -4.546875 5.226562 -4.429688 4.976562 -4.199219 C 4.726562 -3.96875 4.605469 -3.582031 4.605469 -3.042969 L 4.605469 0 L 3.710938 0 L 3.710938 -3.414062 C 3.710938 -3.769531 3.667969 -4.027344 3.585938 -4.1875 C 3.453125 -4.433594 3.203125 -4.554688 2.835938 -4.554688 C 2.503906 -4.554688 2.203125 -4.425781 1.929688 -4.171875 C 1.660156 -3.914062 1.523438 -3.445312 1.523438 -2.773438 L 1.523438 0 L 0.644531 0 Z M 0.644531 -5.230469 \"/>\n",
       "</symbol>\n",
       "<symbol overflow=\"visible\" id=\"glyph0-6\">\n",
       "<path style=\"stroke:none;\" d=\"M 3.875 -1.105469 C 4.148438 -1.449219 4.28125 -1.960938 4.28125 -2.648438 C 4.28125 -3.0625 4.222656 -3.421875 4.101562 -3.71875 C 3.875 -4.296875 3.457031 -4.585938 2.851562 -4.585938 C 2.242188 -4.585938 1.828125 -4.28125 1.601562 -3.671875 C 1.480469 -3.347656 1.421875 -2.933594 1.421875 -2.429688 C 1.421875 -2.027344 1.480469 -1.683594 1.601562 -1.402344 C 1.828125 -0.859375 2.246094 -0.589844 2.851562 -0.589844 C 3.261719 -0.589844 3.601562 -0.761719 3.875 -1.105469 Z M 0.578125 -5.203125 L 1.429688 -5.203125 L 1.429688 -4.511719 C 1.605469 -4.75 1.796875 -4.933594 2.007812 -5.0625 C 2.304688 -5.257812 2.652344 -5.355469 3.050781 -5.355469 C 3.644531 -5.355469 4.148438 -5.128906 4.5625 -4.675781 C 4.976562 -4.222656 5.179688 -3.574219 5.179688 -2.730469 C 5.179688 -1.589844 4.882812 -0.777344 4.289062 -0.289062 C 3.910156 0.0195312 3.46875 0.175781 2.96875 0.175781 C 2.574219 0.175781 2.246094 0.0898438 1.976562 -0.0820312 C 1.820312 -0.179688 1.648438 -0.347656 1.453125 -0.585938 L 1.453125 2.085938 L 0.578125 2.085938 Z M 0.578125 -5.203125 \"/>\n",
       "</symbol>\n",
       "<symbol overflow=\"visible\" id=\"glyph0-7\">\n",
       "<path style=\"stroke:none;\" d=\"M 0.667969 -7.171875 L 1.546875 -7.171875 L 1.546875 0 L 0.667969 0 Z M 0.667969 -7.171875 \"/>\n",
       "</symbol>\n",
       "<symbol overflow=\"visible\" id=\"glyph0-8\">\n",
       "<path style=\"stroke:none;\" d=\"M 0.644531 -5.203125 L 1.539062 -5.203125 L 1.539062 0 L 0.644531 0 Z M 0.644531 -7.171875 L 1.539062 -7.171875 L 1.539062 -6.175781 L 0.644531 -6.175781 Z M 0.644531 -7.171875 \"/>\n",
       "</symbol>\n",
       "<symbol overflow=\"visible\" id=\"glyph0-9\">\n",
       "<path style=\"stroke:none;\" d=\"M 0.644531 -5.230469 L 1.480469 -5.230469 L 1.480469 -4.488281 C 1.726562 -4.792969 1.988281 -5.011719 2.265625 -5.148438 C 2.542969 -5.28125 2.851562 -5.347656 3.1875 -5.347656 C 3.929688 -5.347656 4.433594 -5.085938 4.691406 -4.570312 C 4.835938 -4.289062 4.90625 -3.882812 4.90625 -3.355469 L 4.90625 0 L 4.015625 0 L 4.015625 -3.296875 C 4.015625 -3.617188 3.964844 -3.871094 3.871094 -4.066406 C 3.714844 -4.390625 3.433594 -4.554688 3.023438 -4.554688 C 2.8125 -4.554688 2.644531 -4.535156 2.507812 -4.492188 C 2.269531 -4.421875 2.058594 -4.277344 1.875 -4.0625 C 1.726562 -3.890625 1.632812 -3.710938 1.589844 -3.527344 C 1.546875 -3.34375 1.523438 -3.082031 1.523438 -2.738281 L 1.523438 0 L 0.644531 0 Z M 0.644531 -5.230469 \"/>\n",
       "</symbol>\n",
       "<symbol overflow=\"visible\" id=\"glyph0-10\">\n",
       "<path style=\"stroke:none;\" d=\"M 3.5625 -5.019531 C 3.730469 -4.90625 3.898438 -4.738281 4.070312 -4.523438 L 4.070312 -5.179688 L 4.882812 -5.179688 L 4.882812 -0.425781 C 4.882812 0.238281 4.785156 0.761719 4.589844 1.148438 C 4.226562 1.859375 3.535156 2.210938 2.523438 2.210938 C 1.960938 2.210938 1.488281 2.085938 1.101562 1.832031 C 0.71875 1.582031 0.503906 1.1875 0.460938 0.648438 L 1.351562 0.648438 C 1.394531 0.882812 1.480469 1.0625 1.605469 1.191406 C 1.804688 1.386719 2.117188 1.484375 2.542969 1.484375 C 3.21875 1.484375 3.660156 1.246094 3.867188 0.773438 C 3.992188 0.492188 4.046875 -0.0078125 4.039062 -0.726562 C 3.863281 -0.460938 3.652344 -0.261719 3.402344 -0.132812 C 3.15625 0 2.828125 0.0625 2.421875 0.0625 C 1.855469 0.0625 1.359375 -0.136719 0.933594 -0.539062 C 0.507812 -0.941406 0.296875 -1.605469 0.296875 -2.535156 C 0.296875 -3.410156 0.511719 -4.09375 0.941406 -4.585938 C 1.367188 -5.078125 1.882812 -5.320312 2.492188 -5.320312 C 2.902344 -5.320312 3.257812 -5.222656 3.5625 -5.019531 Z M 3.671875 -4.078125 C 3.40625 -4.390625 3.066406 -4.546875 2.652344 -4.546875 C 2.03125 -4.546875 1.609375 -4.257812 1.382812 -3.675781 C 1.261719 -3.367188 1.203125 -2.960938 1.203125 -2.460938 C 1.203125 -1.871094 1.320312 -1.421875 1.558594 -1.117188 C 1.796875 -0.808594 2.121094 -0.65625 2.523438 -0.65625 C 3.15625 -0.65625 3.601562 -0.9375 3.859375 -1.507812 C 4 -1.832031 4.070312 -2.207031 4.070312 -2.636719 C 4.070312 -3.285156 3.9375 -3.765625 3.671875 -4.078125 Z M 3.671875 -4.078125 \"/>\n",
       "</symbol>\n",
       "<symbol overflow=\"visible\" id=\"glyph0-11\">\n",
       "<g>\n",
       "</g>\n",
       "</symbol>\n",
       "<symbol overflow=\"visible\" id=\"glyph0-12\">\n",
       "<path style=\"stroke:none;\" d=\"M 4.097656 -4.953125 C 4.46875 -4.664062 4.691406 -4.171875 4.765625 -3.472656 L 3.910156 -3.472656 C 3.859375 -3.792969 3.742188 -4.0625 3.554688 -4.273438 C 3.367188 -4.488281 3.070312 -4.59375 2.660156 -4.59375 C 2.101562 -4.59375 1.699219 -4.320312 1.460938 -3.773438 C 1.304688 -3.417969 1.226562 -2.980469 1.226562 -2.460938 C 1.226562 -1.9375 1.335938 -1.496094 1.558594 -1.136719 C 1.78125 -0.78125 2.128906 -0.601562 2.601562 -0.601562 C 2.96875 -0.601562 3.257812 -0.710938 3.46875 -0.933594 C 3.683594 -1.15625 3.828125 -1.464844 3.910156 -1.851562 L 4.765625 -1.851562 C 4.667969 -1.15625 4.421875 -0.648438 4.03125 -0.328125 C 3.640625 -0.0078125 3.144531 0.152344 2.535156 0.152344 C 1.851562 0.152344 1.304688 -0.0976562 0.898438 -0.597656 C 0.492188 -1.097656 0.289062 -1.722656 0.289062 -2.46875 C 0.289062 -3.386719 0.511719 -4.101562 0.957031 -4.613281 C 1.402344 -5.125 1.972656 -5.382812 2.660156 -5.382812 C 3.25 -5.382812 3.730469 -5.238281 4.097656 -4.953125 Z M 4.097656 -4.953125 \"/>\n",
       "</symbol>\n",
       "<symbol overflow=\"visible\" id=\"glyph0-13\">\n",
       "<path style=\"stroke:none;\" d=\"M 1.523438 -5.230469 L 1.523438 -1.757812 C 1.523438 -1.492188 1.566406 -1.273438 1.648438 -1.101562 C 1.804688 -0.789062 2.097656 -0.632812 2.523438 -0.632812 C 3.136719 -0.632812 3.554688 -0.90625 3.773438 -1.453125 C 3.894531 -1.746094 3.953125 -2.148438 3.953125 -2.660156 L 3.953125 -5.230469 L 4.835938 -5.230469 L 4.835938 0 L 4.003906 0 L 4.015625 -0.773438 C 3.898438 -0.574219 3.757812 -0.40625 3.589844 -0.269531 C 3.253906 0.00390625 2.847656 0.140625 2.367188 0.140625 C 1.621094 0.140625 1.113281 -0.109375 0.84375 -0.605469 C 0.699219 -0.871094 0.625 -1.230469 0.625 -1.675781 L 0.625 -5.230469 Z M 1.523438 -5.230469 \"/>\n",
       "</symbol>\n",
       "<symbol overflow=\"visible\" id=\"glyph0-14\">\n",
       "<path style=\"stroke:none;\" d=\"M 0.667969 -5.230469 L 1.503906 -5.230469 L 1.503906 -4.328125 C 1.570312 -4.503906 1.738281 -4.714844 2.007812 -4.96875 C 2.273438 -5.21875 2.582031 -5.347656 2.929688 -5.347656 C 2.945312 -5.347656 2.972656 -5.34375 3.011719 -5.34375 C 3.050781 -5.339844 3.117188 -5.332031 3.210938 -5.320312 L 3.210938 -4.394531 C 3.160156 -4.40625 3.113281 -4.410156 3.070312 -4.414062 C 3.023438 -4.417969 2.976562 -4.417969 2.925781 -4.417969 C 2.484375 -4.417969 2.140625 -4.277344 1.90625 -3.992188 C 1.667969 -3.707031 1.546875 -3.378906 1.546875 -3.007812 L 1.546875 0 L 0.667969 0 Z M 0.667969 -5.230469 \"/>\n",
       "</symbol>\n",
       "<symbol overflow=\"visible\" id=\"glyph0-15\">\n",
       "<path style=\"stroke:none;\" d=\"M 3.910156 -5.230469 L 4.882812 -5.230469 C 4.757812 -4.894531 4.484375 -4.128906 4.058594 -2.933594 C 3.738281 -2.035156 3.472656 -1.304688 3.257812 -0.738281 C 2.75 0.597656 2.390625 1.410156 2.183594 1.703125 C 1.976562 1.996094 1.617188 2.144531 1.109375 2.144531 C 0.984375 2.144531 0.890625 2.140625 0.824219 2.128906 C 0.757812 2.117188 0.671875 2.101562 0.578125 2.074219 L 0.578125 1.273438 C 0.730469 1.316406 0.839844 1.34375 0.90625 1.351562 C 0.976562 1.363281 1.035156 1.367188 1.089844 1.367188 C 1.25 1.367188 1.371094 1.339844 1.449219 1.285156 C 1.523438 1.234375 1.589844 1.167969 1.640625 1.089844 C 1.65625 1.0625 1.714844 0.929688 1.816406 0.6875 C 1.917969 0.445312 1.992188 0.269531 2.035156 0.152344 L 0.101562 -5.230469 L 1.097656 -5.230469 L 2.5 -0.972656 Z M 3.910156 -5.230469 \"/>\n",
       "</symbol>\n",
       "<symbol overflow=\"visible\" id=\"glyph0-16\">\n",
       "<path style=\"stroke:none;\" d=\"M 3.917969 -1.226562 C 4.132812 -1.667969 4.242188 -2.160156 4.242188 -2.699219 C 4.242188 -3.1875 4.164062 -3.585938 4.007812 -3.890625 C 3.761719 -4.375 3.335938 -4.613281 2.730469 -4.613281 C 2.191406 -4.613281 1.800781 -4.410156 1.558594 -4 C 1.3125 -3.589844 1.191406 -3.09375 1.191406 -2.515625 C 1.191406 -1.957031 1.3125 -1.492188 1.558594 -1.125 C 1.800781 -0.753906 2.1875 -0.566406 2.71875 -0.566406 C 3.300781 -0.566406 3.703125 -0.785156 3.917969 -1.226562 Z M 4.460938 -4.707031 C 4.929688 -4.257812 5.160156 -3.597656 5.160156 -2.726562 C 5.160156 -1.882812 4.957031 -1.183594 4.546875 -0.632812 C 4.136719 -0.0859375 3.5 0.191406 2.636719 0.191406 C 1.917969 0.191406 1.347656 -0.0546875 0.921875 -0.539062 C 0.5 -1.027344 0.289062 -1.679688 0.289062 -2.5 C 0.289062 -3.378906 0.511719 -4.078125 0.957031 -4.601562 C 1.402344 -5.121094 2 -5.382812 2.753906 -5.382812 C 3.429688 -5.382812 3.996094 -5.15625 4.460938 -4.707031 Z M 4.460938 -4.707031 \"/>\n",
       "</symbol>\n",
       "<symbol overflow=\"visible\" id=\"glyph0-17\">\n",
       "<path style=\"stroke:none;\" d=\"M 1.074219 -5.230469 L 2.46875 -0.972656 L 3.929688 -5.230469 L 4.890625 -5.230469 L 2.921875 0 L 1.984375 0 L 0.0546875 -5.230469 Z M 1.074219 -5.230469 \"/>\n",
       "</symbol>\n",
       "<symbol overflow=\"visible\" id=\"glyph0-18\">\n",
       "<path style=\"stroke:none;\" d=\"M 0.578125 -7.195312 L 1.429688 -7.195312 L 1.429688 -4.59375 C 1.621094 -4.84375 1.851562 -5.035156 2.117188 -5.167969 C 2.386719 -5.300781 2.675781 -5.367188 2.988281 -5.367188 C 3.640625 -5.367188 4.167969 -5.140625 4.574219 -4.695312 C 4.976562 -4.246094 5.179688 -3.585938 5.179688 -2.714844 C 5.179688 -1.886719 4.980469 -1.203125 4.578125 -0.65625 C 4.179688 -0.109375 3.625 0.164062 2.914062 0.164062 C 2.515625 0.164062 2.183594 0.0703125 1.910156 -0.121094 C 1.746094 -0.234375 1.570312 -0.417969 1.386719 -0.667969 L 1.386719 0 L 0.578125 0 Z M 3.929688 -1.175781 C 4.164062 -1.554688 4.28125 -2.050781 4.28125 -2.671875 C 4.28125 -3.222656 4.164062 -3.675781 3.929688 -4.039062 C 3.691406 -4.398438 3.34375 -4.578125 2.886719 -4.578125 C 2.484375 -4.578125 2.132812 -4.433594 1.832031 -4.136719 C 1.53125 -3.839844 1.382812 -3.351562 1.382812 -2.671875 C 1.382812 -2.179688 1.445312 -1.78125 1.566406 -1.476562 C 1.796875 -0.898438 2.230469 -0.609375 2.859375 -0.609375 C 3.335938 -0.609375 3.691406 -0.800781 3.929688 -1.175781 Z M 3.929688 -1.175781 \"/>\n",
       "</symbol>\n",
       "<symbol overflow=\"visible\" id=\"glyph0-19\">\n",
       "<path style=\"stroke:none;\" d=\"M 0.820312 -6.6875 L 1.710938 -6.6875 L 1.710938 -5.230469 L 2.542969 -5.230469 L 2.542969 -4.511719 L 1.710938 -4.511719 L 1.710938 -1.097656 C 1.710938 -0.914062 1.769531 -0.792969 1.894531 -0.734375 C 1.960938 -0.695312 2.078125 -0.679688 2.234375 -0.679688 C 2.277344 -0.679688 2.324219 -0.679688 2.375 -0.679688 C 2.421875 -0.683594 2.480469 -0.6875 2.542969 -0.695312 L 2.542969 0 C 2.441406 0.03125 2.339844 0.0507812 2.230469 0.0625 C 2.121094 0.078125 2 0.0820312 1.875 0.0820312 C 1.464844 0.0820312 1.1875 -0.0234375 1.039062 -0.230469 C 0.894531 -0.441406 0.820312 -0.714844 0.820312 -1.050781 L 0.820312 -4.511719 L 0.113281 -4.511719 L 0.113281 -5.230469 L 0.820312 -5.230469 Z M 0.820312 -6.6875 \"/>\n",
       "</symbol>\n",
       "<symbol overflow=\"visible\" id=\"glyph0-20\">\n",
       "<path style=\"stroke:none;\" d=\"M 0.253906 -0.695312 L 3.355469 -4.445312 L 0.484375 -4.445312 L 0.484375 -5.230469 L 4.535156 -5.230469 L 4.535156 -4.511719 L 1.453125 -0.785156 L 4.628906 -0.785156 L 4.628906 0 L 0.253906 0 Z M 0.253906 -0.695312 \"/>\n",
       "</symbol>\n",
       "<symbol overflow=\"visible\" id=\"glyph0-21\">\n",
       "<path style=\"stroke:none;\" d=\"M 2.960938 -7.289062 C 2.449219 -6.296875 2.117188 -5.566406 1.960938 -5.097656 C 1.730469 -4.382812 1.617188 -3.5625 1.617188 -2.625 C 1.617188 -1.683594 1.75 -0.820312 2.011719 -0.0390625 C 2.175781 0.441406 2.496094 1.136719 2.972656 2.039062 L 2.382812 2.039062 C 1.90625 1.296875 1.613281 0.824219 1.5 0.621094 C 1.386719 0.414062 1.261719 0.136719 1.128906 -0.214844 C 0.945312 -0.695312 0.820312 -1.210938 0.746094 -1.757812 C 0.710938 -2.039062 0.695312 -2.3125 0.695312 -2.570312 C 0.695312 -3.53125 0.84375 -4.390625 1.148438 -5.140625 C 1.339844 -5.621094 1.738281 -6.335938 2.347656 -7.289062 Z M 2.960938 -7.289062 \"/>\n",
       "</symbol>\n",
       "<symbol overflow=\"visible\" id=\"glyph0-22\">\n",
       "<path style=\"stroke:none;\" d=\"M 0.414062 -3.238281 L 2.867188 -3.238281 L 2.867188 -2.335938 L 0.414062 -2.335938 Z M 0.414062 -3.238281 \"/>\n",
       "</symbol>\n",
       "<symbol overflow=\"visible\" id=\"glyph0-23\">\n",
       "<path style=\"stroke:none;\" d=\"M 1.558594 -1.148438 C 1.796875 -0.769531 2.175781 -0.582031 2.699219 -0.582031 C 3.105469 -0.582031 3.441406 -0.757812 3.703125 -1.105469 C 3.964844 -1.457031 4.097656 -1.957031 4.097656 -2.613281 C 4.097656 -3.273438 3.960938 -3.761719 3.691406 -4.078125 C 3.421875 -4.398438 3.085938 -4.554688 2.691406 -4.554688 C 2.25 -4.554688 1.890625 -4.386719 1.613281 -4.046875 C 1.339844 -3.710938 1.203125 -3.210938 1.203125 -2.554688 C 1.203125 -1.992188 1.320312 -1.523438 1.558594 -1.148438 Z M 3.53125 -5.070312 C 3.6875 -4.972656 3.863281 -4.800781 4.0625 -4.554688 L 4.0625 -7.195312 L 4.90625 -7.195312 L 4.90625 0 L 4.117188 0 L 4.117188 -0.726562 C 3.910156 -0.40625 3.667969 -0.171875 3.390625 -0.03125 C 3.109375 0.113281 2.789062 0.1875 2.425781 0.1875 C 1.84375 0.1875 1.339844 -0.0585938 0.914062 -0.550781 C 0.488281 -1.039062 0.273438 -1.691406 0.273438 -2.503906 C 0.273438 -3.265625 0.46875 -3.925781 0.855469 -4.484375 C 1.246094 -5.042969 1.800781 -5.320312 2.523438 -5.320312 C 2.925781 -5.320312 3.261719 -5.238281 3.53125 -5.070312 Z M 3.53125 -5.070312 \"/>\n",
       "</symbol>\n",
       "<symbol overflow=\"visible\" id=\"glyph0-24\">\n",
       "<path style=\"stroke:none;\" d=\"M 1.050781 -5.230469 L 2.054688 -1.109375 L 3.078125 -5.230469 L 4.0625 -5.230469 L 5.085938 -1.132812 L 6.15625 -5.230469 L 7.035156 -5.230469 L 5.515625 0 L 4.605469 0 L 3.539062 -4.046875 L 2.507812 0 L 1.597656 0 L 0.0859375 -5.230469 Z M 1.050781 -5.230469 \"/>\n",
       "</symbol>\n",
       "<symbol overflow=\"visible\" id=\"glyph0-25\">\n",
       "<path style=\"stroke:none;\" d=\"M 0.644531 -7.195312 L 1.523438 -7.195312 L 1.523438 -4.523438 C 1.730469 -4.785156 1.917969 -4.96875 2.085938 -5.078125 C 2.367188 -5.265625 2.722656 -5.355469 3.144531 -5.355469 C 3.902344 -5.355469 4.417969 -5.089844 4.6875 -4.5625 C 4.835938 -4.273438 4.90625 -3.867188 4.90625 -3.355469 L 4.90625 0 L 4.003906 0 L 4.003906 -3.296875 C 4.003906 -3.679688 3.953125 -3.960938 3.859375 -4.140625 C 3.699219 -4.425781 3.398438 -4.570312 2.960938 -4.570312 C 2.59375 -4.570312 2.265625 -4.445312 1.96875 -4.195312 C 1.671875 -3.945312 1.523438 -3.46875 1.523438 -2.773438 L 1.523438 0 L 0.644531 0 Z M 0.644531 -7.195312 \"/>\n",
       "</symbol>\n",
       "<symbol overflow=\"visible\" id=\"glyph0-26\">\n",
       "<path style=\"stroke:none;\" d=\"M 0.6875 -1.570312 C 0.902344 -2.015625 1.324219 -2.421875 1.953125 -2.789062 L 2.890625 -3.328125 C 3.3125 -3.574219 3.605469 -3.78125 3.773438 -3.953125 C 4.039062 -4.226562 4.175781 -4.535156 4.175781 -4.882812 C 4.175781 -5.289062 4.054688 -5.613281 3.808594 -5.851562 C 3.5625 -6.089844 3.238281 -6.210938 2.832031 -6.210938 C 2.230469 -6.210938 1.8125 -5.984375 1.582031 -5.527344 C 1.457031 -5.28125 1.390625 -4.945312 1.375 -4.511719 L 0.484375 -4.511719 C 0.492188 -5.121094 0.605469 -5.617188 0.820312 -6 C 1.203125 -6.679688 1.875 -7.015625 2.835938 -7.015625 C 3.636719 -7.015625 4.222656 -6.800781 4.59375 -6.367188 C 4.960938 -5.933594 5.148438 -5.453125 5.148438 -4.921875 C 5.148438 -4.363281 4.949219 -3.882812 4.554688 -3.484375 C 4.328125 -3.253906 3.917969 -2.976562 3.328125 -2.648438 L 2.660156 -2.273438 C 2.34375 -2.097656 2.089844 -1.933594 1.910156 -1.773438 C 1.585938 -1.488281 1.378906 -1.175781 1.292969 -0.828125 L 5.113281 -0.828125 L 5.113281 0 L 0.3125 0 C 0.34375 -0.601562 0.46875 -1.125 0.6875 -1.570312 Z M 0.6875 -1.570312 \"/>\n",
       "</symbol>\n",
       "<symbol overflow=\"visible\" id=\"glyph0-27\">\n",
       "<path style=\"stroke:none;\" d=\"M 1.234375 -1.78125 C 1.292969 -1.28125 1.527344 -0.933594 1.933594 -0.742188 C 2.140625 -0.644531 2.382812 -0.59375 2.65625 -0.59375 C 3.175781 -0.59375 3.5625 -0.761719 3.8125 -1.09375 C 4.0625 -1.425781 4.1875 -1.792969 4.1875 -2.195312 C 4.1875 -2.683594 4.039062 -3.0625 3.742188 -3.328125 C 3.445312 -3.597656 3.085938 -3.730469 2.671875 -3.730469 C 2.367188 -3.730469 2.109375 -3.671875 1.890625 -3.554688 C 1.675781 -3.4375 1.492188 -3.273438 1.335938 -3.066406 L 0.578125 -3.109375 L 1.109375 -6.875 L 4.742188 -6.875 L 4.742188 -6.023438 L 1.765625 -6.023438 L 1.46875 -4.082031 C 1.632812 -4.207031 1.789062 -4.296875 1.933594 -4.359375 C 2.195312 -4.46875 2.496094 -4.523438 2.835938 -4.523438 C 3.476562 -4.523438 4.023438 -4.316406 4.46875 -3.902344 C 4.914062 -3.488281 5.136719 -2.964844 5.136719 -2.328125 C 5.136719 -1.667969 4.933594 -1.085938 4.523438 -0.582031 C 4.117188 -0.078125 3.464844 0.175781 2.570312 0.175781 C 2 0.175781 1.496094 0.015625 1.058594 -0.304688 C 0.621094 -0.625 0.375 -1.117188 0.320312 -1.78125 Z M 1.234375 -1.78125 \"/>\n",
       "</symbol>\n",
       "<symbol overflow=\"visible\" id=\"glyph0-28\">\n",
       "<path style=\"stroke:none;\" d=\"M 1.054688 -6.828125 C 1.257812 -7.125 1.65625 -7.273438 2.242188 -7.273438 C 2.296875 -7.273438 2.351562 -7.273438 2.414062 -7.269531 C 2.472656 -7.265625 2.539062 -7.261719 2.613281 -7.257812 L 2.613281 -6.453125 C 2.523438 -6.460938 2.457031 -6.464844 2.414062 -6.46875 C 2.375 -6.46875 2.335938 -6.46875 2.300781 -6.46875 C 2.03125 -6.46875 1.875 -6.402344 1.820312 -6.261719 C 1.769531 -6.125 1.742188 -5.773438 1.742188 -5.203125 L 2.613281 -5.203125 L 2.613281 -4.511719 L 1.734375 -4.511719 L 1.734375 0 L 0.863281 0 L 0.863281 -4.511719 L 0.136719 -4.511719 L 0.136719 -5.203125 L 0.863281 -5.203125 L 0.863281 -6.023438 C 0.875 -6.390625 0.941406 -6.65625 1.054688 -6.828125 Z M 1.054688 -6.828125 \"/>\n",
       "</symbol>\n",
       "<symbol overflow=\"visible\" id=\"glyph0-29\">\n",
       "<path style=\"stroke:none;\" d=\"M 0.347656 2.039062 C 0.863281 1.03125 1.199219 0.296875 1.347656 -0.164062 C 1.574219 -0.867188 1.6875 -1.6875 1.6875 -2.625 C 1.6875 -3.566406 1.558594 -4.429688 1.292969 -5.210938 C 1.132812 -5.691406 0.8125 -6.386719 0.332031 -7.289062 L 0.921875 -7.289062 C 1.421875 -6.488281 1.726562 -5.996094 1.832031 -5.808594 C 1.9375 -5.621094 2.054688 -5.363281 2.179688 -5.035156 C 2.335938 -4.628906 2.445312 -4.226562 2.511719 -3.828125 C 2.578125 -3.429688 2.613281 -3.046875 2.613281 -2.679688 C 2.613281 -1.71875 2.460938 -0.859375 2.152344 -0.101562 C 1.960938 0.382812 1.5625 1.097656 0.957031 2.039062 Z M 0.347656 2.039062 \"/>\n",
       "</symbol>\n",
       "<symbol overflow=\"visible\" id=\"glyph0-30\">\n",
       "<path style=\"stroke:none;\" d=\"M 1.328125 -7.171875 L 3.390625 -1.0625 L 5.425781 -7.171875 L 6.515625 -7.171875 L 3.898438 0 L 2.867188 0 L 0.253906 -7.171875 Z M 1.328125 -7.171875 \"/>\n",
       "</symbol>\n",
       "<symbol overflow=\"visible\" id=\"glyph0-31\">\n",
       "<path style=\"stroke:none;\" d=\"M 4.667969 -5.875 C 4.980469 -5.296875 5.136719 -4.507812 5.136719 -3.507812 C 5.136719 -2.554688 4.996094 -1.769531 4.710938 -1.148438 C 4.300781 -0.257812 3.632812 0.191406 2.699219 0.191406 C 1.859375 0.191406 1.234375 -0.175781 0.824219 -0.902344 C 0.484375 -1.511719 0.3125 -2.328125 0.3125 -3.355469 C 0.3125 -4.148438 0.414062 -4.832031 0.621094 -5.398438 C 1.003906 -6.460938 1.699219 -6.992188 2.703125 -6.992188 C 3.609375 -6.992188 4.265625 -6.621094 4.667969 -5.875 Z M 3.785156 -1.214844 C 4.054688 -1.617188 4.1875 -2.371094 4.1875 -3.472656 C 4.1875 -4.265625 4.09375 -4.917969 3.898438 -5.433594 C 3.703125 -5.945312 3.320312 -6.203125 2.757812 -6.203125 C 2.242188 -6.203125 1.863281 -5.957031 1.625 -5.472656 C 1.382812 -4.984375 1.265625 -4.265625 1.265625 -3.320312 C 1.265625 -2.609375 1.339844 -2.035156 1.492188 -1.601562 C 1.726562 -0.941406 2.128906 -0.609375 2.695312 -0.609375 C 3.152344 -0.609375 3.515625 -0.8125 3.785156 -1.214844 Z M 3.785156 -1.214844 \"/>\n",
       "</symbol>\n",
       "<symbol overflow=\"visible\" id=\"glyph0-32\">\n",
       "<path style=\"stroke:none;\" d=\"M 0.855469 -1.0625 L 1.875 -1.0625 L 1.875 0 L 0.855469 0 Z M 0.855469 -1.0625 \"/>\n",
       "</symbol>\n",
       "<symbol overflow=\"visible\" id=\"glyph0-33\">\n",
       "<path style=\"stroke:none;\" d=\"M 5.230469 -6.875 L 5.230469 -6.109375 C 5.003906 -5.890625 4.707031 -5.511719 4.332031 -4.96875 C 3.960938 -4.429688 3.632812 -3.847656 3.34375 -3.222656 C 3.0625 -2.613281 2.847656 -2.058594 2.699219 -1.558594 C 2.605469 -1.234375 2.484375 -0.714844 2.335938 0 L 1.363281 0 C 1.585938 -1.335938 2.070312 -2.664062 2.828125 -3.984375 C 3.273438 -4.757812 3.742188 -5.429688 4.234375 -5.992188 L 0.367188 -5.992188 L 0.367188 -6.875 Z M 5.230469 -6.875 \"/>\n",
       "</symbol>\n",
       "<symbol overflow=\"visible\" id=\"glyph0-34\">\n",
       "<path style=\"stroke:none;\" d=\"M 3.304688 -2.476562 L 3.304688 -5.644531 L 1.0625 -2.476562 Z M 3.320312 0 L 3.320312 -1.710938 L 0.253906 -1.710938 L 0.253906 -2.570312 L 3.457031 -7.011719 L 4.199219 -7.011719 L 4.199219 -2.476562 L 5.230469 -2.476562 L 5.230469 -1.710938 L 4.199219 -1.710938 L 4.199219 0 Z M 3.320312 0 \"/>\n",
       "</symbol>\n",
       "<symbol overflow=\"visible\" id=\"glyph0-35\">\n",
       "<path style=\"stroke:none;\" d=\"M 4.558594 -6.414062 C 4.867188 -6.007812 5.019531 -5.589844 5.019531 -5.160156 L 4.148438 -5.160156 C 4.097656 -5.4375 4.015625 -5.65625 3.902344 -5.8125 C 3.691406 -6.105469 3.367188 -6.25 2.9375 -6.25 C 2.445312 -6.25 2.058594 -6.023438 1.765625 -5.570312 C 1.476562 -5.117188 1.316406 -4.464844 1.285156 -3.617188 C 1.484375 -3.914062 1.738281 -4.136719 2.046875 -4.28125 C 2.328125 -4.414062 2.636719 -4.476562 2.984375 -4.476562 C 3.570312 -4.476562 4.082031 -4.289062 4.515625 -3.914062 C 4.953125 -3.539062 5.171875 -2.984375 5.171875 -2.242188 C 5.171875 -1.605469 4.964844 -1.042969 4.550781 -0.554688 C 4.136719 -0.0625 3.546875 0.179688 2.78125 0.179688 C 2.128906 0.179688 1.5625 -0.0664062 1.089844 -0.5625 C 0.613281 -1.058594 0.375 -1.894531 0.375 -3.070312 C 0.375 -3.941406 0.480469 -4.679688 0.695312 -5.28125 C 1.101562 -6.441406 1.84375 -7.023438 2.925781 -7.023438 C 3.707031 -7.023438 4.25 -6.820312 4.558594 -6.414062 Z M 3.898438 -1.066406 C 4.128906 -1.378906 4.242188 -1.746094 4.242188 -2.167969 C 4.242188 -2.527344 4.140625 -2.867188 3.9375 -3.191406 C 3.730469 -3.515625 3.359375 -3.675781 2.816406 -3.675781 C 2.4375 -3.675781 2.109375 -3.550781 1.824219 -3.300781 C 1.539062 -3.050781 1.398438 -2.671875 1.398438 -2.167969 C 1.398438 -1.726562 1.527344 -1.351562 1.785156 -1.050781 C 2.042969 -0.75 2.402344 -0.601562 2.859375 -0.601562 C 3.324219 -0.601562 3.667969 -0.757812 3.898438 -1.066406 Z M 3.898438 -1.066406 \"/>\n",
       "</symbol>\n",
       "<symbol overflow=\"visible\" id=\"glyph0-36\">\n",
       "<path style=\"stroke:none;\" d=\"M 3.628906 -4.386719 C 3.847656 -4.601562 3.953125 -4.863281 3.953125 -5.160156 C 3.953125 -5.421875 3.851562 -5.660156 3.640625 -5.878906 C 3.433594 -6.097656 3.117188 -6.207031 2.691406 -6.207031 C 2.265625 -6.207031 1.960938 -6.097656 1.773438 -5.878906 C 1.585938 -5.660156 1.488281 -5.40625 1.488281 -5.113281 C 1.488281 -4.785156 1.609375 -4.527344 1.855469 -4.339844 C 2.101562 -4.15625 2.386719 -4.0625 2.71875 -4.0625 C 3.105469 -4.0625 3.410156 -4.171875 3.628906 -4.386719 Z M 3.785156 -0.929688 C 4.054688 -1.148438 4.1875 -1.476562 4.1875 -1.914062 C 4.1875 -2.367188 4.050781 -2.710938 3.773438 -2.945312 C 3.496094 -3.179688 3.144531 -3.296875 2.710938 -3.296875 C 2.289062 -3.296875 1.949219 -3.175781 1.683594 -2.9375 C 1.417969 -2.699219 1.285156 -2.367188 1.285156 -1.945312 C 1.285156 -1.578125 1.40625 -1.265625 1.648438 -1 C 1.890625 -0.734375 2.265625 -0.601562 2.773438 -0.601562 C 3.179688 -0.601562 3.519531 -0.710938 3.785156 -0.929688 Z M 0.953125 -4.09375 C 0.695312 -4.351562 0.566406 -4.691406 0.566406 -5.109375 C 0.566406 -5.628906 0.753906 -6.074219 1.132812 -6.449219 C 1.511719 -6.824219 2.046875 -7.011719 2.738281 -7.011719 C 3.410156 -7.011719 3.9375 -6.835938 4.316406 -6.480469 C 4.695312 -6.128906 4.886719 -5.714844 4.886719 -5.242188 C 4.886719 -4.808594 4.777344 -4.453125 4.554688 -4.183594 C 4.429688 -4.03125 4.238281 -3.882812 3.980469 -3.734375 C 4.269531 -3.601562 4.496094 -3.449219 4.664062 -3.277344 C 4.972656 -2.953125 5.125 -2.527344 5.125 -2.007812 C 5.125 -1.390625 4.921875 -0.871094 4.507812 -0.441406 C 4.09375 -0.015625 3.507812 0.199219 2.753906 0.199219 C 2.074219 0.199219 1.5 0.015625 1.027344 -0.355469 C 0.558594 -0.722656 0.320312 -1.257812 0.320312 -1.960938 C 0.320312 -2.375 0.421875 -2.734375 0.625 -3.035156 C 0.828125 -3.335938 1.125 -3.566406 1.523438 -3.726562 C 1.28125 -3.828125 1.089844 -3.953125 0.953125 -4.09375 Z M 0.953125 -4.09375 \"/>\n",
       "</symbol>\n",
       "<symbol overflow=\"visible\" id=\"glyph1-0\">\n",
       "<path style=\"stroke:none;\" d=\"\"/>\n",
       "</symbol>\n",
       "<symbol overflow=\"visible\" id=\"glyph1-1\">\n",
       "<path style=\"stroke:none;\" d=\"M -2.9375 -4.445312 L -6.109375 -3.355469 L -2.9375 -2.195312 Z M -7.171875 -2.847656 L -7.171875 -3.945312 L 0 -6.546875 L 0 -5.484375 L -2.148438 -4.757812 L -2.148438 -1.917969 L 0 -1.140625 L 0 -0.148438 Z M -7.171875 -2.847656 \"/>\n",
       "</symbol>\n",
       "<symbol overflow=\"visible\" id=\"glyph1-2\">\n",
       "<path style=\"stroke:none;\" d=\"M -4.953125 -4.097656 C -4.664062 -4.46875 -4.171875 -4.691406 -3.472656 -4.765625 L -3.472656 -3.910156 C -3.792969 -3.859375 -4.0625 -3.742188 -4.273438 -3.554688 C -4.488281 -3.367188 -4.59375 -3.070312 -4.59375 -2.660156 C -4.59375 -2.101562 -4.320312 -1.699219 -3.773438 -1.460938 C -3.417969 -1.304688 -2.980469 -1.226562 -2.460938 -1.226562 C -1.9375 -1.226562 -1.496094 -1.335938 -1.136719 -1.558594 C -0.78125 -1.78125 -0.601562 -2.128906 -0.601562 -2.601562 C -0.601562 -2.96875 -0.710938 -3.257812 -0.933594 -3.46875 C -1.15625 -3.683594 -1.464844 -3.828125 -1.851562 -3.910156 L -1.851562 -4.765625 C -1.15625 -4.667969 -0.648438 -4.421875 -0.328125 -4.03125 C -0.0078125 -3.640625 0.152344 -3.144531 0.152344 -2.535156 C 0.152344 -1.851562 -0.0976562 -1.304688 -0.597656 -0.898438 C -1.097656 -0.492188 -1.722656 -0.289062 -2.46875 -0.289062 C -3.386719 -0.289062 -4.101562 -0.511719 -4.613281 -0.957031 C -5.125 -1.402344 -5.382812 -1.972656 -5.382812 -2.660156 C -5.382812 -3.25 -5.238281 -3.730469 -4.953125 -4.097656 Z M -4.953125 -4.097656 \"/>\n",
       "</symbol>\n",
       "<symbol overflow=\"visible\" id=\"glyph1-3\">\n",
       "<path style=\"stroke:none;\" d=\"M -5.230469 -1.523438 L -1.757812 -1.523438 C -1.492188 -1.523438 -1.273438 -1.566406 -1.101562 -1.648438 C -0.789062 -1.804688 -0.632812 -2.097656 -0.632812 -2.523438 C -0.632812 -3.136719 -0.90625 -3.554688 -1.453125 -3.773438 C -1.746094 -3.894531 -2.148438 -3.953125 -2.660156 -3.953125 L -5.230469 -3.957031 L -5.230469 -4.835938 L 0 -4.835938 L 0 -4.003906 L -0.769531 -4.015625 C -0.570312 -3.898438 -0.40625 -3.757812 -0.269531 -3.589844 C 0.00390625 -3.253906 0.140625 -2.847656 0.140625 -2.367188 C 0.140625 -1.621094 -0.105469 -1.113281 -0.605469 -0.84375 C -0.871094 -0.699219 -1.230469 -0.625 -1.675781 -0.625 L -5.230469 -0.625 Z M -5.230469 -1.523438 \"/>\n",
       "</symbol>\n",
       "<symbol overflow=\"visible\" id=\"glyph1-4\">\n",
       "<path style=\"stroke:none;\" d=\"M -5.230469 -0.667969 L -5.230469 -1.503906 L -4.328125 -1.503906 C -4.503906 -1.570312 -4.714844 -1.738281 -4.96875 -2.007812 C -5.21875 -2.273438 -5.347656 -2.582031 -5.347656 -2.929688 C -5.347656 -2.945312 -5.34375 -2.972656 -5.34375 -3.011719 C -5.339844 -3.050781 -5.332031 -3.117188 -5.320312 -3.214844 L -4.394531 -3.214844 C -4.40625 -3.160156 -4.410156 -3.113281 -4.414062 -3.070312 C -4.417969 -3.023438 -4.417969 -2.976562 -4.417969 -2.925781 C -4.417969 -2.484375 -4.277344 -2.140625 -3.992188 -1.90625 C -3.707031 -1.667969 -3.378906 -1.546875 -3.007812 -1.546875 L 0 -1.546875 L 0 -0.667969 Z M -5.230469 -0.667969 \"/>\n",
       "</symbol>\n",
       "<symbol overflow=\"visible\" id=\"glyph1-5\">\n",
       "<path style=\"stroke:none;\" d=\"M -0.789062 -1.597656 C -0.644531 -1.78125 -0.570312 -2 -0.570312 -2.257812 C -0.570312 -2.566406 -0.644531 -2.863281 -0.785156 -3.15625 C -1.023438 -3.644531 -1.414062 -3.886719 -1.953125 -3.886719 L -2.660156 -3.886719 C -2.59375 -3.78125 -2.535156 -3.640625 -2.492188 -3.472656 C -2.445312 -3.304688 -2.414062 -3.136719 -2.390625 -2.972656 L -2.324219 -2.441406 C -2.28125 -2.121094 -2.214844 -1.882812 -2.125 -1.722656 C -1.972656 -1.453125 -1.726562 -1.320312 -1.390625 -1.320312 C -1.136719 -1.320312 -0.9375 -1.410156 -0.789062 -1.597656 Z M -3.167969 -3.445312 C -3.195312 -3.648438 -3.28125 -3.785156 -3.421875 -3.851562 C -3.5 -3.890625 -3.613281 -3.910156 -3.757812 -3.910156 C -4.058594 -3.910156 -4.277344 -3.804688 -4.410156 -3.589844 C -4.546875 -3.378906 -4.613281 -3.074219 -4.613281 -2.675781 C -4.613281 -2.21875 -4.492188 -1.890625 -4.242188 -1.699219 C -4.105469 -1.59375 -3.902344 -1.523438 -3.632812 -1.488281 L -3.632812 -0.667969 C -4.277344 -0.683594 -4.726562 -0.894531 -4.976562 -1.296875 C -5.230469 -1.699219 -5.355469 -2.164062 -5.355469 -2.695312 C -5.355469 -3.3125 -5.238281 -3.808594 -5.003906 -4.195312 C -4.769531 -4.574219 -4.40625 -4.765625 -3.910156 -4.765625 L -0.898438 -4.765625 C -0.808594 -4.765625 -0.734375 -4.785156 -0.679688 -4.820312 C -0.625 -4.859375 -0.59375 -4.9375 -0.59375 -5.058594 C -0.59375 -5.097656 -0.597656 -5.140625 -0.601562 -5.191406 C -0.605469 -5.238281 -0.613281 -5.292969 -0.625 -5.347656 L 0.0234375 -5.347656 C 0.0625 -5.210938 0.0898438 -5.105469 0.0976562 -5.035156 C 0.109375 -4.960938 0.113281 -4.863281 0.113281 -4.742188 C 0.113281 -4.4375 0.00390625 -4.21875 -0.210938 -4.082031 C -0.324219 -4.011719 -0.484375 -3.960938 -0.691406 -3.929688 C -0.457031 -3.75 -0.253906 -3.496094 -0.0820312 -3.160156 C 0.0898438 -2.824219 0.175781 -2.453125 0.175781 -2.050781 C 0.175781 -1.566406 0.0273438 -1.167969 -0.265625 -0.863281 C -0.5625 -0.554688 -0.929688 -0.402344 -1.371094 -0.402344 C -1.855469 -0.402344 -2.234375 -0.550781 -2.5 -0.855469 C -2.765625 -1.15625 -2.929688 -1.554688 -2.992188 -2.046875 Z M -3.167969 -3.445312 \"/>\n",
       "</symbol>\n",
       "<symbol overflow=\"visible\" id=\"glyph1-6\">\n",
       "<path style=\"stroke:none;\" d=\"M -5.230469 -3.910156 L -5.230469 -4.882812 C -4.894531 -4.757812 -4.128906 -4.484375 -2.933594 -4.058594 C -2.035156 -3.738281 -1.304688 -3.472656 -0.738281 -3.257812 C 0.597656 -2.75 1.410156 -2.390625 1.703125 -2.183594 C 1.996094 -1.976562 2.144531 -1.617188 2.144531 -1.109375 C 2.144531 -0.984375 2.140625 -0.890625 2.128906 -0.824219 C 2.117188 -0.757812 2.101562 -0.671875 2.074219 -0.574219 L 1.273438 -0.574219 C 1.316406 -0.726562 1.34375 -0.839844 1.351562 -0.90625 C 1.363281 -0.976562 1.367188 -1.035156 1.367188 -1.089844 C 1.367188 -1.25 1.339844 -1.371094 1.285156 -1.449219 C 1.234375 -1.523438 1.167969 -1.589844 1.089844 -1.640625 C 1.0625 -1.65625 0.929688 -1.714844 0.6875 -1.816406 C 0.449219 -1.917969 0.269531 -1.992188 0.152344 -2.035156 L -5.230469 -0.101562 L -5.230469 -1.097656 L -0.972656 -2.5 Z M -5.230469 -3.910156 \"/>\n",
       "</symbol>\n",
       "<symbol overflow=\"visible\" id=\"glyph1-7\">\n",
       "<g>\n",
       "</g>\n",
       "</symbol>\n",
       "<symbol overflow=\"visible\" id=\"glyph1-8\">\n",
       "<path style=\"stroke:none;\" d=\"M -7.289062 -2.960938 C -6.296875 -2.449219 -5.566406 -2.117188 -5.097656 -1.964844 C -4.382812 -1.734375 -3.5625 -1.617188 -2.625 -1.617188 C -1.683594 -1.617188 -0.820312 -1.75 -0.0390625 -2.011719 C 0.441406 -2.175781 1.136719 -2.496094 2.039062 -2.972656 L 2.039062 -2.382812 C 1.296875 -1.90625 0.824219 -1.613281 0.621094 -1.5 C 0.414062 -1.386719 0.136719 -1.261719 -0.214844 -1.128906 C -0.695312 -0.945312 -1.210938 -0.820312 -1.757812 -0.746094 C -2.039062 -0.710938 -2.3125 -0.695312 -2.570312 -0.695312 C -3.53125 -0.695312 -4.390625 -0.84375 -5.140625 -1.148438 C -5.621094 -1.339844 -6.335938 -1.738281 -7.289062 -2.347656 Z M -7.289062 -2.960938 \"/>\n",
       "</symbol>\n",
       "<symbol overflow=\"visible\" id=\"glyph1-9\">\n",
       "<path style=\"stroke:none;\" d=\"M -6.648438 -5.898438 C -6.171875 -6.398438 -5.628906 -6.679688 -5.019531 -6.734375 L -5.019531 -5.785156 C -5.480469 -5.679688 -5.847656 -5.464844 -6.117188 -5.144531 C -6.386719 -4.824219 -6.523438 -4.375 -6.523438 -3.792969 C -6.523438 -3.085938 -6.273438 -2.515625 -5.777344 -2.082031 C -5.28125 -1.648438 -4.523438 -1.429688 -3.496094 -1.429688 C -2.65625 -1.429688 -1.976562 -1.625 -1.453125 -2.019531 C -0.929688 -2.410156 -0.667969 -2.996094 -0.667969 -3.773438 C -0.667969 -4.492188 -0.945312 -5.035156 -1.492188 -5.410156 C -1.78125 -5.609375 -2.164062 -5.757812 -2.636719 -5.855469 L -2.636719 -6.800781 C -1.882812 -6.71875 -1.25 -6.4375 -0.738281 -5.960938 C -0.121094 -5.390625 0.1875 -4.625 0.1875 -3.65625 C 0.1875 -2.824219 -0.0664062 -2.125 -0.570312 -1.558594 C -1.238281 -0.8125 -2.269531 -0.441406 -3.664062 -0.441406 C -4.71875 -0.441406 -5.585938 -0.71875 -6.265625 -1.28125 C -7 -1.886719 -7.367188 -2.71875 -7.367188 -3.785156 C -7.367188 -4.691406 -7.128906 -5.398438 -6.648438 -5.898438 Z M -6.648438 -5.898438 \"/>\n",
       "</symbol>\n",
       "<symbol overflow=\"visible\" id=\"glyph1-10\">\n",
       "<path style=\"stroke:none;\" d=\"M -1.226562 -3.917969 C -1.667969 -4.132812 -2.160156 -4.242188 -2.699219 -4.242188 C -3.1875 -4.242188 -3.585938 -4.164062 -3.890625 -4.007812 C -4.375 -3.761719 -4.613281 -3.335938 -4.613281 -2.730469 C -4.613281 -2.191406 -4.410156 -1.800781 -4 -1.558594 C -3.589844 -1.3125 -3.09375 -1.191406 -2.515625 -1.191406 C -1.957031 -1.191406 -1.492188 -1.3125 -1.125 -1.558594 C -0.753906 -1.800781 -0.566406 -2.1875 -0.566406 -2.71875 C -0.566406 -3.300781 -0.785156 -3.703125 -1.226562 -3.917969 Z M -4.707031 -4.460938 C -4.257812 -4.929688 -3.597656 -5.160156 -2.722656 -5.160156 C -1.882812 -5.160156 -1.183594 -4.957031 -0.632812 -4.546875 C -0.0820312 -4.136719 0.191406 -3.5 0.191406 -2.636719 C 0.191406 -1.917969 -0.0546875 -1.347656 -0.539062 -0.921875 C -1.027344 -0.5 -1.679688 -0.289062 -2.5 -0.289062 C -3.378906 -0.289062 -4.078125 -0.511719 -4.601562 -0.957031 C -5.121094 -1.402344 -5.382812 -2.003906 -5.382812 -2.753906 C -5.382812 -3.429688 -5.15625 -3.996094 -4.707031 -4.460938 Z M -4.707031 -4.460938 \"/>\n",
       "</symbol>\n",
       "<symbol overflow=\"visible\" id=\"glyph1-11\">\n",
       "<path style=\"stroke:none;\" d=\"M -1.640625 -1.167969 C -1.347656 -1.195312 -1.125 -1.265625 -0.964844 -1.386719 C -0.683594 -1.609375 -0.542969 -1.992188 -0.542969 -2.539062 C -0.542969 -2.863281 -0.613281 -3.152344 -0.753906 -3.398438 C -0.894531 -3.644531 -1.113281 -3.769531 -1.410156 -3.769531 C -1.636719 -3.769531 -1.804688 -3.671875 -1.921875 -3.472656 C -1.996094 -3.34375 -2.078125 -3.09375 -2.171875 -2.71875 L -2.347656 -2.023438 C -2.460938 -1.578125 -2.582031 -1.246094 -2.71875 -1.035156 C -2.957031 -0.65625 -3.285156 -0.46875 -3.707031 -0.46875 C -4.203125 -0.46875 -4.601562 -0.648438 -4.90625 -1.003906 C -5.210938 -1.359375 -5.367188 -1.839844 -5.367188 -2.441406 C -5.367188 -3.230469 -5.136719 -3.796875 -4.671875 -4.144531 C -4.378906 -4.363281 -4.0625 -4.46875 -3.726562 -4.460938 L -3.726562 -3.632812 C -3.925781 -3.617188 -4.105469 -3.546875 -4.265625 -3.421875 C -4.5 -3.21875 -4.613281 -2.871094 -4.613281 -2.375 C -4.613281 -2.042969 -4.550781 -1.789062 -4.421875 -1.617188 C -4.296875 -1.445312 -4.128906 -1.363281 -3.921875 -1.363281 C -3.695312 -1.363281 -3.511719 -1.476562 -3.375 -1.699219 C -3.292969 -1.828125 -3.222656 -2.023438 -3.160156 -2.273438 L -3.015625 -2.855469 C -2.863281 -3.488281 -2.714844 -3.910156 -2.574219 -4.125 C -2.347656 -4.46875 -1.996094 -4.640625 -1.511719 -4.640625 C -1.046875 -4.640625 -0.644531 -4.460938 -0.308594 -4.109375 C 0.03125 -3.757812 0.199219 -3.21875 0.199219 -2.496094 C 0.199219 -1.71875 0.0234375 -1.167969 -0.328125 -0.84375 C -0.683594 -0.519531 -1.121094 -0.34375 -1.640625 -0.324219 Z M -1.640625 -1.167969 \"/>\n",
       "</symbol>\n",
       "<symbol overflow=\"visible\" id=\"glyph1-12\">\n",
       "<path style=\"stroke:none;\" d=\"M -3.238281 -0.414062 L -3.238281 -2.867188 L -2.335938 -2.867188 L -2.335938 -0.414062 Z M -3.238281 -0.414062 \"/>\n",
       "</symbol>\n",
       "<symbol overflow=\"visible\" id=\"glyph1-13\">\n",
       "<path style=\"stroke:none;\" d=\"M -7.171875 -1.328125 L -1.0625 -3.390625 L -7.171875 -5.425781 L -7.171875 -6.515625 L 0 -3.898438 L 0 -2.867188 L -7.171875 -0.253906 Z M -7.171875 -1.328125 \"/>\n",
       "</symbol>\n",
       "<symbol overflow=\"visible\" id=\"glyph1-14\">\n",
       "<path style=\"stroke:none;\" d=\"M -7.171875 -0.667969 L -7.171875 -1.546875 L 0 -1.546875 L 0 -0.667969 Z M -7.171875 -0.667969 \"/>\n",
       "</symbol>\n",
       "<symbol overflow=\"visible\" id=\"glyph1-15\">\n",
       "<path style=\"stroke:none;\" d=\"M -5.203125 -0.644531 L -5.203125 -1.539062 L 0 -1.539062 L 0 -0.644531 Z M -7.171875 -0.644531 L -7.171875 -1.539062 L -6.175781 -1.539062 L -6.175781 -0.644531 Z M -7.171875 -0.644531 \"/>\n",
       "</symbol>\n",
       "<symbol overflow=\"visible\" id=\"glyph1-16\">\n",
       "<path style=\"stroke:none;\" d=\"M -1.148438 -1.558594 C -0.769531 -1.796875 -0.582031 -2.175781 -0.582031 -2.699219 C -0.582031 -3.105469 -0.757812 -3.441406 -1.105469 -3.703125 C -1.457031 -3.964844 -1.957031 -4.097656 -2.613281 -4.097656 C -3.273438 -4.097656 -3.761719 -3.960938 -4.078125 -3.691406 C -4.398438 -3.421875 -4.554688 -3.085938 -4.554688 -2.691406 C -4.554688 -2.25 -4.386719 -1.890625 -4.046875 -1.613281 C -3.710938 -1.339844 -3.210938 -1.203125 -2.554688 -1.203125 C -1.992188 -1.203125 -1.523438 -1.320312 -1.148438 -1.558594 Z M -5.070312 -3.53125 C -4.972656 -3.6875 -4.800781 -3.863281 -4.554688 -4.0625 L -7.195312 -4.0625 L -7.195312 -4.90625 L 0 -4.90625 L 0 -4.117188 L -0.726562 -4.117188 C -0.40625 -3.910156 -0.171875 -3.667969 -0.0273438 -3.390625 C 0.113281 -3.109375 0.1875 -2.789062 0.1875 -2.425781 C 0.1875 -1.84375 -0.0585938 -1.339844 -0.550781 -0.914062 C -1.039062 -0.488281 -1.691406 -0.273438 -2.503906 -0.273438 C -3.265625 -0.273438 -3.925781 -0.46875 -4.484375 -0.855469 C -5.042969 -1.246094 -5.320312 -1.800781 -5.320312 -2.523438 C -5.320312 -2.925781 -5.238281 -3.261719 -5.070312 -3.53125 Z M -5.070312 -3.53125 \"/>\n",
       "</symbol>\n",
       "<symbol overflow=\"visible\" id=\"glyph1-17\">\n",
       "<path style=\"stroke:none;\" d=\"M -6.6875 -0.820312 L -6.6875 -1.710938 L -5.230469 -1.710938 L -5.230469 -2.542969 L -4.511719 -2.542969 L -4.511719 -1.710938 L -1.097656 -1.710938 C -0.914062 -1.710938 -0.792969 -1.769531 -0.730469 -1.894531 C -0.695312 -1.960938 -0.679688 -2.078125 -0.679688 -2.234375 C -0.679688 -2.277344 -0.679688 -2.324219 -0.679688 -2.375 C -0.683594 -2.421875 -0.6875 -2.480469 -0.691406 -2.542969 L 0 -2.542969 C 0.03125 -2.441406 0.0507812 -2.339844 0.0625 -2.230469 C 0.078125 -2.121094 0.0820312 -2 0.0820312 -1.875 C 0.0820312 -1.464844 -0.0234375 -1.1875 -0.230469 -1.039062 C -0.441406 -0.894531 -0.714844 -0.820312 -1.050781 -0.820312 L -4.511719 -0.820312 L -4.511719 -0.113281 L -5.230469 -0.113281 L -5.230469 -0.820312 Z M -6.6875 -0.820312 \"/>\n",
       "</symbol>\n",
       "<symbol overflow=\"visible\" id=\"glyph1-18\">\n",
       "<path style=\"stroke:none;\" d=\"M -5.230469 -0.644531 L -5.230469 -1.480469 L -4.488281 -1.480469 C -4.792969 -1.726562 -5.011719 -1.988281 -5.148438 -2.265625 C -5.28125 -2.542969 -5.347656 -2.851562 -5.347656 -3.1875 C -5.347656 -3.929688 -5.085938 -4.433594 -4.570312 -4.691406 C -4.289062 -4.835938 -3.882812 -4.90625 -3.355469 -4.90625 L 0 -4.90625 L 0 -4.015625 L -3.296875 -4.015625 C -3.617188 -4.015625 -3.871094 -3.964844 -4.066406 -3.871094 C -4.390625 -3.714844 -4.554688 -3.433594 -4.554688 -3.023438 C -4.554688 -2.8125 -4.535156 -2.644531 -4.492188 -2.511719 C -4.421875 -2.269531 -4.277344 -2.058594 -4.0625 -1.875 C -3.890625 -1.726562 -3.710938 -1.632812 -3.527344 -1.589844 C -3.34375 -1.546875 -3.082031 -1.523438 -2.738281 -1.523438 L 0 -1.523438 L 0 -0.644531 Z M -5.230469 -0.644531 \"/>\n",
       "</symbol>\n",
       "<symbol overflow=\"visible\" id=\"glyph1-19\">\n",
       "<path style=\"stroke:none;\" d=\"M 2.039062 -0.347656 C 1.03125 -0.863281 0.296875 -1.199219 -0.164062 -1.347656 C -0.867188 -1.574219 -1.6875 -1.6875 -2.625 -1.691406 C -3.566406 -1.691406 -4.429688 -1.558594 -5.210938 -1.292969 C -5.691406 -1.132812 -6.386719 -0.8125 -7.289062 -0.332031 L -7.289062 -0.921875 C -6.488281 -1.425781 -5.996094 -1.726562 -5.808594 -1.832031 C -5.621094 -1.9375 -5.363281 -2.054688 -5.035156 -2.179688 C -4.628906 -2.335938 -4.226562 -2.445312 -3.828125 -2.511719 C -3.429688 -2.578125 -3.046875 -2.613281 -2.679688 -2.613281 C -1.71875 -2.613281 -0.859375 -2.460938 -0.101562 -2.152344 C 0.382812 -1.960938 1.097656 -1.5625 2.039062 -0.957031 Z M 2.039062 -0.347656 \"/>\n",
       "</symbol>\n",
       "</g>\n",
       "<clipPath id=\"clip1\">\n",
       "  <path d=\"M 55.644531 431 L 475.992188 431 L 475.992188 433 L 55.644531 433 Z M 55.644531 431 \"/>\n",
       "</clipPath>\n",
       "<clipPath id=\"clip2\">\n",
       "  <path d=\"M 55.644531 333 L 475.992188 333 L 475.992188 334 L 55.644531 334 Z M 55.644531 333 \"/>\n",
       "</clipPath>\n",
       "<clipPath id=\"clip3\">\n",
       "  <path d=\"M 55.644531 234 L 475.992188 234 L 475.992188 236 L 55.644531 236 Z M 55.644531 234 \"/>\n",
       "</clipPath>\n",
       "<clipPath id=\"clip4\">\n",
       "  <path d=\"M 55.644531 136 L 475.992188 136 L 475.992188 138 L 55.644531 138 Z M 55.644531 136 \"/>\n",
       "</clipPath>\n",
       "<clipPath id=\"clip5\">\n",
       "  <path d=\"M 133 59.460938 L 135 59.460938 L 135 455.648438 L 133 455.648438 Z M 133 59.460938 \"/>\n",
       "</clipPath>\n",
       "<clipPath id=\"clip6\">\n",
       "  <path d=\"M 238 59.460938 L 240 59.460938 L 240 455.648438 L 238 455.648438 Z M 238 59.460938 \"/>\n",
       "</clipPath>\n",
       "<clipPath id=\"clip7\">\n",
       "  <path d=\"M 343 59.460938 L 345 59.460938 L 345 455.648438 L 343 455.648438 Z M 343 59.460938 \"/>\n",
       "</clipPath>\n",
       "<clipPath id=\"clip8\">\n",
       "  <path d=\"M 448 59.460938 L 450 59.460938 L 450 455.648438 L 448 455.648438 Z M 448 59.460938 \"/>\n",
       "</clipPath>\n",
       "</defs>\n",
       "<g id=\"surface52\">\n",
       "<rect x=\"0\" y=\"0\" width=\"504\" height=\"504\" style=\"fill:rgb(100%,100%,100%);fill-opacity:1;stroke:none;\"/>\n",
       "<g style=\"fill:rgb(0%,0%,0%);fill-opacity:1;\">\n",
       "  <use xlink:href=\"#glyph0-1\" x=\"166.683594\" y=\"13.171875\"/>\n",
       "  <use xlink:href=\"#glyph0-2\" x=\"173.905273\" y=\"13.171875\"/>\n",
       "  <use xlink:href=\"#glyph0-3\" x=\"179.466797\" y=\"13.171875\"/>\n",
       "  <use xlink:href=\"#glyph0-4\" x=\"184.466797\" y=\"13.171875\"/>\n",
       "  <use xlink:href=\"#glyph0-5\" x=\"190.02832\" y=\"13.171875\"/>\n",
       "  <use xlink:href=\"#glyph0-6\" x=\"198.358398\" y=\"13.171875\"/>\n",
       "  <use xlink:href=\"#glyph0-7\" x=\"203.919922\" y=\"13.171875\"/>\n",
       "  <use xlink:href=\"#glyph0-8\" x=\"206.141602\" y=\"13.171875\"/>\n",
       "  <use xlink:href=\"#glyph0-9\" x=\"208.363281\" y=\"13.171875\"/>\n",
       "  <use xlink:href=\"#glyph0-10\" x=\"213.924805\" y=\"13.171875\"/>\n",
       "  <use xlink:href=\"#glyph0-11\" x=\"219.486328\" y=\"13.171875\"/>\n",
       "  <use xlink:href=\"#glyph0-4\" x=\"222.264648\" y=\"13.171875\"/>\n",
       "  <use xlink:href=\"#glyph0-12\" x=\"227.826172\" y=\"13.171875\"/>\n",
       "  <use xlink:href=\"#glyph0-12\" x=\"232.826172\" y=\"13.171875\"/>\n",
       "  <use xlink:href=\"#glyph0-13\" x=\"237.826172\" y=\"13.171875\"/>\n",
       "  <use xlink:href=\"#glyph0-14\" x=\"243.387695\" y=\"13.171875\"/>\n",
       "  <use xlink:href=\"#glyph0-4\" x=\"246.717773\" y=\"13.171875\"/>\n",
       "  <use xlink:href=\"#glyph0-12\" x=\"252.279297\" y=\"13.171875\"/>\n",
       "  <use xlink:href=\"#glyph0-15\" x=\"257.279297\" y=\"13.171875\"/>\n",
       "  <use xlink:href=\"#glyph0-11\" x=\"262.279297\" y=\"13.171875\"/>\n",
       "  <use xlink:href=\"#glyph0-16\" x=\"265.057617\" y=\"13.171875\"/>\n",
       "  <use xlink:href=\"#glyph0-17\" x=\"270.619141\" y=\"13.171875\"/>\n",
       "  <use xlink:href=\"#glyph0-2\" x=\"275.619141\" y=\"13.171875\"/>\n",
       "  <use xlink:href=\"#glyph0-14\" x=\"281.180664\" y=\"13.171875\"/>\n",
       "  <use xlink:href=\"#glyph0-11\" x=\"284.510742\" y=\"13.171875\"/>\n",
       "  <use xlink:href=\"#glyph0-3\" x=\"287.289062\" y=\"13.171875\"/>\n",
       "  <use xlink:href=\"#glyph0-13\" x=\"292.289062\" y=\"13.171875\"/>\n",
       "  <use xlink:href=\"#glyph0-18\" x=\"297.850586\" y=\"13.171875\"/>\n",
       "  <use xlink:href=\"#glyph0-3\" x=\"303.412109\" y=\"13.171875\"/>\n",
       "  <use xlink:href=\"#glyph0-2\" x=\"308.412109\" y=\"13.171875\"/>\n",
       "  <use xlink:href=\"#glyph0-19\" x=\"313.973633\" y=\"13.171875\"/>\n",
       "  <use xlink:href=\"#glyph0-11\" x=\"316.751953\" y=\"13.171875\"/>\n",
       "  <use xlink:href=\"#glyph0-3\" x=\"319.530273\" y=\"13.171875\"/>\n",
       "  <use xlink:href=\"#glyph0-8\" x=\"324.530273\" y=\"13.171875\"/>\n",
       "  <use xlink:href=\"#glyph0-20\" x=\"326.751953\" y=\"13.171875\"/>\n",
       "  <use xlink:href=\"#glyph0-2\" x=\"331.751953\" y=\"13.171875\"/>\n",
       "</g>\n",
       "<g style=\"fill:rgb(0%,0%,0%);fill-opacity:1;\">\n",
       "  <use xlink:href=\"#glyph0-21\" x=\"184.75\" y=\"30.453125\"/>\n",
       "  <use xlink:href=\"#glyph0-12\" x=\"188.080078\" y=\"30.453125\"/>\n",
       "  <use xlink:href=\"#glyph0-14\" x=\"193.080078\" y=\"30.453125\"/>\n",
       "  <use xlink:href=\"#glyph0-16\" x=\"196.410156\" y=\"30.453125\"/>\n",
       "  <use xlink:href=\"#glyph0-3\" x=\"201.97168\" y=\"30.453125\"/>\n",
       "  <use xlink:href=\"#glyph0-3\" x=\"206.97168\" y=\"30.453125\"/>\n",
       "  <use xlink:href=\"#glyph0-22\" x=\"211.97168\" y=\"30.453125\"/>\n",
       "  <use xlink:href=\"#glyph0-17\" x=\"215.301758\" y=\"30.453125\"/>\n",
       "  <use xlink:href=\"#glyph0-4\" x=\"220.301758\" y=\"30.453125\"/>\n",
       "  <use xlink:href=\"#glyph0-7\" x=\"225.863281\" y=\"30.453125\"/>\n",
       "  <use xlink:href=\"#glyph0-8\" x=\"228.084961\" y=\"30.453125\"/>\n",
       "  <use xlink:href=\"#glyph0-23\" x=\"230.306641\" y=\"30.453125\"/>\n",
       "  <use xlink:href=\"#glyph0-4\" x=\"235.868164\" y=\"30.453125\"/>\n",
       "  <use xlink:href=\"#glyph0-19\" x=\"241.429688\" y=\"30.453125\"/>\n",
       "  <use xlink:href=\"#glyph0-8\" x=\"244.208008\" y=\"30.453125\"/>\n",
       "  <use xlink:href=\"#glyph0-16\" x=\"246.429688\" y=\"30.453125\"/>\n",
       "  <use xlink:href=\"#glyph0-9\" x=\"251.991211\" y=\"30.453125\"/>\n",
       "  <use xlink:href=\"#glyph0-11\" x=\"257.552734\" y=\"30.453125\"/>\n",
       "  <use xlink:href=\"#glyph0-24\" x=\"260.331055\" y=\"30.453125\"/>\n",
       "  <use xlink:href=\"#glyph0-8\" x=\"267.552734\" y=\"30.453125\"/>\n",
       "  <use xlink:href=\"#glyph0-19\" x=\"269.774414\" y=\"30.453125\"/>\n",
       "  <use xlink:href=\"#glyph0-25\" x=\"272.552734\" y=\"30.453125\"/>\n",
       "  <use xlink:href=\"#glyph0-11\" x=\"278.114258\" y=\"30.453125\"/>\n",
       "  <use xlink:href=\"#glyph0-26\" x=\"280.892578\" y=\"30.453125\"/>\n",
       "  <use xlink:href=\"#glyph0-27\" x=\"286.454102\" y=\"30.453125\"/>\n",
       "  <use xlink:href=\"#glyph0-11\" x=\"292.015625\" y=\"30.453125\"/>\n",
       "  <use xlink:href=\"#glyph0-28\" x=\"294.793945\" y=\"30.453125\"/>\n",
       "  <use xlink:href=\"#glyph0-16\" x=\"297.572266\" y=\"30.453125\"/>\n",
       "  <use xlink:href=\"#glyph0-7\" x=\"303.133789\" y=\"30.453125\"/>\n",
       "  <use xlink:href=\"#glyph0-23\" x=\"305.355469\" y=\"30.453125\"/>\n",
       "  <use xlink:href=\"#glyph0-3\" x=\"310.916992\" y=\"30.453125\"/>\n",
       "  <use xlink:href=\"#glyph0-29\" x=\"315.916992\" y=\"30.453125\"/>\n",
       "</g>\n",
       "<g style=\"fill:rgb(0%,0%,0%);fill-opacity:1;\">\n",
       "  <use xlink:href=\"#glyph0-30\" x=\"244.472656\" y=\"492\"/>\n",
       "  <use xlink:href=\"#glyph0-4\" x=\"251.142578\" y=\"492\"/>\n",
       "  <use xlink:href=\"#glyph0-14\" x=\"256.704102\" y=\"492\"/>\n",
       "  <use xlink:href=\"#glyph0-8\" x=\"260.03418\" y=\"492\"/>\n",
       "  <use xlink:href=\"#glyph0-4\" x=\"262.255859\" y=\"492\"/>\n",
       "  <use xlink:href=\"#glyph0-18\" x=\"267.817383\" y=\"492\"/>\n",
       "  <use xlink:href=\"#glyph0-7\" x=\"273.378906\" y=\"492\"/>\n",
       "  <use xlink:href=\"#glyph0-2\" x=\"275.600586\" y=\"492\"/>\n",
       "  <use xlink:href=\"#glyph0-3\" x=\"281.162109\" y=\"492\"/>\n",
       "</g>\n",
       "<g style=\"fill:rgb(0%,0%,0%);fill-opacity:1;\">\n",
       "  <use xlink:href=\"#glyph1-1\" x=\"13.171875\" y=\"319.015625\"/>\n",
       "  <use xlink:href=\"#glyph1-2\" x=\"13.171875\" y=\"312.345703\"/>\n",
       "  <use xlink:href=\"#glyph1-2\" x=\"13.171875\" y=\"307.345703\"/>\n",
       "  <use xlink:href=\"#glyph1-3\" x=\"13.171875\" y=\"302.345703\"/>\n",
       "  <use xlink:href=\"#glyph1-4\" x=\"13.171875\" y=\"296.78418\"/>\n",
       "  <use xlink:href=\"#glyph1-5\" x=\"13.171875\" y=\"293.454102\"/>\n",
       "  <use xlink:href=\"#glyph1-2\" x=\"13.171875\" y=\"287.892578\"/>\n",
       "  <use xlink:href=\"#glyph1-6\" x=\"13.171875\" y=\"282.892578\"/>\n",
       "  <use xlink:href=\"#glyph1-7\" x=\"13.171875\" y=\"277.892578\"/>\n",
       "  <use xlink:href=\"#glyph1-8\" x=\"13.171875\" y=\"275.114258\"/>\n",
       "  <use xlink:href=\"#glyph1-9\" x=\"13.171875\" y=\"271.78418\"/>\n",
       "  <use xlink:href=\"#glyph1-4\" x=\"13.171875\" y=\"264.5625\"/>\n",
       "  <use xlink:href=\"#glyph1-10\" x=\"13.171875\" y=\"261.232422\"/>\n",
       "  <use xlink:href=\"#glyph1-11\" x=\"13.171875\" y=\"255.670898\"/>\n",
       "  <use xlink:href=\"#glyph1-11\" x=\"13.171875\" y=\"250.670898\"/>\n",
       "  <use xlink:href=\"#glyph1-12\" x=\"13.171875\" y=\"245.670898\"/>\n",
       "  <use xlink:href=\"#glyph1-13\" x=\"13.171875\" y=\"242.34082\"/>\n",
       "  <use xlink:href=\"#glyph1-5\" x=\"13.171875\" y=\"235.670898\"/>\n",
       "  <use xlink:href=\"#glyph1-14\" x=\"13.171875\" y=\"230.109375\"/>\n",
       "  <use xlink:href=\"#glyph1-15\" x=\"13.171875\" y=\"227.887695\"/>\n",
       "  <use xlink:href=\"#glyph1-16\" x=\"13.171875\" y=\"225.666016\"/>\n",
       "  <use xlink:href=\"#glyph1-5\" x=\"13.171875\" y=\"220.104492\"/>\n",
       "  <use xlink:href=\"#glyph1-17\" x=\"13.171875\" y=\"214.542969\"/>\n",
       "  <use xlink:href=\"#glyph1-15\" x=\"13.171875\" y=\"211.764648\"/>\n",
       "  <use xlink:href=\"#glyph1-10\" x=\"13.171875\" y=\"209.542969\"/>\n",
       "  <use xlink:href=\"#glyph1-18\" x=\"13.171875\" y=\"203.981445\"/>\n",
       "  <use xlink:href=\"#glyph1-19\" x=\"13.171875\" y=\"198.419922\"/>\n",
       "</g>\n",
       "<path style=\"fill:none;stroke-width:0.75;stroke-linecap:round;stroke-linejoin:round;stroke:rgb(0%,0%,0%);stroke-opacity:1;stroke-miterlimit:10;\" d=\"M 133.941406 59.460938 L 133.941406 53.792969 \"/>\n",
       "<path style=\"fill:none;stroke-width:0.75;stroke-linecap:round;stroke-linejoin:round;stroke:rgb(0%,0%,0%);stroke-opacity:1;stroke-miterlimit:10;\" d=\"M 239.042969 59.460938 L 239.042969 53.792969 \"/>\n",
       "<path style=\"fill:none;stroke-width:0.75;stroke-linecap:round;stroke-linejoin:round;stroke:rgb(0%,0%,0%);stroke-opacity:1;stroke-miterlimit:10;\" d=\"M 344.144531 59.460938 L 344.144531 53.792969 \"/>\n",
       "<path style=\"fill:none;stroke-width:0.75;stroke-linecap:round;stroke-linejoin:round;stroke:rgb(0%,0%,0%);stroke-opacity:1;stroke-miterlimit:10;\" d=\"M 449.242188 59.460938 L 449.242188 53.792969 \"/>\n",
       "<path style=\"fill:none;stroke-width:0.75;stroke-linecap:round;stroke-linejoin:round;stroke:rgb(0%,0%,0%);stroke-opacity:1;stroke-miterlimit:10;\" d=\"M 55.644531 431.648438 L 49.972656 431.648438 \"/>\n",
       "<path style=\"fill:none;stroke-width:0.75;stroke-linecap:round;stroke-linejoin:round;stroke:rgb(0%,0%,0%);stroke-opacity:1;stroke-miterlimit:10;\" d=\"M 55.644531 333.417969 L 49.972656 333.417969 \"/>\n",
       "<path style=\"fill:none;stroke-width:0.75;stroke-linecap:round;stroke-linejoin:round;stroke:rgb(0%,0%,0%);stroke-opacity:1;stroke-miterlimit:10;\" d=\"M 55.644531 235.191406 L 49.972656 235.191406 \"/>\n",
       "<path style=\"fill:none;stroke-width:0.75;stroke-linecap:round;stroke-linejoin:round;stroke:rgb(0%,0%,0%);stroke-opacity:1;stroke-miterlimit:10;\" d=\"M 55.644531 136.960938 L 49.972656 136.960938 \"/>\n",
       "<g style=\"fill:rgb(0%,0%,0%);fill-opacity:1;\">\n",
       "  <use xlink:href=\"#glyph0-31\" x=\"24.84375\" y=\"435.234375\"/>\n",
       "  <use xlink:href=\"#glyph0-32\" x=\"30.405273\" y=\"435.234375\"/>\n",
       "  <use xlink:href=\"#glyph0-33\" x=\"33.183594\" y=\"435.234375\"/>\n",
       "  <use xlink:href=\"#glyph0-31\" x=\"38.745117\" y=\"435.234375\"/>\n",
       "</g>\n",
       "<g style=\"fill:rgb(0%,0%,0%);fill-opacity:1;\">\n",
       "  <use xlink:href=\"#glyph0-31\" x=\"24.84375\" y=\"337.003906\"/>\n",
       "  <use xlink:href=\"#glyph0-32\" x=\"30.405273\" y=\"337.003906\"/>\n",
       "  <use xlink:href=\"#glyph0-33\" x=\"33.183594\" y=\"337.003906\"/>\n",
       "  <use xlink:href=\"#glyph0-26\" x=\"38.745117\" y=\"337.003906\"/>\n",
       "</g>\n",
       "<g style=\"fill:rgb(0%,0%,0%);fill-opacity:1;\">\n",
       "  <use xlink:href=\"#glyph0-31\" x=\"24.84375\" y=\"238.777344\"/>\n",
       "  <use xlink:href=\"#glyph0-32\" x=\"30.405273\" y=\"238.777344\"/>\n",
       "  <use xlink:href=\"#glyph0-33\" x=\"33.183594\" y=\"238.777344\"/>\n",
       "  <use xlink:href=\"#glyph0-34\" x=\"38.745117\" y=\"238.777344\"/>\n",
       "</g>\n",
       "<g style=\"fill:rgb(0%,0%,0%);fill-opacity:1;\">\n",
       "  <use xlink:href=\"#glyph0-31\" x=\"24.84375\" y=\"140.546875\"/>\n",
       "  <use xlink:href=\"#glyph0-32\" x=\"30.405273\" y=\"140.546875\"/>\n",
       "  <use xlink:href=\"#glyph0-33\" x=\"33.183594\" y=\"140.546875\"/>\n",
       "  <use xlink:href=\"#glyph0-35\" x=\"38.745117\" y=\"140.546875\"/>\n",
       "</g>\n",
       "<path style=\"fill:none;stroke-width:0.75;stroke-linecap:round;stroke-linejoin:round;stroke:rgb(0%,0%,0%);stroke-opacity:1;stroke-miterlimit:10;\" d=\"M 133.941406 454.644531 L 133.941406 460.316406 \"/>\n",
       "<path style=\"fill:none;stroke-width:0.75;stroke-linecap:round;stroke-linejoin:round;stroke:rgb(0%,0%,0%);stroke-opacity:1;stroke-miterlimit:10;\" d=\"M 239.042969 454.644531 L 239.042969 460.316406 \"/>\n",
       "<path style=\"fill:none;stroke-width:0.75;stroke-linecap:round;stroke-linejoin:round;stroke:rgb(0%,0%,0%);stroke-opacity:1;stroke-miterlimit:10;\" d=\"M 344.144531 454.644531 L 344.144531 460.316406 \"/>\n",
       "<path style=\"fill:none;stroke-width:0.75;stroke-linecap:round;stroke-linejoin:round;stroke:rgb(0%,0%,0%);stroke-opacity:1;stroke-miterlimit:10;\" d=\"M 449.242188 454.644531 L 449.242188 460.316406 \"/>\n",
       "<g style=\"fill:rgb(0%,0%,0%);fill-opacity:1;\">\n",
       "  <use xlink:href=\"#glyph0-26\" x=\"131.160156\" y=\"473.15625\"/>\n",
       "</g>\n",
       "<g style=\"fill:rgb(0%,0%,0%);fill-opacity:1;\">\n",
       "  <use xlink:href=\"#glyph0-34\" x=\"236.261719\" y=\"473.15625\"/>\n",
       "</g>\n",
       "<g style=\"fill:rgb(0%,0%,0%);fill-opacity:1;\">\n",
       "  <use xlink:href=\"#glyph0-35\" x=\"341.363281\" y=\"473.15625\"/>\n",
       "</g>\n",
       "<g style=\"fill:rgb(0%,0%,0%);fill-opacity:1;\">\n",
       "  <use xlink:href=\"#glyph0-36\" x=\"446.460938\" y=\"473.15625\"/>\n",
       "</g>\n",
       "<path style=\"fill:none;stroke-width:0.75;stroke-linecap:round;stroke-linejoin:round;stroke:rgb(0%,0%,0%);stroke-opacity:1;stroke-miterlimit:10;\" d=\"M 474.992188 431.648438 L 480.660156 431.648438 \"/>\n",
       "<path style=\"fill:none;stroke-width:0.75;stroke-linecap:round;stroke-linejoin:round;stroke:rgb(0%,0%,0%);stroke-opacity:1;stroke-miterlimit:10;\" d=\"M 474.992188 333.417969 L 480.660156 333.417969 \"/>\n",
       "<path style=\"fill:none;stroke-width:0.75;stroke-linecap:round;stroke-linejoin:round;stroke:rgb(0%,0%,0%);stroke-opacity:1;stroke-miterlimit:10;\" d=\"M 474.992188 235.191406 L 480.660156 235.191406 \"/>\n",
       "<path style=\"fill:none;stroke-width:0.75;stroke-linecap:round;stroke-linejoin:round;stroke:rgb(0%,0%,0%);stroke-opacity:1;stroke-miterlimit:10;\" d=\"M 474.992188 136.960938 L 480.660156 136.960938 \"/>\n",
       "<g clip-path=\"url(#clip1)\" clip-rule=\"nonzero\">\n",
       "<path style=\"fill:none;stroke-width:0.75;stroke-linecap:round;stroke-linejoin:round;stroke:rgb(90.196078%,90.196078%,90.196078%);stroke-opacity:1;stroke-miterlimit:10;\" d=\"M 55.644531 431.648438 L 474.992188 431.648438 \"/>\n",
       "</g>\n",
       "<g clip-path=\"url(#clip2)\" clip-rule=\"nonzero\">\n",
       "<path style=\"fill:none;stroke-width:0.75;stroke-linecap:round;stroke-linejoin:round;stroke:rgb(90.196078%,90.196078%,90.196078%);stroke-opacity:1;stroke-miterlimit:10;\" d=\"M 55.644531 333.417969 L 474.992188 333.417969 \"/>\n",
       "</g>\n",
       "<g clip-path=\"url(#clip3)\" clip-rule=\"nonzero\">\n",
       "<path style=\"fill:none;stroke-width:0.75;stroke-linecap:round;stroke-linejoin:round;stroke:rgb(90.196078%,90.196078%,90.196078%);stroke-opacity:1;stroke-miterlimit:10;\" d=\"M 55.644531 235.191406 L 474.992188 235.191406 \"/>\n",
       "</g>\n",
       "<g clip-path=\"url(#clip4)\" clip-rule=\"nonzero\">\n",
       "<path style=\"fill:none;stroke-width:0.75;stroke-linecap:round;stroke-linejoin:round;stroke:rgb(90.196078%,90.196078%,90.196078%);stroke-opacity:1;stroke-miterlimit:10;\" d=\"M 55.644531 136.960938 L 474.992188 136.960938 \"/>\n",
       "</g>\n",
       "<g clip-path=\"url(#clip5)\" clip-rule=\"nonzero\">\n",
       "<path style=\"fill:none;stroke-width:0.75;stroke-linecap:round;stroke-linejoin:round;stroke:rgb(90.196078%,90.196078%,90.196078%);stroke-opacity:1;stroke-miterlimit:10;\" d=\"M 133.941406 454.644531 L 133.941406 59.460938 \"/>\n",
       "</g>\n",
       "<g clip-path=\"url(#clip6)\" clip-rule=\"nonzero\">\n",
       "<path style=\"fill:none;stroke-width:0.75;stroke-linecap:round;stroke-linejoin:round;stroke:rgb(90.196078%,90.196078%,90.196078%);stroke-opacity:1;stroke-miterlimit:10;\" d=\"M 239.042969 454.644531 L 239.042969 59.460938 \"/>\n",
       "</g>\n",
       "<g clip-path=\"url(#clip7)\" clip-rule=\"nonzero\">\n",
       "<path style=\"fill:none;stroke-width:0.75;stroke-linecap:round;stroke-linejoin:round;stroke:rgb(90.196078%,90.196078%,90.196078%);stroke-opacity:1;stroke-miterlimit:10;\" d=\"M 344.144531 454.644531 L 344.144531 59.460938 \"/>\n",
       "</g>\n",
       "<g clip-path=\"url(#clip8)\" clip-rule=\"nonzero\">\n",
       "<path style=\"fill:none;stroke-width:0.75;stroke-linecap:round;stroke-linejoin:round;stroke:rgb(90.196078%,90.196078%,90.196078%);stroke-opacity:1;stroke-miterlimit:10;\" d=\"M 449.242188 454.644531 L 449.242188 59.460938 \"/>\n",
       "</g>\n",
       "<path style=\"fill:none;stroke-width:0.75;stroke-linecap:round;stroke-linejoin:round;stroke:rgb(0%,50.196078%,100%);stroke-opacity:1;stroke-miterlimit:10;\" d=\"M 83.792969 430.378906 C 83.792969 433.582031 78.992188 433.582031 78.992188 430.378906 C 78.992188 427.179688 83.792969 427.179688 83.792969 430.378906 \"/>\n",
       "<path style=\"fill:none;stroke-width:0.75;stroke-linecap:round;stroke-linejoin:round;stroke:rgb(0%,50.196078%,100%);stroke-opacity:1;stroke-miterlimit:10;\" d=\"M 136.34375 276.171875 C 136.34375 279.371094 131.542969 279.371094 131.542969 276.171875 C 131.542969 272.972656 136.34375 272.972656 136.34375 276.171875 \"/>\n",
       "<path style=\"fill:none;stroke-width:0.75;stroke-linecap:round;stroke-linejoin:round;stroke:rgb(0%,50.196078%,100%);stroke-opacity:1;stroke-miterlimit:10;\" d=\"M 188.894531 211.109375 C 188.894531 214.308594 184.09375 214.308594 184.09375 211.109375 C 184.09375 207.90625 188.894531 207.90625 188.894531 211.109375 \"/>\n",
       "<path style=\"fill:none;stroke-width:0.75;stroke-linecap:round;stroke-linejoin:round;stroke:rgb(0%,50.196078%,100%);stroke-opacity:1;stroke-miterlimit:10;\" d=\"M 241.441406 184.703125 C 241.441406 187.902344 236.644531 187.902344 236.644531 184.703125 C 236.644531 181.5 241.441406 181.5 241.441406 184.703125 \"/>\n",
       "<path style=\"fill:none;stroke-width:0.75;stroke-linecap:round;stroke-linejoin:round;stroke:rgb(0%,50.196078%,100%);stroke-opacity:1;stroke-miterlimit:10;\" d=\"M 293.992188 140.550781 C 293.992188 143.75 289.191406 143.75 289.191406 140.550781 C 289.191406 137.351562 293.992188 137.351562 293.992188 140.550781 \"/>\n",
       "<path style=\"fill:none;stroke-width:0.75;stroke-linecap:round;stroke-linejoin:round;stroke:rgb(0%,50.196078%,100%);stroke-opacity:1;stroke-miterlimit:10;\" d=\"M 346.542969 115.203125 C 346.542969 118.402344 341.742188 118.402344 341.742188 115.203125 C 341.742188 112.003906 346.542969 112.003906 346.542969 115.203125 \"/>\n",
       "<path style=\"fill:none;stroke-width:0.75;stroke-linecap:round;stroke-linejoin:round;stroke:rgb(0%,50.196078%,100%);stroke-opacity:1;stroke-miterlimit:10;\" d=\"M 399.09375 128.511719 C 399.09375 131.710938 394.292969 131.710938 394.292969 128.511719 C 394.292969 125.3125 399.09375 125.3125 399.09375 128.511719 \"/>\n",
       "<path style=\"fill:none;stroke-width:0.75;stroke-linecap:round;stroke-linejoin:round;stroke:rgb(0%,50.196078%,100%);stroke-opacity:1;stroke-miterlimit:10;\" d=\"M 451.644531 83.726562 C 451.644531 86.925781 446.84375 86.925781 446.84375 83.726562 C 446.84375 80.527344 451.644531 80.527344 451.644531 83.726562 \"/>\n",
       "<path style=\"fill:none;stroke-width:0.75;stroke-linecap:round;stroke-linejoin:round;stroke:rgb(0%,50.196078%,100%);stroke-opacity:1;stroke-miterlimit:10;\" d=\"M 81.394531 430.378906 L 133.941406 276.171875 L 186.492188 211.109375 L 239.042969 184.703125 L 291.59375 140.550781 L 344.144531 115.203125 L 396.691406 128.511719 L 449.242188 83.726562 \"/>\n",
       "<path style=\" stroke:none;fill-rule:nonzero;fill:rgb(0%,50.196078%,100%);fill-opacity:1;\" d=\"M 451.644531 83.726562 C 451.644531 86.925781 446.84375 86.925781 446.84375 83.726562 C 446.84375 80.527344 451.644531 80.527344 451.644531 83.726562 \"/>\n",
       "<path style=\"fill:none;stroke-width:0.75;stroke-linecap:round;stroke-linejoin:round;stroke:rgb(0%,0%,0%);stroke-opacity:1;stroke-miterlimit:10;\" d=\"M 55.644531 454.644531 L 474.992188 454.644531 L 474.992188 59.457031 L 55.644531 59.457031 Z M 55.644531 454.644531 \"/>\n",
       "</g>\n",
       "</svg>\n"
      ],
      "text/plain": [
       "plot without title"
      ]
     },
     "metadata": {
      "image/svg+xml": {
       "isolated": true
      }
     },
     "output_type": "display_data"
    }
   ],
   "source": [
    "# Let's compare the digits with the picture\n",
    "plot(result, type = c(\"g\", \"o\"), \n",
    "     main = \"Resampling accuracy over subset size\\n(cross-validation with 25 folds)\")"
   ]
  }
 ],
 "metadata": {
  "kernelspec": {
   "display_name": "R",
   "language": "R",
   "name": "ir"
  },
  "language_info": {
   "codemirror_mode": "r",
   "file_extension": ".r",
   "mimetype": "text/x-r-source",
   "name": "R",
   "pygments_lexer": "r",
   "version": "3.2.3"
  }
 },
 "nbformat": 4,
 "nbformat_minor": 0
}
