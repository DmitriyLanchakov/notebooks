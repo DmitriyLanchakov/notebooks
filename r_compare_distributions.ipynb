{
 "cells": [
  {
   "cell_type": "markdown",
   "metadata": {},
   "source": [
    "# Сравнение распределений в R"
   ]
  },
  {
   "cell_type": "markdown",
   "metadata": {},
   "source": [
    "## 0\\. Подготовительные работы"
   ]
  },
  {
   "cell_type": "code",
   "execution_count": 32,
   "metadata": {
    "collapsed": false
   },
   "outputs": [
    {
     "data": {
      "text/html": [
       "'/Users/mac/Documents/_notebooks'"
      ],
      "text/latex": [
       "'/Users/mac/Documents/_notebooks'"
      ],
      "text/markdown": [
       "'/Users/mac/Documents/_notebooks'"
      ],
      "text/plain": [
       "[1] \"/Users/mac/Documents/_notebooks\""
      ]
     },
     "execution_count": 32,
     "metadata": {},
     "output_type": "execute_result"
    }
   ],
   "source": [
    "getwd()"
   ]
  },
  {
   "cell_type": "code",
   "execution_count": 33,
   "metadata": {
    "collapsed": false
   },
   "outputs": [],
   "source": [
    "data <- read.csv(\"data_compare_distr.csv\")"
   ]
  },
  {
   "cell_type": "code",
   "execution_count": 34,
   "metadata": {
    "collapsed": false
   },
   "outputs": [],
   "source": [
    "library(jsonlite)\n",
    "library(dplyr)"
   ]
  },
  {
   "cell_type": "code",
   "execution_count": 35,
   "metadata": {
    "collapsed": false
   },
   "outputs": [
    {
     "data": {
      "text/html": [
       "<ol class=list-inline>\n",
       "\t<li>10000</li>\n",
       "\t<li>38</li>\n",
       "</ol>\n"
      ],
      "text/latex": [
       "\\begin{enumerate*}\n",
       "\\item 10000\n",
       "\\item 38\n",
       "\\end{enumerate*}\n"
      ],
      "text/markdown": [
       "1. 10000\n",
       "2. 38\n",
       "\n",
       "\n"
      ],
      "text/plain": [
       "[1] 10000    38"
      ]
     },
     "execution_count": 35,
     "metadata": {},
     "output_type": "execute_result"
    }
   ],
   "source": [
    "dim(data)"
   ]
  },
  {
   "cell_type": "code",
   "execution_count": 36,
   "metadata": {
    "collapsed": false
   },
   "outputs": [
    {
     "name": "stdout",
     "output_type": "stream",
     "text": [
      "'data.frame':\t10000 obs. of  38 variables:\n",
      " $ total            : int  21331 21331 21331 21331 21331 21331 21331 21331 21331 21331 ...\n",
      " $ max.score        : num  8.9 8.9 8.9 8.9 8.9 ...\n",
      " $ index            : Factor w/ 2 levels \"ad_views-2016.04.26\",..: 2 2 2 2 2 2 2 2 2 2 ...\n",
      " $ score            : num  8.9 8.9 8.9 8.9 8.9 ...\n",
      " $ ttl              : int  983745312 983643458 983652194 983839221 983849469 983238797 983424030 983967022 984002223 984438976 ...\n",
      " $ timestamp        : num  1.46e+12 1.46e+12 1.46e+12 1.46e+12 1.46e+12 ...\n",
      " $ types            : Factor w/ 2 levels \"bn\",\"cu\": 1 1 1 1 1 1 1 1 1 1 ...\n",
      " $ site.stat        : int  6 6 6 6 6 6 6 6 6 6 ...\n",
      " $ rekl             : int  45 8 26 7 7 40 43 26 40 26 ...\n",
      " $ scheme           : int  226 87 7286 14658 14658 NA NA 7286 NA 7286 ...\n",
      " $ campaign         : int  54 87 36 85 85 NA NA 36 NA 35 ...\n",
      " $ banner           : int  62 132 37 121 123 NA NA 36 NA 34 ...\n",
      " $ stavka           : int  50 12 14 150000 150000 NA NA 24 NA 60 ...\n",
      " $ pay.for          : int  0 0 0 2 2 0 0 0 0 0 ...\n",
      " $ format           : int  2 2 2 2 1 1 1 1 2 1 ...\n",
      " $ stat.format      : int  2 2 2 2 1 NA NA 1 NA 1 ...\n",
      " $ os               : Factor w/ 24 levels \"Android\",\"Linux\",..: 8 9 9 8 8 16 16 9 16 8 ...\n",
      " $ browser          : Factor w/ 26 levels \"360SE\",\"Chrome\",..: 5 3 3 3 3 2 4 3 4 2 ...\n",
      " $ browser.version  : Factor w/ 541 levels \"0\",\"1.1.1.0(29.0.1547.62)\",..: NA NA NA NA NA 60 527 NA 527 NA ...\n",
      " $ browser.lang     : Factor w/ 4 levels \"[{\",\"[{\\\"type\\\":\\\"m\\\"\",..: 2 2 4 2 2 NA NA 2 NA 2 ...\n",
      " $ flash            : int  0 0 0 0 0 NA NA 0 NA 0 ...\n",
      " $ country          : Factor w/ 68 levels \"AE\",\"AL\",\"AM\",..: 54 54 63 67 67 54 64 63 54 54 ...\n",
      " $ city             : Factor w/ 386 levels \"<U+0160>iauliai\",..: 378 378 378 378 378 378 282 378 378 378 ...\n",
      " $ rekl.money       : num  0.05 0.012 0.014 0 0 0.025 0.006 0.024 0.016 0.06 ...\n",
      " $ master.money     : num  0.02467 0.00514 0.00691 0 0 ...\n",
      " $ worker           : int  1080 50 60 110 110 1050 70 10 1050 110 ...\n",
      " $ agent            : int  901 2633 2622 2339 2339 884 110 2660 61 1859 ...\n",
      " $ cpm              : num  50 12 14 0 0 ...\n",
      " $ adsystem         : int  2 2 2 2 2 3 3 2 3 2 ...\n",
      " $ X.version        : int  1 1 1 1 1 1 1 1 1 1 ...\n",
      " $ X.timestamp      : Factor w/ 9800 levels \"2016-04-26T09:01:54.584Z\",..: 5307 5300 5301 5316 5321 5288 5294 5324 5328 5342 ...\n",
      " $ host             : Factor w/ 1 level \"127.0.0.1\": 1 1 1 1 1 1 1 1 1 1 ...\n",
      " $ action           : Factor w/ 1 level \"view\": NA NA NA NA NA NA NA NA NA NA ...\n",
      " $ site.code        : int  NA NA NA NA NA NA NA NA NA NA ...\n",
      " $ errors           : int  NA NA NA NA NA NA NA NA NA NA ...\n",
      " $ amuid.format.site: Factor w/ 2 levels \"new\",\"old\": NA NA NA NA NA NA NA NA NA NA ...\n",
      " $ amuid.format     : Factor w/ 2 levels \"new\",\"old\": NA NA NA NA NA NA NA NA NA NA ...\n",
      " $ rm.ip            : int  NA NA NA NA NA NA NA NA NA NA ...\n"
     ]
    }
   ],
   "source": [
    "str(data)"
   ]
  },
  {
   "cell_type": "code",
   "execution_count": 37,
   "metadata": {
    "collapsed": false
   },
   "outputs": [],
   "source": [
    "data <- data[sort(colnames(data))]"
   ]
  },
  {
   "cell_type": "markdown",
   "metadata": {},
   "source": [
    "Посмотрим на классы переменных:"
   ]
  },
  {
   "cell_type": "code",
   "execution_count": 38,
   "metadata": {
    "collapsed": false,
    "scrolled": false
   },
   "outputs": [
    {
     "name": "stdout",
     "output_type": "stream",
     "text": [
      " [1] \"factor\"  \"integer\" \"factor\"  \"integer\" \"integer\" \"factor\"  \"factor\" \n",
      " [8] \"integer\" \"factor\"  \"factor\"  \"factor\"  \"integer\" \"factor\"  \"factor\" \n",
      "[15] \"numeric\" \"integer\" \"integer\" \"integer\" \"factor\"  \"factor\"  \"numeric\"\n",
      "[22] \"numeric\" \"factor\"  \"integer\" \"integer\" \"numeric\" \"integer\" \"integer\"\n",
      "[29] \"numeric\" \"integer\" \"integer\" \"integer\" \"integer\" \"numeric\" \"integer\"\n",
      "[36] \"integer\" \"factor\"  \"integer\"\n"
     ]
    },
    {
     "data": {
      "text/plain": [
       "\n",
       " factor integer numeric \n",
       "     13      19       6 "
      ]
     },
     "execution_count": 38,
     "metadata": {},
     "output_type": "execute_result"
    }
   ],
   "source": [
    "classes <- lapply(data, class)\n",
    "print(as.character(classes))\n",
    "table(as.character(classes))"
   ]
  },
  {
   "cell_type": "markdown",
   "metadata": {},
   "source": [
    "Посмотрим, какие переменные — `integer`:"
   ]
  },
  {
   "cell_type": "code",
   "execution_count": 39,
   "metadata": {
    "collapsed": false
   },
   "outputs": [
    {
     "data": {
      "text/html": [
       "<ol class=list-inline>\n",
       "\t<li>'X.version'</li>\n",
       "\t<li>'adsystem'</li>\n",
       "\t<li>'agent'</li>\n",
       "\t<li>'banner'</li>\n",
       "\t<li>'campaign'</li>\n",
       "\t<li>'errors'</li>\n",
       "\t<li>'flash'</li>\n",
       "\t<li>'format'</li>\n",
       "\t<li>'pay.for'</li>\n",
       "\t<li>'rekl'</li>\n",
       "\t<li>'rm.ip'</li>\n",
       "\t<li>'scheme'</li>\n",
       "\t<li>'site.code'</li>\n",
       "\t<li>'site.stat'</li>\n",
       "\t<li>'stat.format'</li>\n",
       "\t<li>'stavka'</li>\n",
       "\t<li>'total'</li>\n",
       "\t<li>'ttl'</li>\n",
       "\t<li>'worker'</li>\n",
       "</ol>\n"
      ],
      "text/latex": [
       "\\begin{enumerate*}\n",
       "\\item 'X.version'\n",
       "\\item 'adsystem'\n",
       "\\item 'agent'\n",
       "\\item 'banner'\n",
       "\\item 'campaign'\n",
       "\\item 'errors'\n",
       "\\item 'flash'\n",
       "\\item 'format'\n",
       "\\item 'pay.for'\n",
       "\\item 'rekl'\n",
       "\\item 'rm.ip'\n",
       "\\item 'scheme'\n",
       "\\item 'site.code'\n",
       "\\item 'site.stat'\n",
       "\\item 'stat.format'\n",
       "\\item 'stavka'\n",
       "\\item 'total'\n",
       "\\item 'ttl'\n",
       "\\item 'worker'\n",
       "\\end{enumerate*}\n"
      ],
      "text/markdown": [
       "1. 'X.version'\n",
       "2. 'adsystem'\n",
       "3. 'agent'\n",
       "4. 'banner'\n",
       "5. 'campaign'\n",
       "6. 'errors'\n",
       "7. 'flash'\n",
       "8. 'format'\n",
       "9. 'pay.for'\n",
       "10. 'rekl'\n",
       "11. 'rm.ip'\n",
       "12. 'scheme'\n",
       "13. 'site.code'\n",
       "14. 'site.stat'\n",
       "15. 'stat.format'\n",
       "16. 'stavka'\n",
       "17. 'total'\n",
       "18. 'ttl'\n",
       "19. 'worker'\n",
       "\n",
       "\n"
      ],
      "text/plain": [
       " [1] \"X.version\"   \"adsystem\"    \"agent\"       \"banner\"      \"campaign\"   \n",
       " [6] \"errors\"      \"flash\"       \"format\"      \"pay.for\"     \"rekl\"       \n",
       "[11] \"rm.ip\"       \"scheme\"      \"site.code\"   \"site.stat\"   \"stat.format\"\n",
       "[16] \"stavka\"      \"total\"       \"ttl\"         \"worker\"     "
      ]
     },
     "execution_count": 39,
     "metadata": {},
     "output_type": "execute_result"
    }
   ],
   "source": [
    "(classes.int <- colnames(data.frame(subset(classes, classes == \"integer\"))))"
   ]
  },
  {
   "cell_type": "markdown",
   "metadata": {},
   "source": [
    "Очевидно, что некоторые из них совсем не `integer`, а `factor`. Исправим это и сохраним названия переменных разных классов в соответствующие векторы:"
   ]
  },
  {
   "cell_type": "code",
   "execution_count": 47,
   "metadata": {
    "collapsed": false
   },
   "outputs": [
    {
     "name": "stdout",
     "output_type": "stream",
     "text": [
      "[1] \"Number of unique values in integer variables:\"\n"
     ]
    },
    {
     "data": {
      "text/html": [
       "<dl>\n",
       "\t<dt>$X.version</dt>\n",
       "\t\t<dd>1</dd>\n",
       "\t<dt>$stavka</dt>\n",
       "\t\t<dd>64</dd>\n",
       "\t<dt>$total</dt>\n",
       "\t\t<dd>2</dd>\n",
       "\t<dt>$ttl</dt>\n",
       "\t\t<dd>8662</dd>\n",
       "</dl>\n"
      ],
      "text/latex": [
       "\\begin{description}\n",
       "\\item[\\$X.version] 1\n",
       "\\item[\\$stavka] 64\n",
       "\\item[\\$total] 2\n",
       "\\item[\\$ttl] 8662\n",
       "\\end{description}\n"
      ],
      "text/markdown": [
       "$X.version\n",
       ":   1\n",
       "$stavka\n",
       ":   64\n",
       "$total\n",
       ":   2\n",
       "$ttl\n",
       ":   8662\n",
       "\n",
       "\n"
      ],
      "text/plain": [
       "$X.version\n",
       "[1] 1\n",
       "\n",
       "$stavka\n",
       "[1] 64\n",
       "\n",
       "$total\n",
       "[1] 2\n",
       "\n",
       "$ttl\n",
       "[1] 8662\n"
      ]
     },
     "execution_count": 47,
     "metadata": {},
     "output_type": "execute_result"
    }
   ],
   "source": [
    "print(\"Number of unique values in integer variables:\")\n",
    "lapply(data[classes.int], unique) %>%  lapply(length)"
   ]
  },
  {
   "cell_type": "code",
   "execution_count": 48,
   "metadata": {
    "collapsed": false
   },
   "outputs": [],
   "source": [
    "classes[c(\"adsystem\", \"agent\", \"banner\", \"campaign\", \"errors\", \"flash\",\n",
    "          \"format\", \"rekl\", \"scheme\", \"rm.ip\", \"site.code\", \"site.stat\",\n",
    "          \"stat.format\", \"worker\", \"pay.for\")] <- \"factor\"\n",
    "\n",
    "classes.int <- colnames(data.frame(subset(classes, classes == \"integer\")))\n",
    "classes.num <- colnames(data.frame(subset(classes, classes == \"numeric\")))\n",
    "classes.fact <- colnames(data.frame(subset(classes, classes == \"factor\")))"
   ]
  },
  {
   "cell_type": "markdown",
   "metadata": {},
   "source": [
    "Факторам — факторово! Поменяем классы переменных там, где это нужно сделать, не забывая про `timestamp` и `X.timestamp`."
   ]
  },
  {
   "cell_type": "code",
   "execution_count": 50,
   "metadata": {
    "collapsed": false
   },
   "outputs": [],
   "source": [
    "data[classes.fact] <- lapply(data[classes.fact], as.factor)\n",
    "data$timestamp <- as.character(data$timestamp)\n",
    "data$X.timestamp <- as.character(data$X.timestamp)\n",
    "\n",
    "# final check:\n",
    "# (lapply(data, class))"
   ]
  },
  {
   "cell_type": "markdown",
   "metadata": {
    "collapsed": true
   },
   "source": [
    "## 1\\. Exploratory Analysis"
   ]
  },
  {
   "cell_type": "code",
   "execution_count": 59,
   "metadata": {
    "collapsed": false
   },
   "outputs": [
    {
     "data": {
      "text/html": [
       "<table>\n",
       "<thead><tr><th></th><th scope=col>X.timestamp</th><th scope=col>X.version</th><th scope=col>action</th><th scope=col>adsystem</th><th scope=col>agent</th><th scope=col>amuid.format</th><th scope=col>amuid.format.site</th><th scope=col>banner</th><th scope=col>browser</th><th scope=col>browser.lang</th><th scope=col>ellip.h</th><th scope=col>score</th><th scope=col>site.code</th><th scope=col>site.stat</th><th scope=col>stat.format</th><th scope=col>stavka</th><th scope=col>timestamp</th><th scope=col>total</th><th scope=col>ttl</th><th scope=col>types</th><th scope=col>worker</th></tr></thead>\n",
       "<tbody>\n",
       "\t<tr><th scope=row>1</th><td>2016-04-27T01:09:57.766Z</td><td>1</td><td>NA</td><td>2</td><td>901</td><td>NA</td><td>NA</td><td>62</td><td>MSIE</td><td>[{\"type\":\"m\"</td><td><e2><8b><af></td><td>8.901715</td><td>NA</td><td>6</td><td>2</td><td>50</td><td>1461719398070</td><td>21331</td><td>983745312</td><td>bn</td><td>1080</td></tr>\n",
       "\t<tr><th scope=row>2</th><td>2016-04-27T01:08:15.852Z</td><td>1</td><td>NA</td><td>2</td><td>2633</td><td>NA</td><td>NA</td><td>132</td><td>Firefox</td><td>[{\"type\":\"m\"</td><td><e2><8b><af></td><td>8.901715</td><td>NA</td><td>6</td><td>2</td><td>12</td><td>1461719296216</td><td>21331</td><td>983643458</td><td>bn</td><td>50</td></tr>\n",
       "\t<tr><th scope=row>3</th><td>2016-04-27T01:08:24.818Z</td><td>1</td><td>NA</td><td>2</td><td>2622</td><td>NA</td><td>NA</td><td>37</td><td>Firefox</td><td>ru</td><td><e2><8b><af></td><td>8.901715</td><td>NA</td><td>6</td><td>2</td><td>14</td><td>1461719304952</td><td>21331</td><td>983652194</td><td>bn</td><td>60</td></tr>\n",
       "</tbody>\n",
       "</table>\n"
      ],
      "text/latex": [
       "\\begin{tabular}{r|llllllllllllllllllllllllllllllllllllll}\n",
       "  & X.timestamp & X.version & action & adsystem & agent & amuid.format & amuid.format.site & banner & browser & browser.lang & ellip.h & score & site.code & site.stat & stat.format & stavka & timestamp & total & ttl & types & worker\\\\\n",
       "\\hline\n",
       "\t1 & 2016-04-27T01:09:57.766Z & 1 & NA & 2 & 901 & NA & NA & 62 & MSIE & [{\"type\":\"m\" & <e2><8b><af> & 8.901715 & NA & 6 & 2 & 50 & 1461719398070 & 21331 & 983745312 & bn & 1080\\\\\n",
       "\t2 & 2016-04-27T01:08:15.852Z & 1 & NA & 2 & 2633 & NA & NA & 132 & Firefox & [{\"type\":\"m\" & <e2><8b><af> & 8.901715 & NA & 6 & 2 & 12 & 1461719296216 & 21331 & 983643458 & bn & 50\\\\\n",
       "\t3 & 2016-04-27T01:08:24.818Z & 1 & NA & 2 & 2622 & NA & NA & 37 & Firefox & ru & <e2><8b><af> & 8.901715 & NA & 6 & 2 & 14 & 1461719304952 & 21331 & 983652194 & bn & 60\\\\\n",
       "\\end{tabular}\n"
      ],
      "text/plain": [
       "Source: local data frame [3 x 38]\n",
       "\n",
       "               X.timestamp X.version action adsystem  agent amuid.format\n",
       "                     (chr)     (int) (fctr)   (fctr) (fctr)       (fctr)\n",
       "1 2016-04-27T01:09:57.766Z         1     NA        2    901           NA\n",
       "2 2016-04-27T01:08:15.852Z         1     NA        2   2633           NA\n",
       "3 2016-04-27T01:08:24.818Z         1     NA        2   2622           NA\n",
       "Variables not shown: amuid.format.site (fctr), banner (fctr), browser (fctr),\n",
       "  browser.lang (fctr), browser.version (fctr), campaign (fctr), city (fctr),\n",
       "  country (fctr), cpm (dbl), errors (fctr), flash (fctr), format (fctr), host\n",
       "  (fctr), index (fctr), master.money (dbl), max.score (dbl), os (fctr), pay.for\n",
       "  (fctr), rekl (fctr), rekl.money (dbl), rm.ip (fctr), scheme (fctr), score\n",
       "  (dbl), site.code (fctr), site.stat (fctr), stat.format (fctr), stavka (int),\n",
       "  timestamp (chr), total (int), ttl (int), types (fctr), worker (fctr)"
      ]
     },
     "execution_count": 59,
     "metadata": {},
     "output_type": "execute_result"
    },
    {
     "data": {
      "text/html": [
       "<table>\n",
       "<thead><tr><th></th><th scope=col>X.timestamp</th><th scope=col>X.version</th><th scope=col>action</th><th scope=col>adsystem</th><th scope=col>agent</th><th scope=col>amuid.format</th><th scope=col>amuid.format.site</th><th scope=col>banner</th><th scope=col>browser</th><th scope=col>browser.lang</th><th scope=col>ellip.h</th><th scope=col>score</th><th scope=col>site.code</th><th scope=col>site.stat</th><th scope=col>stat.format</th><th scope=col>stavka</th><th scope=col>timestamp</th><th scope=col>total</th><th scope=col>ttl</th><th scope=col>types</th><th scope=col>worker</th></tr></thead>\n",
       "<tbody>\n",
       "\t<tr><th scope=row>1</th><td>2016-04-26T10:51:24.857Z</td><td>1</td><td>NA</td><td>2</td><td>1206</td><td>NA</td><td>NA</td><td>164</td><td>undefined</td><td>ru</td><td><e2><8b><af></td><td>9.211555</td><td>NA</td><td>6</td><td>2</td><td>136000</td><td>1461667885035</td><td>15306</td><td>932210018</td><td>bn</td><td>240</td></tr>\n",
       "\t<tr><th scope=row>2</th><td>2016-04-26T10:51:24.665Z</td><td>1</td><td>NA</td><td>2</td><td>2808</td><td>NA</td><td>NA</td><td>158</td><td>Safari</td><td>ru</td><td><e2><8b><af></td><td>9.211555</td><td>NA</td><td>6</td><td>2</td><td>12</td><td>1461667885059</td><td>15306</td><td>932210042</td><td>bn</td><td>50</td></tr>\n",
       "\t<tr><th scope=row>3</th><td>2016-04-26T10:51:24.710Z</td><td>1</td><td>NA</td><td>2</td><td>2808</td><td>NA</td><td>NA</td><td>34</td><td>Safari</td><td>ru</td><td><e2><8b><af></td><td>9.211555</td><td>NA</td><td>6</td><td>1</td><td>60</td><td>1461667885059</td><td>15306</td><td>932210042</td><td>bn</td><td>50</td></tr>\n",
       "</tbody>\n",
       "</table>\n"
      ],
      "text/latex": [
       "\\begin{tabular}{r|llllllllllllllllllllllllllllllllllllll}\n",
       "  & X.timestamp & X.version & action & adsystem & agent & amuid.format & amuid.format.site & banner & browser & browser.lang & ellip.h & score & site.code & site.stat & stat.format & stavka & timestamp & total & ttl & types & worker\\\\\n",
       "\\hline\n",
       "\t1 & 2016-04-26T10:51:24.857Z & 1 & NA & 2 & 1206 & NA & NA & 164 & undefined & ru & <e2><8b><af> & 9.211555 & NA & 6 & 2 & 136000 & 1461667885035 & 15306 & 932210018 & bn & 240\\\\\n",
       "\t2 & 2016-04-26T10:51:24.665Z & 1 & NA & 2 & 2808 & NA & NA & 158 & Safari & ru & <e2><8b><af> & 9.211555 & NA & 6 & 2 & 12 & 1461667885059 & 15306 & 932210042 & bn & 50\\\\\n",
       "\t3 & 2016-04-26T10:51:24.710Z & 1 & NA & 2 & 2808 & NA & NA & 34 & Safari & ru & <e2><8b><af> & 9.211555 & NA & 6 & 1 & 60 & 1461667885059 & 15306 & 932210042 & bn & 50\\\\\n",
       "\\end{tabular}\n"
      ],
      "text/plain": [
       "Source: local data frame [3 x 38]\n",
       "\n",
       "               X.timestamp X.version action adsystem  agent amuid.format\n",
       "                     (chr)     (int) (fctr)   (fctr) (fctr)       (fctr)\n",
       "1 2016-04-26T10:51:24.857Z         1     NA        2   1206           NA\n",
       "2 2016-04-26T10:51:24.665Z         1     NA        2   2808           NA\n",
       "3 2016-04-26T10:51:24.710Z         1     NA        2   2808           NA\n",
       "Variables not shown: amuid.format.site (fctr), banner (fctr), browser (fctr),\n",
       "  browser.lang (fctr), browser.version (fctr), campaign (fctr), city (fctr),\n",
       "  country (fctr), cpm (dbl), errors (fctr), flash (fctr), format (fctr), host\n",
       "  (fctr), index (fctr), master.money (dbl), max.score (dbl), os (fctr), pay.for\n",
       "  (fctr), rekl (fctr), rekl.money (dbl), rm.ip (fctr), scheme (fctr), score\n",
       "  (dbl), site.code (fctr), site.stat (fctr), stat.format (fctr), stavka (int),\n",
       "  timestamp (chr), total (int), ttl (int), types (fctr), worker (fctr)"
      ]
     },
     "execution_count": 59,
     "metadata": {},
     "output_type": "execute_result"
    }
   ],
   "source": [
    "head(data, n = 3)\n",
    "tail(data, n = 3)"
   ]
  },
  {
   "cell_type": "code",
   "execution_count": 58,
   "metadata": {
    "collapsed": false
   },
   "outputs": [
    {
     "name": "stdout",
     "output_type": "stream",
     "text": [
      "Classes 'tbl_df', 'tbl' and 'data.frame':\t10000 obs. of  38 variables:\n",
      " $ X.timestamp      : chr  \"2016-04-27T01:09:57.766Z\" \"2016-04-27T01:08:15.852Z\" \"2016-04-27T01:08:24.818Z\" \"2016-04-27T01:11:31.788Z\" ...\n",
      " $ X.version        : int  1 1 1 1 1 1 1 1 1 1 ...\n",
      " $ action           : Factor w/ 1 level \"view\": NA NA NA NA NA NA NA NA NA NA ...\n",
      " $ adsystem         : Factor w/ 3 levels \"1\",\"2\",\"3\": 2 2 2 2 2 3 3 2 3 2 ...\n",
      " $ agent            : Factor w/ 4074 levels \"1\",\"2\",\"3\",\"4\",..: 901 2633 2622 2339 2339 884 110 2660 61 1859 ...\n",
      " $ amuid.format     : Factor w/ 2 levels \"new\",\"old\": NA NA NA NA NA NA NA NA NA NA ...\n",
      " $ amuid.format.site: Factor w/ 2 levels \"new\",\"old\": NA NA NA NA NA NA NA NA NA NA ...\n",
      " $ banner           : Factor w/ 219 levels \"1\",\"2\",\"3\",\"4\",..: 62 132 37 121 123 NA NA 36 NA 34 ...\n",
      " $ browser          : Factor w/ 26 levels \"360SE\",\"Chrome\",..: 5 3 3 3 3 2 4 3 4 2 ...\n",
      " $ browser.lang     : Factor w/ 4 levels \"[{\",\"[{\\\"type\\\":\\\"m\\\"\",..: 2 2 4 2 2 NA NA 2 NA 2 ...\n",
      " $ browser.version  : Factor w/ 541 levels \"0\",\"1.1.1.0(29.0.1547.62)\",..: NA NA NA NA NA 60 527 NA 527 NA ...\n",
      " $ campaign         : Factor w/ 115 levels \"1\",\"2\",\"3\",\"4\",..: 54 87 36 85 85 NA NA 36 NA 35 ...\n",
      " $ city             : Factor w/ 386 levels \"<U+0160>iauliai\",..: 378 378 378 378 378 378 282 378 378 378 ...\n",
      " $ country          : Factor w/ 68 levels \"AE\",\"AL\",\"AM\",..: 54 54 63 67 67 54 64 63 54 54 ...\n",
      " $ cpm              : num  50 12 14 0 0 ...\n",
      " $ errors           : Factor w/ 3 levels \"1\",\"2\",\"3\": NA NA NA NA NA NA NA NA NA NA ...\n",
      " $ flash            : Factor w/ 2 levels \"0\",\"1\": 1 1 1 1 1 NA NA 1 NA 1 ...\n",
      " $ format           : Factor w/ 3 levels \"1\",\"2\",\"20\": 2 2 2 2 1 1 1 1 2 1 ...\n",
      " $ host             : Factor w/ 1 level \"127.0.0.1\": 1 1 1 1 1 1 1 1 1 1 ...\n",
      " $ index            : Factor w/ 2 levels \"ad_views-2016.04.26\",..: 2 2 2 2 2 2 2 2 2 2 ...\n",
      " $ master.money     : num  0.02467 0.00514 0.00691 0 0 ...\n",
      " $ max.score        : num  8.9 8.9 8.9 8.9 8.9 ...\n",
      " $ os               : Factor w/ 24 levels \"Android\",\"Linux\",..: 8 9 9 8 8 16 16 9 16 8 ...\n",
      " $ pay.for          : Factor w/ 3 levels \"0\",\"1\",\"2\": 1 1 1 3 3 1 1 1 1 1 ...\n",
      " $ rekl             : Factor w/ 61 levels \"1\",\"2\",\"3\",\"4\",..: 45 8 26 7 7 40 43 26 40 26 ...\n",
      " $ rekl.money       : num  0.05 0.012 0.014 0 0 0.025 0.006 0.024 0.016 0.06 ...\n",
      " $ rm.ip            : Factor w/ 208 levels \"1\",\"2\",\"3\",\"4\",..: NA NA NA NA NA NA NA NA NA NA ...\n",
      " $ scheme           : Factor w/ 11 levels \"87\",\"89\",\"226\",..: 3 1 4 7 7 NA NA 4 NA 4 ...\n",
      " $ score            : num  8.9 8.9 8.9 8.9 8.9 ...\n",
      " $ site.code        : Factor w/ 2 levels \"1\",\"2\": NA NA NA NA NA NA NA NA NA NA ...\n",
      " $ site.stat        : Factor w/ 6 levels \"1\",\"2\",\"3\",\"4\",..: 6 6 6 6 6 6 6 6 6 6 ...\n",
      " $ stat.format      : Factor w/ 3 levels \"1\",\"2\",\"20\": 2 2 2 2 1 NA NA 1 NA 1 ...\n",
      " $ stavka           : int  50 12 14 150000 150000 NA NA 24 NA 60 ...\n",
      " $ timestamp        : chr  \"1461719398070\" \"1461719296216\" \"1461719304952\" \"1461719491979\" ...\n",
      " $ total            : int  21331 21331 21331 21331 21331 21331 21331 21331 21331 21331 ...\n",
      " $ ttl              : int  983745312 983643458 983652194 983839221 983849469 983238797 983424030 983967022 984002223 984438976 ...\n",
      " $ types            : Factor w/ 2 levels \"bn\",\"cu\": 1 1 1 1 1 1 1 1 1 1 ...\n",
      " $ worker           : Factor w/ 36 levels \"10\",\"30\",\"40\",..: 34 5 6 11 11 31 7 1 31 11 ...\n"
     ]
    }
   ],
   "source": [
    "str(data)"
   ]
  },
  {
   "cell_type": "code",
   "execution_count": 55,
   "metadata": {
    "collapsed": false
   },
   "outputs": [
    {
     "data": {
      "text/plain": [
       " X.timestamp          X.version  action     adsystem        agent     \n",
       " Length:10000       Min.   :1   view: 218   1   : 218   1416   :  65  \n",
       " Class :character   1st Qu.:1   NA's:9782   2   :7094   816    :  59  \n",
       " Mode  :character   Median :1               3   :2678   1322   :  21  \n",
       "                    Mean   :1               NA's:  10   435    :  19  \n",
       "                    3rd Qu.:1                           983    :  12  \n",
       "                    Max.   :1                           (Other):9812  \n",
       "                                                        NA's   :  12  \n",
       " amuid.format amuid.format.site     banner        browser    \n",
       " new : 209    new : 227         34     :1434   Firefox:2554  \n",
       " old :  19    old :   1         36     : 917   Chrome :2553  \n",
       " NA's:9772    NA's:9772         37     : 853   MSIE   :1923  \n",
       "                                2      : 640   Opera  :1015  \n",
       "                                1      : 433   Safari : 625  \n",
       "                                (Other):3035   IE     : 586  \n",
       "                                NA's   :2688   (Other): 744  \n",
       "       browser.lang  browser.version    campaign                  city     \n",
       " [{          :  73   8.0    : 426    36     :1770   undefined       :8036  \n",
       " [{\"type\":\"m\":1806   10.0   :  93    35     :1697   Moscow          : 218  \n",
       " en          :   5   25.0   :  88    4      : 640   Kursk           :  86  \n",
       " ru          :5437   0      :  49    3      : 433   Saint Petersburg:  85  \n",
       " NA's        :2679   24.0   :  47    23     : 370   Boardman        :  74  \n",
       "                     (Other):2005    (Other):2412   Saratov         :  52  \n",
       "                     NA's   :7292    NA's   :2678   (Other)         :1449  \n",
       "    country          cpm         errors      flash      format   \n",
       " RU     :5405   Min.   : 0.00   1   :   1   0   :7303   1 :6233  \n",
       " UA     :2495   1st Qu.: 7.00   2   :   1   1   :   9   2 :3708  \n",
       " BY     : 434   Median :14.00   3   :  60   NA's:2688   20:  59  \n",
       " KZ     : 417   Mean   :22.01   NA's:9938                        \n",
       " US     : 268   3rd Qu.:24.00                                    \n",
       " MD     : 169   Max.   :82.83                                    \n",
       " (Other): 812   NA's   :2688                                     \n",
       "        host                       index       master.money      max.score    \n",
       " 127.0.0.1:10000   ad_views-2016.04.26:5000   Min.   :0.0000   Min.   :8.902  \n",
       "                   ad_views-2016.04.27:5000   1st Qu.:0.0035   1st Qu.:8.902  \n",
       "                                              Median :0.0069   Median :9.066  \n",
       "                                              Mean   :0.0105   Mean   :9.066  \n",
       "                                              3rd Qu.:0.0118   3rd Qu.:9.229  \n",
       "                                              Max.   :0.0395   Max.   :9.229  \n",
       "                                              NA's   :2688                    \n",
       "        os       pay.for          rekl        rekl.money          rm.ip     \n",
       " Win7    :3279   0   :8438   26     :3467   Min.   :0.00000   22     :   3  \n",
       " Windows :1920   1   : 298   32     :1555   1st Qu.:0.00700   56     :   2  \n",
       " WinXP   :1255   2   :1254   16     :1073   Median :0.01987   58     :   2  \n",
       " Win8    :1051   NA's:  10   8      : 638   Mean   :0.02121   145    :   2  \n",
       " WinVista: 870               40     : 545   3rd Qu.:0.02410   148    :   2  \n",
       " Mac OS  : 697               (Other):2712   Max.   :0.19226   (Other): 207  \n",
       " (Other) : 928               NA's   :  10   NA's   :10        NA's   :9782  \n",
       "     scheme         score       site.code   site.stat stat.format\n",
       " 7286   :3577   Min.   :8.884   1   : 159   1:   1    1   :4669  \n",
       " 87     :1762   1st Qu.:8.892   2   :  69   2:   3    2   :2584  \n",
       " 14658  : 467   Median :9.057   NA's:9772   3:   1    20  :  59  \n",
       " 22144  : 444   Mean   :9.056               4:  60    NA's:2688  \n",
       " 38499  : 322   3rd Qu.:9.221               5:   1               \n",
       " (Other): 740   Max.   :9.229               6:9934               \n",
       " NA's   :2688                                                    \n",
       "     stavka        timestamp             total            ttl           \n",
       " Min.   :     1   Length:10000       Min.   :15306   Min.   :9.256e+08  \n",
       " 1st Qu.:    14   Class :character   1st Qu.:15306   1st Qu.:9.606e+08  \n",
       " Median :    24   Mode  :character   Median :18318   Median :9.796e+08  \n",
       " Mean   : 17294                      Mean   :18318   Mean   :9.827e+08  \n",
       " 3rd Qu.:    60                      3rd Qu.:21331   3rd Qu.:1.006e+09  \n",
       " Max.   :450000                      Max.   :21331   Max.   :1.035e+09  \n",
       " NA's   :2688                                                           \n",
       " types         worker    \n",
       " bn:9990   160    : 408  \n",
       " cu:  10   60     : 313  \n",
       "           10     : 311  \n",
       "           1070   : 311  \n",
       "           1010   : 309  \n",
       "           1040   : 304  \n",
       "           (Other):8044  "
      ]
     },
     "execution_count": 55,
     "metadata": {},
     "output_type": "execute_result"
    }
   ],
   "source": [
    "summary(data)"
   ]
  },
  {
   "cell_type": "code",
   "execution_count": null,
   "metadata": {
    "collapsed": true
   },
   "outputs": [],
   "source": []
  }
 ],
 "metadata": {
  "kernelspec": {
   "display_name": "R",
   "language": "R",
   "name": "ir"
  },
  "language_info": {
   "codemirror_mode": "r",
   "file_extension": ".r",
   "mimetype": "text/x-r-source",
   "name": "R",
   "pygments_lexer": "r",
   "version": "3.2.4"
  }
 },
 "nbformat": 4,
 "nbformat_minor": 0
}
