{
 "cells": [
  {
   "cell_type": "markdown",
   "metadata": {},
   "source": [
    "# Сравнение распределений в R"
   ]
  },
  {
   "cell_type": "markdown",
   "metadata": {},
   "source": [
    "## 0\\. Подготовительные работы"
   ]
  },
  {
   "cell_type": "code",
   "execution_count": 1,
   "metadata": {
    "collapsed": false
   },
   "outputs": [
    {
     "data": {
      "text/html": [
       "'/Users/mac/Documents/_notebooks'"
      ],
      "text/latex": [
       "'/Users/mac/Documents/_notebooks'"
      ],
      "text/markdown": [
       "'/Users/mac/Documents/_notebooks'"
      ],
      "text/plain": [
       "[1] \"/Users/mac/Documents/_notebooks\""
      ]
     },
     "execution_count": 1,
     "metadata": {},
     "output_type": "execute_result"
    }
   ],
   "source": [
    "getwd()"
   ]
  },
  {
   "cell_type": "code",
   "execution_count": 20,
   "metadata": {
    "collapsed": false
   },
   "outputs": [],
   "source": [
    "data <- read.csv(\"data_compare_distr.csv\")"
   ]
  },
  {
   "cell_type": "code",
   "execution_count": 30,
   "metadata": {
    "collapsed": false
   },
   "outputs": [
    {
     "name": "stderr",
     "output_type": "stream",
     "text": [
      "\n",
      "Attaching package: ‘dplyr’\n",
      "\n",
      "The following objects are masked from ‘package:stats’:\n",
      "\n",
      "    filter, lag\n",
      "\n",
      "The following objects are masked from ‘package:base’:\n",
      "\n",
      "    intersect, setdiff, setequal, union\n",
      "\n"
     ]
    }
   ],
   "source": [
    "library(jsonlite)\n",
    "library(dplyr)\n",
    "library(ggplot2)"
   ]
  },
  {
   "cell_type": "code",
   "execution_count": 21,
   "metadata": {
    "collapsed": false
   },
   "outputs": [
    {
     "data": {
      "text/html": [
       "<ol class=list-inline>\n",
       "\t<li>33357</li>\n",
       "\t<li>36</li>\n",
       "</ol>\n"
      ],
      "text/latex": [
       "\\begin{enumerate*}\n",
       "\\item 33357\n",
       "\\item 36\n",
       "\\end{enumerate*}\n"
      ],
      "text/markdown": [
       "1. 33357\n",
       "2. 36\n",
       "\n",
       "\n"
      ],
      "text/plain": [
       "[1] 33357    36"
      ]
     },
     "execution_count": 21,
     "metadata": {},
     "output_type": "execute_result"
    }
   ],
   "source": [
    "dim(data)"
   ]
  },
  {
   "cell_type": "code",
   "execution_count": 22,
   "metadata": {
    "collapsed": false
   },
   "outputs": [
    {
     "name": "stdout",
     "output_type": "stream",
     "text": [
      "'data.frame':\t33357 obs. of  36 variables:\n",
      " $ site             : int  3 3 3 3 3 3 3 3 3 3 ...\n",
      " $ is.bot           : int  1 1 1 1 1 1 1 1 1 1 ...\n",
      " $ time             : Factor w/ 20889 levels \"2016-04-26 00:00:48\",..: 20354 20349 20352 20384 20385 20369 20373 20375 20414 20404 ...\n",
      " $ total            : int  1077 1077 1077 1077 1077 1077 1077 1077 1077 1077 ...\n",
      " $ max.score        : num  12.2 12.2 12.2 12.2 12.2 ...\n",
      " $ score            : num  12.2 12.2 12.2 12.2 12.2 ...\n",
      " $ types            : Factor w/ 2 levels \"bn\",\"cu\": 1 1 1 1 1 1 1 1 1 1 ...\n",
      " $ site.stat        : int  0 0 0 0 0 0 0 0 0 0 ...\n",
      " $ campaign         : int  350 350 350 350 350 347 343 350 349 263 ...\n",
      " $ format           : Factor w/ 7 levels \"bn1\",\"bn2\",\"bn20\",..: 5 5 5 5 2 6 6 5 6 5 ...\n",
      " $ master           : int  3 3 3 3 3 3 3 3 3 3 ...\n",
      " $ uid              : int  NA NA NA NA NA NA NA NA NA NA ...\n",
      " $ os               : Factor w/ 35 levels \"Android\",\"AndroidPhone\",..: 11 10 11 10 8 11 10 11 6 16 ...\n",
      " $ browser          : Factor w/ 21 levels \"360se\",\"amigo\",..: 4 4 21 4 5 12 12 21 5 12 ...\n",
      " $ browser.version  : Factor w/ 722 levels \"0\",\"0.2\",\"0.4\",..: NA NA NA NA NA NA NA NA NA NA ...\n",
      " $ browser.lang     : Factor w/ 6 levels \"[{\",\"[{\\\"type\\\":\\\"m\\\"\",..: 5 5 5 5 5 5 5 5 5 5 ...\n",
      " $ country          : Factor w/ 79 levels \"AE\",\"AL\",\"AM\",..: 63 63 63 63 63 63 63 63 63 14 ...\n",
      " $ city             : Factor w/ 922 levels \"S<iauliai\",\"abakan\",..: NA NA NA NA NA NA NA NA NA NA ...\n",
      " $ ipaddr           : int  13758 5346 4524 5549 6752 4315 17774 12451 18501 9237 ...\n",
      " $ amuid.format.site: Factor w/ 2 levels \"new\",\"old\": NA NA NA NA NA NA NA NA NA NA ...\n",
      " $ amuid.format     : Factor w/ 2 levels \"new\",\"old\": NA NA NA NA NA NA NA NA NA NA ...\n",
      " $ rekl             : int  11 11 11 11 11 86 85 11 11 12 ...\n",
      " $ scheme           : int  87 87 87 87 87 30000 7286 87 87 8404 ...\n",
      " $ banner           : int  548 548 548 548 546 540 532 548 544 267 ...\n",
      " $ banner.type      : Factor w/ 3 levels \"code\",\"html\",..: 1 1 1 1 1 3 3 1 1 3 ...\n",
      " $ stavka           : int  13 13 13 13 13 2000 1400 13 13 2500 ...\n",
      " $ pay.for          : int  0 0 0 0 0 1 1 0 0 2 ...\n",
      " $ rekl.money       : num  0.013 0.013 0.013 0.013 0.013 0 0 0.013 0.013 0 ...\n",
      " $ master.money     : num  0.00546 0.00546 0.00546 0.00546 0.00546 ...\n",
      " $ adsystem         : int  2 2 2 2 2 2 2 2 2 2 ...\n",
      " $ flash            : int  0 0 0 0 0 0 0 0 0 0 ...\n",
      " $ agent            : Factor w/ 6748 levels \"Mozilla/4.0\",..: 4202 2970 4060 4997 2209 6661 6584 4269 1524 6215 ...\n",
      " $ adblock          : int  NA NA NA NA NA NA NA NA NA NA ...\n",
      " $ cpm              : num  13 13 13 13 13 1.42 1.1 13 13 1.79 ...\n",
      " $ action           : Factor w/ 1 level \"view\": NA NA NA NA NA NA NA NA NA NA ...\n",
      " $ k                : int  NA NA NA NA NA NA NA NA NA NA ...\n"
     ]
    }
   ],
   "source": [
    "str(data)"
   ]
  },
  {
   "cell_type": "code",
   "execution_count": 23,
   "metadata": {
    "collapsed": false
   },
   "outputs": [],
   "source": [
    "data <- data[sort(colnames(data))]"
   ]
  },
  {
   "cell_type": "markdown",
   "metadata": {},
   "source": [
    "Посмотрим на классы переменных:"
   ]
  },
  {
   "cell_type": "code",
   "execution_count": 31,
   "metadata": {
    "collapsed": false,
    "scrolled": false
   },
   "outputs": [
    {
     "name": "stdout",
     "output_type": "stream",
     "text": [
      " [1] \"factor\"  \"integer\" \"integer\" \"factor\"  \"factor\"  \"factor\"  \"integer\"\n",
      " [8] \"factor\"  \"factor\"  \"factor\"  \"factor\"  \"integer\" \"factor\"  \"factor\" \n",
      "[15] \"numeric\" \"integer\" \"factor\"  \"integer\" \"integer\" \"integer\" \"integer\"\n",
      "[22] \"numeric\" \"numeric\" \"factor\"  \"integer\" \"integer\" \"numeric\" \"integer\"\n",
      "[29] \"numeric\" \"integer\" \"integer\" \"integer\" \"factor\"  \"integer\" \"factor\" \n",
      "[36] \"integer\"\n"
     ]
    },
    {
     "data": {
      "text/plain": [
       "\n",
       " factor integer numeric \n",
       "     14      17       5 "
      ]
     },
     "execution_count": 31,
     "metadata": {},
     "output_type": "execute_result"
    }
   ],
   "source": [
    "classes <- lapply(data, class)\n",
    "print(as.character(classes))\n",
    "table(as.character(classes))"
   ]
  },
  {
   "cell_type": "markdown",
   "metadata": {},
   "source": [
    "Посмотрим, какие переменные — `integer`:"
   ]
  },
  {
   "cell_type": "code",
   "execution_count": 32,
   "metadata": {
    "collapsed": false
   },
   "outputs": [
    {
     "data": {
      "text/html": [
       "<ol class=list-inline>\n",
       "\t<li>'adblock'</li>\n",
       "\t<li>'adsystem'</li>\n",
       "\t<li>'banner'</li>\n",
       "\t<li>'campaign'</li>\n",
       "\t<li>'flash'</li>\n",
       "\t<li>'ipaddr'</li>\n",
       "\t<li>'is.bot'</li>\n",
       "\t<li>'k'</li>\n",
       "\t<li>'master'</li>\n",
       "\t<li>'pay.for'</li>\n",
       "\t<li>'rekl'</li>\n",
       "\t<li>'scheme'</li>\n",
       "\t<li>'site'</li>\n",
       "\t<li>'site.stat'</li>\n",
       "\t<li>'stavka'</li>\n",
       "\t<li>'total'</li>\n",
       "\t<li>'uid'</li>\n",
       "</ol>\n"
      ],
      "text/latex": [
       "\\begin{enumerate*}\n",
       "\\item 'adblock'\n",
       "\\item 'adsystem'\n",
       "\\item 'banner'\n",
       "\\item 'campaign'\n",
       "\\item 'flash'\n",
       "\\item 'ipaddr'\n",
       "\\item 'is.bot'\n",
       "\\item 'k'\n",
       "\\item 'master'\n",
       "\\item 'pay.for'\n",
       "\\item 'rekl'\n",
       "\\item 'scheme'\n",
       "\\item 'site'\n",
       "\\item 'site.stat'\n",
       "\\item 'stavka'\n",
       "\\item 'total'\n",
       "\\item 'uid'\n",
       "\\end{enumerate*}\n"
      ],
      "text/markdown": [
       "1. 'adblock'\n",
       "2. 'adsystem'\n",
       "3. 'banner'\n",
       "4. 'campaign'\n",
       "5. 'flash'\n",
       "6. 'ipaddr'\n",
       "7. 'is.bot'\n",
       "8. 'k'\n",
       "9. 'master'\n",
       "10. 'pay.for'\n",
       "11. 'rekl'\n",
       "12. 'scheme'\n",
       "13. 'site'\n",
       "14. 'site.stat'\n",
       "15. 'stavka'\n",
       "16. 'total'\n",
       "17. 'uid'\n",
       "\n",
       "\n"
      ],
      "text/plain": [
       " [1] \"adblock\"   \"adsystem\"  \"banner\"    \"campaign\"  \"flash\"     \"ipaddr\"   \n",
       " [7] \"is.bot\"    \"k\"         \"master\"    \"pay.for\"   \"rekl\"      \"scheme\"   \n",
       "[13] \"site\"      \"site.stat\" \"stavka\"    \"total\"     \"uid\"      "
      ]
     },
     "execution_count": 32,
     "metadata": {},
     "output_type": "execute_result"
    }
   ],
   "source": [
    "(classes.int <- colnames(data.frame(subset(classes, classes == \"integer\"))))"
   ]
  },
  {
   "cell_type": "markdown",
   "metadata": {},
   "source": [
    "Очевидно, что некоторые из них совсем не `integer`, а `factor`. Исправим это и сохраним названия переменных разных классов в соответствующие векторы:"
   ]
  },
  {
   "cell_type": "code",
   "execution_count": 33,
   "metadata": {
    "collapsed": false
   },
   "outputs": [
    {
     "name": "stdout",
     "output_type": "stream",
     "text": [
      "[1] \"Number of unique values in integer variables:\"\n"
     ]
    },
    {
     "data": {
      "text/html": [
       "<dl>\n",
       "\t<dt>$adblock</dt>\n",
       "\t\t<dd>2</dd>\n",
       "\t<dt>$adsystem</dt>\n",
       "\t\t<dd>4</dd>\n",
       "\t<dt>$banner</dt>\n",
       "\t\t<dd>569</dd>\n",
       "\t<dt>$campaign</dt>\n",
       "\t\t<dd>362</dd>\n",
       "\t<dt>$flash</dt>\n",
       "\t\t<dd>3</dd>\n",
       "\t<dt>$ipaddr</dt>\n",
       "\t\t<dd>19432</dd>\n",
       "\t<dt>$is.bot</dt>\n",
       "\t\t<dd>2</dd>\n",
       "\t<dt>$k</dt>\n",
       "\t\t<dd>749</dd>\n",
       "\t<dt>$master</dt>\n",
       "\t\t<dd>3</dd>\n",
       "\t<dt>$pay.for</dt>\n",
       "\t\t<dd>4</dd>\n",
       "\t<dt>$rekl</dt>\n",
       "\t\t<dd>89</dd>\n",
       "\t<dt>$scheme</dt>\n",
       "\t\t<dd>16</dd>\n",
       "\t<dt>$site</dt>\n",
       "\t\t<dd>3</dd>\n",
       "\t<dt>$site.stat</dt>\n",
       "\t\t<dd>8</dd>\n",
       "\t<dt>$stavka</dt>\n",
       "\t\t<dd>114</dd>\n",
       "\t<dt>$total</dt>\n",
       "\t\t<dd>6</dd>\n",
       "\t<dt>$uid</dt>\n",
       "\t\t<dd>6929</dd>\n",
       "</dl>\n"
      ],
      "text/latex": [
       "\\begin{description}\n",
       "\\item[\\$adblock] 2\n",
       "\\item[\\$adsystem] 4\n",
       "\\item[\\$banner] 569\n",
       "\\item[\\$campaign] 362\n",
       "\\item[\\$flash] 3\n",
       "\\item[\\$ipaddr] 19432\n",
       "\\item[\\$is.bot] 2\n",
       "\\item[\\$k] 749\n",
       "\\item[\\$master] 3\n",
       "\\item[\\$pay.for] 4\n",
       "\\item[\\$rekl] 89\n",
       "\\item[\\$scheme] 16\n",
       "\\item[\\$site] 3\n",
       "\\item[\\$site.stat] 8\n",
       "\\item[\\$stavka] 114\n",
       "\\item[\\$total] 6\n",
       "\\item[\\$uid] 6929\n",
       "\\end{description}\n"
      ],
      "text/markdown": [
       "$adblock\n",
       ":   2\n",
       "$adsystem\n",
       ":   4\n",
       "$banner\n",
       ":   569\n",
       "$campaign\n",
       ":   362\n",
       "$flash\n",
       ":   3\n",
       "$ipaddr\n",
       ":   19432\n",
       "$is.bot\n",
       ":   2\n",
       "$k\n",
       ":   749\n",
       "$master\n",
       ":   3\n",
       "$pay.for\n",
       ":   4\n",
       "$rekl\n",
       ":   89\n",
       "$scheme\n",
       ":   16\n",
       "$site\n",
       ":   3\n",
       "$site.stat\n",
       ":   8\n",
       "$stavka\n",
       ":   114\n",
       "$total\n",
       ":   6\n",
       "$uid\n",
       ":   6929\n",
       "\n",
       "\n"
      ],
      "text/plain": [
       "$adblock\n",
       "[1] 2\n",
       "\n",
       "$adsystem\n",
       "[1] 4\n",
       "\n",
       "$banner\n",
       "[1] 569\n",
       "\n",
       "$campaign\n",
       "[1] 362\n",
       "\n",
       "$flash\n",
       "[1] 3\n",
       "\n",
       "$ipaddr\n",
       "[1] 19432\n",
       "\n",
       "$is.bot\n",
       "[1] 2\n",
       "\n",
       "$k\n",
       "[1] 749\n",
       "\n",
       "$master\n",
       "[1] 3\n",
       "\n",
       "$pay.for\n",
       "[1] 4\n",
       "\n",
       "$rekl\n",
       "[1] 89\n",
       "\n",
       "$scheme\n",
       "[1] 16\n",
       "\n",
       "$site\n",
       "[1] 3\n",
       "\n",
       "$site.stat\n",
       "[1] 8\n",
       "\n",
       "$stavka\n",
       "[1] 114\n",
       "\n",
       "$total\n",
       "[1] 6\n",
       "\n",
       "$uid\n",
       "[1] 6929\n"
      ]
     },
     "execution_count": 33,
     "metadata": {},
     "output_type": "execute_result"
    }
   ],
   "source": [
    "print(\"Number of unique values in integer variables:\")\n",
    "lapply(data[classes.int], unique) %>%  lapply(length)"
   ]
  },
  {
   "cell_type": "code",
   "execution_count": 37,
   "metadata": {
    "collapsed": false
   },
   "outputs": [],
   "source": [
    "classes[c(\"adsystem\", \"agent\", \"banner\", \"campaign\", \"errors\", \"flash\",\n",
    "          \"format\", \"rekl\", \"scheme\", \"rm.ip\", \"site.code\", \"site.stat\",\n",
    "          \"stat.format\", \"worker\", \"pay.for\")] <- \"factor\"\n",
    "\n",
    "classes.int <- colnames(data.frame(subset(data, classes == \"integer\")))\n",
    "classes.num <- colnames(data.frame(subset(data, classes == \"numeric\")))\n",
    "classes.fact <- colnames(data.frame(subset(data, classes == \"factor\")))"
   ]
  },
  {
   "cell_type": "markdown",
   "metadata": {},
   "source": [
    "Факторам — факторово! Поменяем классы переменных там, где это нужно сделать, не забывая про `timestamp` и `X.timestamp`."
   ]
  },
  {
   "cell_type": "code",
   "execution_count": 39,
   "metadata": {
    "collapsed": true
   },
   "outputs": [],
   "source": [
    "data[classes.fact] <- lapply(data[classes.fact], as.factor)"
   ]
  },
  {
   "cell_type": "code",
   "execution_count": null,
   "metadata": {
    "collapsed": false
   },
   "outputs": [],
   "source": [
    "data$time\n",
    "# data$timestamp <- as.character(data$timestamp)\n",
    "# data$X.timestamp <- as.character(data$X.timestamp)\n",
    "\n",
    "# final check:\n",
    "# (lapply(data, class))"
   ]
  },
  {
   "cell_type": "markdown",
   "metadata": {
    "collapsed": true
   },
   "source": [
    "## 1\\. Exploratory Analysis"
   ]
  },
  {
   "cell_type": "code",
   "execution_count": 12,
   "metadata": {
    "collapsed": false
   },
   "outputs": [
    {
     "data": {
      "text/html": [
       "<table>\n",
       "<thead><tr><th></th><th scope=col>X.timestamp</th><th scope=col>action</th><th scope=col>adsystem</th><th scope=col>agent</th><th scope=col>amuid.format</th><th scope=col>amuid.format.site</th><th scope=col>banner</th><th scope=col>browser</th><th scope=col>browser.lang</th><th scope=col>browser.version</th><th scope=col>ellip.h</th><th scope=col>score</th><th scope=col>site.code</th><th scope=col>site.stat</th><th scope=col>stat.format</th><th scope=col>stavka</th><th scope=col>timestamp</th><th scope=col>total</th><th scope=col>ttl</th><th scope=col>types</th><th scope=col>worker</th></tr></thead>\n",
       "<tbody>\n",
       "\t<tr><th scope=row>1</th><td>2016-04-27T01:09:57.766Z</td><td>NA</td><td>2</td><td>901</td><td>NA</td><td>NA</td><td>62</td><td>MSIE</td><td>[{\"type\":\"m\"</td><td>NA</td><td><e2><8b><af></td><td>8.901715</td><td>NA</td><td>6</td><td>2</td><td>50</td><td>1461719398070</td><td>21331</td><td>983745312</td><td>bn</td><td>1080</td></tr>\n",
       "\t<tr><th scope=row>2</th><td>2016-04-27T01:08:15.852Z</td><td>NA</td><td>2</td><td>2633</td><td>NA</td><td>NA</td><td>132</td><td>Firefox</td><td>[{\"type\":\"m\"</td><td>NA</td><td><e2><8b><af></td><td>8.901715</td><td>NA</td><td>6</td><td>2</td><td>12</td><td>1461719296216</td><td>21331</td><td>983643458</td><td>bn</td><td>50</td></tr>\n",
       "\t<tr><th scope=row>3</th><td>2016-04-27T01:08:24.818Z</td><td>NA</td><td>2</td><td>2622</td><td>NA</td><td>NA</td><td>37</td><td>Firefox</td><td>ru</td><td>NA</td><td><e2><8b><af></td><td>8.901715</td><td>NA</td><td>6</td><td>2</td><td>14</td><td>1461719304952</td><td>21331</td><td>983652194</td><td>bn</td><td>60</td></tr>\n",
       "</tbody>\n",
       "</table>\n"
      ],
      "text/latex": [
       "\\begin{tabular}{r|llllllllllllllllllllllllllllllllllll}\n",
       "  & X.timestamp & action & adsystem & agent & amuid.format & amuid.format.site & banner & browser & browser.lang & browser.version & ellip.h & score & site.code & site.stat & stat.format & stavka & timestamp & total & ttl & types & worker\\\\\n",
       "\\hline\n",
       "\t1 & 2016-04-27T01:09:57.766Z & NA & 2 & 901 & NA & NA & 62 & MSIE & [{\"type\":\"m\" & NA & <e2><8b><af> & 8.901715 & NA & 6 & 2 & 50 & 1461719398070 & 21331 & 983745312 & bn & 1080\\\\\n",
       "\t2 & 2016-04-27T01:08:15.852Z & NA & 2 & 2633 & NA & NA & 132 & Firefox & [{\"type\":\"m\" & NA & <e2><8b><af> & 8.901715 & NA & 6 & 2 & 12 & 1461719296216 & 21331 & 983643458 & bn & 50\\\\\n",
       "\t3 & 2016-04-27T01:08:24.818Z & NA & 2 & 2622 & NA & NA & 37 & Firefox & ru & NA & <e2><8b><af> & 8.901715 & NA & 6 & 2 & 14 & 1461719304952 & 21331 & 983652194 & bn & 60\\\\\n",
       "\\end{tabular}\n"
      ],
      "text/plain": [
       "               X.timestamp action adsystem agent amuid.format amuid.format.site\n",
       "1 2016-04-27T01:09:57.766Z   <NA>        2   901         <NA>              <NA>\n",
       "2 2016-04-27T01:08:15.852Z   <NA>        2  2633         <NA>              <NA>\n",
       "3 2016-04-27T01:08:24.818Z   <NA>        2  2622         <NA>              <NA>\n",
       "  banner browser browser.lang browser.version campaign      city country   cpm\n",
       "1     62    MSIE [{\"type\":\"m\"            <NA>       54 undefined      RU 50.00\n",
       "2    132 Firefox [{\"type\":\"m\"            <NA>       87 undefined      RU 12.04\n",
       "3     37 Firefox           ru            <NA>       36 undefined      UA 14.00\n",
       "  errors flash format               index master.money max.score   os pay.for\n",
       "1   <NA>     0      2 ad_views-2016.04.27   0.02467150  8.901715 Win7       0\n",
       "2   <NA>     0      2 ad_views-2016.04.27   0.00513570  8.901715 Win8       0\n",
       "3   <NA>     0      2 ad_views-2016.04.27   0.00690802  8.901715 Win8       0\n",
       "  rekl rekl.money rm.ip scheme    score site.code site.stat stat.format stavka\n",
       "1   45      0.050  <NA>    226 8.901715      <NA>         6           2     50\n",
       "2    8      0.012  <NA>     87 8.901715      <NA>         6           2     12\n",
       "3   26      0.014  <NA>   7286 8.901715      <NA>         6           2     14\n",
       "      timestamp total       ttl types worker\n",
       "1 1461719398070 21331 983745312    bn   1080\n",
       "2 1461719296216 21331 983643458    bn     50\n",
       "3 1461719304952 21331 983652194    bn     60"
      ]
     },
     "execution_count": 12,
     "metadata": {},
     "output_type": "execute_result"
    },
    {
     "data": {
      "text/html": [
       "<table>\n",
       "<thead><tr><th></th><th scope=col>X.timestamp</th><th scope=col>action</th><th scope=col>adsystem</th><th scope=col>agent</th><th scope=col>amuid.format</th><th scope=col>amuid.format.site</th><th scope=col>banner</th><th scope=col>browser</th><th scope=col>browser.lang</th><th scope=col>browser.version</th><th scope=col>ellip.h</th><th scope=col>score</th><th scope=col>site.code</th><th scope=col>site.stat</th><th scope=col>stat.format</th><th scope=col>stavka</th><th scope=col>timestamp</th><th scope=col>total</th><th scope=col>ttl</th><th scope=col>types</th><th scope=col>worker</th></tr></thead>\n",
       "<tbody>\n",
       "\t<tr><th scope=row>9998</th><td>2016-04-26T10:51:24.857Z</td><td>NA</td><td>2</td><td>1206</td><td>NA</td><td>NA</td><td>164</td><td>undefined</td><td>ru</td><td>NA</td><td><e2><8b><af></td><td>9.211555</td><td>NA</td><td>6</td><td>2</td><td>136000</td><td>1461667885035</td><td>15306</td><td>932210018</td><td>bn</td><td>240</td></tr>\n",
       "\t<tr><th scope=row>9999</th><td>2016-04-26T10:51:24.665Z</td><td>NA</td><td>2</td><td>2808</td><td>NA</td><td>NA</td><td>158</td><td>Safari</td><td>ru</td><td>NA</td><td><e2><8b><af></td><td>9.211555</td><td>NA</td><td>6</td><td>2</td><td>12</td><td>1461667885059</td><td>15306</td><td>932210042</td><td>bn</td><td>50</td></tr>\n",
       "\t<tr><th scope=row>10000</th><td>2016-04-26T10:51:24.710Z</td><td>NA</td><td>2</td><td>2808</td><td>NA</td><td>NA</td><td>34</td><td>Safari</td><td>ru</td><td>NA</td><td><e2><8b><af></td><td>9.211555</td><td>NA</td><td>6</td><td>1</td><td>60</td><td>1461667885059</td><td>15306</td><td>932210042</td><td>bn</td><td>50</td></tr>\n",
       "</tbody>\n",
       "</table>\n"
      ],
      "text/latex": [
       "\\begin{tabular}{r|llllllllllllllllllllllllllllllllllll}\n",
       "  & X.timestamp & action & adsystem & agent & amuid.format & amuid.format.site & banner & browser & browser.lang & browser.version & ellip.h & score & site.code & site.stat & stat.format & stavka & timestamp & total & ttl & types & worker\\\\\n",
       "\\hline\n",
       "\t9998 & 2016-04-26T10:51:24.857Z & NA & 2 & 1206 & NA & NA & 164 & undefined & ru & NA & <e2><8b><af> & 9.211555 & NA & 6 & 2 & 136000 & 1461667885035 & 15306 & 932210018 & bn & 240\\\\\n",
       "\t9999 & 2016-04-26T10:51:24.665Z & NA & 2 & 2808 & NA & NA & 158 & Safari & ru & NA & <e2><8b><af> & 9.211555 & NA & 6 & 2 & 12 & 1461667885059 & 15306 & 932210042 & bn & 50\\\\\n",
       "\t10000 & 2016-04-26T10:51:24.710Z & NA & 2 & 2808 & NA & NA & 34 & Safari & ru & NA & <e2><8b><af> & 9.211555 & NA & 6 & 1 & 60 & 1461667885059 & 15306 & 932210042 & bn & 50\\\\\n",
       "\\end{tabular}\n"
      ],
      "text/plain": [
       "                   X.timestamp action adsystem agent amuid.format\n",
       "9998  2016-04-26T10:51:24.857Z   <NA>        2  1206         <NA>\n",
       "9999  2016-04-26T10:51:24.665Z   <NA>        2  2808         <NA>\n",
       "10000 2016-04-26T10:51:24.710Z   <NA>        2  2808         <NA>\n",
       "      amuid.format.site banner   browser browser.lang browser.version campaign\n",
       "9998               <NA>    164 undefined           ru            <NA>       75\n",
       "9999               <NA>    158    Safari           ru            <NA>       99\n",
       "10000              <NA>     34    Safari           ru            <NA>       35\n",
       "           city country   cpm errors flash format               index\n",
       "9998  undefined      UA  2.35   <NA>     0      2 ad_views-2016.04.26\n",
       "9999  undefined      RU 12.04   <NA>     0      2 ad_views-2016.04.26\n",
       "10000 undefined      RU 60.00   <NA>     0      1 ad_views-2016.04.26\n",
       "      master.money max.score    os pay.for rekl rekl.money rm.ip scheme\n",
       "9998     0.0000000  9.229366 MacOS       2   54      0.000  <NA>  38499\n",
       "9999     0.0051357  9.229366 WinXP       0    8      0.012  <NA>     87\n",
       "10000    0.0296058  9.229366 WinXP       0   26      0.060  <NA>   7286\n",
       "         score site.code site.stat stat.format stavka     timestamp total\n",
       "9998  9.211555      <NA>         6           2 136000 1461667885035 15306\n",
       "9999  9.211555      <NA>         6           2     12 1461667885059 15306\n",
       "10000 9.211555      <NA>         6           1     60 1461667885059 15306\n",
       "            ttl types worker\n",
       "9998  932210018    bn    240\n",
       "9999  932210042    bn     50\n",
       "10000 932210042    bn     50"
      ]
     },
     "execution_count": 12,
     "metadata": {},
     "output_type": "execute_result"
    }
   ],
   "source": [
    "head(data, n = 3)\n",
    "tail(data, n = 3)"
   ]
  },
  {
   "cell_type": "code",
   "execution_count": 15,
   "metadata": {
    "collapsed": false,
    "scrolled": false
   },
   "outputs": [],
   "source": [
    "# str(data)"
   ]
  },
  {
   "cell_type": "code",
   "execution_count": 14,
   "metadata": {
    "collapsed": false
   },
   "outputs": [
    {
     "data": {
      "text/plain": [
       " X.timestamp         action     adsystem        agent      amuid.format\n",
       " Length:10000       view: 218   1   : 218   1416   :  65   new : 209   \n",
       " Class :character   NA's:9782   2   :7094   816    :  59   old :  19   \n",
       " Mode  :character               3   :2678   1322   :  21   NA's:9772   \n",
       "                                NA's:  10   435    :  19               \n",
       "                                            983    :  12               \n",
       "                                            (Other):9812               \n",
       "                                            NA's   :  12               \n",
       " amuid.format.site     banner        browser           browser.lang \n",
       " new : 227         34     :1434   Firefox:2554   [{          :  73  \n",
       " old :   1         36     : 917   Chrome :2553   [{\"type\":\"m\":1806  \n",
       " NA's:9772         37     : 853   MSIE   :1923   en          :   5  \n",
       "                   2      : 640   Opera  :1015   ru          :5437  \n",
       "                   1      : 433   Safari : 625   NA's        :2679  \n",
       "                   (Other):3035   IE     : 586                      \n",
       "                   NA's   :2688   (Other): 744                      \n",
       " browser.version    campaign                  city         country    \n",
       " 8.0    : 426    36     :1770   undefined       :8036   RU     :5405  \n",
       " 10.0   :  93    35     :1697   Moscow          : 218   UA     :2495  \n",
       " 25.0   :  88    4      : 640   Kursk           :  86   BY     : 434  \n",
       " 0      :  49    3      : 433   Saint Petersburg:  85   KZ     : 417  \n",
       " 24.0   :  47    23     : 370   Boardman        :  74   US     : 268  \n",
       " (Other):2005    (Other):2412   Saratov         :  52   MD     : 169  \n",
       " NA's   :7292    NA's   :2678   (Other)         :1449   (Other): 812  \n",
       "      cpm         errors      flash      format                    index     \n",
       " Min.   : 0.00   1   :   1   0   :7303   1 :6233   ad_views-2016.04.26:5000  \n",
       " 1st Qu.: 7.00   2   :   1   1   :   9   2 :3708   ad_views-2016.04.27:5000  \n",
       " Median :14.00   3   :  60   NA's:2688   20:  59                             \n",
       " Mean   :22.01   NA's:9938                                                   \n",
       " 3rd Qu.:24.00                                                               \n",
       " Max.   :82.83                                                               \n",
       " NA's   :2688                                                                \n",
       "  master.money      max.score            os       pay.for          rekl     \n",
       " Min.   :0.0000   Min.   :8.902   Win7    :3279   0   :8438   26     :3467  \n",
       " 1st Qu.:0.0035   1st Qu.:8.902   Windows :1920   1   : 298   32     :1555  \n",
       " Median :0.0069   Median :9.066   WinXP   :1255   2   :1254   16     :1073  \n",
       " Mean   :0.0105   Mean   :9.066   Win8    :1051   NA's:  10   8      : 638  \n",
       " 3rd Qu.:0.0118   3rd Qu.:9.229   WinVista: 870               40     : 545  \n",
       " Max.   :0.0395   Max.   :9.229   Mac OS  : 697               (Other):2712  \n",
       " NA's   :2688                     (Other) : 928               NA's   :  10  \n",
       "   rekl.money          rm.ip          scheme         score       site.code  \n",
       " Min.   :0.00000   22     :   3   7286   :3577   Min.   :8.884   1   : 159  \n",
       " 1st Qu.:0.00700   56     :   2   87     :1762   1st Qu.:8.892   2   :  69  \n",
       " Median :0.01987   58     :   2   14658  : 467   Median :9.057   NA's:9772  \n",
       " Mean   :0.02121   145    :   2   22144  : 444   Mean   :9.056              \n",
       " 3rd Qu.:0.02410   148    :   2   38499  : 322   3rd Qu.:9.221              \n",
       " Max.   :0.19226   (Other): 207   (Other): 740   Max.   :9.229              \n",
       " NA's   :10        NA's   :9782   NA's   :2688                              \n",
       " site.stat stat.format     stavka        timestamp             total      \n",
       " 1:   1    1   :4669   Min.   :     1   Length:10000       Min.   :15306  \n",
       " 2:   3    2   :2584   1st Qu.:    14   Class :character   1st Qu.:15306  \n",
       " 3:   1    20  :  59   Median :    24   Mode  :character   Median :18318  \n",
       " 4:  60    NA's:2688   Mean   : 17294                      Mean   :18318  \n",
       " 5:   1                3rd Qu.:    60                      3rd Qu.:21331  \n",
       " 6:9934                Max.   :450000                      Max.   :21331  \n",
       "                       NA's   :2688                                       \n",
       "      ttl            types         worker    \n",
       " Min.   :9.256e+08   bn:9990   160    : 408  \n",
       " 1st Qu.:9.606e+08   cu:  10   60     : 313  \n",
       " Median :9.796e+08             10     : 311  \n",
       " Mean   :9.827e+08             1070   : 311  \n",
       " 3rd Qu.:1.006e+09             1010   : 309  \n",
       " Max.   :1.035e+09             1040   : 304  \n",
       "                               (Other):8044  "
      ]
     },
     "execution_count": 14,
     "metadata": {},
     "output_type": "execute_result"
    }
   ],
   "source": [
    "summary(data)"
   ]
  },
  {
   "cell_type": "code",
   "execution_count": 20,
   "metadata": {
    "collapsed": false
   },
   "outputs": [
    {
     "name": "stderr",
     "output_type": "stream",
     "text": [
      "Warning message:\n",
      ": Continuous x aesthetic -- did you forget aes(group=...)?Warning message:\n",
      ": Removed 2688 rows containing non-finite values (stat_boxplot).Warning message:\n",
      "In is.na(data$y): is.na() applied to non-(list or vector) of type 'NULL'"
     ]
    },
    {
     "ename": "ERROR",
     "evalue": "Error in seq.default(from = best$lmin, to = best$lmax, by = best$lstep): 'from' must be of length 1\n",
     "output_type": "error",
     "traceback": [
      "Error in seq.default(from = best$lmin, to = best$lmax, by = best$lstep): 'from' must be of length 1\n"
     ]
    },
    {
     "ename": "ERROR",
     "evalue": "Error in file(con, \"rb\"): cannot open the connection\n",
     "output_type": "error",
     "traceback": [
      "Error in file(con, \"rb\"): cannot open the connection\n"
     ]
    },
    {
     "ename": "ERROR",
     "evalue": "Error in file(con, \"rb\"): cannot open the connection\n",
     "output_type": "error",
     "traceback": [
      "Error in file(con, \"rb\"): cannot open the connection\n"
     ]
    },
    {
     "data": {
      "text/plain": [
       "plot without title"
      ]
     },
     "metadata": {
      "image/svg+xml": {
       "isolated": true
      }
     },
     "output_type": "display_data"
    }
   ],
   "source": [
    "qplot(cpm, data=data, )"
   ]
  },
  {
   "cell_type": "code",
   "execution_count": null,
   "metadata": {
    "collapsed": true
   },
   "outputs": [],
   "source": []
  }
 ],
 "metadata": {
  "kernelspec": {
   "display_name": "R",
   "language": "R",
   "name": "ir"
  },
  "language_info": {
   "codemirror_mode": "r",
   "file_extension": ".r",
   "mimetype": "text/x-r-source",
   "name": "R",
   "pygments_lexer": "r",
   "version": "3.2.4"
  }
 },
 "nbformat": 4,
 "nbformat_minor": 0
}
