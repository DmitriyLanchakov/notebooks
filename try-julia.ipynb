{
 "cells": [
  {
   "cell_type": "markdown",
   "metadata": {
    "collapsed": true
   },
   "source": [
    "## Рекомендации по именованию:\n",
    "* имена переменных в нижнем регистре, слова разделяются символом подчёркивания (`_`);\n",
    "* для имён типов используется `CamelCase`;\n",
    "* имена функций и макросов в нижнем регистре без разделения слов символом подчёркивания;\n",
    "* имя функции, изменяющей переданные ей аргументы (in-place function), оканчивается восклицательным знаком."
   ]
  },
  {
   "cell_type": "code",
   "execution_count": null,
   "metadata": {
    "collapsed": true
   },
   "outputs": [],
   "source": []
  },
  {
   "cell_type": "code",
   "execution_count": null,
   "metadata": {
    "collapsed": true
   },
   "outputs": [],
   "source": []
  }
 ],
 "metadata": {
  "kernelspec": {
   "display_name": "Julia 0.4.3",
   "language": "julia",
   "name": "julia-0.4"
  },
  "language_info": {
   "file_extension": ".jl",
   "mimetype": "application/julia",
   "name": "julia",
   "version": "0.4.3"
  }
 },
 "nbformat": 4,
 "nbformat_minor": 0
}
