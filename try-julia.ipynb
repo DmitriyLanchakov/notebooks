{
 "cells": [
  {
   "cell_type": "code",
   "execution_count": 1,
   "metadata": {
    "collapsed": true
   },
   "outputs": [],
   "source": [
    "# Рекомендации по именованию:\n",
    "# * имена переменных в нижнем регистре, слова разделяются символом \n",
    "#   подчёркивания ('\\_');\n",
    "#\n",
    "# * для имён типов используется CamelCase;\n",
    "#\n",
    "# * имена функций и макросов в нижнем регистре\n",
    "#   без разделения слов символом подчёркивания;\n",
    "#\n",
    "# * имя функции, изменяющей переданные ей аргументы (in-place function),\n",
    "#   оканчивается восклицательным знаком."
   ]
  },
  {
   "cell_type": "code",
   "execution_count": null,
   "metadata": {
    "collapsed": true
   },
   "outputs": [],
   "source": []
  }
 ],
 "metadata": {
  "kernelspec": {
   "display_name": "Julia 0.4.3",
   "language": "julia",
   "name": "julia-0.4"
  },
  "language_info": {
   "file_extension": ".jl",
   "mimetype": "application/julia",
   "name": "julia",
   "version": "0.4.3"
  }
 },
 "nbformat": 4,
 "nbformat_minor": 0
}
