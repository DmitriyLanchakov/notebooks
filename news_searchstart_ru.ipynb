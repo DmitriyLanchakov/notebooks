{
 "cells": [
  {
   "cell_type": "code",
   "execution_count": 101,
   "metadata": {
    "collapsed": true
   },
   "outputs": [],
   "source": [
    "import requests\n",
    "from bs4 import BeautifulSoup\n",
    "\n",
    "import pymarkovchain\n",
    "\n",
    "from string import punctuation, digits\n",
    "punctuation += '«»—'"
   ]
  },
  {
   "cell_type": "code",
   "execution_count": 102,
   "metadata": {
    "collapsed": true
   },
   "outputs": [],
   "source": [
    "def get_last_page_number(domain, navigation_attrs = {'class' : 'page-numbers'}):\n",
    "    response = requests.get(domain)\n",
    "    html = response.text\n",
    "    soup = BeautifulSoup(html, 'lxml')\n",
    "    last_page_str = soup.find_all(attrs = navigation_attrs)[-2].get_text()\n",
    "    last_page_str = ''.join([char for char in last_page_str if char in digits])\n",
    "    last_page = int(last_page_str)\n",
    "    return last_page"
   ]
  },
  {
   "cell_type": "code",
   "execution_count": 7,
   "metadata": {
    "collapsed": true
   },
   "outputs": [],
   "source": [
    "def get_titles(domain, last_page_number, title_attrs = {'class' : 'entry-title'}):\n",
    "    titles = []\n",
    "    \n",
    "    for page in range(last_page_number):\n",
    "        response = requests.get('{}/page/{}/'.format(domain, page))\n",
    "        html = response.text\n",
    "        soup = BeautifulSoup(html, 'lxml')\n",
    "        titles += [ title.get_text() for title in soup.find_all(attrs = title_attrs) ]\n",
    "        \n",
    "    return titles"
   ]
  },
  {
   "cell_type": "code",
   "execution_count": 104,
   "metadata": {
    "collapsed": true
   },
   "outputs": [],
   "source": [
    "start = 'http://searchstart.ru'\n",
    "last_page = get_last_page_number(start)"
   ]
  },
  {
   "cell_type": "code",
   "execution_count": 35,
   "metadata": {
    "collapsed": true
   },
   "outputs": [],
   "source": [
    "titles = get_titles(start, last_page)"
   ]
  },
  {
   "cell_type": "code",
   "execution_count": 105,
   "metadata": {
    "collapsed": false
   },
   "outputs": [],
   "source": [
    "dozor = 'http://rusdozor.ru'\n",
    "last_page = get_last_page_number(dozor, {'class' : 'page-numbers'})"
   ]
  },
  {
   "cell_type": "code",
   "execution_count": null,
   "metadata": {
    "collapsed": true
   },
   "outputs": [],
   "source": [
    "dozor_titles = get_titles(dozor, last_page, {'class' : 'title'})"
   ]
  },
  {
   "cell_type": "markdown",
   "metadata": {},
   "source": [
    "-------"
   ]
  },
  {
   "cell_type": "code",
   "execution_count": 37,
   "metadata": {
    "collapsed": false
   },
   "outputs": [],
   "source": [
    "with open('news_titles.txt', 'w') as f:\n",
    "    f.write('\\n'.join(titles))"
   ]
  },
  {
   "cell_type": "code",
   "execution_count": 53,
   "metadata": {
    "collapsed": true
   },
   "outputs": [],
   "source": [
    "with open('news_titles.txt') as f:\n",
    "    titles = [line.strip() for line in f.readlines()]"
   ]
  },
  {
   "cell_type": "markdown",
   "metadata": {},
   "source": [
    "-------"
   ]
  },
  {
   "cell_type": "code",
   "execution_count": 54,
   "metadata": {
    "collapsed": false
   },
   "outputs": [],
   "source": [
    "titles = '\\n'.join([''.join([char for char in title if char not in punctuation]) for title in titles]).lower()"
   ]
  },
  {
   "cell_type": "code",
   "execution_count": 55,
   "metadata": {
    "collapsed": false,
    "scrolled": true
   },
   "outputs": [
    {
     "name": "stderr",
     "output_type": "stream",
     "text": [
      "WARNING:root:Database file corrupt or not found, using empty database\n"
     ]
    }
   ],
   "source": [
    "mc = pymarkovchain.MarkovChain()\n",
    "mc.generateDatabase(titles)"
   ]
  },
  {
   "cell_type": "code",
   "execution_count": 98,
   "metadata": {
    "collapsed": false
   },
   "outputs": [
    {
     "name": "stdout",
     "output_type": "stream",
     "text": [
      "путин объяснил отсутствие успеха у реформ после развала ссср\n",
      "жуткие страницы свободной энциклопедии\n",
      "на дно в брюгге в бельгии создали пивопровод\n",
      "дороже золота\n",
      "советы биография и жизнь арни от 14 до 69\n",
      "простой способ избавления от героиновой зависимости\n",
      "уже не существует\n",
      "как объяснить ребенку откуда берутся дети\n",
      "уже заказала салют в честь кадырова\n",
      "россия снизила цену на водку\n",
      "килограммовый стейк томагавк mediumпрожарки сувид\n",
      "такси к борту самолета\n",
      "ура завели mercedes на январе 51\n",
      "уровень\n",
      "росгвардия сможет помогать приставам выселять должников и закрывать компании\n",
      "краснодар примет локомотив спартак отправится в гости к анжи\n",
      "зидан среди номинантов премии лучший мужской тренер года\n",
      "нефтяные компании нашли способ сэкономить на добыче в северном море\n",
      "28 вещей из которых пора вырасти\n",
      "боты победят приложения не по назначению\n",
      "когда купил новые кроссовки\n",
      "серхио дебил что он не продлевал контракт с футбольным клубом зенит\n",
      "5000 литров горячей пены эпик lizzztvshow\n",
      "эсминец сша имел право сбить приблизившиеся к нему\n",
      "высадка первого россиянина на луну намечена на 2031 год\n",
      "путин вошел в сирию\n",
      "bluetooth решил вечную проблему\n",
      "минобороны опубликовало медиагалерею новых вооружений к показу на форуме армия2016\n",
      "родные 500килограммовой египтянки попросили о помощи\n",
      "задавший вопрос путину строитель космодрома восточный\n",
      "лучшее время для сна\n",
      "пассажирский самолет вернули в американскую клетку\n",
      "из 16 готовы к работе с ираном над стабилизацией рынка нефти\n",
      "гуф до того как стал известен\n",
      "акт самосожжения\n",
      "сми в британии сразу после инсульта\n",
      "iaaf не допускать легкоатлетов рф к 25 года тюрьмы за два года не будет на олимпиаде отказалась продолжать свою работу\n",
      "оппозиционерам отключили smsсервис и взломали telegram\n",
      "захарова сочла западных журналистов плохими аналитиками\n",
      "странные кандидаты в президенты\n",
      "британцы намерены остаться в составе ес\n",
      "в велотреке и инцидент с американским спутником со второй попытки стартовал с байконура\n",
      "рбк сбербанк запустит собственного виртуального оператора осенью 2016 года\n",
      "ассанж саудиты могут быть у тебя нет девушки\n",
      "в воскресенье в чемпионате россии\n",
      "зарплата осужденного за педофилию игрока сборной англии случайно выдал планируемую линию атаки в великобритании\n",
      "медведев сравнялись в предвыборной программе единороссов\n",
      "пенсионные накопления россиян пойдут на выборы сша\n",
      "бабушка проверяет лайфхаки\n",
      "песков пообещал прорыв в диалоге с японией\n",
      "cамые большие корабли планеты\n",
      "голосуют кто займет железный трон\n",
      "представители серии форд мустанг\n",
      "совбез оон резолюцию о запрете химоружия в сирии\n",
      "в какой обстановке сборная россии забросила первую шайбу на домашнем чемпионате мира\n",
      "дядя террориста из ниццы рассказал о планах на ночь восстановят позвоночник и добавят сил\n",
      "россияне ерофеев и александров вернулись на родину\n",
      "санхосе выиграл серию у сентлуиса и впервые вышел в финал плейофф нхл впервые за шесть кварталов\n",
      "средняя сумма взятки и подкупа в россии запретили меджлис крымских татар в 1944 году\n",
      "как российские саперы разминируют пальмиру\n",
      "происхождение русских ругательств\n",
      "порошенко извинился перед украинцами за причиненную реформами боль\n",
      "когда спешишь в морг\n",
      "очки для селфи изобрели в испании цирковой бегемот совершил побег\n",
      "10 оптических иллюзий которые сломают вам мозг\n",
      "5 мошенничеств на евро2016\n",
      "папу джонса оштрафовали на 400 тысяч рублей всем пенсионерам\n",
      "в стране\n",
      "сми критикуют месси и готовы назвать его поведение позором\n",
      "путин не встретится с лидерами прошедших в думу выступит за смену экономической и социальной политики\n",
      "роскомнадзор заблокировал pornhub по требованию районного суда воронежской области со дна реки дон подняли редкую версию танка т34\n",
      "рубин предрекает что ии подчинит все гаджеты в истории\n",
      "лев против шокирующая\n",
      "в вымогательстве 400 тыс у эксгубернатора ньюйорка\n",
      "diy как сделать дома\n",
      "в невероятных условиях\n",
      "сверхзадачи\n",
      "они просто более низкого уровня рунет возмутило противопоставление жителей центра и окраин москвы\n",
      "компромат из самовара\n",
      "савченко отожгла на заседании в раде парасюк устроил драку с нардепом от оппоблока колесниковым\n",
      "иг задержаны за подготовку красной свадьбы в таджикистане опровергли запрет фамилий с русскими окончаниями\n",
      "олег меньшиков рэпер jah khalib 714 выпуск от 11102016\n",
      "7 сказочных стран которые существовали на самом деле\n",
      "как 11летняя девочка одна путешествовала из москвы в петербург на переговоры по созданию совместной сети\n",
      "теракт 911 в эфире российских телеканалов\n",
      "6 гаджетов для апгрейда ноутбука\n",
      "настоящая девушка а кто знатным чистюлей\n",
      "пойманным за пьяное вождение водителям придется вносить залог за машину\n",
      "рамзан кадыров рассказал об ауре силы и прозорливости сталина\n",
      "титов рассказал о перспективах обмена ерофеева и александрова к 14 годам\n",
      "скандальная выставка педофилия или искусство\n",
      "израиль и россия могут восстановить проект южный поток\n",
      "как стал известен состав сборной россии по грекоримской борьбе2016 день 2 ковёр а\n",
      "что украл сергей лазарев и что такое неньютоновская жидкость\n",
      "российские флаги\n",
      "стрелок из далласа оставил надпись кровью перед смертью\n",
      "10 этажа\n",
      "подготовка к свадьбе красота по расписанию\n",
      "петр федоров\n",
      "большой скачок как победить киселёва\n"
     ]
    }
   ],
   "source": [
    "for _ in range(100): print(mc.generateString())"
   ]
  },
  {
   "cell_type": "code",
   "execution_count": 97,
   "metadata": {
    "collapsed": false,
    "scrolled": false
   },
   "outputs": [
    {
     "data": {
      "text/plain": [
       "'что означает цвет твоего паспорта\\nвидео в котором мы угадаем ваш возраст\\nтрамп обвинил хиллари клинт'"
      ]
     },
     "execution_count": 97,
     "metadata": {},
     "output_type": "execute_result"
    }
   ],
   "source": [
    "s = 'что означает цвет твоего паспорта'\n",
    "index = titles.find(s)\n",
    "titles[index : index+100]"
   ]
  },
  {
   "cell_type": "code",
   "execution_count": null,
   "metadata": {
    "collapsed": true
   },
   "outputs": [],
   "source": []
  }
 ],
 "metadata": {
  "anaconda-cloud": {},
  "kernelspec": {
   "display_name": "Python [default]",
   "language": "python",
   "name": "python3"
  },
  "language_info": {
   "codemirror_mode": {
    "name": "ipython",
    "version": 3
   },
   "file_extension": ".py",
   "mimetype": "text/x-python",
   "name": "python",
   "nbconvert_exporter": "python",
   "pygments_lexer": "ipython3",
   "version": "3.5.2"
  }
 },
 "nbformat": 4,
 "nbformat_minor": 1
}
