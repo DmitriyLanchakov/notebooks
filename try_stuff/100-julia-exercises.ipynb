{
 "cells": [
  {
   "cell_type": "markdown",
   "metadata": {},
   "source": [
    "# 100 Julia exercises"
   ]
  },
  {
   "cell_type": "markdown",
   "metadata": {},
   "source": [
    "Source: https://github.com/chezou/julia-100-exercises"
   ]
  },
  {
   "cell_type": "markdown",
   "metadata": {},
   "source": [
    "> This is Julia version of [100 numpy exercises](http://www.loria.fr/~rougier/teaching/numpy.100/)\n",
    "\n",
    "> Latest version of 100 numpy excercises are available at [this repository](https://github.com/rougier/numpy-100).\n",
    "\n",
    "> You can see executed results [here](http://nbviewer.ipython.org/github/chezou/julia-100-exercises/blob/master/julia-100-exercises.ipynb)"
   ]
  },
  {
   "cell_type": "markdown",
   "metadata": {},
   "source": [
    "-----------------"
   ]
  },
  {
   "cell_type": "markdown",
   "metadata": {},
   "source": [
    "## Neophyte"
   ]
  },
  {
   "cell_type": "markdown",
   "metadata": {},
   "source": [
    "### 2. Print the Julia version"
   ]
  },
  {
   "cell_type": "code",
   "execution_count": 3,
   "metadata": {
    "collapsed": false
   },
   "outputs": [
    {
     "data": {
      "text/plain": [
       "v\"0.4.3\""
      ]
     },
     "execution_count": 3,
     "metadata": {},
     "output_type": "execute_result"
    }
   ],
   "source": [
    "VERSION"
   ]
  },
  {
   "cell_type": "markdown",
   "metadata": {},
   "source": [
    "### 3. Create a null vector of size 10"
   ]
  },
  {
   "cell_type": "code",
   "execution_count": 4,
   "metadata": {
    "collapsed": false
   },
   "outputs": [
    {
     "data": {
      "text/plain": [
       "10-element Array{Float64,1}:\n",
       " 0.0\n",
       " 0.0\n",
       " 0.0\n",
       " 0.0\n",
       " 0.0\n",
       " 0.0\n",
       " 0.0\n",
       " 0.0\n",
       " 0.0\n",
       " 0.0"
      ]
     },
     "execution_count": 4,
     "metadata": {},
     "output_type": "execute_result"
    }
   ],
   "source": [
    "z = zeros(10)"
   ]
  },
  {
   "cell_type": "markdown",
   "metadata": {},
   "source": [
    "### 4. Create a null vector of size 10 and set the fifth value to 1"
   ]
  },
  {
   "cell_type": "code",
   "execution_count": 7,
   "metadata": {
    "collapsed": false
   },
   "outputs": [
    {
     "data": {
      "text/plain": [
       "10-element Array{Float64,1}:\n",
       " 0.0\n",
       " 0.0\n",
       " 0.0\n",
       " 0.0\n",
       " 1.0\n",
       " 0.0\n",
       " 0.0\n",
       " 0.0\n",
       " 0.0\n",
       " 0.0"
      ]
     },
     "execution_count": 7,
     "metadata": {},
     "output_type": "execute_result"
    }
   ],
   "source": [
    "z = zeros(10)\n",
    "z[5] = 1\n",
    "\n",
    "z"
   ]
  },
  {
   "cell_type": "markdown",
   "metadata": {},
   "source": [
    "### 5. Create a vector with values ranging from 10 to 99"
   ]
  },
  {
   "cell_type": "code",
   "execution_count": 1,
   "metadata": {
    "collapsed": false
   },
   "outputs": [
    {
     "name": "stderr",
     "output_type": "stream",
     "text": [
      "WARNING: [a] concatenation is deprecated; use collect(a) instead\n"
     ]
    },
    {
     "data": {
      "text/plain": [
       "90-element Array{Int64,1}:\n",
       " 10\n",
       " 11\n",
       " 12\n",
       " 13\n",
       " 14\n",
       " 15\n",
       " 16\n",
       " 17\n",
       " 18\n",
       " 19\n",
       " 20\n",
       " 21\n",
       " 22\n",
       "  ⋮\n",
       " 88\n",
       " 89\n",
       " 90\n",
       " 91\n",
       " 92\n",
       " 93\n",
       " 94\n",
       " 95\n",
       " 96\n",
       " 97\n",
       " 98\n",
       " 99"
      ]
     },
     "execution_count": 1,
     "metadata": {},
     "output_type": "execute_result"
    },
    {
     "name": "stderr",
     "output_type": "stream",
     "text": [
      " in depwarn at deprecated.jl:73\n",
      " in oldstyle_vcat_warning at /usr/local/Cellar/julia/0.4.3/lib/julia/sys.dylib\n",
      " in vect at abstractarray.jl:32\n",
      " in include_string at loading.jl:266\n",
      " in execute_request_0x535c5df2 at /Users/mac/.julia/v0.4/IJulia/src/execute_request.jl:177\n",
      " in eventloop at /Users/mac/.julia/v0.4/IJulia/src/IJulia.jl:141\n",
      " in anonymous at task.jl:447\n",
      "while loading In[1], in expression starting on line 1\n"
     ]
    }
   ],
   "source": [
    "v = [10:99]"
   ]
  },
  {
   "cell_type": "markdown",
   "metadata": {},
   "source": [
    "### 6. Create a 3x3 matrix with values ranging from 0 to 8"
   ]
  },
  {
   "cell_type": "code",
   "execution_count": 11,
   "metadata": {
    "collapsed": false
   },
   "outputs": [
    {
     "data": {
      "text/plain": [
       "3x3 Array{Int64,2}:\n",
       " 0  3  6\n",
       " 1  4  7\n",
       " 2  5  8"
      ]
     },
     "execution_count": 11,
     "metadata": {},
     "output_type": "execute_result"
    }
   ],
   "source": [
    "m = reshape(0:8, 3, 3)"
   ]
  },
  {
   "cell_type": "markdown",
   "metadata": {},
   "source": [
    "### 7. Find indices of non-zero elements from [1,2,0,0,4,0]"
   ]
  },
  {
   "cell_type": "code",
   "execution_count": 12,
   "metadata": {
    "collapsed": false
   },
   "outputs": [
    {
     "data": {
      "text/plain": [
       "3-element Array{Int64,1}:\n",
       " 1\n",
       " 2\n",
       " 5"
      ]
     },
     "execution_count": 12,
     "metadata": {},
     "output_type": "execute_result"
    }
   ],
   "source": [
    "nz = find([1, 2, 0, 0, 4, 0])"
   ]
  },
  {
   "cell_type": "markdown",
   "metadata": {},
   "source": [
    "### 8. Create a 3x3 identity matrix"
   ]
  },
  {
   "cell_type": "code",
   "execution_count": 13,
   "metadata": {
    "collapsed": false
   },
   "outputs": [
    {
     "data": {
      "text/plain": [
       "3x3 Array{Float64,2}:\n",
       " 1.0  0.0  0.0\n",
       " 0.0  1.0  0.0\n",
       " 0.0  0.0  1.0"
      ]
     },
     "execution_count": 13,
     "metadata": {},
     "output_type": "execute_result"
    }
   ],
   "source": [
    "e = eye(3)"
   ]
  },
  {
   "cell_type": "markdown",
   "metadata": {},
   "source": [
    "### 9. Create a 5x5 matrix with values 1,2,3,4 just below the diagonal"
   ]
  },
  {
   "cell_type": "code",
   "execution_count": 14,
   "metadata": {
    "collapsed": false
   },
   "outputs": [
    {
     "data": {
      "text/plain": [
       "5x5 Array{Int64,2}:\n",
       " 0  0  0  0  0\n",
       " 1  0  0  0  0\n",
       " 0  2  0  0  0\n",
       " 0  0  3  0  0\n",
       " 0  0  0  4  0"
      ]
     },
     "execution_count": 14,
     "metadata": {},
     "output_type": "execute_result"
    }
   ],
   "source": [
    "m = diagm(1:4, -1)"
   ]
  },
  {
   "cell_type": "markdown",
   "metadata": {},
   "source": [
    "### 10. Create a 10x10x10 array with random values"
   ]
  },
  {
   "cell_type": "code",
   "execution_count": 15,
   "metadata": {
    "collapsed": false,
    "scrolled": true
   },
   "outputs": [
    {
     "data": {
      "text/plain": [
       "10x10x10 Array{Float64,3}:\n",
       "[:, :, 1] =\n",
       " 0.459613   0.533373  0.148516   0.663429   …  0.156148  0.859446  0.0886111\n",
       " 0.502602   0.237709  0.0385582  0.841692      0.519103  0.415616  0.236542 \n",
       " 0.196077   0.573261  0.925178   0.350489      0.326767  0.165404  0.69827  \n",
       " 0.0795486  0.19438   0.478645   0.288867      0.473446  0.518264  0.616707 \n",
       " 0.761796   0.756389  0.168613   0.391024      0.181694  0.535621  0.631807 \n",
       " 0.501686   0.535566  0.0921788  0.696437   …  0.334407  0.915345  0.598979 \n",
       " 0.882091   0.463479  0.818101   0.368462      0.873294  0.265484  0.495247 \n",
       " 0.383507   0.715665  0.437152   0.875677      0.662119  0.703248  0.409473 \n",
       " 0.975296   0.60797   0.971256   0.0322134     0.907483  0.569797  0.505201 \n",
       " 0.124441   0.320871  0.498543   0.570147      0.28563   0.559385  0.473202 \n",
       "\n",
       "[:, :, 2] =\n",
       " 0.651319  0.611508   0.408661   0.0521751  …  0.452725  0.756983   0.9223   \n",
       " 0.124851  0.690753   0.0387292  0.239478      0.52297   0.829906   0.523899 \n",
       " 0.365384  0.489322   0.640681   0.961803      0.355891  0.0456144  0.394353 \n",
       " 0.357935  0.825507   0.41514    0.429383      0.5247    0.99824    0.776779 \n",
       " 0.687346  0.0555342  0.790005   0.336392      0.481043  0.212031   0.122679 \n",
       " 0.325759  0.739114   0.377437   0.263064   …  0.140787  0.453594   0.373926 \n",
       " 0.148762  0.679065   0.388188   0.452539      0.456705  0.396336   0.461227 \n",
       " 0.926868  0.0144326  0.75432    0.826791      0.203409  0.99058    0.71854  \n",
       " 0.544467  0.757728   0.113508   0.364217      0.502676  0.0201485  0.108485 \n",
       " 0.916929  0.035814   0.287724   0.133263      0.666457  0.465162   0.0458278\n",
       "\n",
       "[:, :, 3] =\n",
       " 0.624925  0.936796  0.991887  0.683511  …  0.390512  0.427047   0.453321 \n",
       " 0.483644  0.582612  0.784599  0.72906      0.294555  0.639089   0.625721 \n",
       " 0.80438   0.127652  0.675459  0.884415     0.914007  0.662626   0.171256 \n",
       " 0.877532  0.903446  0.112294  0.73881      0.589401  0.368711   0.584651 \n",
       " 0.152951  0.269795  0.256279  0.507092     0.177966  0.957346   0.941933 \n",
       " 0.702976  0.892401  0.887961  0.288396  …  0.569802  0.847652   0.9284   \n",
       " 0.104147  0.651801  0.200648  0.352965     0.535558  0.104973   0.562876 \n",
       " 0.561724  0.49906   0.22714   0.872243     0.60337   0.0232176  0.0657585\n",
       " 0.402637  0.781462  0.785159  0.403247     0.38608   0.872422   0.668416 \n",
       " 0.819358  0.232973  0.235758  0.512619     0.960486  0.0930815  0.992082 \n",
       "\n",
       "[:, :, 4] =\n",
       " 0.748782   0.0326519  0.0179423  …  0.518876   0.896879  0.683977 \n",
       " 0.0832963  0.717299   0.579079      0.529257   0.160131  0.881468 \n",
       " 0.182042   0.479258   0.692619      0.167657   0.194313  0.339976 \n",
       " 0.228201   0.425866   0.836486      0.357014   0.686905  0.139986 \n",
       " 0.416436   0.694812   0.295481      0.196169   0.760974  0.0600355\n",
       " 0.73586    0.813201   0.114143   …  0.420803   0.391352  0.956431 \n",
       " 0.179882   0.442197   0.55303       0.0782331  0.867332  0.118156 \n",
       " 0.438236   0.663728   0.603302      0.313338   0.603602  0.13511  \n",
       " 0.131717   0.258549   0.414311      0.936972   0.452641  0.224773 \n",
       " 0.277378   0.858005   0.461411      0.531924   0.849844  0.368489 \n",
       "\n",
       "[:, :, 5] =\n",
       " 0.217164  0.226888   0.857361  0.43648   …  0.261317   0.795602  0.0946984\n",
       " 0.677122  0.45317    0.287589  0.924948     0.390826   0.20988   0.0347723\n",
       " 0.516258  0.277203   0.307358  0.515041     0.664053   0.264715  0.58616  \n",
       " 0.313783  0.655203   0.608188  0.558118     0.0427593  0.991397  0.573162 \n",
       " 0.27466   0.181066   0.917699  0.608332     0.231841   0.504501  0.594324 \n",
       " 0.191472  0.0752204  0.302543  0.26127   …  0.408613   0.190669  0.211502 \n",
       " 0.871578  0.650179   0.485337  0.540599     0.722972   0.157392  0.53002  \n",
       " 0.086549  0.523008   0.518215  0.378877     0.118601   0.812615  0.396037 \n",
       " 0.576633  0.853323   0.685574  0.761834     0.64139    0.295138  0.0642272\n",
       " 0.377311  0.220646   0.555026  0.146619     0.733831   0.627484  0.298038 \n",
       "\n",
       "[:, :, 6] =\n",
       " 0.203948   0.724224    0.747979   …  0.414168  0.111569    0.0763999\n",
       " 0.861191   0.623175    0.816174      0.80256   0.495502    0.0289631\n",
       " 0.651707   0.41292     0.999779      0.048243  0.260732    0.40284  \n",
       " 0.0341194  0.24511     0.557508      0.962528  0.16258     0.947351 \n",
       " 0.224926   0.698405    0.933527      0.404833  0.500502    0.360161 \n",
       " 0.527337   5.59598e-5  0.0922451  …  0.161909  0.00250347  0.505095 \n",
       " 0.410808   0.11907     0.162626      0.842097  0.359287    0.533438 \n",
       " 0.0334815  0.340269    0.619075      0.725874  0.479607    0.393743 \n",
       " 0.921215   0.537663    0.612044      0.71237   0.478348    0.37156  \n",
       " 0.675051   0.767737    0.242618      0.869277  0.135497    0.463269 \n",
       "\n",
       "[:, :, 7] =\n",
       " 0.742055  0.308046  0.506745   0.874858   …  0.248551   0.4872    0.598748 \n",
       " 0.459623  0.636548  0.927927   0.566908      0.131331   0.868617  0.821009 \n",
       " 0.155663  0.289542  0.715302   0.738567      0.530583   0.439052  0.376753 \n",
       " 0.706551  0.122862  0.888406   0.0613591     0.220141   0.957983  0.797956 \n",
       " 0.270281  0.397647  0.0107499  0.70824       0.0962856  0.61139   0.0589082\n",
       " 0.796886  0.273189  0.463743   0.252594   …  0.506583   0.34624   0.940201 \n",
       " 0.835538  0.587706  0.42887    0.18403       0.240573   0.568373  0.806816 \n",
       " 0.879321  0.544772  0.0183253  0.464226      0.648266   0.498595  0.07448  \n",
       " 0.310091  0.491058  0.212652   0.286205      0.432639   0.667395  0.234562 \n",
       " 0.801512  0.968475  0.36019    0.878528      0.395496   0.634787  0.208465 \n",
       "\n",
       "[:, :, 8] =\n",
       " 0.989678  0.344776  0.901283    0.51809   …  0.714785  0.934887   0.691224\n",
       " 0.299426  0.38047   0.458143    0.83518      0.42496   0.589233   0.626989\n",
       " 0.169756  0.508222  0.896451    0.423036     0.781479  0.155058   0.119426\n",
       " 0.28904   0.605858  0.799474    0.895864     0.199681  0.173792   0.243299\n",
       " 0.204557  0.66575   0.647016    0.563333     0.239606  0.0871776  0.588851\n",
       " 0.56029   0.371395  0.787244    0.907233  …  0.383279  0.235908   0.584929\n",
       " 0.395373  0.645383  0.183788    0.101756     0.446689  0.516309   0.454644\n",
       " 0.931309  0.192783  0.00394643  0.625928     0.827307  0.748319   0.70215 \n",
       " 0.376703  0.376823  0.865499    0.378349     0.135714  0.194311   0.885201\n",
       " 0.190629  0.876056  0.29648     0.182242     0.971553  0.313005   0.278197\n",
       "\n",
       "[:, :, 9] =\n",
       " 0.118321    0.260569  0.517872  …  0.695702   0.34851    0.814596 \n",
       " 0.438926    0.502063  0.388603     0.789923   0.248058   0.0794576\n",
       " 0.930765    0.779035  0.398528     0.628427   0.688879   0.114835 \n",
       " 0.10749     0.266567  0.441525     0.670533   0.0675113  0.306264 \n",
       " 0.659352    0.584549  0.790177     0.6338     0.860553   0.953707 \n",
       " 0.00347927  0.647251  0.987622  …  0.188374   0.48975    0.242559 \n",
       " 0.382764    0.829077  0.674782     0.505004   0.562852   0.311371 \n",
       " 0.346555    0.384739  0.641358     0.0245535  0.234234   0.415632 \n",
       " 0.148387    0.985781  0.81375      0.844268   0.0418835  0.136761 \n",
       " 0.893779    0.383851  0.07498      0.9749     0.57692    0.670296 \n",
       "\n",
       "[:, :, 10] =\n",
       " 0.444067  0.651938   0.377092  0.446909  …  0.137641   0.268372  0.198564 \n",
       " 0.451448  0.600639   0.443968  0.99779      0.815102   0.429185  0.305    \n",
       " 0.242917  0.276973   0.410934  0.634061     0.145989   0.119638  0.102441 \n",
       " 0.710907  0.154741   0.976662  0.54031      0.843242   0.747988  0.0431037\n",
       " 0.551783  0.460232   0.919954  0.179424     0.367192   0.501779  0.838155 \n",
       " 0.643936  0.0761287  0.732244  0.105681  …  0.286493   0.729449  0.774894 \n",
       " 0.927967  0.889502   0.483034  0.851441     0.0885442  0.734619  0.233418 \n",
       " 0.973751  0.721743   0.934484  0.192118     0.931029   0.50926   0.842451 \n",
       " 0.452775  0.477954   0.250986  0.180574     0.731643   0.579563  0.69104  \n",
       " 0.70706   0.870439   0.200162  0.337814     0.897477   0.142968  0.673089 "
      ]
     },
     "execution_count": 15,
     "metadata": {},
     "output_type": "execute_result"
    }
   ],
   "source": [
    "rand(10, 10, 10)"
   ]
  },
  {
   "cell_type": "markdown",
   "metadata": {},
   "source": [
    "## Novice"
   ]
  },
  {
   "cell_type": "markdown",
   "metadata": {},
   "source": [
    "### 1. Create a 8x8 matrix and fill it with a checkerboard pattern"
   ]
  },
  {
   "cell_type": "code",
   "execution_count": 3,
   "metadata": {
    "collapsed": false
   },
   "outputs": [
    {
     "data": {
      "text/plain": [
       "8x8 Array{Float64,2}:\n",
       " 0.0  1.0  0.0  1.0  0.0  1.0  0.0  1.0\n",
       " 1.0  0.0  1.0  0.0  1.0  0.0  1.0  0.0\n",
       " 0.0  1.0  0.0  1.0  0.0  1.0  0.0  1.0\n",
       " 1.0  0.0  1.0  0.0  1.0  0.0  1.0  0.0\n",
       " 0.0  1.0  0.0  1.0  0.0  1.0  0.0  1.0\n",
       " 1.0  0.0  1.0  0.0  1.0  0.0  1.0  0.0\n",
       " 0.0  1.0  0.0  1.0  0.0  1.0  0.0  1.0\n",
       " 1.0  0.0  1.0  0.0  1.0  0.0  1.0  0.0"
      ]
     },
     "execution_count": 3,
     "metadata": {},
     "output_type": "execute_result"
    }
   ],
   "source": [
    "Z = zeros(8, 8)\n",
    "Z[1:2:end, 2:2:end] = 1\n",
    "Z[2:2:end, 1:2:end] = 1\n",
    "Z"
   ]
  },
  {
   "cell_type": "markdown",
   "metadata": {},
   "source": [
    "### 2. Create a 10x10 array with random values and find the minimum and maximum values"
   ]
  },
  {
   "cell_type": "code",
   "execution_count": 2,
   "metadata": {
    "collapsed": false
   },
   "outputs": [
    {
     "name": "stdout",
     "output_type": "stream",
     "text": [
      "0.0"
     ]
    },
    {
     "data": {
      "text/plain": [
       "(0.00297307599754415,0.9931576949204739)"
      ]
     },
     "execution_count": 2,
     "metadata": {},
     "output_type": "execute_result"
    },
    {
     "name": "stdout",
     "output_type": "stream",
     "text": [
      "02973075997544150.9931576949204739\n",
      "----\n",
      "\n",
      "----\n",
      "(0.00297307599754415,0.9931576949204739)\n",
      "----\n"
     ]
    }
   ],
   "source": [
    "Z = rand(10, 10)\n",
    "\n",
    "print(minimum(Z), maximum(Z))\n",
    "print(\"\\n----\\n\")\n",
    "print(\"\\n----\\n\")\n",
    "print(extrema(Z))\n",
    "print(\"\\n----\\n\")\n",
    "Zmin, Zmax = extrema(Z)"
   ]
  },
  {
   "cell_type": "markdown",
   "metadata": {},
   "source": [
    "### 3. Create a checkerboard 8x8 matrix using the tile function"
   ]
  },
  {
   "cell_type": "code",
   "execution_count": 4,
   "metadata": {
    "collapsed": false
   },
   "outputs": [
    {
     "data": {
      "text/plain": [
       "8x8 Array{Int64,2}:\n",
       " 0  1  0  1  0  1  0  1\n",
       " 1  0  1  0  1  0  1  0\n",
       " 0  1  0  1  0  1  0  1\n",
       " 1  0  1  0  1  0  1  0\n",
       " 0  1  0  1  0  1  0  1\n",
       " 1  0  1  0  1  0  1  0\n",
       " 0  1  0  1  0  1  0  1\n",
       " 1  0  1  0  1  0  1  0"
      ]
     },
     "execution_count": 4,
     "metadata": {},
     "output_type": "execute_result"
    }
   ],
   "source": [
    "Z = repmat([0 1;1 0], 4, 4)"
   ]
  },
  {
   "cell_type": "markdown",
   "metadata": {},
   "source": [
    "### 4. Normalize a 5x5 random matrix (between 0 and 1)"
   ]
  },
  {
   "cell_type": "code",
   "execution_count": 5,
   "metadata": {
    "collapsed": false
   },
   "outputs": [
    {
     "data": {
      "text/plain": [
       "5x5 Array{Float64,2}:\n",
       " 0.852398  0.0       0.890332  0.987397  0.976735 \n",
       " 0.433485  0.321928  0.770248  0.877759  0.787189 \n",
       " 0.775723  0.556742  0.148721  0.895274  0.863211 \n",
       " 0.465847  0.86465   0.828993  0.68005   0.0817061\n",
       " 0.209168  0.405381  0.491926  0.629073  1.0      "
      ]
     },
     "execution_count": 5,
     "metadata": {},
     "output_type": "execute_result"
    }
   ],
   "source": [
    "Z = rand(5, 5)\n",
    "Zmin, Zmax = extrema(Z)\n",
    "Z = (Z .- Zmin)./(Zmax - Zmin)"
   ]
  },
  {
   "cell_type": "markdown",
   "metadata": {},
   "source": [
    "### 5. Multiply a 5x3 matrix by a 3x2 matrix (real matrix product)"
   ]
  },
  {
   "cell_type": "code",
   "execution_count": 6,
   "metadata": {
    "collapsed": false
   },
   "outputs": [
    {
     "data": {
      "text/plain": [
       "5x2 Array{Float64,2}:\n",
       " 3.0  3.0\n",
       " 3.0  3.0\n",
       " 3.0  3.0\n",
       " 3.0  3.0\n",
       " 3.0  3.0"
      ]
     },
     "execution_count": 6,
     "metadata": {},
     "output_type": "execute_result"
    }
   ],
   "source": [
    "Z = ones(5, 3) * ones(3, 2)"
   ]
  },
  {
   "cell_type": "markdown",
   "metadata": {},
   "source": [
    "### 6. Create a 10x10 matrix with row values ranging from 0 to 9"
   ]
  },
  {
   "cell_type": "code",
   "execution_count": 9,
   "metadata": {
    "collapsed": false
   },
   "outputs": [
    {
     "data": {
      "text/plain": [
       "10x10 Array{Int64,2}:\n",
       " 0  1  2  3  4  5  6  7  8  9\n",
       " 0  1  2  3  4  5  6  7  8  9\n",
       " 0  1  2  3  4  5  6  7  8  9\n",
       " 0  1  2  3  4  5  6  7  8  9\n",
       " 0  1  2  3  4  5  6  7  8  9\n",
       " 0  1  2  3  4  5  6  7  8  9\n",
       " 0  1  2  3  4  5  6  7  8  9\n",
       " 0  1  2  3  4  5  6  7  8  9\n",
       " 0  1  2  3  4  5  6  7  8  9\n",
       " 0  1  2  3  4  5  6  7  8  9"
      ]
     },
     "execution_count": 9,
     "metadata": {},
     "output_type": "execute_result"
    }
   ],
   "source": [
    "Z = [y for x in 1:10, y in 0:9]"
   ]
  },
  {
   "cell_type": "markdown",
   "metadata": {},
   "source": [
    "### 7. Create a vector of size 1000 with values ranging from 0 to 1, both excluded"
   ]
  },
  {
   "cell_type": "code",
   "execution_count": 10,
   "metadata": {
    "collapsed": false
   },
   "outputs": [
    {
     "data": {
      "text/plain": [
       "linspace(0.000999000999000999,0.999000999000999,1000)"
      ]
     },
     "execution_count": 10,
     "metadata": {},
     "output_type": "execute_result"
    }
   ],
   "source": [
    "linspace(0, 1, 1002)[2:end - 1]"
   ]
  },
  {
   "cell_type": "markdown",
   "metadata": {},
   "source": [
    "### 8. Create a random vector of size 100 and sort it"
   ]
  },
  {
   "cell_type": "code",
   "execution_count": 12,
   "metadata": {
    "collapsed": false
   },
   "outputs": [
    {
     "data": {
      "text/plain": [
       "100-element Array{Float64,1}:\n",
       " 0.00724294\n",
       " 0.0145325 \n",
       " 0.0148629 \n",
       " 0.0579311 \n",
       " 0.0806452 \n",
       " 0.0907783 \n",
       " 0.0946269 \n",
       " 0.102515  \n",
       " 0.140644  \n",
       " 0.143046  \n",
       " 0.15323   \n",
       " 0.156139  \n",
       " 0.158173  \n",
       " ⋮         \n",
       " 0.922119  \n",
       " 0.926881  \n",
       " 0.928186  \n",
       " 0.930573  \n",
       " 0.940174  \n",
       " 0.942797  \n",
       " 0.950314  \n",
       " 0.971311  \n",
       " 0.972312  \n",
       " 0.97234   \n",
       " 0.973647  \n",
       " 0.981324  "
      ]
     },
     "execution_count": 12,
     "metadata": {},
     "output_type": "execute_result"
    }
   ],
   "source": [
    "v = rand(100)\n",
    "# sort(v)\n",
    "sort!(v) # sort v and save the result to v"
   ]
  },
  {
   "cell_type": "markdown",
   "metadata": {},
   "source": [
    "### 9. Consider two random matrices A anb B, check if they are equal."
   ]
  },
  {
   "cell_type": "code",
   "execution_count": 24,
   "metadata": {
    "collapsed": false,
    "scrolled": true
   },
   "outputs": [
    {
     "data": {
      "text/plain": [
       "false"
      ]
     },
     "execution_count": 24,
     "metadata": {},
     "output_type": "execute_result"
    }
   ],
   "source": [
    "A = rand(0:2, 2, 2)\n",
    "B = rand(0:2, 2, 2)\n",
    "\n",
    "A == B"
   ]
  },
  {
   "cell_type": "markdown",
   "metadata": {},
   "source": [
    "### 10. Create a random vector of size 1000 and find the mean value"
   ]
  },
  {
   "cell_type": "code",
   "execution_count": 15,
   "metadata": {
    "collapsed": false
   },
   "outputs": [
    {
     "data": {
      "text/plain": [
       "0.5006005459056813"
      ]
     },
     "execution_count": 15,
     "metadata": {},
     "output_type": "execute_result"
    }
   ],
   "source": [
    "v = rand(1000)\n",
    "mean(v)"
   ]
  },
  {
   "cell_type": "markdown",
   "metadata": {},
   "source": [
    "## Apprentice"
   ]
  },
  {
   "cell_type": "markdown",
   "metadata": {},
   "source": [
    "### 1. Make an array immutable (read-only)"
   ]
  },
  {
   "cell_type": "code",
   "execution_count": null,
   "metadata": {
    "collapsed": true
   },
   "outputs": [],
   "source": []
  },
  {
   "cell_type": "markdown",
   "metadata": {},
   "source": [
    "### 2. Consider a random 10x2 matrix representing Cartesian coordinates, convert them to polar coordinates"
   ]
  },
  {
   "cell_type": "code",
   "execution_count": null,
   "metadata": {
    "collapsed": true
   },
   "outputs": [],
   "source": [
    "Z = rand(10, 2)"
   ]
  },
  {
   "cell_type": "markdown",
   "metadata": {},
   "source": [
    "### 3. Create random vector of size 100 and replace the maximum value by 0"
   ]
  },
  {
   "cell_type": "code",
   "execution_count": 25,
   "metadata": {
    "collapsed": false
   },
   "outputs": [
    {
     "data": {
      "text/plain": [
       "0"
      ]
     },
     "execution_count": 25,
     "metadata": {},
     "output_type": "execute_result"
    }
   ],
   "source": [
    "v = rand(100)\n",
    "v[indmax(v)] = 0"
   ]
  },
  {
   "cell_type": "markdown",
   "metadata": {},
   "source": [
    "### 4. Create a structured array with x and y coordinates covering the [0,1]x[0,1] area."
   ]
  },
  {
   "cell_type": "code",
   "execution_count": 26,
   "metadata": {
    "collapsed": false
   },
   "outputs": [
    {
     "data": {
      "text/plain": [
       "10x10 Array{Tuple{Float64,Float64},2}:\n",
       " (0.0,0.0)                 …  (0.0,1.0)               \n",
       " (0.1111111111111111,0.0)     (0.1111111111111111,1.0)\n",
       " (0.2222222222222222,0.0)     (0.2222222222222222,1.0)\n",
       " (0.3333333333333333,0.0)     (0.3333333333333333,1.0)\n",
       " (0.4444444444444444,0.0)     (0.4444444444444444,1.0)\n",
       " (0.5555555555555556,0.0)  …  (0.5555555555555556,1.0)\n",
       " (0.6666666666666666,0.0)     (0.6666666666666666,1.0)\n",
       " (0.7777777777777778,0.0)     (0.7777777777777778,1.0)\n",
       " (0.8888888888888888,0.0)     (0.8888888888888888,1.0)\n",
       " (1.0,0.0)                    (1.0,1.0)               "
      ]
     },
     "execution_count": 26,
     "metadata": {},
     "output_type": "execute_result"
    }
   ],
   "source": [
    "[(x, y) for x in linspace(0,1,10), y in linspace(0,1,10)]"
   ]
  },
  {
   "cell_type": "markdown",
   "metadata": {},
   "source": [
    "### 5. Print the minimum and maximum representable value for each Julia scalar type"
   ]
  },
  {
   "cell_type": "code",
   "execution_count": null,
   "metadata": {
    "collapsed": true
   },
   "outputs": [],
   "source": []
  },
  {
   "cell_type": "markdown",
   "metadata": {},
   "source": [
    "### 6. Create a structured array representing a position (x,y) and a color (r,g,b)"
   ]
  },
  {
   "cell_type": "code",
   "execution_count": null,
   "metadata": {
    "collapsed": true
   },
   "outputs": [],
   "source": []
  },
  {
   "cell_type": "markdown",
   "metadata": {},
   "source": [
    "### 7. Consider a random vector with shape (100,2) representing coordinates, find point by point distances"
   ]
  },
  {
   "cell_type": "code",
   "execution_count": null,
   "metadata": {
    "collapsed": true
   },
   "outputs": [],
   "source": []
  },
  {
   "cell_type": "markdown",
   "metadata": {},
   "source": [
    "### 8. Generate a generic 2D Gaussian-like array"
   ]
  },
  {
   "cell_type": "code",
   "execution_count": null,
   "metadata": {
    "collapsed": true
   },
   "outputs": [],
   "source": []
  },
  {
   "cell_type": "markdown",
   "metadata": {},
   "source": [
    "### 9. Consider the vector [1, 2, 3, 4, 5]. How to build a new vector with 3 consecutive zeros interleaved between each value?"
   ]
  },
  {
   "cell_type": "code",
   "execution_count": null,
   "metadata": {
    "collapsed": true
   },
   "outputs": [],
   "source": []
  },
  {
   "cell_type": "markdown",
   "metadata": {},
   "source": [
    "### 10. Find the nearest value from a given value in an array"
   ]
  },
  {
   "cell_type": "code",
   "execution_count": null,
   "metadata": {
    "collapsed": true
   },
   "outputs": [],
   "source": []
  },
  {
   "cell_type": "markdown",
   "metadata": {},
   "source": [
    "## Journeyman"
   ]
  },
  {
   "cell_type": "markdown",
   "metadata": {},
   "source": [
    "### 1. Consider the following file:\n",
    "\n",
    "```\n",
    "1,2,3,4,5\n",
    "6,,,7,8\n",
    ",,9,10,11\n",
    "```\n",
    "\n",
    "### How to read it?"
   ]
  },
  {
   "cell_type": "code",
   "execution_count": null,
   "metadata": {
    "collapsed": true
   },
   "outputs": [],
   "source": []
  },
  {
   "cell_type": "markdown",
   "metadata": {},
   "source": [
    "### 2. Consider a generator function that generates 10 integers and use it to build an array"
   ]
  },
  {
   "cell_type": "code",
   "execution_count": null,
   "metadata": {
    "collapsed": true
   },
   "outputs": [],
   "source": []
  },
  {
   "cell_type": "markdown",
   "metadata": {},
   "source": [
    "### 3. Consider a given vector, how to add 1 to each element indexed by a second vector (be careful with repeated indices)?"
   ]
  },
  {
   "cell_type": "code",
   "execution_count": null,
   "metadata": {
    "collapsed": true
   },
   "outputs": [],
   "source": []
  },
  {
   "cell_type": "markdown",
   "metadata": {},
   "source": [
    "### 4. How to accumulate elements of a vector (X) to an array (F) based on an index list (I)?"
   ]
  },
  {
   "cell_type": "code",
   "execution_count": null,
   "metadata": {
    "collapsed": true
   },
   "outputs": [],
   "source": []
  },
  {
   "cell_type": "markdown",
   "metadata": {},
   "source": [
    "### 5. Considering a (w,h,3) image of (dtype=ubyte), compute the number of unique colors"
   ]
  },
  {
   "cell_type": "code",
   "execution_count": null,
   "metadata": {
    "collapsed": true
   },
   "outputs": [],
   "source": []
  },
  {
   "cell_type": "markdown",
   "metadata": {},
   "source": [
    "### 6. Considering a four dimensional array, how to get sum over the last two axis at once?"
   ]
  },
  {
   "cell_type": "code",
   "execution_count": null,
   "metadata": {
    "collapsed": true
   },
   "outputs": [],
   "source": []
  },
  {
   "cell_type": "markdown",
   "metadata": {},
   "source": [
    "### 7. Considering a one-dimensional vector D, how to compute means of subsets of D using a vector S of same size describing subset indices?"
   ]
  },
  {
   "cell_type": "code",
   "execution_count": null,
   "metadata": {
    "collapsed": true
   },
   "outputs": [],
   "source": []
  },
  {
   "cell_type": "markdown",
   "metadata": {},
   "source": [
    "## Craftsman\n",
    "### 1. Consider a one-dimensional array Z, build a two-dimensional array whose first row is (Z[0],Z[1],Z[2]) and each subsequent row is shifted by 1 (last row should be (Z[-3],Z[-2],Z[-1])"
   ]
  },
  {
   "cell_type": "code",
   "execution_count": null,
   "metadata": {
    "collapsed": true
   },
   "outputs": [],
   "source": []
  },
  {
   "cell_type": "markdown",
   "metadata": {},
   "source": [
    "### 2. Consider a set of 100 triplets describing 100 triangles (with shared vertices), find the set of unique line segments composing all the triangles."
   ]
  },
  {
   "cell_type": "code",
   "execution_count": null,
   "metadata": {
    "collapsed": true
   },
   "outputs": [],
   "source": []
  },
  {
   "cell_type": "markdown",
   "metadata": {},
   "source": [
    "### 3. Given an array C that is a bincount, how to produce an array A such that np.bincount(A) == C?"
   ]
  },
  {
   "cell_type": "code",
   "execution_count": null,
   "metadata": {
    "collapsed": true
   },
   "outputs": [],
   "source": []
  },
  {
   "cell_type": "markdown",
   "metadata": {},
   "source": [
    "### 4. How to compute averages using a sliding window over an array?"
   ]
  },
  {
   "cell_type": "code",
   "execution_count": null,
   "metadata": {
    "collapsed": true
   },
   "outputs": [],
   "source": []
  },
  {
   "cell_type": "markdown",
   "metadata": {},
   "source": [
    "## Artisan\n",
    "### 1. Considering a 100x3 matrix, extract rows with unequal values (e.g. [2,2,3])"
   ]
  },
  {
   "cell_type": "code",
   "execution_count": null,
   "metadata": {
    "collapsed": true
   },
   "outputs": [],
   "source": []
  },
  {
   "cell_type": "markdown",
   "metadata": {},
   "source": [
    "### 2. Convert a vector of ints into a matrix binary representation."
   ]
  },
  {
   "cell_type": "code",
   "execution_count": null,
   "metadata": {
    "collapsed": true
   },
   "outputs": [],
   "source": []
  },
  {
   "cell_type": "markdown",
   "metadata": {},
   "source": [
    "## Adept\n",
    "### 1. Consider an arbitrary array, write a function that extracts a subpart with a fixed shape and centered on a given element (pad with a fill value when necessary)"
   ]
  },
  {
   "cell_type": "code",
   "execution_count": null,
   "metadata": {
    "collapsed": true
   },
   "outputs": [],
   "source": []
  },
  {
   "cell_type": "markdown",
   "metadata": {},
   "source": [
    "## Expert\n",
    "### 1. Consider two arrays A and B of shape (8,3) and (2,2). How to find rows of A that contain elements of each row of B regardless of the order of the elements in B?"
   ]
  },
  {
   "cell_type": "code",
   "execution_count": null,
   "metadata": {
    "collapsed": true
   },
   "outputs": [],
   "source": []
  },
  {
   "cell_type": "markdown",
   "metadata": {},
   "source": [
    "### 2. Extract all the contiguous 3x3 blocks from a random 10x10 matrix."
   ]
  },
  {
   "cell_type": "code",
   "execution_count": null,
   "metadata": {
    "collapsed": true
   },
   "outputs": [],
   "source": []
  },
  {
   "cell_type": "markdown",
   "metadata": {},
   "source": [
    "### 3. Create a 2D array subclass such that `Z[i,j] == Z[j,i]`"
   ]
  },
  {
   "cell_type": "code",
   "execution_count": null,
   "metadata": {
    "collapsed": true
   },
   "outputs": [],
   "source": []
  },
  {
   "cell_type": "markdown",
   "metadata": {},
   "source": [
    "### 4. Consider a set of p matrices with shape (n,n) and a set of p vectors with shape (n,1). How to compute the sum of the p matrix products at once? (result has shape (n,1))"
   ]
  },
  {
   "cell_type": "code",
   "execution_count": null,
   "metadata": {
    "collapsed": true
   },
   "outputs": [],
   "source": []
  },
  {
   "cell_type": "markdown",
   "metadata": {},
   "source": [
    "## Master\n",
    "### 1. Given a two dimensional array, how to extract unique rows?"
   ]
  },
  {
   "cell_type": "code",
   "execution_count": null,
   "metadata": {
    "collapsed": true
   },
   "outputs": [],
   "source": []
  },
  {
   "cell_type": "markdown",
   "metadata": {},
   "source": [
    "## Archmaster"
   ]
  },
  {
   "cell_type": "code",
   "execution_count": null,
   "metadata": {
    "collapsed": true
   },
   "outputs": [],
   "source": []
  }
 ],
 "metadata": {
  "kernelspec": {
   "display_name": "Julia 0.4.3",
   "language": "julia",
   "name": "julia-0.4"
  },
  "language_info": {
   "file_extension": ".jl",
   "mimetype": "application/julia",
   "name": "julia",
   "version": "0.4.3"
  }
 },
 "nbformat": 4,
 "nbformat_minor": 0
}
